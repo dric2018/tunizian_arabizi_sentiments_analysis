{
 "cells": [
  {
   "cell_type": "markdown",
   "id": "legal-limit",
   "metadata": {},
   "source": [
    "# Experimenting bag of words"
   ]
  },
  {
   "cell_type": "code",
   "execution_count": 1,
   "id": "elect-insert",
   "metadata": {},
   "outputs": [],
   "source": [
    "import sys \n",
    "sys.path.append('../scripts')"
   ]
  },
  {
   "cell_type": "code",
   "execution_count": 2,
   "id": "described-aviation",
   "metadata": {},
   "outputs": [],
   "source": [
    "import os\n",
    "import pandas as pd\n",
    "import numpy as np\n",
    "from collections import Counter\n",
    "\n",
    "from config import Config\n",
    "from tqdm.auto import tqdm\n",
    "import seaborn as sb\n",
    "import matplotlib.pyplot as plt\n",
    "\n",
    "from sklearn.model_selection import StratifiedKFold, KFold\n",
    "from sklearn.feature_extraction.text import CountVectorizer, HashingVectorizer # BOW\n",
    "from sklearn.linear_model import LogisticRegression\n",
    "from sklearn.metrics import accuracy_score\n",
    "\n",
    "import nltk\n",
    "from nltk.tokenize import word_tokenize # word tokenizer\n",
    "\n",
    "from utils import remove_repetitions, replace_accents, make_folds\n",
    "\n",
    "import joblib\n",
    "import gc"
   ]
  },
  {
   "cell_type": "markdown",
   "id": "spanish-chemistry",
   "metadata": {},
   "source": [
    "# Load dataset"
   ]
  },
  {
   "cell_type": "code",
   "execution_count": 3,
   "id": "alone-heart",
   "metadata": {},
   "outputs": [],
   "source": [
    "train_df = pd.read_csv(os.path.join(Config.data_dir, 'Train_5_folds.csv'))\n",
    "test_df = pd.read_csv(os.path.join(Config.data_dir, 'Test.csv'))\n",
    "sub_df = pd.read_csv(os.path.join(Config.submissions_dir, 'SampleSubmission.csv'))"
   ]
  },
  {
   "cell_type": "code",
   "execution_count": 4,
   "id": "capable-symbol",
   "metadata": {},
   "outputs": [
    {
     "data": {
      "text/html": [
       "<div>\n",
       "<style scoped>\n",
       "    .dataframe tbody tr th:only-of-type {\n",
       "        vertical-align: middle;\n",
       "    }\n",
       "\n",
       "    .dataframe tbody tr th {\n",
       "        vertical-align: top;\n",
       "    }\n",
       "\n",
       "    .dataframe thead th {\n",
       "        text-align: right;\n",
       "    }\n",
       "</style>\n",
       "<table border=\"1\" class=\"dataframe\">\n",
       "  <thead>\n",
       "    <tr style=\"text-align: right;\">\n",
       "      <th></th>\n",
       "      <th>ID</th>\n",
       "      <th>text</th>\n",
       "      <th>label</th>\n",
       "      <th>fold</th>\n",
       "    </tr>\n",
       "  </thead>\n",
       "  <tbody>\n",
       "    <tr>\n",
       "      <th>0</th>\n",
       "      <td>13P0QT0</td>\n",
       "      <td>3sbaaa lek ou le seim riahi ou 3sbaaa le ca</td>\n",
       "      <td>0</td>\n",
       "      <td>3</td>\n",
       "    </tr>\n",
       "    <tr>\n",
       "      <th>1</th>\n",
       "      <td>SKCLXCJ</td>\n",
       "      <td>cha3eb fey9elkoum menghir ta7ayoul ou kressi</td>\n",
       "      <td>0</td>\n",
       "      <td>4</td>\n",
       "    </tr>\n",
       "    <tr>\n",
       "      <th>2</th>\n",
       "      <td>V1TVXIJ</td>\n",
       "      <td>bereau degage nathef ya slim walahi ya7chiw fi...</td>\n",
       "      <td>0</td>\n",
       "      <td>3</td>\n",
       "    </tr>\n",
       "    <tr>\n",
       "      <th>3</th>\n",
       "      <td>U0TTYY8</td>\n",
       "      <td>ak slouma</td>\n",
       "      <td>1</td>\n",
       "      <td>3</td>\n",
       "    </tr>\n",
       "    <tr>\n",
       "      <th>4</th>\n",
       "      <td>68DX797</td>\n",
       "      <td>entom titmanou lina a7na 3iid moubarik a7na ch...</td>\n",
       "      <td>0</td>\n",
       "      <td>2</td>\n",
       "    </tr>\n",
       "  </tbody>\n",
       "</table>\n",
       "</div>"
      ],
      "text/plain": [
       "        ID                                               text  label  fold\n",
       "0  13P0QT0        3sbaaa lek ou le seim riahi ou 3sbaaa le ca      0     3\n",
       "1  SKCLXCJ       cha3eb fey9elkoum menghir ta7ayoul ou kressi      0     4\n",
       "2  V1TVXIJ  bereau degage nathef ya slim walahi ya7chiw fi...      0     3\n",
       "3  U0TTYY8                                          ak slouma      1     3\n",
       "4  68DX797  entom titmanou lina a7na 3iid moubarik a7na ch...      0     2"
      ]
     },
     "execution_count": 4,
     "metadata": {},
     "output_type": "execute_result"
    }
   ],
   "source": [
    "train_df.head()"
   ]
  },
  {
   "cell_type": "code",
   "execution_count": 5,
   "id": "strategic-algebra",
   "metadata": {},
   "outputs": [
    {
     "data": {
      "text/html": [
       "<div>\n",
       "<style scoped>\n",
       "    .dataframe tbody tr th:only-of-type {\n",
       "        vertical-align: middle;\n",
       "    }\n",
       "\n",
       "    .dataframe tbody tr th {\n",
       "        vertical-align: top;\n",
       "    }\n",
       "\n",
       "    .dataframe thead th {\n",
       "        text-align: right;\n",
       "    }\n",
       "</style>\n",
       "<table border=\"1\" class=\"dataframe\">\n",
       "  <thead>\n",
       "    <tr style=\"text-align: right;\">\n",
       "      <th></th>\n",
       "      <th>ID</th>\n",
       "      <th>text</th>\n",
       "    </tr>\n",
       "  </thead>\n",
       "  <tbody>\n",
       "    <tr>\n",
       "      <th>0</th>\n",
       "      <td>2DDHQW9</td>\n",
       "      <td>barcha aaindou fiha hak w barcha teflim kadhalik</td>\n",
       "    </tr>\n",
       "    <tr>\n",
       "      <th>1</th>\n",
       "      <td>5HY6UEY</td>\n",
       "      <td>ye gernabou ye 9a7ba</td>\n",
       "    </tr>\n",
       "    <tr>\n",
       "      <th>2</th>\n",
       "      <td>ATNVUJX</td>\n",
       "      <td>saber w barra rabbi m3ak 5ouya</td>\n",
       "    </tr>\n",
       "    <tr>\n",
       "      <th>3</th>\n",
       "      <td>Q9XYVOQ</td>\n",
       "      <td>cha3ébbb ta7aaaaannnnnnnnnnn tfouuhh</td>\n",
       "    </tr>\n",
       "    <tr>\n",
       "      <th>4</th>\n",
       "      <td>TOAHLRH</td>\n",
       "      <td>rabi y5alihoulek w yfar7ek bih w inchallah itc...</td>\n",
       "    </tr>\n",
       "  </tbody>\n",
       "</table>\n",
       "</div>"
      ],
      "text/plain": [
       "        ID                                               text\n",
       "0  2DDHQW9   barcha aaindou fiha hak w barcha teflim kadhalik\n",
       "1  5HY6UEY                               ye gernabou ye 9a7ba\n",
       "2  ATNVUJX                     saber w barra rabbi m3ak 5ouya\n",
       "3  Q9XYVOQ               cha3ébbb ta7aaaaannnnnnnnnnn tfouuhh\n",
       "4  TOAHLRH  rabi y5alihoulek w yfar7ek bih w inchallah itc..."
      ]
     },
     "execution_count": 5,
     "metadata": {},
     "output_type": "execute_result"
    }
   ],
   "source": [
    "test_df.head()"
   ]
  },
  {
   "cell_type": "markdown",
   "id": "known-premiere",
   "metadata": {},
   "source": [
    "# Preprocessing pipeline\n",
    "\n",
    "* Remove neutral texts or add them to positive samples\n",
    "* Tokenize input sentences\n"
   ]
  },
  {
   "cell_type": "code",
   "execution_count": 6,
   "id": "altered-proportion",
   "metadata": {},
   "outputs": [
    {
     "data": {
      "text/html": [
       "<div>\n",
       "<style scoped>\n",
       "    .dataframe tbody tr th:only-of-type {\n",
       "        vertical-align: middle;\n",
       "    }\n",
       "\n",
       "    .dataframe tbody tr th {\n",
       "        vertical-align: top;\n",
       "    }\n",
       "\n",
       "    .dataframe thead th {\n",
       "        text-align: right;\n",
       "    }\n",
       "</style>\n",
       "<table border=\"1\" class=\"dataframe\">\n",
       "  <thead>\n",
       "    <tr style=\"text-align: right;\">\n",
       "      <th></th>\n",
       "      <th>ID</th>\n",
       "      <th>text</th>\n",
       "      <th>label</th>\n",
       "    </tr>\n",
       "  </thead>\n",
       "  <tbody>\n",
       "    <tr>\n",
       "      <th>0</th>\n",
       "      <td>13P0QT0</td>\n",
       "      <td>3sbaa lek ou le seim riahi ou 3sbaa le ca</td>\n",
       "      <td>0</td>\n",
       "    </tr>\n",
       "    <tr>\n",
       "      <th>1</th>\n",
       "      <td>SKCLXCJ</td>\n",
       "      <td>cha3eb fey9elkoum menghir ta7ayoul ou kressi</td>\n",
       "      <td>0</td>\n",
       "    </tr>\n",
       "    <tr>\n",
       "      <th>2</th>\n",
       "      <td>V1TVXIJ</td>\n",
       "      <td>bereau degage nathef ya slim walahi ya7chiw fi...</td>\n",
       "      <td>0</td>\n",
       "    </tr>\n",
       "    <tr>\n",
       "      <th>3</th>\n",
       "      <td>U0TTYY8</td>\n",
       "      <td>ak slouma</td>\n",
       "      <td>1</td>\n",
       "    </tr>\n",
       "    <tr>\n",
       "      <th>4</th>\n",
       "      <td>68DX797</td>\n",
       "      <td>entom titmanou lina a7na 3iid moubarik a7na ch...</td>\n",
       "      <td>0</td>\n",
       "    </tr>\n",
       "  </tbody>\n",
       "</table>\n",
       "</div>"
      ],
      "text/plain": [
       "        ID                                               text  label\n",
       "0  13P0QT0          3sbaa lek ou le seim riahi ou 3sbaa le ca      0\n",
       "1  SKCLXCJ       cha3eb fey9elkoum menghir ta7ayoul ou kressi      0\n",
       "2  V1TVXIJ  bereau degage nathef ya slim walahi ya7chiw fi...      0\n",
       "3  U0TTYY8                                          ak slouma      1\n",
       "4  68DX797  entom titmanou lina a7na 3iid moubarik a7na ch...      0"
      ]
     },
     "execution_count": 6,
     "metadata": {},
     "output_type": "execute_result"
    }
   ],
   "source": [
    "# use neutral as positime sample\n",
    "label_map = {\n",
    "    '-1' : 0,\n",
    "    '0' : 1,\n",
    "    '1' : 1\n",
    "}\n",
    "train_df['label'] = train_df['label'].apply(lambda label: label_map[str(label)])\n",
    "train_df.head()"
   ]
  },
  {
   "cell_type": "code",
   "execution_count": 6,
   "id": "endless-insured",
   "metadata": {},
   "outputs": [
    {
     "data": {
      "text/plain": [
       "['3sbaaa', 'lek', 'ou', 'le', 'seim', 'riahi', 'ou', '3sbaaa', 'le', 'ca']"
      ]
     },
     "execution_count": 6,
     "metadata": {},
     "output_type": "execute_result"
    }
   ],
   "source": [
    "word_tokenize(text = train_df.iloc[0].text, language='french')"
   ]
  },
  {
   "cell_type": "markdown",
   "id": "hollow-graph",
   "metadata": {},
   "source": [
    "# define vectorizer\n",
    "bow = CountVectorizer(\n",
    "    tokenizer=word_tokenize, \n",
    "    token_pattern=None\n",
    ")\n",
    "\n",
    "bow = HashingVectorizer(\n",
    "    tokenizer=word_tokenize, \n",
    "    token_pattern=None\n",
    ")"
   ]
  },
  {
   "cell_type": "markdown",
   "id": "foster-governor",
   "metadata": {},
   "source": [
    "%%time\n",
    "# apply vectorization\n",
    "transformed_dataset = bow.fit_transform(X=train_df.text)\n"
   ]
  },
  {
   "cell_type": "markdown",
   "id": "directed-april",
   "metadata": {},
   "source": [
    "# Training pipeline\n",
    "* Using KFold cross-validation\n",
    "* Split data into n folds"
   ]
  },
  {
   "cell_type": "code",
   "execution_count": 7,
   "id": "equipped-yesterday",
   "metadata": {},
   "outputs": [
    {
     "data": {
      "application/vnd.jupyter.widget-view+json": {
       "model_id": "8d1cd8909d1b409096ca900d000da551",
       "version_major": 2,
       "version_minor": 0
      },
      "text/plain": [
       "Splitting:   0%|          | 0/5 [00:00<?, ?it/s]"
      ]
     },
     "metadata": {},
     "output_type": "display_data"
    },
    {
     "data": {
      "text/html": [
       "<div>\n",
       "<style scoped>\n",
       "    .dataframe tbody tr th:only-of-type {\n",
       "        vertical-align: middle;\n",
       "    }\n",
       "\n",
       "    .dataframe tbody tr th {\n",
       "        vertical-align: top;\n",
       "    }\n",
       "\n",
       "    .dataframe thead th {\n",
       "        text-align: right;\n",
       "    }\n",
       "</style>\n",
       "<table border=\"1\" class=\"dataframe\">\n",
       "  <thead>\n",
       "    <tr style=\"text-align: right;\">\n",
       "      <th></th>\n",
       "      <th>ID</th>\n",
       "      <th>text</th>\n",
       "      <th>label</th>\n",
       "      <th>fold</th>\n",
       "    </tr>\n",
       "  </thead>\n",
       "  <tbody>\n",
       "    <tr>\n",
       "      <th>0</th>\n",
       "      <td>13P0QT0</td>\n",
       "      <td>3sbaaa lek ou le seim riahi ou 3sbaaa le ca</td>\n",
       "      <td>0</td>\n",
       "      <td>3</td>\n",
       "    </tr>\n",
       "    <tr>\n",
       "      <th>1</th>\n",
       "      <td>SKCLXCJ</td>\n",
       "      <td>cha3eb fey9elkoum menghir ta7ayoul ou kressi</td>\n",
       "      <td>0</td>\n",
       "      <td>4</td>\n",
       "    </tr>\n",
       "    <tr>\n",
       "      <th>2</th>\n",
       "      <td>V1TVXIJ</td>\n",
       "      <td>bereau degage nathef ya slim walahi ya7chiw fi...</td>\n",
       "      <td>0</td>\n",
       "      <td>3</td>\n",
       "    </tr>\n",
       "    <tr>\n",
       "      <th>3</th>\n",
       "      <td>U0TTYY8</td>\n",
       "      <td>ak slouma</td>\n",
       "      <td>1</td>\n",
       "      <td>3</td>\n",
       "    </tr>\n",
       "    <tr>\n",
       "      <th>4</th>\n",
       "      <td>68DX797</td>\n",
       "      <td>entom titmanou lina a7na 3iid moubarik a7na ch...</td>\n",
       "      <td>0</td>\n",
       "      <td>2</td>\n",
       "    </tr>\n",
       "  </tbody>\n",
       "</table>\n",
       "</div>"
      ],
      "text/plain": [
       "        ID                                               text  label  fold\n",
       "0  13P0QT0        3sbaaa lek ou le seim riahi ou 3sbaaa le ca      0     3\n",
       "1  SKCLXCJ       cha3eb fey9elkoum menghir ta7ayoul ou kressi      0     4\n",
       "2  V1TVXIJ  bereau degage nathef ya slim walahi ya7chiw fi...      0     3\n",
       "3  U0TTYY8                                          ak slouma      1     3\n",
       "4  68DX797  entom titmanou lina a7na 3iid moubarik a7na ch...      0     2"
      ]
     },
     "execution_count": 7,
     "metadata": {},
     "output_type": "execute_result"
    }
   ],
   "source": [
    "class args:\n",
    "    n_folds = 5\n",
    "    \n",
    "\n",
    "dataset, n_folds = make_folds(\n",
    "    data = train_df, \n",
    "    args = args, \n",
    "    target_col='label', \n",
    "    stratified= True\n",
    ")\n",
    "\n",
    "dataset.head()"
   ]
  },
  {
   "cell_type": "markdown",
   "id": "revolutionary-alert",
   "metadata": {},
   "source": [
    "# Training"
   ]
  },
  {
   "cell_type": "code",
   "execution_count": 8,
   "id": "lonely-physics",
   "metadata": {
    "tags": []
   },
   "outputs": [
    {
     "name": "stderr",
     "output_type": "stream",
     "text": [
      "[Parallel(n_jobs=-1)]: Using backend ThreadingBackend with 4 concurrent workers.\n"
     ]
    },
    {
     "name": "stdout",
     "output_type": "stream",
     "text": [
      "convergence after 21 epochs took 1 seconds\n",
      "[INFO] Fold : 0 -> acc : 0.80314\n"
     ]
    },
    {
     "name": "stderr",
     "output_type": "stream",
     "text": [
      "[Parallel(n_jobs=-1)]: Done   1 out of   1 | elapsed:    1.1s finished\n",
      "[Parallel(n_jobs=-1)]: Using backend ThreadingBackend with 4 concurrent workers.\n"
     ]
    },
    {
     "name": "stdout",
     "output_type": "stream",
     "text": [
      "convergence after 21 epochs took 1 seconds\n",
      "[INFO] Fold : 1 -> acc : 0.80293\n"
     ]
    },
    {
     "name": "stderr",
     "output_type": "stream",
     "text": [
      "[Parallel(n_jobs=-1)]: Done   1 out of   1 | elapsed:    0.9s finished\n",
      "[Parallel(n_jobs=-1)]: Using backend ThreadingBackend with 4 concurrent workers.\n"
     ]
    },
    {
     "name": "stdout",
     "output_type": "stream",
     "text": [
      "convergence after 23 epochs took 1 seconds\n",
      "[INFO] Fold : 2 -> acc : 0.80357\n"
     ]
    },
    {
     "name": "stderr",
     "output_type": "stream",
     "text": [
      "[Parallel(n_jobs=-1)]: Done   1 out of   1 | elapsed:    1.1s finished\n",
      "[Parallel(n_jobs=-1)]: Using backend ThreadingBackend with 4 concurrent workers.\n"
     ]
    },
    {
     "name": "stdout",
     "output_type": "stream",
     "text": [
      "convergence after 22 epochs took 0 seconds\n",
      "[INFO] Fold : 3 -> acc : 0.79271\n"
     ]
    },
    {
     "name": "stderr",
     "output_type": "stream",
     "text": [
      "[Parallel(n_jobs=-1)]: Done   1 out of   1 | elapsed:    0.9s finished\n",
      "[Parallel(n_jobs=-1)]: Using backend ThreadingBackend with 4 concurrent workers.\n"
     ]
    },
    {
     "name": "stdout",
     "output_type": "stream",
     "text": [
      "convergence after 25 epochs took 1 seconds\n",
      "[INFO] Fold : 4 -> acc : 0.79707\n"
     ]
    },
    {
     "name": "stderr",
     "output_type": "stream",
     "text": [
      "[Parallel(n_jobs=-1)]: Done   1 out of   1 | elapsed:    1.0s finished\n"
     ]
    },
    {
     "name": "stdout",
     "output_type": "stream",
     "text": [
      "[INFO] Average accuracy : 0.7998857142857142\n",
      "CPU times: user 37.3 s, sys: 127 ms, total: 37.4 s\n",
      "Wall time: 38.4 s\n"
     ]
    }
   ],
   "source": [
    "%%time\n",
    "\n",
    "accs = []\n",
    "for fold_num in range(n_folds):\n",
    "    \n",
    "    train = dataset[dataset.fold!=fold_num].reset_index(drop=True)\n",
    "    val = dataset[dataset.fold==fold_num].reset_index(drop=True)\n",
    "    \n",
    "    # define vectorizer\n",
    "    bow = HashingVectorizer(\n",
    "        tokenizer=word_tokenize, \n",
    "        token_pattern=None\n",
    "        )\n",
    "    \n",
    "    bow.fit(train.text)\n",
    "    \n",
    "    # train data\n",
    "    xtrain = bow.transform(train.text)\n",
    "    ytrain = train.label.values\n",
    "    \n",
    "    # test data \n",
    "    xval = bow.transform(val.text)\n",
    "    yval = val.label.values\n",
    "    \n",
    "    # modeling \n",
    "    params = {\n",
    "     'solver' : 'sag', \n",
    "      'verbose' : 1, \n",
    "       'max_iter' : 30, \n",
    "     'n_jobs' : -1\n",
    "    }\n",
    "    model = LogisticRegression(**params)\n",
    "    \n",
    "    # run training\n",
    "    model.fit(X=xtrain, y=ytrain)\n",
    "    \n",
    "    # make predictions\n",
    "    predictions = model.predict(X=xval)\n",
    "    \n",
    "    # compute accuracy\n",
    "    acc = accuracy_score(y_true=yval, y_pred=predictions)\n",
    "    \n",
    "    print(f\"[INFO] Fold : {fold_num} -> acc : {acc:.5f}\")\n",
    "    \n",
    "    accs.append(acc)\n",
    "    # save model\n",
    "    _ = joblib.dump(\n",
    "        value=model, \n",
    "        filename=os.path.join(Config.models_dir, f'Arabizi-HshVec-fold-{fold_num}.pkl')\n",
    "    )\n",
    "    \n",
    "    del train\n",
    "    del val\n",
    "    del xtrain\n",
    "    del xval\n",
    "    del ytrain\n",
    "    del yval\n",
    "    del model\n",
    "    del predictions\n",
    "    del bow\n",
    "    \n",
    "    gc.collect()\n",
    "\n",
    "avg_acc = np.array(accs).mean()\n",
    "\n",
    "print(f'[INFO] Average accuracy : {avg_acc}')"
   ]
  },
  {
   "cell_type": "markdown",
   "id": "legitimate-shade",
   "metadata": {},
   "source": [
    "# Prediction & submission"
   ]
  },
  {
   "cell_type": "code",
   "execution_count": 9,
   "id": "emotional-annotation",
   "metadata": {},
   "outputs": [
    {
     "data": {
      "application/vnd.jupyter.widget-view+json": {
       "model_id": "082ec2de9dee4f1c8a8576db3d6d6a41",
       "version_major": 2,
       "version_minor": 0
      },
      "text/plain": [
       "  0%|          | 0/5 [00:00<?, ?it/s]"
      ]
     },
     "metadata": {},
     "output_type": "display_data"
    },
    {
     "name": "stdout",
     "output_type": "stream",
     "text": [
      "Arabizi-HshVec-fold-1.pkl\n",
      "Arabizi-HshVec-fold-4.pkl\n",
      "Arabizi-HshVec-fold-0.pkl\n",
      "Arabizi-HshVec-fold-2.pkl\n",
      "Arabizi-HshVec-fold-3.pkl\n"
     ]
    }
   ],
   "source": [
    "# preprocess test dataset\n",
    "test_df['text'] = test_df['text'].apply(\n",
    "    lambda txt : replace_accents(remove_repetitions(sequence=txt, n_repetitions=3))\n",
    ")\n",
    "\n",
    "bow = HashingVectorizer(\n",
    "    tokenizer=word_tokenize, \n",
    "    token_pattern=None\n",
    "    )\n",
    "\n",
    "xtest = bow.fit_transform(test_df.text)\n",
    "\n",
    "# inference\n",
    "preds = []\n",
    "\n",
    "kf_models = [f for f in os.listdir(Config.models_dir) if 'HshVec' in f]\n",
    "for fname in tqdm(kf_models):\n",
    "    print(fname)\n",
    "    # load model\n",
    "    model = joblib.load(filename=os.path.join(Config.models_dir, fname))\n",
    "    ypred = model.predict(xtest)\n",
    "    \n",
    "    # reformat predictions\n",
    "    for idx, p in enumerate(ypred):\n",
    "        if p == 0:\n",
    "            ypred[idx] = -1\n",
    "    \n",
    "    preds.append(ypred)\n"
   ]
  },
  {
   "cell_type": "code",
   "execution_count": 10,
   "id": "processed-tamil",
   "metadata": {},
   "outputs": [
    {
     "data": {
      "text/html": [
       "<div>\n",
       "<style scoped>\n",
       "    .dataframe tbody tr th:only-of-type {\n",
       "        vertical-align: middle;\n",
       "    }\n",
       "\n",
       "    .dataframe tbody tr th {\n",
       "        vertical-align: top;\n",
       "    }\n",
       "\n",
       "    .dataframe thead th {\n",
       "        text-align: right;\n",
       "    }\n",
       "</style>\n",
       "<table border=\"1\" class=\"dataframe\">\n",
       "  <thead>\n",
       "    <tr style=\"text-align: right;\">\n",
       "      <th></th>\n",
       "      <th>model-0</th>\n",
       "      <th>model-1</th>\n",
       "      <th>model-2</th>\n",
       "      <th>model-3</th>\n",
       "      <th>model-4</th>\n",
       "    </tr>\n",
       "  </thead>\n",
       "  <tbody>\n",
       "    <tr>\n",
       "      <th>0</th>\n",
       "      <td>1</td>\n",
       "      <td>-1</td>\n",
       "      <td>1</td>\n",
       "      <td>-1</td>\n",
       "      <td>1</td>\n",
       "    </tr>\n",
       "    <tr>\n",
       "      <th>1</th>\n",
       "      <td>-1</td>\n",
       "      <td>-1</td>\n",
       "      <td>-1</td>\n",
       "      <td>-1</td>\n",
       "      <td>-1</td>\n",
       "    </tr>\n",
       "    <tr>\n",
       "      <th>2</th>\n",
       "      <td>1</td>\n",
       "      <td>1</td>\n",
       "      <td>1</td>\n",
       "      <td>1</td>\n",
       "      <td>1</td>\n",
       "    </tr>\n",
       "    <tr>\n",
       "      <th>3</th>\n",
       "      <td>1</td>\n",
       "      <td>1</td>\n",
       "      <td>1</td>\n",
       "      <td>1</td>\n",
       "      <td>1</td>\n",
       "    </tr>\n",
       "    <tr>\n",
       "      <th>4</th>\n",
       "      <td>1</td>\n",
       "      <td>1</td>\n",
       "      <td>1</td>\n",
       "      <td>1</td>\n",
       "      <td>1</td>\n",
       "    </tr>\n",
       "  </tbody>\n",
       "</table>\n",
       "</div>"
      ],
      "text/plain": [
       "   model-0  model-1  model-2  model-3  model-4\n",
       "0        1       -1        1       -1        1\n",
       "1       -1       -1       -1       -1       -1\n",
       "2        1        1        1        1        1\n",
       "3        1        1        1        1        1\n",
       "4        1        1        1        1        1"
      ]
     },
     "execution_count": 10,
     "metadata": {},
     "output_type": "execute_result"
    }
   ],
   "source": [
    "pred_df = pd.DataFrame(\n",
    "    data = np.array(preds).transpose(),\n",
    "    columns=[f'model-{p}' for p in range(n_folds)]\n",
    ")\n",
    "\n",
    "pred_df.head()"
   ]
  },
  {
   "cell_type": "code",
   "execution_count": 11,
   "id": "suburban-verse",
   "metadata": {},
   "outputs": [
    {
     "data": {
      "application/vnd.jupyter.widget-view+json": {
       "model_id": "e1633574d6624db4b8cc28921de02aee",
       "version_major": 2,
       "version_minor": 0
      },
      "text/plain": [
       "  0%|          | 0/30000 [00:00<?, ?it/s]"
      ]
     },
     "metadata": {},
     "output_type": "display_data"
    }
   ],
   "source": [
    "test_df['label'] = 0\n",
    "\n",
    "for idx in tqdm(range(len(pred_df))):\n",
    "\n",
    "    if pred_df.iloc[idx].mean() >= .5:\n",
    "\n",
    "        test_df.at[idx, 'label'] = 1\n",
    "    else:\n",
    "        test_df.at[idx, 'label'] = -1"
   ]
  },
  {
   "cell_type": "code",
   "execution_count": 12,
   "id": "empty-toilet",
   "metadata": {},
   "outputs": [
    {
     "data": {
      "text/html": [
       "<div>\n",
       "<style scoped>\n",
       "    .dataframe tbody tr th:only-of-type {\n",
       "        vertical-align: middle;\n",
       "    }\n",
       "\n",
       "    .dataframe tbody tr th {\n",
       "        vertical-align: top;\n",
       "    }\n",
       "\n",
       "    .dataframe thead th {\n",
       "        text-align: right;\n",
       "    }\n",
       "</style>\n",
       "<table border=\"1\" class=\"dataframe\">\n",
       "  <thead>\n",
       "    <tr style=\"text-align: right;\">\n",
       "      <th></th>\n",
       "      <th>ID</th>\n",
       "      <th>text</th>\n",
       "      <th>label</th>\n",
       "    </tr>\n",
       "  </thead>\n",
       "  <tbody>\n",
       "    <tr>\n",
       "      <th>29995</th>\n",
       "      <td>NHXTL3R</td>\n",
       "      <td>me ihebekch raw</td>\n",
       "      <td>-1</td>\n",
       "    </tr>\n",
       "    <tr>\n",
       "      <th>29996</th>\n",
       "      <td>U1YWB2O</td>\n",
       "      <td>nchallah rabi m3ak w iwaf9ek mais just 7abit n...</td>\n",
       "      <td>1</td>\n",
       "    </tr>\n",
       "    <tr>\n",
       "      <th>29997</th>\n",
       "      <td>O3KYLM0</td>\n",
       "      <td>slim rabi m3ak w e5edem w 5alli l7ossed lemnay...</td>\n",
       "      <td>1</td>\n",
       "    </tr>\n",
       "    <tr>\n",
       "      <th>29998</th>\n",
       "      <td>W4C38TY</td>\n",
       "      <td>bara 5alis rouhik yizi mitbal3it jam3iya hlaki...</td>\n",
       "      <td>-1</td>\n",
       "    </tr>\n",
       "    <tr>\n",
       "      <th>29999</th>\n",
       "      <td>4NNX5QE</td>\n",
       "      <td>rabi m3aaak ya khawlaaa n7ebouuuk rana barsha ...</td>\n",
       "      <td>1</td>\n",
       "    </tr>\n",
       "  </tbody>\n",
       "</table>\n",
       "</div>"
      ],
      "text/plain": [
       "            ID                                               text  label\n",
       "29995  NHXTL3R                                    me ihebekch raw     -1\n",
       "29996  U1YWB2O  nchallah rabi m3ak w iwaf9ek mais just 7abit n...      1\n",
       "29997  O3KYLM0  slim rabi m3ak w e5edem w 5alli l7ossed lemnay...      1\n",
       "29998  W4C38TY  bara 5alis rouhik yizi mitbal3it jam3iya hlaki...     -1\n",
       "29999  4NNX5QE  rabi m3aaak ya khawlaaa n7ebouuuk rana barsha ...      1"
      ]
     },
     "execution_count": 12,
     "metadata": {},
     "output_type": "execute_result"
    }
   ],
   "source": [
    "test_df.tail()"
   ]
  },
  {
   "cell_type": "code",
   "execution_count": 13,
   "id": "dental-capability",
   "metadata": {},
   "outputs": [
    {
     "data": {
      "text/plain": [
       " 1    15832\n",
       "-1    14168\n",
       "Name: label, dtype: int64"
      ]
     },
     "execution_count": 13,
     "metadata": {},
     "output_type": "execute_result"
    }
   ],
   "source": [
    "test_df[['ID', 'label']]['label'].value_counts()"
   ]
  },
  {
   "cell_type": "code",
   "execution_count": 14,
   "id": "alien-extension",
   "metadata": {},
   "outputs": [],
   "source": [
    "fn = f'Hvecto-params-{params}-nfolds-{n_folds}.csv'\n",
    "\n",
    "test_df[['ID', 'label']].to_csv(\n",
    "    os.path.join(Config.submissions_dir,fn), \n",
    "    index=False\n",
    ")"
   ]
  },
  {
   "cell_type": "code",
   "execution_count": 16,
   "id": "resident-doctrine",
   "metadata": {},
   "outputs": [
    {
     "data": {
      "text/plain": [
       "'Hvecto-NB-basic-nfolds-5.csv'"
      ]
     },
     "execution_count": 16,
     "metadata": {},
     "output_type": "execute_result"
    }
   ],
   "source": [
    "fn"
   ]
  }
 ],
 "metadata": {
  "kernelspec": {
   "display_name": "Python 3",
   "language": "python",
   "name": "python3"
  },
  "language_info": {
   "codemirror_mode": {
    "name": "ipython",
    "version": 3
   },
   "file_extension": ".py",
   "mimetype": "text/x-python",
   "name": "python",
   "nbconvert_exporter": "python",
   "pygments_lexer": "ipython3",
   "version": "3.8.8"
  },
  "widgets": {
   "application/vnd.jupyter.widget-state+json": {
    "state": {
     "082ec2de9dee4f1c8a8576db3d6d6a41": {
      "model_module": "@jupyter-widgets/controls",
      "model_module_version": "1.5.0",
      "model_name": "HBoxModel",
      "state": {
       "children": [
        "IPY_MODEL_ac96381d788e4d24990ec40d789c361f",
        "IPY_MODEL_5e61dfd979fb45e8af39fa741fcceccd",
        "IPY_MODEL_b305f3de58a446f8b214deaac691f022"
       ],
       "layout": "IPY_MODEL_b67a8bd606b64739863e1013a6e07024"
      }
     },
     "0b58bf856b9c43e2b3377c6da57eef32": {
      "model_module": "@jupyter-widgets/controls",
      "model_module_version": "1.5.0",
      "model_name": "DescriptionStyleModel",
      "state": {
       "description_width": ""
      }
     },
     "1703623013ef46ac8b2c41d6c28a71a6": {
      "model_module": "@jupyter-widgets/base",
      "model_module_version": "1.2.0",
      "model_name": "LayoutModel",
      "state": {}
     },
     "1841382d9b4c4ee88886d93b67518884": {
      "model_module": "@jupyter-widgets/base",
      "model_module_version": "1.2.0",
      "model_name": "LayoutModel",
      "state": {}
     },
     "1e0e10f7be3947b49d7b4d2c591c4f80": {
      "model_module": "@jupyter-widgets/controls",
      "model_module_version": "1.5.0",
      "model_name": "ProgressStyleModel",
      "state": {
       "description_width": ""
      }
     },
     "2e2d1410ef28416aacf7560056f3e92f": {
      "model_module": "@jupyter-widgets/controls",
      "model_module_version": "1.5.0",
      "model_name": "HTMLModel",
      "state": {
       "layout": "IPY_MODEL_1703623013ef46ac8b2c41d6c28a71a6",
       "style": "IPY_MODEL_9a6e7310324d4848a8f10944d948a3c5",
       "value": "100%"
      }
     },
     "3c79e01e98db47efb71c3505b40fc32a": {
      "model_module": "@jupyter-widgets/controls",
      "model_module_version": "1.5.0",
      "model_name": "HTMLModel",
      "state": {
       "layout": "IPY_MODEL_409e7fedbb464005a526691a5d052567",
       "style": "IPY_MODEL_d9544a64d0064bb4815618a6607821d5",
       "value": " 5/5 [00:00&lt;00:00, 79.34it/s]"
      }
     },
     "409e7fedbb464005a526691a5d052567": {
      "model_module": "@jupyter-widgets/base",
      "model_module_version": "1.2.0",
      "model_name": "LayoutModel",
      "state": {}
     },
     "4b28c26de2ef431ab4106bd895d727a0": {
      "model_module": "@jupyter-widgets/controls",
      "model_module_version": "1.5.0",
      "model_name": "FloatProgressModel",
      "state": {
       "bar_style": "success",
       "layout": "IPY_MODEL_6e1ebb27949746ffb2ae46e8ac373a6a",
       "max": 30000,
       "style": "IPY_MODEL_cbdb22bf98d44bb18c130c232a9ff409",
       "value": 30000
      }
     },
     "58909b47cf22487399f82242af9b4d68": {
      "model_module": "@jupyter-widgets/controls",
      "model_module_version": "1.5.0",
      "model_name": "HTMLModel",
      "state": {
       "layout": "IPY_MODEL_987536a723e34c19b352598b68d2da96",
       "style": "IPY_MODEL_6827cd7712c1435bafe40f16e9691b8b",
       "value": " 30000/30000 [00:05&lt;00:00, 6006.80it/s]"
      }
     },
     "5e61dfd979fb45e8af39fa741fcceccd": {
      "model_module": "@jupyter-widgets/controls",
      "model_module_version": "1.5.0",
      "model_name": "FloatProgressModel",
      "state": {
       "bar_style": "success",
       "layout": "IPY_MODEL_9026e68b94a849d5b31bcff171537b7a",
       "max": 5,
       "style": "IPY_MODEL_e07506fca9274f58ac524fcedda1d7b9",
       "value": 5
      }
     },
     "6827cd7712c1435bafe40f16e9691b8b": {
      "model_module": "@jupyter-widgets/controls",
      "model_module_version": "1.5.0",
      "model_name": "DescriptionStyleModel",
      "state": {
       "description_width": ""
      }
     },
     "6cd509987ca84948875cfdf6549617b7": {
      "model_module": "@jupyter-widgets/controls",
      "model_module_version": "1.5.0",
      "model_name": "HTMLModel",
      "state": {
       "layout": "IPY_MODEL_a8d7816f1fa8445a9c1c303d1f498013",
       "style": "IPY_MODEL_ae4dda2175f84d5cb5f3655742747a69",
       "value": "Splitting: 100%"
      }
     },
     "6e1ebb27949746ffb2ae46e8ac373a6a": {
      "model_module": "@jupyter-widgets/base",
      "model_module_version": "1.2.0",
      "model_name": "LayoutModel",
      "state": {}
     },
     "710ff93b671b4d46afb3ff44fe7ed21d": {
      "model_module": "@jupyter-widgets/base",
      "model_module_version": "1.2.0",
      "model_name": "LayoutModel",
      "state": {}
     },
     "7c922dcee4b043ba9eebf1a59f2a1d9f": {
      "model_module": "@jupyter-widgets/controls",
      "model_module_version": "1.5.0",
      "model_name": "FloatProgressModel",
      "state": {
       "bar_style": "success",
       "layout": "IPY_MODEL_95b69ba140554997b157f6ed5075261c",
       "max": 5,
       "style": "IPY_MODEL_1e0e10f7be3947b49d7b4d2c591c4f80",
       "value": 5
      }
     },
     "80b20bc509be480bba0c88b1744b57fd": {
      "model_module": "@jupyter-widgets/base",
      "model_module_version": "1.2.0",
      "model_name": "LayoutModel",
      "state": {}
     },
     "8d1cd8909d1b409096ca900d000da551": {
      "model_module": "@jupyter-widgets/controls",
      "model_module_version": "1.5.0",
      "model_name": "HBoxModel",
      "state": {
       "children": [
        "IPY_MODEL_6cd509987ca84948875cfdf6549617b7",
        "IPY_MODEL_7c922dcee4b043ba9eebf1a59f2a1d9f",
        "IPY_MODEL_3c79e01e98db47efb71c3505b40fc32a"
       ],
       "layout": "IPY_MODEL_80b20bc509be480bba0c88b1744b57fd"
      }
     },
     "9026e68b94a849d5b31bcff171537b7a": {
      "model_module": "@jupyter-widgets/base",
      "model_module_version": "1.2.0",
      "model_name": "LayoutModel",
      "state": {}
     },
     "95b69ba140554997b157f6ed5075261c": {
      "model_module": "@jupyter-widgets/base",
      "model_module_version": "1.2.0",
      "model_name": "LayoutModel",
      "state": {}
     },
     "987536a723e34c19b352598b68d2da96": {
      "model_module": "@jupyter-widgets/base",
      "model_module_version": "1.2.0",
      "model_name": "LayoutModel",
      "state": {}
     },
     "9a6e7310324d4848a8f10944d948a3c5": {
      "model_module": "@jupyter-widgets/controls",
      "model_module_version": "1.5.0",
      "model_name": "DescriptionStyleModel",
      "state": {
       "description_width": ""
      }
     },
     "a8d7816f1fa8445a9c1c303d1f498013": {
      "model_module": "@jupyter-widgets/base",
      "model_module_version": "1.2.0",
      "model_name": "LayoutModel",
      "state": {}
     },
     "ac96381d788e4d24990ec40d789c361f": {
      "model_module": "@jupyter-widgets/controls",
      "model_module_version": "1.5.0",
      "model_name": "HTMLModel",
      "state": {
       "layout": "IPY_MODEL_710ff93b671b4d46afb3ff44fe7ed21d",
       "style": "IPY_MODEL_d56b3d206d3445d3a3ab5168374552f0",
       "value": "100%"
      }
     },
     "ae4dda2175f84d5cb5f3655742747a69": {
      "model_module": "@jupyter-widgets/controls",
      "model_module_version": "1.5.0",
      "model_name": "DescriptionStyleModel",
      "state": {
       "description_width": ""
      }
     },
     "b305f3de58a446f8b214deaac691f022": {
      "model_module": "@jupyter-widgets/controls",
      "model_module_version": "1.5.0",
      "model_name": "HTMLModel",
      "state": {
       "layout": "IPY_MODEL_1841382d9b4c4ee88886d93b67518884",
       "style": "IPY_MODEL_0b58bf856b9c43e2b3377c6da57eef32",
       "value": " 5/5 [00:00&lt;00:00, 53.20it/s]"
      }
     },
     "b67a8bd606b64739863e1013a6e07024": {
      "model_module": "@jupyter-widgets/base",
      "model_module_version": "1.2.0",
      "model_name": "LayoutModel",
      "state": {}
     },
     "cbdb22bf98d44bb18c130c232a9ff409": {
      "model_module": "@jupyter-widgets/controls",
      "model_module_version": "1.5.0",
      "model_name": "ProgressStyleModel",
      "state": {
       "description_width": ""
      }
     },
     "d56b3d206d3445d3a3ab5168374552f0": {
      "model_module": "@jupyter-widgets/controls",
      "model_module_version": "1.5.0",
      "model_name": "DescriptionStyleModel",
      "state": {
       "description_width": ""
      }
     },
     "d9544a64d0064bb4815618a6607821d5": {
      "model_module": "@jupyter-widgets/controls",
      "model_module_version": "1.5.0",
      "model_name": "DescriptionStyleModel",
      "state": {
       "description_width": ""
      }
     },
     "e07506fca9274f58ac524fcedda1d7b9": {
      "model_module": "@jupyter-widgets/controls",
      "model_module_version": "1.5.0",
      "model_name": "ProgressStyleModel",
      "state": {
       "description_width": ""
      }
     },
     "e1633574d6624db4b8cc28921de02aee": {
      "model_module": "@jupyter-widgets/controls",
      "model_module_version": "1.5.0",
      "model_name": "HBoxModel",
      "state": {
       "children": [
        "IPY_MODEL_2e2d1410ef28416aacf7560056f3e92f",
        "IPY_MODEL_4b28c26de2ef431ab4106bd895d727a0",
        "IPY_MODEL_58909b47cf22487399f82242af9b4d68"
       ],
       "layout": "IPY_MODEL_e9ca50b52d104dbbb2189444bb186aee"
      }
     },
     "e9ca50b52d104dbbb2189444bb186aee": {
      "model_module": "@jupyter-widgets/base",
      "model_module_version": "1.2.0",
      "model_name": "LayoutModel",
      "state": {}
     }
    },
    "version_major": 2,
    "version_minor": 0
   }
  }
 },
 "nbformat": 4,
 "nbformat_minor": 5
}
