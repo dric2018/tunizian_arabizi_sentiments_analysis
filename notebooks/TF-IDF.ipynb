{
 "cells": [
  {
   "cell_type": "markdown",
   "id": "boolean-square",
   "metadata": {},
   "source": [
    "# Experimenting TF-IDF"
   ]
  },
  {
   "cell_type": "code",
   "execution_count": 1,
   "id": "israeli-dimension",
   "metadata": {},
   "outputs": [],
   "source": [
    "import sys \n",
    "sys.path.append('../scripts')"
   ]
  },
  {
   "cell_type": "code",
   "execution_count": 2,
   "id": "willing-exploration",
   "metadata": {},
   "outputs": [
    {
     "name": "stderr",
     "output_type": "stream",
     "text": [
      "<frozen importlib._bootstrap>:219: RuntimeWarning: numpy.ufunc size changed, may indicate binary incompatibility. Expected 192 from C header, got 216 from PyObject\n"
     ]
    }
   ],
   "source": [
    "import os\n",
    "import pandas as pd\n",
    "import numpy as np\n",
    "from collections import Counter\n",
    "\n",
    "from config import Config\n",
    "from tqdm.auto import tqdm\n",
    "import seaborn as sb\n",
    "import matplotlib.pyplot as plt\n",
    "\n",
    "from sklearn.model_selection import StratifiedKFold, KFold\n",
    "from sklearn.feature_extraction.text import TfidfVectorizer # BOW\n",
    "from sklearn.linear_model import LogisticRegression\n",
    "from sklearn.naive_bayes import MultinomialNB\n",
    "\n",
    "from sklearn.metrics import accuracy_score\n",
    "\n",
    "import nltk\n",
    "from nltk.tokenize import word_tokenize # word tokenizer\n",
    "\n",
    "from utils import remove_repetitions, replace_accents, make_folds\n",
    "\n",
    "import joblib\n",
    "import gc"
   ]
  },
  {
   "cell_type": "markdown",
   "id": "taken-taste",
   "metadata": {},
   "source": [
    "# Load dataset"
   ]
  },
  {
   "cell_type": "code",
   "execution_count": 3,
   "id": "royal-helmet",
   "metadata": {},
   "outputs": [],
   "source": [
    "train_df = pd.read_csv(os.path.join(Config.data_dir, 'cleaned_train.csv'))\n",
    "test_df = pd.read_csv(os.path.join(Config.data_dir, 'Test.csv'))\n",
    "sub_df = pd.read_csv(os.path.join(Config.submissions_dir, 'SampleSubmission.csv'))"
   ]
  },
  {
   "cell_type": "code",
   "execution_count": 4,
   "id": "varied-caribbean",
   "metadata": {},
   "outputs": [
    {
     "data": {
      "text/html": [
       "<div>\n",
       "<style scoped>\n",
       "    .dataframe tbody tr th:only-of-type {\n",
       "        vertical-align: middle;\n",
       "    }\n",
       "\n",
       "    .dataframe tbody tr th {\n",
       "        vertical-align: top;\n",
       "    }\n",
       "\n",
       "    .dataframe thead th {\n",
       "        text-align: right;\n",
       "    }\n",
       "</style>\n",
       "<table border=\"1\" class=\"dataframe\">\n",
       "  <thead>\n",
       "    <tr style=\"text-align: right;\">\n",
       "      <th></th>\n",
       "      <th>ID</th>\n",
       "      <th>text</th>\n",
       "      <th>label</th>\n",
       "    </tr>\n",
       "  </thead>\n",
       "  <tbody>\n",
       "    <tr>\n",
       "      <th>0</th>\n",
       "      <td>13P0QT0</td>\n",
       "      <td>3sbaa lek ou le seim riahi ou 3sbaa le ca</td>\n",
       "      <td>-1</td>\n",
       "    </tr>\n",
       "    <tr>\n",
       "      <th>1</th>\n",
       "      <td>SKCLXCJ</td>\n",
       "      <td>cha3eb fey9elkoum menghir ta7ayoul ou kressi</td>\n",
       "      <td>-1</td>\n",
       "    </tr>\n",
       "    <tr>\n",
       "      <th>2</th>\n",
       "      <td>V1TVXIJ</td>\n",
       "      <td>bereau degage nathef ya slim walahi ya7chiw fi...</td>\n",
       "      <td>-1</td>\n",
       "    </tr>\n",
       "    <tr>\n",
       "      <th>3</th>\n",
       "      <td>U0TTYY8</td>\n",
       "      <td>ak slouma</td>\n",
       "      <td>1</td>\n",
       "    </tr>\n",
       "    <tr>\n",
       "      <th>4</th>\n",
       "      <td>68DX797</td>\n",
       "      <td>entom titmanou lina a7na 3iid moubarik a7na ch...</td>\n",
       "      <td>-1</td>\n",
       "    </tr>\n",
       "  </tbody>\n",
       "</table>\n",
       "</div>"
      ],
      "text/plain": [
       "        ID                                               text  label\n",
       "0  13P0QT0          3sbaa lek ou le seim riahi ou 3sbaa le ca     -1\n",
       "1  SKCLXCJ       cha3eb fey9elkoum menghir ta7ayoul ou kressi     -1\n",
       "2  V1TVXIJ  bereau degage nathef ya slim walahi ya7chiw fi...     -1\n",
       "3  U0TTYY8                                          ak slouma      1\n",
       "4  68DX797  entom titmanou lina a7na 3iid moubarik a7na ch...     -1"
      ]
     },
     "execution_count": 4,
     "metadata": {},
     "output_type": "execute_result"
    }
   ],
   "source": [
    "train_df.head()"
   ]
  },
  {
   "cell_type": "code",
   "execution_count": 5,
   "id": "breeding-briefs",
   "metadata": {},
   "outputs": [
    {
     "data": {
      "text/html": [
       "<div>\n",
       "<style scoped>\n",
       "    .dataframe tbody tr th:only-of-type {\n",
       "        vertical-align: middle;\n",
       "    }\n",
       "\n",
       "    .dataframe tbody tr th {\n",
       "        vertical-align: top;\n",
       "    }\n",
       "\n",
       "    .dataframe thead th {\n",
       "        text-align: right;\n",
       "    }\n",
       "</style>\n",
       "<table border=\"1\" class=\"dataframe\">\n",
       "  <thead>\n",
       "    <tr style=\"text-align: right;\">\n",
       "      <th></th>\n",
       "      <th>ID</th>\n",
       "      <th>text</th>\n",
       "    </tr>\n",
       "  </thead>\n",
       "  <tbody>\n",
       "    <tr>\n",
       "      <th>0</th>\n",
       "      <td>2DDHQW9</td>\n",
       "      <td>barcha aaindou fiha hak w barcha teflim kadhalik</td>\n",
       "    </tr>\n",
       "    <tr>\n",
       "      <th>1</th>\n",
       "      <td>5HY6UEY</td>\n",
       "      <td>ye gernabou ye 9a7ba</td>\n",
       "    </tr>\n",
       "    <tr>\n",
       "      <th>2</th>\n",
       "      <td>ATNVUJX</td>\n",
       "      <td>saber w barra rabbi m3ak 5ouya</td>\n",
       "    </tr>\n",
       "    <tr>\n",
       "      <th>3</th>\n",
       "      <td>Q9XYVOQ</td>\n",
       "      <td>cha3ébbb ta7aaaaannnnnnnnnnn tfouuhh</td>\n",
       "    </tr>\n",
       "    <tr>\n",
       "      <th>4</th>\n",
       "      <td>TOAHLRH</td>\n",
       "      <td>rabi y5alihoulek w yfar7ek bih w inchallah itc...</td>\n",
       "    </tr>\n",
       "  </tbody>\n",
       "</table>\n",
       "</div>"
      ],
      "text/plain": [
       "        ID                                               text\n",
       "0  2DDHQW9   barcha aaindou fiha hak w barcha teflim kadhalik\n",
       "1  5HY6UEY                               ye gernabou ye 9a7ba\n",
       "2  ATNVUJX                     saber w barra rabbi m3ak 5ouya\n",
       "3  Q9XYVOQ               cha3ébbb ta7aaaaannnnnnnnnnn tfouuhh\n",
       "4  TOAHLRH  rabi y5alihoulek w yfar7ek bih w inchallah itc..."
      ]
     },
     "execution_count": 5,
     "metadata": {},
     "output_type": "execute_result"
    }
   ],
   "source": [
    "test_df.head()"
   ]
  },
  {
   "cell_type": "markdown",
   "id": "sporting-picking",
   "metadata": {},
   "source": [
    "# Preprocessing pipeline\n",
    "\n",
    "* Remove neutral texts or add them to positive samples\n",
    "* Tokenize input sentences\n"
   ]
  },
  {
   "cell_type": "code",
   "execution_count": 6,
   "id": "secondary-liverpool",
   "metadata": {},
   "outputs": [
    {
     "data": {
      "text/html": [
       "<div>\n",
       "<style scoped>\n",
       "    .dataframe tbody tr th:only-of-type {\n",
       "        vertical-align: middle;\n",
       "    }\n",
       "\n",
       "    .dataframe tbody tr th {\n",
       "        vertical-align: top;\n",
       "    }\n",
       "\n",
       "    .dataframe thead th {\n",
       "        text-align: right;\n",
       "    }\n",
       "</style>\n",
       "<table border=\"1\" class=\"dataframe\">\n",
       "  <thead>\n",
       "    <tr style=\"text-align: right;\">\n",
       "      <th></th>\n",
       "      <th>ID</th>\n",
       "      <th>text</th>\n",
       "      <th>label</th>\n",
       "    </tr>\n",
       "  </thead>\n",
       "  <tbody>\n",
       "    <tr>\n",
       "      <th>0</th>\n",
       "      <td>13P0QT0</td>\n",
       "      <td>3sbaa lek ou le seim riahi ou 3sbaa le ca</td>\n",
       "      <td>0</td>\n",
       "    </tr>\n",
       "    <tr>\n",
       "      <th>1</th>\n",
       "      <td>SKCLXCJ</td>\n",
       "      <td>cha3eb fey9elkoum menghir ta7ayoul ou kressi</td>\n",
       "      <td>0</td>\n",
       "    </tr>\n",
       "    <tr>\n",
       "      <th>2</th>\n",
       "      <td>V1TVXIJ</td>\n",
       "      <td>bereau degage nathef ya slim walahi ya7chiw fi...</td>\n",
       "      <td>0</td>\n",
       "    </tr>\n",
       "    <tr>\n",
       "      <th>3</th>\n",
       "      <td>U0TTYY8</td>\n",
       "      <td>ak slouma</td>\n",
       "      <td>1</td>\n",
       "    </tr>\n",
       "    <tr>\n",
       "      <th>4</th>\n",
       "      <td>68DX797</td>\n",
       "      <td>entom titmanou lina a7na 3iid moubarik a7na ch...</td>\n",
       "      <td>0</td>\n",
       "    </tr>\n",
       "  </tbody>\n",
       "</table>\n",
       "</div>"
      ],
      "text/plain": [
       "        ID                                               text  label\n",
       "0  13P0QT0          3sbaa lek ou le seim riahi ou 3sbaa le ca      0\n",
       "1  SKCLXCJ       cha3eb fey9elkoum menghir ta7ayoul ou kressi      0\n",
       "2  V1TVXIJ  bereau degage nathef ya slim walahi ya7chiw fi...      0\n",
       "3  U0TTYY8                                          ak slouma      1\n",
       "4  68DX797  entom titmanou lina a7na 3iid moubarik a7na ch...      0"
      ]
     },
     "execution_count": 6,
     "metadata": {},
     "output_type": "execute_result"
    }
   ],
   "source": [
    "# use neutral as positime sample\n",
    "label_map = {\n",
    "    '-1' : 0,\n",
    "    '0' : 1,\n",
    "    '1' : 1\n",
    "}\n",
    "train_df['label'] = train_df['label'].apply(lambda label: label_map[str(label)])\n",
    "train_df.head()"
   ]
  },
  {
   "cell_type": "code",
   "execution_count": 7,
   "id": "limited-tracker",
   "metadata": {},
   "outputs": [
    {
     "data": {
      "text/plain": [
       "['3sbaa', 'lek', 'ou', 'le', 'seim', 'riahi', 'ou', '3sbaa', 'le', 'ca']"
      ]
     },
     "execution_count": 7,
     "metadata": {},
     "output_type": "execute_result"
    }
   ],
   "source": [
    "word_tokenize(text = train_df.iloc[0].text, language='english')"
   ]
  },
  {
   "cell_type": "markdown",
   "id": "sudden-heater",
   "metadata": {},
   "source": [
    "# define vectorizer\n",
    "bow = CountVectorizer(\n",
    "    tokenizer=word_tokenize, \n",
    "    token_pattern=None\n",
    ")\n",
    "\n",
    "bow = HashingVectorizer(\n",
    "    tokenizer=word_tokenize, \n",
    "    token_pattern=None\n",
    ")"
   ]
  },
  {
   "cell_type": "markdown",
   "id": "sealed-drilling",
   "metadata": {},
   "source": [
    "%%time\n",
    "# apply vectorization\n",
    "transformed_dataset = bow.fit_transform(X=train_df.text)\n"
   ]
  },
  {
   "cell_type": "markdown",
   "id": "subtle-constitutional",
   "metadata": {},
   "source": [
    "# Training pipeline\n",
    "* Using KFold cross-validation\n",
    "* Split data into n folds"
   ]
  },
  {
   "cell_type": "code",
   "execution_count": 29,
   "id": "minus-airline",
   "metadata": {},
   "outputs": [
    {
     "data": {
      "application/vnd.jupyter.widget-view+json": {
       "model_id": "2dc9242024104b0090861f407cc6d2c5",
       "version_major": 2,
       "version_minor": 0
      },
      "text/plain": [
       "Splitting:   0%|          | 0/5 [00:00<?, ?it/s]"
      ]
     },
     "metadata": {},
     "output_type": "display_data"
    },
    {
     "data": {
      "text/html": [
       "<div>\n",
       "<style scoped>\n",
       "    .dataframe tbody tr th:only-of-type {\n",
       "        vertical-align: middle;\n",
       "    }\n",
       "\n",
       "    .dataframe tbody tr th {\n",
       "        vertical-align: top;\n",
       "    }\n",
       "\n",
       "    .dataframe thead th {\n",
       "        text-align: right;\n",
       "    }\n",
       "</style>\n",
       "<table border=\"1\" class=\"dataframe\">\n",
       "  <thead>\n",
       "    <tr style=\"text-align: right;\">\n",
       "      <th></th>\n",
       "      <th>ID</th>\n",
       "      <th>text</th>\n",
       "      <th>label</th>\n",
       "      <th>fold</th>\n",
       "    </tr>\n",
       "  </thead>\n",
       "  <tbody>\n",
       "    <tr>\n",
       "      <th>0</th>\n",
       "      <td>13P0QT0</td>\n",
       "      <td>3sbaa lek ou le seim riahi ou 3sbaa le ca</td>\n",
       "      <td>0</td>\n",
       "      <td>3</td>\n",
       "    </tr>\n",
       "    <tr>\n",
       "      <th>1</th>\n",
       "      <td>SKCLXCJ</td>\n",
       "      <td>cha3eb fey9elkoum menghir ta7ayoul ou kressi</td>\n",
       "      <td>0</td>\n",
       "      <td>4</td>\n",
       "    </tr>\n",
       "    <tr>\n",
       "      <th>2</th>\n",
       "      <td>V1TVXIJ</td>\n",
       "      <td>bereau degage nathef ya slim walahi ya7chiw fi...</td>\n",
       "      <td>0</td>\n",
       "      <td>3</td>\n",
       "    </tr>\n",
       "    <tr>\n",
       "      <th>3</th>\n",
       "      <td>U0TTYY8</td>\n",
       "      <td>ak slouma</td>\n",
       "      <td>1</td>\n",
       "      <td>3</td>\n",
       "    </tr>\n",
       "    <tr>\n",
       "      <th>4</th>\n",
       "      <td>68DX797</td>\n",
       "      <td>entom titmanou lina a7na 3iid moubarik a7na ch...</td>\n",
       "      <td>0</td>\n",
       "      <td>2</td>\n",
       "    </tr>\n",
       "  </tbody>\n",
       "</table>\n",
       "</div>"
      ],
      "text/plain": [
       "        ID                                               text  label  fold\n",
       "0  13P0QT0          3sbaa lek ou le seim riahi ou 3sbaa le ca      0     3\n",
       "1  SKCLXCJ       cha3eb fey9elkoum menghir ta7ayoul ou kressi      0     4\n",
       "2  V1TVXIJ  bereau degage nathef ya slim walahi ya7chiw fi...      0     3\n",
       "3  U0TTYY8                                          ak slouma      1     3\n",
       "4  68DX797  entom titmanou lina a7na 3iid moubarik a7na ch...      0     2"
      ]
     },
     "execution_count": 29,
     "metadata": {},
     "output_type": "execute_result"
    }
   ],
   "source": [
    "class args:\n",
    "    n_folds = 5\n",
    "    \n",
    "\n",
    "dataset, n_folds = make_folds(\n",
    "    data = train_df, \n",
    "    args = args, \n",
    "    target_col='label', \n",
    "    stratified= True\n",
    ")\n",
    "\n",
    "dataset.head()"
   ]
  },
  {
   "cell_type": "markdown",
   "id": "proper-visiting",
   "metadata": {},
   "source": [
    "# Training"
   ]
  },
  {
   "cell_type": "code",
   "execution_count": 104,
   "id": "promotional-error",
   "metadata": {
    "tags": []
   },
   "outputs": [],
   "source": [
    "\n",
    "def train_model(dataset:pd.DataFrame, n_folds=n_folds, model_type ='NB'):\n",
    "    accs = []\n",
    "\n",
    "    for fold_num in range(n_folds):\n",
    "\n",
    "        train = dataset[dataset.fold!=fold_num].reset_index(drop=True)\n",
    "        val =dataset[dataset.fold==fold_num].reset_index(drop=True)\n",
    "\n",
    "        # define vectorizer\n",
    "        bow = TfidfVectorizer(\n",
    "            ngram_range=(1, 1), \n",
    "            tokenizer=word_tokenize,     \n",
    "            token_pattern=None,\n",
    "            max_features = 50_000\n",
    "        )\n",
    "\n",
    "        bow.fit(train.text)\n",
    "\n",
    "        # train data\n",
    "        xtrain = bow.transform(train.text)\n",
    "        ytrain = train.label.values\n",
    "\n",
    "        # test data \n",
    "        xval = bow.transform(val.text)\n",
    "        yval = val.label.values\n",
    "\n",
    "        # modeling \n",
    "        if model_type == \"NB\":\n",
    "            params = {'alpha' :1.0, 'fit_prior' :True, 'class_prior' : None}\n",
    "            model = MultinomialNB(**params)\n",
    "        else:\n",
    "            params = {\n",
    "                'penalty' : 'l2',\n",
    "                'C' : .4,\n",
    "                'fit_intercept' : True,\n",
    "                'intercept_scaling' : 1,\n",
    "                'solver' : 'saga',\n",
    "                'max_iter' : 50,\n",
    "                'verbose' : 1,\n",
    "                'n_jobs' : 2,\n",
    "            }\n",
    "            model = LogisticRegression(**params)\n",
    "            \n",
    "        # run training\n",
    "        model.fit(X=xtrain, y=ytrain)\n",
    "\n",
    "        # make predictions\n",
    "        predictions = model.predict(X=xval)\n",
    "\n",
    "        # compute accuracy\n",
    "        acc = accuracy_score(y_true=yval, y_pred=predictions)\n",
    "\n",
    "        print(f\"[INFO] Fold : {fold_num} -> acc : {acc:.5f}\")\n",
    "\n",
    "        accs.append(acc)\n",
    "        # save model\n",
    "        _ = joblib.dump(\n",
    "            value=model, \n",
    "            filename=os.path.join(Config.models_dir, f'Arabizi-tf-idf-{model_type}-fold-{fold_num}.pkl')\n",
    "        )\n",
    "\n",
    "        del train\n",
    "        del val\n",
    "        del xtrain\n",
    "        del xval\n",
    "        del ytrain\n",
    "        del yval\n",
    "        del model\n",
    "        del predictions\n",
    "\n",
    "        gc.collect()\n",
    "\n",
    "    avg_acc = np.array(accs).mean()\n",
    "\n",
    "    print(f'[INFO] Average accuracy : {avg_acc}')\n",
    "    \n",
    "    return bow, model_type, params"
   ]
  },
  {
   "cell_type": "code",
   "execution_count": 105,
   "id": "apparent-annual",
   "metadata": {},
   "outputs": [
    {
     "name": "stdout",
     "output_type": "stream",
     "text": [
      "[INFO] Fold : 0 -> acc : 0.81286\n",
      "[INFO] Fold : 1 -> acc : 0.81286\n",
      "[INFO] Fold : 2 -> acc : 0.80743\n",
      "[INFO] Fold : 3 -> acc : 0.80207\n",
      "[INFO] Fold : 4 -> acc : 0.80857\n",
      "[INFO] Average accuracy : 0.808757142857143\n",
      "CPU times: user 1min 1s, sys: 232 ms, total: 1min 1s\n",
      "Wall time: 1min 2s\n"
     ]
    }
   ],
   "source": [
    "%%time\n",
    "\n",
    "bow, model_type, params = train_model(\n",
    "    dataset=dataset, \n",
    "    n_folds=n_folds,\n",
    "    model_type=\"NB\"\n",
    ")"
   ]
  },
  {
   "cell_type": "markdown",
   "id": "sapphire-material",
   "metadata": {},
   "source": [
    "# Prediction & submission"
   ]
  },
  {
   "cell_type": "code",
   "execution_count": 113,
   "id": "immediate-malta",
   "metadata": {},
   "outputs": [
    {
     "data": {
      "application/vnd.jupyter.widget-view+json": {
       "model_id": "145384b23a9443c58a17d47df64f24c0",
       "version_major": 2,
       "version_minor": 0
      },
      "text/plain": [
       "  0%|          | 0/5 [00:00<?, ?it/s]"
      ]
     },
     "metadata": {},
     "output_type": "display_data"
    },
    {
     "name": "stdout",
     "output_type": "stream",
     "text": [
      "Arabizi-tf-idf-NB-fold-2.pkl\n",
      "Arabizi-tf-idf-NB-fold-4.pkl\n",
      "Arabizi-tf-idf-NB-fold-1.pkl\n",
      "Arabizi-tf-idf-NB-fold-3.pkl\n",
      "Arabizi-tf-idf-NB-fold-0.pkl\n"
     ]
    }
   ],
   "source": [
    "# preprocess test dataset\n",
    "test_df['text'] = test_df['text'].apply(\n",
    "    lambda txt : replace_accents(remove_repetitions(sequence=txt, n_repetitions=2))\n",
    ")\n",
    "\n",
    "xtest = bow.fit_transform(test_df.text)\n",
    "\n",
    "# inference\n",
    "preds = []\n",
    "\n",
    "kf_models = [f for f in os.listdir(Config.models_dir) if f'tf-idf-{model_type}' in f]\n",
    "\n",
    "# print(kf_models)\n",
    "for fname in tqdm(kf_models):\n",
    "    print(fname)\n",
    "    # load model\n",
    "    model = joblib.load(filename=os.path.join(Config.models_dir, fname))\n",
    "    try:\n",
    "        ypred = model.predict(X=xtest)\n",
    "\n",
    "        # reformat predictions\n",
    "        for idx, p in enumerate(ypred):\n",
    "            if p == 0:\n",
    "                ypred[idx] = -1\n",
    "\n",
    "        preds.append(ypred)\n",
    "    except Exception as e:\n",
    "        print(e)\n",
    "        pass\n"
   ]
  },
  {
   "cell_type": "code",
   "execution_count": 114,
   "id": "separated-basics",
   "metadata": {},
   "outputs": [
    {
     "data": {
      "text/html": [
       "<div>\n",
       "<style scoped>\n",
       "    .dataframe tbody tr th:only-of-type {\n",
       "        vertical-align: middle;\n",
       "    }\n",
       "\n",
       "    .dataframe tbody tr th {\n",
       "        vertical-align: top;\n",
       "    }\n",
       "\n",
       "    .dataframe thead th {\n",
       "        text-align: right;\n",
       "    }\n",
       "</style>\n",
       "<table border=\"1\" class=\"dataframe\">\n",
       "  <thead>\n",
       "    <tr style=\"text-align: right;\">\n",
       "      <th></th>\n",
       "      <th>model-0</th>\n",
       "      <th>model-1</th>\n",
       "      <th>model-2</th>\n",
       "      <th>model-3</th>\n",
       "      <th>model-4</th>\n",
       "    </tr>\n",
       "  </thead>\n",
       "  <tbody>\n",
       "    <tr>\n",
       "      <th>0</th>\n",
       "      <td>-1</td>\n",
       "      <td>1</td>\n",
       "      <td>-1</td>\n",
       "      <td>1</td>\n",
       "      <td>-1</td>\n",
       "    </tr>\n",
       "    <tr>\n",
       "      <th>1</th>\n",
       "      <td>-1</td>\n",
       "      <td>1</td>\n",
       "      <td>1</td>\n",
       "      <td>1</td>\n",
       "      <td>-1</td>\n",
       "    </tr>\n",
       "    <tr>\n",
       "      <th>2</th>\n",
       "      <td>-1</td>\n",
       "      <td>-1</td>\n",
       "      <td>1</td>\n",
       "      <td>1</td>\n",
       "      <td>-1</td>\n",
       "    </tr>\n",
       "    <tr>\n",
       "      <th>3</th>\n",
       "      <td>1</td>\n",
       "      <td>-1</td>\n",
       "      <td>1</td>\n",
       "      <td>1</td>\n",
       "      <td>1</td>\n",
       "    </tr>\n",
       "    <tr>\n",
       "      <th>4</th>\n",
       "      <td>1</td>\n",
       "      <td>-1</td>\n",
       "      <td>1</td>\n",
       "      <td>-1</td>\n",
       "      <td>1</td>\n",
       "    </tr>\n",
       "  </tbody>\n",
       "</table>\n",
       "</div>"
      ],
      "text/plain": [
       "   model-0  model-1  model-2  model-3  model-4\n",
       "0       -1        1       -1        1       -1\n",
       "1       -1        1        1        1       -1\n",
       "2       -1       -1        1        1       -1\n",
       "3        1       -1        1        1        1\n",
       "4        1       -1        1       -1        1"
      ]
     },
     "execution_count": 114,
     "metadata": {},
     "output_type": "execute_result"
    }
   ],
   "source": [
    "pred_df = pd.DataFrame(\n",
    "    data = np.array(preds).transpose(),\n",
    "    columns=[f'model-{p}' for p in range(n_folds)]\n",
    ")\n",
    "\n",
    "pred_df.head()"
   ]
  },
  {
   "cell_type": "code",
   "execution_count": 115,
   "id": "induced-latino",
   "metadata": {},
   "outputs": [
    {
     "data": {
      "application/vnd.jupyter.widget-view+json": {
       "model_id": "af8f884c20bf48f5af6aa241be3215f6",
       "version_major": 2,
       "version_minor": 0
      },
      "text/plain": [
       "  0%|          | 0/30000 [00:00<?, ?it/s]"
      ]
     },
     "metadata": {},
     "output_type": "display_data"
    }
   ],
   "source": [
    "test_df['label'] = 0\n",
    "\n",
    "for idx in tqdm(range(len(pred_df))):\n",
    "\n",
    "    if pred_df.iloc[idx].mean() >= .6:\n",
    "\n",
    "        test_df.at[idx, 'label'] = 1\n",
    "    else:\n",
    "        test_df.at[idx, 'label'] = -1"
   ]
  },
  {
   "cell_type": "code",
   "execution_count": 116,
   "id": "lovely-wallet",
   "metadata": {},
   "outputs": [
    {
     "data": {
      "text/html": [
       "<div>\n",
       "<style scoped>\n",
       "    .dataframe tbody tr th:only-of-type {\n",
       "        vertical-align: middle;\n",
       "    }\n",
       "\n",
       "    .dataframe tbody tr th {\n",
       "        vertical-align: top;\n",
       "    }\n",
       "\n",
       "    .dataframe thead th {\n",
       "        text-align: right;\n",
       "    }\n",
       "</style>\n",
       "<table border=\"1\" class=\"dataframe\">\n",
       "  <thead>\n",
       "    <tr style=\"text-align: right;\">\n",
       "      <th></th>\n",
       "      <th>ID</th>\n",
       "      <th>text</th>\n",
       "      <th>label</th>\n",
       "    </tr>\n",
       "  </thead>\n",
       "  <tbody>\n",
       "    <tr>\n",
       "      <th>29995</th>\n",
       "      <td>NHXTL3R</td>\n",
       "      <td>me ihebekch raw</td>\n",
       "      <td>-1</td>\n",
       "    </tr>\n",
       "    <tr>\n",
       "      <th>29996</th>\n",
       "      <td>U1YWB2O</td>\n",
       "      <td>nchallah rabi m3ak w iwaf9ek mais just 7abit n...</td>\n",
       "      <td>-1</td>\n",
       "    </tr>\n",
       "    <tr>\n",
       "      <th>29997</th>\n",
       "      <td>O3KYLM0</td>\n",
       "      <td>slim rabi m3ak w e5edem w 5alli l7ossed lemnay...</td>\n",
       "      <td>-1</td>\n",
       "    </tr>\n",
       "    <tr>\n",
       "      <th>29998</th>\n",
       "      <td>W4C38TY</td>\n",
       "      <td>bara 5alis rouhik yizi mitbal3it jam3iya hlaki...</td>\n",
       "      <td>-1</td>\n",
       "    </tr>\n",
       "    <tr>\n",
       "      <th>29999</th>\n",
       "      <td>4NNX5QE</td>\n",
       "      <td>rabi m3aak ya khawlaaa n7ebouuk rana barsha w ...</td>\n",
       "      <td>-1</td>\n",
       "    </tr>\n",
       "  </tbody>\n",
       "</table>\n",
       "</div>"
      ],
      "text/plain": [
       "            ID                                               text  label\n",
       "29995  NHXTL3R                                    me ihebekch raw     -1\n",
       "29996  U1YWB2O  nchallah rabi m3ak w iwaf9ek mais just 7abit n...     -1\n",
       "29997  O3KYLM0  slim rabi m3ak w e5edem w 5alli l7ossed lemnay...     -1\n",
       "29998  W4C38TY  bara 5alis rouhik yizi mitbal3it jam3iya hlaki...     -1\n",
       "29999  4NNX5QE  rabi m3aak ya khawlaaa n7ebouuk rana barsha w ...     -1"
      ]
     },
     "execution_count": 116,
     "metadata": {},
     "output_type": "execute_result"
    }
   ],
   "source": [
    "test_df.tail()"
   ]
  },
  {
   "cell_type": "code",
   "execution_count": 117,
   "id": "occupational-truth",
   "metadata": {},
   "outputs": [
    {
     "data": {
      "text/plain": [
       "-1    24089\n",
       " 1     5911\n",
       "Name: label, dtype: int64"
      ]
     },
     "execution_count": 117,
     "metadata": {},
     "output_type": "execute_result"
    }
   ],
   "source": [
    "test_df[['ID', 'label']]['label'].value_counts()"
   ]
  },
  {
   "cell_type": "code",
   "execution_count": 118,
   "id": "eastern-change",
   "metadata": {},
   "outputs": [],
   "source": [
    "fn = f'tf-idf-{model_type}-params-{params}-nfolds-{n_folds}.csv'\n",
    "\n",
    "test_df[['ID', 'label']].to_csv(\n",
    "    os.path.join(Config.submissions_dir,fn), \n",
    "    index=False\n",
    ")"
   ]
  },
  {
   "cell_type": "code",
   "execution_count": 119,
   "id": "dental-advocate",
   "metadata": {},
   "outputs": [
    {
     "data": {
      "text/plain": [
       "\"tf-idf-NB-params-{'alpha': 1.0, 'fit_prior': True, 'class_prior': None}-nfolds-5.csv\""
      ]
     },
     "execution_count": 119,
     "metadata": {},
     "output_type": "execute_result"
    }
   ],
   "source": [
    "fn"
   ]
  },
  {
   "cell_type": "code",
   "execution_count": null,
   "id": "further-stack",
   "metadata": {},
   "outputs": [],
   "source": []
  }
 ],
 "metadata": {
  "kernelspec": {
   "display_name": "Python 3",
   "language": "python",
   "name": "python3"
  },
  "language_info": {
   "codemirror_mode": {
    "name": "ipython",
    "version": 3
   },
   "file_extension": ".py",
   "mimetype": "text/x-python",
   "name": "python",
   "nbconvert_exporter": "python",
   "pygments_lexer": "ipython3",
   "version": "3.8.8"
  },
  "widgets": {
   "application/vnd.jupyter.widget-state+json": {
    "state": {
     "00365ac0ce104a2e8eec9b96891fa946": {
      "model_module": "@jupyter-widgets/controls",
      "model_module_version": "1.5.0",
      "model_name": "HBoxModel",
      "state": {
       "children": [
        "IPY_MODEL_2711b17445c44402b30d50f950b3e83e",
        "IPY_MODEL_70f75f0332144920a10291a4b599adc0",
        "IPY_MODEL_bf2985b9c1264e53b20da641ba90fce4"
       ],
       "layout": "IPY_MODEL_7533289a827544e4a754e267607664d4"
      }
     },
     "00e077ee7254484e87679173bbcc9cdc": {
      "model_module": "@jupyter-widgets/controls",
      "model_module_version": "1.5.0",
      "model_name": "DescriptionStyleModel",
      "state": {
       "description_width": ""
      }
     },
     "00f6d5a6ae794049812ec37067f77afc": {
      "model_module": "@jupyter-widgets/base",
      "model_module_version": "1.2.0",
      "model_name": "LayoutModel",
      "state": {}
     },
     "0190939aa2d348e7bdeed75b53ef6430": {
      "model_module": "@jupyter-widgets/base",
      "model_module_version": "1.2.0",
      "model_name": "LayoutModel",
      "state": {}
     },
     "023bf2aaafbd4d0b943c316ee534f67c": {
      "model_module": "@jupyter-widgets/controls",
      "model_module_version": "1.5.0",
      "model_name": "HTMLModel",
      "state": {
       "layout": "IPY_MODEL_3a1e7a9685214c9cad2d80b9e519412e",
       "style": "IPY_MODEL_5e8c7dd378a44ad68723f00dc989996b",
       "value": "100%"
      }
     },
     "02585d0a7b264c97b43da19c8cc8d1eb": {
      "model_module": "@jupyter-widgets/controls",
      "model_module_version": "1.5.0",
      "model_name": "DescriptionStyleModel",
      "state": {
       "description_width": ""
      }
     },
     "02cbbe4479fc47e5bbb0ac3649b6fc4f": {
      "model_module": "@jupyter-widgets/controls",
      "model_module_version": "1.5.0",
      "model_name": "FloatProgressModel",
      "state": {
       "bar_style": "success",
       "layout": "IPY_MODEL_2e3bb35a44a64b19a4460d8cf89fe843",
       "max": 5,
       "style": "IPY_MODEL_53bfbb45aff74499be07baeab197d2e2",
       "value": 5
      }
     },
     "02ec7b03ceb14fd2bdab3e0f2cfe7278": {
      "model_module": "@jupyter-widgets/controls",
      "model_module_version": "1.5.0",
      "model_name": "FloatProgressModel",
      "state": {
       "bar_style": "success",
       "layout": "IPY_MODEL_5e974393b43b4c0b8727183f574ce597",
       "max": 5,
       "style": "IPY_MODEL_f4af13158a7c419fb9e2644a577d7742",
       "value": 5
      }
     },
     "048eaf0feff8497db13779585bf8c307": {
      "model_module": "@jupyter-widgets/controls",
      "model_module_version": "1.5.0",
      "model_name": "DescriptionStyleModel",
      "state": {
       "description_width": ""
      }
     },
     "04a18a34d450469c98b87172482dd0d7": {
      "model_module": "@jupyter-widgets/base",
      "model_module_version": "1.2.0",
      "model_name": "LayoutModel",
      "state": {}
     },
     "055d2192f8664a75af68780db05bd41b": {
      "model_module": "@jupyter-widgets/controls",
      "model_module_version": "1.5.0",
      "model_name": "ProgressStyleModel",
      "state": {
       "description_width": ""
      }
     },
     "05ab9e8c2ee7471e814c76938d38783f": {
      "model_module": "@jupyter-widgets/base",
      "model_module_version": "1.2.0",
      "model_name": "LayoutModel",
      "state": {}
     },
     "05ff7ae57e184875b6232e84eba47561": {
      "model_module": "@jupyter-widgets/base",
      "model_module_version": "1.2.0",
      "model_name": "LayoutModel",
      "state": {}
     },
     "06c8666dcea644dba679554204316176": {
      "model_module": "@jupyter-widgets/controls",
      "model_module_version": "1.5.0",
      "model_name": "HTMLModel",
      "state": {
       "layout": "IPY_MODEL_2b269732773045ae8a59e913296f665b",
       "style": "IPY_MODEL_5f4d814a8c2c41709be0959be096d683",
       "value": "  0%"
      }
     },
     "06f56fb0c573491081a665b1cfb97a94": {
      "model_module": "@jupyter-widgets/base",
      "model_module_version": "1.2.0",
      "model_name": "LayoutModel",
      "state": {}
     },
     "0727ff759573428d803b57160aa65761": {
      "model_module": "@jupyter-widgets/base",
      "model_module_version": "1.2.0",
      "model_name": "LayoutModel",
      "state": {}
     },
     "07562d7274d842318d11497a5e4ba37d": {
      "model_module": "@jupyter-widgets/controls",
      "model_module_version": "1.5.0",
      "model_name": "HTMLModel",
      "state": {
       "layout": "IPY_MODEL_e99d6f1fe28a4a079ecfddeeeb3f8729",
       "style": "IPY_MODEL_b3a88c5c052249de8de4b0b57e2929f1",
       "value": "Splitting: 100%"
      }
     },
     "0785d12bfff2434597c5349019622038": {
      "model_module": "@jupyter-widgets/controls",
      "model_module_version": "1.5.0",
      "model_name": "HBoxModel",
      "state": {
       "children": [
        "IPY_MODEL_52744c193b0a492d9a7400d6b60aa492",
        "IPY_MODEL_0ade329e33e747bb929fae70349a27fb",
        "IPY_MODEL_f46917bfd7404c20a27e8666a79117e8"
       ],
       "layout": "IPY_MODEL_c63991655ee140f2a56717724e34c0ee"
      }
     },
     "07e906bd852d499f9a2a313a4aa20266": {
      "model_module": "@jupyter-widgets/base",
      "model_module_version": "1.2.0",
      "model_name": "LayoutModel",
      "state": {}
     },
     "0830e959c3844a4ebb8e04c0b2f2a520": {
      "model_module": "@jupyter-widgets/base",
      "model_module_version": "1.2.0",
      "model_name": "LayoutModel",
      "state": {}
     },
     "08406374bd454dbdbf117ece612fa4b7": {
      "model_module": "@jupyter-widgets/controls",
      "model_module_version": "1.5.0",
      "model_name": "DescriptionStyleModel",
      "state": {
       "description_width": ""
      }
     },
     "08f12d4c93a1438483f04b1445681182": {
      "model_module": "@jupyter-widgets/controls",
      "model_module_version": "1.5.0",
      "model_name": "DescriptionStyleModel",
      "state": {
       "description_width": ""
      }
     },
     "0a07f91aca39448caf1ebe8f4d8f5032": {
      "model_module": "@jupyter-widgets/controls",
      "model_module_version": "1.5.0",
      "model_name": "HTMLModel",
      "state": {
       "layout": "IPY_MODEL_da1e9b7a27144b5bab4092e530cc5230",
       "style": "IPY_MODEL_08f12d4c93a1438483f04b1445681182",
       "value": " 5/5 [00:00&lt;00:00, 137.81it/s]"
      }
     },
     "0a54dbda81934f15976dc717595f1ed5": {
      "model_module": "@jupyter-widgets/controls",
      "model_module_version": "1.5.0",
      "model_name": "ProgressStyleModel",
      "state": {
       "description_width": ""
      }
     },
     "0ade329e33e747bb929fae70349a27fb": {
      "model_module": "@jupyter-widgets/controls",
      "model_module_version": "1.5.0",
      "model_name": "FloatProgressModel",
      "state": {
       "bar_style": "success",
       "layout": "IPY_MODEL_ae1d3b76aa7c474f916f924cfc6078a5",
       "max": 5,
       "style": "IPY_MODEL_cd7628ff83fb45a8ae670b9de744416c",
       "value": 5
      }
     },
     "0b3259bf3cdd405caec2a274aaec17d9": {
      "model_module": "@jupyter-widgets/controls",
      "model_module_version": "1.5.0",
      "model_name": "DescriptionStyleModel",
      "state": {
       "description_width": ""
      }
     },
     "0b4403e554e94dca8fa2b2eae4095395": {
      "model_module": "@jupyter-widgets/controls",
      "model_module_version": "1.5.0",
      "model_name": "HBoxModel",
      "state": {
       "children": [
        "IPY_MODEL_5675153eea7e4c658ceb6156a595b7a1",
        "IPY_MODEL_6c804ce2e2c143d1a8a4fb4a66c4886e",
        "IPY_MODEL_68713282a52948288071b1a7be2b672e"
       ],
       "layout": "IPY_MODEL_583127c39d3d4a5ebf6b297c1d03a12f"
      }
     },
     "0b4a8bb332cb4964958885f282cd6f4c": {
      "model_module": "@jupyter-widgets/base",
      "model_module_version": "1.2.0",
      "model_name": "LayoutModel",
      "state": {}
     },
     "0b58513c193e49bea0be065388ffdfdb": {
      "model_module": "@jupyter-widgets/base",
      "model_module_version": "1.2.0",
      "model_name": "LayoutModel",
      "state": {}
     },
     "0c4fd659fd514ca1bfb01ac806122b69": {
      "model_module": "@jupyter-widgets/controls",
      "model_module_version": "1.5.0",
      "model_name": "HTMLModel",
      "state": {
       "layout": "IPY_MODEL_bea90d6dfa1c468d967ba5d56b6fe590",
       "style": "IPY_MODEL_0b3259bf3cdd405caec2a274aaec17d9",
       "value": " 5/5 [00:00&lt;00:00, 133.01it/s]"
      }
     },
     "0c5f1dcf313747149aa637a5129e2d51": {
      "model_module": "@jupyter-widgets/base",
      "model_module_version": "1.2.0",
      "model_name": "LayoutModel",
      "state": {}
     },
     "0d206a2f4547442ba7e0d17a18b0be52": {
      "model_module": "@jupyter-widgets/controls",
      "model_module_version": "1.5.0",
      "model_name": "HBoxModel",
      "state": {
       "children": [
        "IPY_MODEL_59d32a67a6584d4b897f4e01a1448e46",
        "IPY_MODEL_824883a6ba8845db8281ad9120dfcc3a",
        "IPY_MODEL_d5546c33718940a0ba477608c0a833ff"
       ],
       "layout": "IPY_MODEL_e124e6e06af44690950418360e638f3f"
      }
     },
     "0e4a5a5505ac4adf843e3d5ff399e730": {
      "model_module": "@jupyter-widgets/controls",
      "model_module_version": "1.5.0",
      "model_name": "ProgressStyleModel",
      "state": {
       "description_width": ""
      }
     },
     "0ee8ae3d71be4c04a15a9c670e38cf50": {
      "model_module": "@jupyter-widgets/controls",
      "model_module_version": "1.5.0",
      "model_name": "HBoxModel",
      "state": {
       "children": [
        "IPY_MODEL_119a3652678d475daf87c6789b1ba6ef",
        "IPY_MODEL_f53047782cab4f80b78ca41185cd0765",
        "IPY_MODEL_876f1de1a1b34ed18084d12163d862f9"
       ],
       "layout": "IPY_MODEL_e07e4458cb9646f08290d1fd6313ceac"
      }
     },
     "0fcc3779ddda4f74af66befb69e03415": {
      "model_module": "@jupyter-widgets/controls",
      "model_module_version": "1.5.0",
      "model_name": "HTMLModel",
      "state": {
       "layout": "IPY_MODEL_9f9a25b43d184f6ab597cae3019aaa90",
       "style": "IPY_MODEL_00e077ee7254484e87679173bbcc9cdc",
       "value": "100%"
      }
     },
     "119a3652678d475daf87c6789b1ba6ef": {
      "model_module": "@jupyter-widgets/controls",
      "model_module_version": "1.5.0",
      "model_name": "HTMLModel",
      "state": {
       "layout": "IPY_MODEL_87006599d88245a08aaea8f28f4f0e05",
       "style": "IPY_MODEL_5cd55218fd5e42b99f2e58b261da9bfe",
       "value": "100%"
      }
     },
     "11f66b534f7d4e7a9b62145353c3bec9": {
      "model_module": "@jupyter-widgets/controls",
      "model_module_version": "1.5.0",
      "model_name": "ProgressStyleModel",
      "state": {
       "description_width": ""
      }
     },
     "12097f63ce454b29a2690bebdfedfb98": {
      "model_module": "@jupyter-widgets/base",
      "model_module_version": "1.2.0",
      "model_name": "LayoutModel",
      "state": {}
     },
     "13645cf19443401b96f0092edf15ad6f": {
      "model_module": "@jupyter-widgets/controls",
      "model_module_version": "1.5.0",
      "model_name": "FloatProgressModel",
      "state": {
       "bar_style": "success",
       "layout": "IPY_MODEL_cbf231558815402392f81a8a19af8fd2",
       "max": 5,
       "style": "IPY_MODEL_40f9d317dbc84df586d5a56248fb630c",
       "value": 5
      }
     },
     "13809015b5a64bc192fe5134cebe403b": {
      "model_module": "@jupyter-widgets/controls",
      "model_module_version": "1.5.0",
      "model_name": "DescriptionStyleModel",
      "state": {
       "description_width": ""
      }
     },
     "1397d8e74dc94d59bd289b5d854f19ea": {
      "model_module": "@jupyter-widgets/controls",
      "model_module_version": "1.5.0",
      "model_name": "FloatProgressModel",
      "state": {
       "bar_style": "success",
       "layout": "IPY_MODEL_b48fb42dbdd04007b91e1c1d2398ff7b",
       "max": 30000,
       "style": "IPY_MODEL_7ba8c0ea7da84ce5b211c51729e5f4f1",
       "value": 30000
      }
     },
     "139ed80cd92d46fdb1db6c1dbe720284": {
      "model_module": "@jupyter-widgets/controls",
      "model_module_version": "1.5.0",
      "model_name": "DescriptionStyleModel",
      "state": {
       "description_width": ""
      }
     },
     "145384b23a9443c58a17d47df64f24c0": {
      "model_module": "@jupyter-widgets/controls",
      "model_module_version": "1.5.0",
      "model_name": "HBoxModel",
      "state": {
       "children": [
        "IPY_MODEL_5f6997b3df6a43d083a161e72bccb1f3",
        "IPY_MODEL_c71fefe854e14fd8ab184ef8ec5e8562",
        "IPY_MODEL_d4e6afde13b74252b12ff5278a67e280"
       ],
       "layout": "IPY_MODEL_18d7b3fdc7044ec6acac811dca353e29"
      }
     },
     "18a37ee948204cc780d1784882ca0e88": {
      "model_module": "@jupyter-widgets/controls",
      "model_module_version": "1.5.0",
      "model_name": "HTMLModel",
      "state": {
       "layout": "IPY_MODEL_83ed573739904ffba1e3d4d92fffd391",
       "style": "IPY_MODEL_8229e7c0aea542229ef551fe348395e6",
       "value": " 5/5 [00:00&lt;00:00, 141.97it/s]"
      }
     },
     "18a55f6519044528b6a48a8f65abceec": {
      "model_module": "@jupyter-widgets/controls",
      "model_module_version": "1.5.0",
      "model_name": "DescriptionStyleModel",
      "state": {
       "description_width": ""
      }
     },
     "18d7b3fdc7044ec6acac811dca353e29": {
      "model_module": "@jupyter-widgets/base",
      "model_module_version": "1.2.0",
      "model_name": "LayoutModel",
      "state": {}
     },
     "195a371bc66944a191203eb708c86cf1": {
      "model_module": "@jupyter-widgets/base",
      "model_module_version": "1.2.0",
      "model_name": "LayoutModel",
      "state": {}
     },
     "1b1ea485ca6c4c729ea2e2e21bc819f6": {
      "model_module": "@jupyter-widgets/base",
      "model_module_version": "1.2.0",
      "model_name": "LayoutModel",
      "state": {}
     },
     "1bf1805329e641c9a70cdac0612a2961": {
      "model_module": "@jupyter-widgets/base",
      "model_module_version": "1.2.0",
      "model_name": "LayoutModel",
      "state": {}
     },
     "1d40addd2f944694add66c72b8dfd859": {
      "model_module": "@jupyter-widgets/base",
      "model_module_version": "1.2.0",
      "model_name": "LayoutModel",
      "state": {}
     },
     "1f4eeef80f7c4f9aa3a3779545ac3e47": {
      "model_module": "@jupyter-widgets/controls",
      "model_module_version": "1.5.0",
      "model_name": "ProgressStyleModel",
      "state": {
       "description_width": ""
      }
     },
     "225739497e954745924b9348b08be4de": {
      "model_module": "@jupyter-widgets/controls",
      "model_module_version": "1.5.0",
      "model_name": "FloatProgressModel",
      "state": {
       "bar_style": "success",
       "layout": "IPY_MODEL_3411c521dee240bb82ccbb68f85d4a78",
       "max": 5,
       "style": "IPY_MODEL_fb337321518c4669ab24ec7f2182396b",
       "value": 5
      }
     },
     "22e99a48857a486ba5379ac09111865f": {
      "model_module": "@jupyter-widgets/base",
      "model_module_version": "1.2.0",
      "model_name": "LayoutModel",
      "state": {}
     },
     "264b4e3b1bb741dca8d5de621a45e14e": {
      "model_module": "@jupyter-widgets/controls",
      "model_module_version": "1.5.0",
      "model_name": "DescriptionStyleModel",
      "state": {
       "description_width": ""
      }
     },
     "26d12840a07e4dc4a055ad7363d2481b": {
      "model_module": "@jupyter-widgets/controls",
      "model_module_version": "1.5.0",
      "model_name": "HTMLModel",
      "state": {
       "layout": "IPY_MODEL_704e4e34bae243fdbf344a8518c408e4",
       "style": "IPY_MODEL_3f796d01d2184c958c1e4e3be7d9f7fb",
       "value": " 0/5 [00:00&lt;?, ?it/s]"
      }
     },
     "2711b17445c44402b30d50f950b3e83e": {
      "model_module": "@jupyter-widgets/controls",
      "model_module_version": "1.5.0",
      "model_name": "HTMLModel",
      "state": {
       "layout": "IPY_MODEL_2e59f59811b5493187ff3bbadd24259c",
       "style": "IPY_MODEL_ac2200f2d09b42719198d557c6fdf8da",
       "value": "100%"
      }
     },
     "2921f49fbf3c4c18b3fb3438db9eb098": {
      "model_module": "@jupyter-widgets/base",
      "model_module_version": "1.2.0",
      "model_name": "LayoutModel",
      "state": {}
     },
     "292972989f0c497a8266bb3a223b982d": {
      "model_module": "@jupyter-widgets/controls",
      "model_module_version": "1.5.0",
      "model_name": "HTMLModel",
      "state": {
       "layout": "IPY_MODEL_7a727da8c886413eb9f5e3d36d4fa8a6",
       "style": "IPY_MODEL_3632646845e34bbcafe72b506b714a6c",
       "value": " 30000/30000 [00:05&lt;00:00, 6075.10it/s]"
      }
     },
     "2a67a72eb4434f9db8efc37fd816eb76": {
      "model_module": "@jupyter-widgets/controls",
      "model_module_version": "1.5.0",
      "model_name": "HBoxModel",
      "state": {
       "children": [
        "IPY_MODEL_4090215abf3041c2a4b0f40dbc1ffb15",
        "IPY_MODEL_f9f73c6d834747939d98241faf6244ca",
        "IPY_MODEL_683582048eff4e4ab5e08dfe90a8cae6"
       ],
       "layout": "IPY_MODEL_de6c4fb232d147f995a89e7834f035aa"
      }
     },
     "2b269732773045ae8a59e913296f665b": {
      "model_module": "@jupyter-widgets/base",
      "model_module_version": "1.2.0",
      "model_name": "LayoutModel",
      "state": {}
     },
     "2bf61289d3d442faa7c4c19c6747877d": {
      "model_module": "@jupyter-widgets/controls",
      "model_module_version": "1.5.0",
      "model_name": "FloatProgressModel",
      "state": {
       "bar_style": "success",
       "layout": "IPY_MODEL_e985ed24a69d44ac8bdc84b047007775",
       "max": 5,
       "style": "IPY_MODEL_432d5ed92b914d858366688befc7da4f",
       "value": 5
      }
     },
     "2c915d883ed34a45802f0e08d2f42c21": {
      "model_module": "@jupyter-widgets/controls",
      "model_module_version": "1.5.0",
      "model_name": "HBoxModel",
      "state": {
       "children": [
        "IPY_MODEL_0fcc3779ddda4f74af66befb69e03415",
        "IPY_MODEL_3674848259124950a0a69f118768e43f",
        "IPY_MODEL_5b1bed8e53dd498a9e08e13a6d3fef25"
       ],
       "layout": "IPY_MODEL_cfa6fbebbbea4f8eaddf661355ab3bb2"
      }
     },
     "2d9c888a4f7b4fb5a436ce301600ad33": {
      "model_module": "@jupyter-widgets/controls",
      "model_module_version": "1.5.0",
      "model_name": "ProgressStyleModel",
      "state": {
       "description_width": ""
      }
     },
     "2dc9242024104b0090861f407cc6d2c5": {
      "model_module": "@jupyter-widgets/controls",
      "model_module_version": "1.5.0",
      "model_name": "HBoxModel",
      "state": {
       "children": [
        "IPY_MODEL_bb28dd21acea4fe2861c2e5297e7137c",
        "IPY_MODEL_79572fede04d409387e9e6c00fdb8d14",
        "IPY_MODEL_7a0e8e5932a84049a24be496e105a685"
       ],
       "layout": "IPY_MODEL_fc7e1a0cb22b4c66b5704e61e68992b7"
      }
     },
     "2e3bb35a44a64b19a4460d8cf89fe843": {
      "model_module": "@jupyter-widgets/base",
      "model_module_version": "1.2.0",
      "model_name": "LayoutModel",
      "state": {}
     },
     "2e59f59811b5493187ff3bbadd24259c": {
      "model_module": "@jupyter-widgets/base",
      "model_module_version": "1.2.0",
      "model_name": "LayoutModel",
      "state": {}
     },
     "2eff359c32a341f0ac23c15d8a3367c6": {
      "model_module": "@jupyter-widgets/base",
      "model_module_version": "1.2.0",
      "model_name": "LayoutModel",
      "state": {}
     },
     "303d250c1ffa4b08a9c42c442761af46": {
      "model_module": "@jupyter-widgets/controls",
      "model_module_version": "1.5.0",
      "model_name": "HBoxModel",
      "state": {
       "children": [
        "IPY_MODEL_f5bc828306da41f0b52ecd567a443c0b",
        "IPY_MODEL_fa3b85a80f044e4d896135c4796f7154",
        "IPY_MODEL_3e14ae010ffe4c98a33e0b84dacb5445"
       ],
       "layout": "IPY_MODEL_8d20777b493749038451a5c66f344e88"
      }
     },
     "30b85d0678f340389210fe3cb98b9d38": {
      "model_module": "@jupyter-widgets/controls",
      "model_module_version": "1.5.0",
      "model_name": "HBoxModel",
      "state": {
       "children": [
        "IPY_MODEL_5b28caf095a6491b8c5ae0b8cbeec7a3",
        "IPY_MODEL_c2a5f058aec145d5a8ce9cd4031c195e",
        "IPY_MODEL_fe317041eab34ec8bc33a6675819c409"
       ],
       "layout": "IPY_MODEL_964e83514a014bd69ff12b7baca3fd75"
      }
     },
     "30ee051f19c84c7085940f549ed5d25f": {
      "model_module": "@jupyter-widgets/controls",
      "model_module_version": "1.5.0",
      "model_name": "ProgressStyleModel",
      "state": {
       "description_width": ""
      }
     },
     "33d53bbae0c74786a80b226bb7138f37": {
      "model_module": "@jupyter-widgets/controls",
      "model_module_version": "1.5.0",
      "model_name": "HTMLModel",
      "state": {
       "layout": "IPY_MODEL_aa123889e98c4bbe8a2e37249ecccdc2",
       "style": "IPY_MODEL_6630f36db2a34b5387f3cfb6b4e2faf3",
       "value": "100%"
      }
     },
     "3411c521dee240bb82ccbb68f85d4a78": {
      "model_module": "@jupyter-widgets/base",
      "model_module_version": "1.2.0",
      "model_name": "LayoutModel",
      "state": {}
     },
     "34cabdf1d139490f8f4ee03c5ee1373a": {
      "model_module": "@jupyter-widgets/controls",
      "model_module_version": "1.5.0",
      "model_name": "DescriptionStyleModel",
      "state": {
       "description_width": ""
      }
     },
     "352993d12b5f47a89e13744d90bcdc68": {
      "model_module": "@jupyter-widgets/controls",
      "model_module_version": "1.5.0",
      "model_name": "HBoxModel",
      "state": {
       "children": [
        "IPY_MODEL_07562d7274d842318d11497a5e4ba37d",
        "IPY_MODEL_e54278b6003d4b2ba7405bf56b7a630a",
        "IPY_MODEL_0c4fd659fd514ca1bfb01ac806122b69"
       ],
       "layout": "IPY_MODEL_e8b7771622424c2aa6653f5f68500c9f"
      }
     },
     "35a1da8997b649719c2a6dcd808971cf": {
      "model_module": "@jupyter-widgets/controls",
      "model_module_version": "1.5.0",
      "model_name": "HBoxModel",
      "state": {
       "children": [
        "IPY_MODEL_7ac50008d121486daab3d7a5338b35a9",
        "IPY_MODEL_5ae548dccfc245779e56d3d330428616",
        "IPY_MODEL_4ec77906483b4e23b95ada9f1b9bd921"
       ],
       "layout": "IPY_MODEL_65aa8e3a8ed542a1aa36c9fdce47173a"
      }
     },
     "36148642b9c643d09eb1b94667a9378d": {
      "model_module": "@jupyter-widgets/base",
      "model_module_version": "1.2.0",
      "model_name": "LayoutModel",
      "state": {}
     },
     "3632646845e34bbcafe72b506b714a6c": {
      "model_module": "@jupyter-widgets/controls",
      "model_module_version": "1.5.0",
      "model_name": "DescriptionStyleModel",
      "state": {
       "description_width": ""
      }
     },
     "3674848259124950a0a69f118768e43f": {
      "model_module": "@jupyter-widgets/controls",
      "model_module_version": "1.5.0",
      "model_name": "FloatProgressModel",
      "state": {
       "bar_style": "success",
       "layout": "IPY_MODEL_48791f48741e4fe6ab6a9ae46a36ad1e",
       "max": 5,
       "style": "IPY_MODEL_055d2192f8664a75af68780db05bd41b",
       "value": 5
      }
     },
     "36a50201943a40fdb9e3dfdab02c3b4a": {
      "model_module": "@jupyter-widgets/base",
      "model_module_version": "1.2.0",
      "model_name": "LayoutModel",
      "state": {}
     },
     "37fdf30d48444b3592a4e13f961811cf": {
      "model_module": "@jupyter-widgets/controls",
      "model_module_version": "1.5.0",
      "model_name": "DescriptionStyleModel",
      "state": {
       "description_width": ""
      }
     },
     "3875969c610649898e46ea80f32263b3": {
      "model_module": "@jupyter-widgets/base",
      "model_module_version": "1.2.0",
      "model_name": "LayoutModel",
      "state": {}
     },
     "3902f480a13a4c699444b9107ad7938f": {
      "model_module": "@jupyter-widgets/controls",
      "model_module_version": "1.5.0",
      "model_name": "FloatProgressModel",
      "state": {
       "bar_style": "success",
       "layout": "IPY_MODEL_b9c7544a699c4993b699b9d6e324f155",
       "max": 5,
       "style": "IPY_MODEL_f3cdc8c6ac014c57a76740fdb87137b3",
       "value": 5
      }
     },
     "3a1e7a9685214c9cad2d80b9e519412e": {
      "model_module": "@jupyter-widgets/base",
      "model_module_version": "1.2.0",
      "model_name": "LayoutModel",
      "state": {}
     },
     "3bd9e01a73244700b919209400408697": {
      "model_module": "@jupyter-widgets/base",
      "model_module_version": "1.2.0",
      "model_name": "LayoutModel",
      "state": {}
     },
     "3e14ae010ffe4c98a33e0b84dacb5445": {
      "model_module": "@jupyter-widgets/controls",
      "model_module_version": "1.5.0",
      "model_name": "HTMLModel",
      "state": {
       "layout": "IPY_MODEL_05ab9e8c2ee7471e814c76938d38783f",
       "style": "IPY_MODEL_e05a78eade8d4d28a8b3dcc3f341a70d",
       "value": " 5/5 [00:00&lt;00:00, 113.29it/s]"
      }
     },
     "3f796d01d2184c958c1e4e3be7d9f7fb": {
      "model_module": "@jupyter-widgets/controls",
      "model_module_version": "1.5.0",
      "model_name": "DescriptionStyleModel",
      "state": {
       "description_width": ""
      }
     },
     "3fc654cf847946c18d4671b4499a3fb0": {
      "model_module": "@jupyter-widgets/base",
      "model_module_version": "1.2.0",
      "model_name": "LayoutModel",
      "state": {}
     },
     "40892f451f1b4a3b95c6b87b1af19420": {
      "model_module": "@jupyter-widgets/controls",
      "model_module_version": "1.5.0",
      "model_name": "DescriptionStyleModel",
      "state": {
       "description_width": ""
      }
     },
     "4090215abf3041c2a4b0f40dbc1ffb15": {
      "model_module": "@jupyter-widgets/controls",
      "model_module_version": "1.5.0",
      "model_name": "HTMLModel",
      "state": {
       "layout": "IPY_MODEL_b773347945624124b2d133729759dd49",
       "style": "IPY_MODEL_91792f1c77c144b4b19cb87381792ea9",
       "value": "100%"
      }
     },
     "40f9d317dbc84df586d5a56248fb630c": {
      "model_module": "@jupyter-widgets/controls",
      "model_module_version": "1.5.0",
      "model_name": "ProgressStyleModel",
      "state": {
       "description_width": ""
      }
     },
     "42b1a4cd6b5846a9958d2fc3b0412e6c": {
      "model_module": "@jupyter-widgets/base",
      "model_module_version": "1.2.0",
      "model_name": "LayoutModel",
      "state": {}
     },
     "432d5ed92b914d858366688befc7da4f": {
      "model_module": "@jupyter-widgets/controls",
      "model_module_version": "1.5.0",
      "model_name": "ProgressStyleModel",
      "state": {
       "description_width": ""
      }
     },
     "4360daaec2844baa8ebe164fa359e47f": {
      "model_module": "@jupyter-widgets/base",
      "model_module_version": "1.2.0",
      "model_name": "LayoutModel",
      "state": {}
     },
     "446a573de3ed42a6875af1e93e7e9c5b": {
      "model_module": "@jupyter-widgets/base",
      "model_module_version": "1.2.0",
      "model_name": "LayoutModel",
      "state": {}
     },
     "44ec21bd16f244b6bc2bc0ec282d225b": {
      "model_module": "@jupyter-widgets/controls",
      "model_module_version": "1.5.0",
      "model_name": "FloatProgressModel",
      "state": {
       "bar_style": "success",
       "layout": "IPY_MODEL_4de44b6f74dc48f59b29b8fb672cd25e",
       "max": 5,
       "style": "IPY_MODEL_2d9c888a4f7b4fb5a436ce301600ad33",
       "value": 5
      }
     },
     "46a74d77f9b5474ca2149fbfb3bdb04b": {
      "model_module": "@jupyter-widgets/controls",
      "model_module_version": "1.5.0",
      "model_name": "DescriptionStyleModel",
      "state": {
       "description_width": ""
      }
     },
     "48791f48741e4fe6ab6a9ae46a36ad1e": {
      "model_module": "@jupyter-widgets/base",
      "model_module_version": "1.2.0",
      "model_name": "LayoutModel",
      "state": {}
     },
     "4880ee7b42f740fda55da9d05fb5380d": {
      "model_module": "@jupyter-widgets/controls",
      "model_module_version": "1.5.0",
      "model_name": "DescriptionStyleModel",
      "state": {
       "description_width": ""
      }
     },
     "497fbc2f61074566a74d7df293834a67": {
      "model_module": "@jupyter-widgets/base",
      "model_module_version": "1.2.0",
      "model_name": "LayoutModel",
      "state": {}
     },
     "4cb151130e6b4b19ac9f8dc75fa77d12": {
      "model_module": "@jupyter-widgets/base",
      "model_module_version": "1.2.0",
      "model_name": "LayoutModel",
      "state": {}
     },
     "4de44b6f74dc48f59b29b8fb672cd25e": {
      "model_module": "@jupyter-widgets/base",
      "model_module_version": "1.2.0",
      "model_name": "LayoutModel",
      "state": {}
     },
     "4e88e704976a4d8c93bb73ebab6d3fd2": {
      "model_module": "@jupyter-widgets/base",
      "model_module_version": "1.2.0",
      "model_name": "LayoutModel",
      "state": {}
     },
     "4ec77906483b4e23b95ada9f1b9bd921": {
      "model_module": "@jupyter-widgets/controls",
      "model_module_version": "1.5.0",
      "model_name": "HTMLModel",
      "state": {
       "layout": "IPY_MODEL_66fbf350035744fa92a3ef195d73cffe",
       "style": "IPY_MODEL_4880ee7b42f740fda55da9d05fb5380d",
       "value": " 5/5 [00:00&lt;00:00, 171.33it/s]"
      }
     },
     "4ffbd232c936470d89d1362bdb8f46b6": {
      "model_module": "@jupyter-widgets/base",
      "model_module_version": "1.2.0",
      "model_name": "LayoutModel",
      "state": {}
     },
     "501adbe0d47442749b548af1b3523934": {
      "model_module": "@jupyter-widgets/controls",
      "model_module_version": "1.5.0",
      "model_name": "ProgressStyleModel",
      "state": {
       "description_width": ""
      }
     },
     "50916534b46649458ea426cdb96f91e8": {
      "model_module": "@jupyter-widgets/controls",
      "model_module_version": "1.5.0",
      "model_name": "HBoxModel",
      "state": {
       "children": [
        "IPY_MODEL_33d53bbae0c74786a80b226bb7138f37",
        "IPY_MODEL_fe89a95fb56d4e538a26044f0b678616",
        "IPY_MODEL_905df64be6d14587b024ddaf0fecdda7"
       ],
       "layout": "IPY_MODEL_6c6b881f024b405593c7c12c3d53fa2a"
      }
     },
     "51c67773aaa34ec2b383ee8f4b37c714": {
      "model_module": "@jupyter-widgets/controls",
      "model_module_version": "1.5.0",
      "model_name": "ProgressStyleModel",
      "state": {
       "description_width": ""
      }
     },
     "52744c193b0a492d9a7400d6b60aa492": {
      "model_module": "@jupyter-widgets/controls",
      "model_module_version": "1.5.0",
      "model_name": "HTMLModel",
      "state": {
       "layout": "IPY_MODEL_5be44850f7234da8a9be99bfe7b39157",
       "style": "IPY_MODEL_18a55f6519044528b6a48a8f65abceec",
       "value": "100%"
      }
     },
     "5286f12f1cf3486586586171ed9f366e": {
      "model_module": "@jupyter-widgets/controls",
      "model_module_version": "1.5.0",
      "model_name": "ProgressStyleModel",
      "state": {
       "description_width": ""
      }
     },
     "53bfbb45aff74499be07baeab197d2e2": {
      "model_module": "@jupyter-widgets/controls",
      "model_module_version": "1.5.0",
      "model_name": "ProgressStyleModel",
      "state": {
       "description_width": ""
      }
     },
     "53f15d9d3b9f473b80a1b9450d661ed6": {
      "model_module": "@jupyter-widgets/controls",
      "model_module_version": "1.5.0",
      "model_name": "FloatProgressModel",
      "state": {
       "bar_style": "success",
       "layout": "IPY_MODEL_54aeacf837af409d8a1ef5098f99c684",
       "max": 5,
       "style": "IPY_MODEL_fdb65e7b8fd747fdb90f436ee0572794",
       "value": 5
      }
     },
     "54282c05843144ed91f3eae14ca12bbb": {
      "model_module": "@jupyter-widgets/controls",
      "model_module_version": "1.5.0",
      "model_name": "FloatProgressModel",
      "state": {
       "bar_style": "danger",
       "layout": "IPY_MODEL_e4e4bbfb8aca478aa6542afedb0bac71",
       "max": 5,
       "style": "IPY_MODEL_8b7220a9f73f4de69e3eb96f51175faf"
      }
     },
     "5449a7ea2b774024b57735b33defebf8": {
      "model_module": "@jupyter-widgets/controls",
      "model_module_version": "1.5.0",
      "model_name": "HBoxModel",
      "state": {
       "children": [
        "IPY_MODEL_023bf2aaafbd4d0b943c316ee534f67c",
        "IPY_MODEL_a4c116131fd84158a857e86d53efec9e",
        "IPY_MODEL_e52e0c07152e42239a85cca13fc90d85"
       ],
       "layout": "IPY_MODEL_0727ff759573428d803b57160aa65761"
      }
     },
     "54aeacf837af409d8a1ef5098f99c684": {
      "model_module": "@jupyter-widgets/base",
      "model_module_version": "1.2.0",
      "model_name": "LayoutModel",
      "state": {}
     },
     "54f284660bb443beaa574e5f87222a9b": {
      "model_module": "@jupyter-widgets/base",
      "model_module_version": "1.2.0",
      "model_name": "LayoutModel",
      "state": {}
     },
     "554a91f014f342f9bf2aa5be0dc232e4": {
      "model_module": "@jupyter-widgets/base",
      "model_module_version": "1.2.0",
      "model_name": "LayoutModel",
      "state": {}
     },
     "560fc935aee842c8b73aa74aff6acd7d": {
      "model_module": "@jupyter-widgets/controls",
      "model_module_version": "1.5.0",
      "model_name": "HTMLModel",
      "state": {
       "layout": "IPY_MODEL_f5a690a0ddfd4bce8d5c9398e572ec48",
       "style": "IPY_MODEL_8e5f5dafdcdc40acb7b48a7a2f9d62c7",
       "value": "100%"
      }
     },
     "5675153eea7e4c658ceb6156a595b7a1": {
      "model_module": "@jupyter-widgets/controls",
      "model_module_version": "1.5.0",
      "model_name": "HTMLModel",
      "state": {
       "layout": "IPY_MODEL_9c0fe822586448e4aac6e245f13f575f",
       "style": "IPY_MODEL_93a337033c99425ebbeb80f988d40e8a",
       "value": "100%"
      }
     },
     "5683b426dc0b4b4393830922c1fda054": {
      "model_module": "@jupyter-widgets/controls",
      "model_module_version": "1.5.0",
      "model_name": "DescriptionStyleModel",
      "state": {
       "description_width": ""
      }
     },
     "583127c39d3d4a5ebf6b297c1d03a12f": {
      "model_module": "@jupyter-widgets/base",
      "model_module_version": "1.2.0",
      "model_name": "LayoutModel",
      "state": {}
     },
     "59d32a67a6584d4b897f4e01a1448e46": {
      "model_module": "@jupyter-widgets/controls",
      "model_module_version": "1.5.0",
      "model_name": "HTMLModel",
      "state": {
       "layout": "IPY_MODEL_9080c3e4c6af4afdb52ef3e546c62b04",
       "style": "IPY_MODEL_9e38b025ae98478a904e77c155b26200",
       "value": "100%"
      }
     },
     "5ae548dccfc245779e56d3d330428616": {
      "model_module": "@jupyter-widgets/controls",
      "model_module_version": "1.5.0",
      "model_name": "FloatProgressModel",
      "state": {
       "bar_style": "success",
       "layout": "IPY_MODEL_12097f63ce454b29a2690bebdfedfb98",
       "max": 5,
       "style": "IPY_MODEL_f3c86b1f515f4ca0ac351be5f9d77f50",
       "value": 5
      }
     },
     "5b1b0caa9cb040c38bd32e4b2d48a9be": {
      "model_module": "@jupyter-widgets/controls",
      "model_module_version": "1.5.0",
      "model_name": "HTMLModel",
      "state": {
       "layout": "IPY_MODEL_3875969c610649898e46ea80f32263b3",
       "style": "IPY_MODEL_e2d5eb05977b45589b1d3f273c4611f9",
       "value": "100%"
      }
     },
     "5b1bed8e53dd498a9e08e13a6d3fef25": {
      "model_module": "@jupyter-widgets/controls",
      "model_module_version": "1.5.0",
      "model_name": "HTMLModel",
      "state": {
       "layout": "IPY_MODEL_eae72b67c60e4006b602dc38d195cca6",
       "style": "IPY_MODEL_7bd4eeec8105438c9732873bfd2fc48d",
       "value": " 5/5 [00:00&lt;00:00, 53.52it/s]"
      }
     },
     "5b28caf095a6491b8c5ae0b8cbeec7a3": {
      "model_module": "@jupyter-widgets/controls",
      "model_module_version": "1.5.0",
      "model_name": "HTMLModel",
      "state": {
       "layout": "IPY_MODEL_3fc654cf847946c18d4671b4499a3fb0",
       "style": "IPY_MODEL_c6f9dbaf99f64df7aecdfe7060272bff",
       "value": "100%"
      }
     },
     "5be44850f7234da8a9be99bfe7b39157": {
      "model_module": "@jupyter-widgets/base",
      "model_module_version": "1.2.0",
      "model_name": "LayoutModel",
      "state": {}
     },
     "5cd55218fd5e42b99f2e58b261da9bfe": {
      "model_module": "@jupyter-widgets/controls",
      "model_module_version": "1.5.0",
      "model_name": "DescriptionStyleModel",
      "state": {
       "description_width": ""
      }
     },
     "5cd69ba7daf94a7189ff47ad6c1d9472": {
      "model_module": "@jupyter-widgets/controls",
      "model_module_version": "1.5.0",
      "model_name": "DescriptionStyleModel",
      "state": {
       "description_width": ""
      }
     },
     "5e8c7dd378a44ad68723f00dc989996b": {
      "model_module": "@jupyter-widgets/controls",
      "model_module_version": "1.5.0",
      "model_name": "DescriptionStyleModel",
      "state": {
       "description_width": ""
      }
     },
     "5e974393b43b4c0b8727183f574ce597": {
      "model_module": "@jupyter-widgets/base",
      "model_module_version": "1.2.0",
      "model_name": "LayoutModel",
      "state": {}
     },
     "5f4d814a8c2c41709be0959be096d683": {
      "model_module": "@jupyter-widgets/controls",
      "model_module_version": "1.5.0",
      "model_name": "DescriptionStyleModel",
      "state": {
       "description_width": ""
      }
     },
     "5f64d682b2e1468dbecd360a482e538c": {
      "model_module": "@jupyter-widgets/base",
      "model_module_version": "1.2.0",
      "model_name": "LayoutModel",
      "state": {}
     },
     "5f6997b3df6a43d083a161e72bccb1f3": {
      "model_module": "@jupyter-widgets/controls",
      "model_module_version": "1.5.0",
      "model_name": "HTMLModel",
      "state": {
       "layout": "IPY_MODEL_4ffbd232c936470d89d1362bdb8f46b6",
       "style": "IPY_MODEL_13809015b5a64bc192fe5134cebe403b",
       "value": "100%"
      }
     },
     "5f82e7204653469db2e7426660d37c5a": {
      "model_module": "@jupyter-widgets/controls",
      "model_module_version": "1.5.0",
      "model_name": "DescriptionStyleModel",
      "state": {
       "description_width": ""
      }
     },
     "60e21230a43546fd945877ec2618ad84": {
      "model_module": "@jupyter-widgets/controls",
      "model_module_version": "1.5.0",
      "model_name": "ProgressStyleModel",
      "state": {
       "description_width": ""
      }
     },
     "616703ed18a74dacbd09f3d7d3a70e4a": {
      "model_module": "@jupyter-widgets/base",
      "model_module_version": "1.2.0",
      "model_name": "LayoutModel",
      "state": {}
     },
     "61e98b96cc5242dc8b0dc4784cb5d1b8": {
      "model_module": "@jupyter-widgets/controls",
      "model_module_version": "1.5.0",
      "model_name": "HBoxModel",
      "state": {
       "children": [
        "IPY_MODEL_5b1b0caa9cb040c38bd32e4b2d48a9be",
        "IPY_MODEL_bd0a1c634d45406d95df0d427dd8203b",
        "IPY_MODEL_85636f0401244eeb87b5757caeda8389"
       ],
       "layout": "IPY_MODEL_9a380ccf52014e88a44faca9334853bd"
      }
     },
     "625c54e1cda74cff9106eeece8fa2243": {
      "model_module": "@jupyter-widgets/controls",
      "model_module_version": "1.5.0",
      "model_name": "HTMLModel",
      "state": {
       "layout": "IPY_MODEL_05ff7ae57e184875b6232e84eba47561",
       "style": "IPY_MODEL_89a4d5bf415945d8a0f5db5e90f28e3e",
       "value": " 0/5 [00:00&lt;?, ?it/s]"
      }
     },
     "63601d0dfe6549afb827eb0a2a738554": {
      "model_module": "@jupyter-widgets/controls",
      "model_module_version": "1.5.0",
      "model_name": "DescriptionStyleModel",
      "state": {
       "description_width": ""
      }
     },
     "6477d1af18b743f6953adfdd8767c004": {
      "model_module": "@jupyter-widgets/controls",
      "model_module_version": "1.5.0",
      "model_name": "DescriptionStyleModel",
      "state": {
       "description_width": ""
      }
     },
     "64946283988a410193ead70b9107f7a9": {
      "model_module": "@jupyter-widgets/controls",
      "model_module_version": "1.5.0",
      "model_name": "HTMLModel",
      "state": {
       "layout": "IPY_MODEL_771fe75bd474442180b582f35df15071",
       "style": "IPY_MODEL_c5c47c1e34994e0f8baa0b600da941cf",
       "value": "100%"
      }
     },
     "64d51474749d4afaa57ba8c45e8afc7a": {
      "model_module": "@jupyter-widgets/controls",
      "model_module_version": "1.5.0",
      "model_name": "HBoxModel",
      "state": {
       "children": [
        "IPY_MODEL_d9045f77040647688349b462d2954dae",
        "IPY_MODEL_13645cf19443401b96f0092edf15ad6f",
        "IPY_MODEL_c1324412a37740ee8fc4f4f9cbd96215"
       ],
       "layout": "IPY_MODEL_e312d323476747a9a7f5169c1805086a"
      }
     },
     "64f78e4de59b47279651ced9f62a1eef": {
      "model_module": "@jupyter-widgets/base",
      "model_module_version": "1.2.0",
      "model_name": "LayoutModel",
      "state": {}
     },
     "653ab5781e904963b4550ff06842d964": {
      "model_module": "@jupyter-widgets/controls",
      "model_module_version": "1.5.0",
      "model_name": "ProgressStyleModel",
      "state": {
       "description_width": ""
      }
     },
     "65aa8e3a8ed542a1aa36c9fdce47173a": {
      "model_module": "@jupyter-widgets/base",
      "model_module_version": "1.2.0",
      "model_name": "LayoutModel",
      "state": {}
     },
     "6630f36db2a34b5387f3cfb6b4e2faf3": {
      "model_module": "@jupyter-widgets/controls",
      "model_module_version": "1.5.0",
      "model_name": "DescriptionStyleModel",
      "state": {
       "description_width": ""
      }
     },
     "66916917ce0d4d67ab1f37e5f1eecc1f": {
      "model_module": "@jupyter-widgets/base",
      "model_module_version": "1.2.0",
      "model_name": "LayoutModel",
      "state": {}
     },
     "66ba48ce6f774345905193aa1ad4ea80": {
      "model_module": "@jupyter-widgets/controls",
      "model_module_version": "1.5.0",
      "model_name": "HBoxModel",
      "state": {
       "children": [
        "IPY_MODEL_cd7e647f21cc425b9b086ff2a77141b6",
        "IPY_MODEL_44ec21bd16f244b6bc2bc0ec282d225b",
        "IPY_MODEL_72a66cf1fa3f426caf894725231f8741"
       ],
       "layout": "IPY_MODEL_dd8ce0d07f494769b6dacd5f55d632a0"
      }
     },
     "66fbf350035744fa92a3ef195d73cffe": {
      "model_module": "@jupyter-widgets/base",
      "model_module_version": "1.2.0",
      "model_name": "LayoutModel",
      "state": {}
     },
     "672a4bf211fd45c6a57b224c0325e89f": {
      "model_module": "@jupyter-widgets/base",
      "model_module_version": "1.2.0",
      "model_name": "LayoutModel",
      "state": {}
     },
     "67744b20565848b89e6aab1e134d68ef": {
      "model_module": "@jupyter-widgets/base",
      "model_module_version": "1.2.0",
      "model_name": "LayoutModel",
      "state": {}
     },
     "683582048eff4e4ab5e08dfe90a8cae6": {
      "model_module": "@jupyter-widgets/controls",
      "model_module_version": "1.5.0",
      "model_name": "HTMLModel",
      "state": {
       "layout": "IPY_MODEL_07e906bd852d499f9a2a313a4aa20266",
       "style": "IPY_MODEL_a637dee21fc844cb9582675adbf32122",
       "value": " 5/5 [00:00&lt;00:00, 58.38it/s]"
      }
     },
     "68713282a52948288071b1a7be2b672e": {
      "model_module": "@jupyter-widgets/controls",
      "model_module_version": "1.5.0",
      "model_name": "HTMLModel",
      "state": {
       "layout": "IPY_MODEL_4e88e704976a4d8c93bb73ebab6d3fd2",
       "style": "IPY_MODEL_048eaf0feff8497db13779585bf8c307",
       "value": " 30000/30000 [00:05&lt;00:00, 5958.70it/s]"
      }
     },
     "695e0e7512e04dd0a60a8bdca61e2f30": {
      "model_module": "@jupyter-widgets/base",
      "model_module_version": "1.2.0",
      "model_name": "LayoutModel",
      "state": {}
     },
     "6b89b18f33b94400aeef1f8ac95278ce": {
      "model_module": "@jupyter-widgets/controls",
      "model_module_version": "1.5.0",
      "model_name": "HBoxModel",
      "state": {
       "children": [
        "IPY_MODEL_64946283988a410193ead70b9107f7a9",
        "IPY_MODEL_02cbbe4479fc47e5bbb0ac3649b6fc4f",
        "IPY_MODEL_9e618662acdf4cb2bc82954a5261504e"
       ],
       "layout": "IPY_MODEL_ee7e87571d3b45ff85eafc5f322c8dd7"
      }
     },
     "6c6b881f024b405593c7c12c3d53fa2a": {
      "model_module": "@jupyter-widgets/base",
      "model_module_version": "1.2.0",
      "model_name": "LayoutModel",
      "state": {}
     },
     "6c804ce2e2c143d1a8a4fb4a66c4886e": {
      "model_module": "@jupyter-widgets/controls",
      "model_module_version": "1.5.0",
      "model_name": "FloatProgressModel",
      "state": {
       "bar_style": "success",
       "layout": "IPY_MODEL_e94db8f3fbc346be9a6a49ca9a36b352",
       "max": 30000,
       "style": "IPY_MODEL_a30ac86fc3a34690812cf91f3b8f721a",
       "value": 30000
      }
     },
     "6c88820ee27741de833bbdfc476500e0": {
      "model_module": "@jupyter-widgets/controls",
      "model_module_version": "1.5.0",
      "model_name": "ProgressStyleModel",
      "state": {
       "description_width": ""
      }
     },
     "6d900433416849beaec874733cb01889": {
      "model_module": "@jupyter-widgets/base",
      "model_module_version": "1.2.0",
      "model_name": "LayoutModel",
      "state": {}
     },
     "6e4881ffde724c3292325702e52abb4b": {
      "model_module": "@jupyter-widgets/base",
      "model_module_version": "1.2.0",
      "model_name": "LayoutModel",
      "state": {}
     },
     "6f43f03dbc8d433da3eab3d0aa59fbc4": {
      "model_module": "@jupyter-widgets/controls",
      "model_module_version": "1.5.0",
      "model_name": "HTMLModel",
      "state": {
       "layout": "IPY_MODEL_c6c2a0bf84754edf9774562add3b8431",
       "style": "IPY_MODEL_b6bcc5214700426e83833f4a096aa3bd",
       "value": " 0/5 [00:00&lt;?, ?it/s]"
      }
     },
     "6f669190c7d24935908692ea31cf4ecd": {
      "model_module": "@jupyter-widgets/base",
      "model_module_version": "1.2.0",
      "model_name": "LayoutModel",
      "state": {}
     },
     "704e4e34bae243fdbf344a8518c408e4": {
      "model_module": "@jupyter-widgets/base",
      "model_module_version": "1.2.0",
      "model_name": "LayoutModel",
      "state": {}
     },
     "70a5225510c74e69b7635b6cfb257ef8": {
      "model_module": "@jupyter-widgets/controls",
      "model_module_version": "1.5.0",
      "model_name": "ProgressStyleModel",
      "state": {
       "description_width": ""
      }
     },
     "70bf21a182404dc6a05140b0aee6d9e0": {
      "model_module": "@jupyter-widgets/controls",
      "model_module_version": "1.5.0",
      "model_name": "ProgressStyleModel",
      "state": {
       "description_width": ""
      }
     },
     "70d4bc00a3f34d13978464b15828f8de": {
      "model_module": "@jupyter-widgets/controls",
      "model_module_version": "1.5.0",
      "model_name": "DescriptionStyleModel",
      "state": {
       "description_width": ""
      }
     },
     "70f75f0332144920a10291a4b599adc0": {
      "model_module": "@jupyter-widgets/controls",
      "model_module_version": "1.5.0",
      "model_name": "FloatProgressModel",
      "state": {
       "bar_style": "success",
       "layout": "IPY_MODEL_6d900433416849beaec874733cb01889",
       "max": 5,
       "style": "IPY_MODEL_8ebf6c04fb0d4b14aff85c14c08bb196",
       "value": 5
      }
     },
     "72a66cf1fa3f426caf894725231f8741": {
      "model_module": "@jupyter-widgets/controls",
      "model_module_version": "1.5.0",
      "model_name": "HTMLModel",
      "state": {
       "layout": "IPY_MODEL_00f6d5a6ae794049812ec37067f77afc",
       "style": "IPY_MODEL_139ed80cd92d46fdb1db6c1dbe720284",
       "value": " 5/5 [00:00&lt;00:00, 157.12it/s]"
      }
     },
     "7472fe57b4104040947d9e3d471e44e1": {
      "model_module": "@jupyter-widgets/base",
      "model_module_version": "1.2.0",
      "model_name": "LayoutModel",
      "state": {}
     },
     "7533289a827544e4a754e267607664d4": {
      "model_module": "@jupyter-widgets/base",
      "model_module_version": "1.2.0",
      "model_name": "LayoutModel",
      "state": {}
     },
     "76748f5412e24a86a9cdeefd4a8afea4": {
      "model_module": "@jupyter-widgets/base",
      "model_module_version": "1.2.0",
      "model_name": "LayoutModel",
      "state": {}
     },
     "771fe75bd474442180b582f35df15071": {
      "model_module": "@jupyter-widgets/base",
      "model_module_version": "1.2.0",
      "model_name": "LayoutModel",
      "state": {}
     },
     "789c9d30641841a1a86b7a02b79e0033": {
      "model_module": "@jupyter-widgets/base",
      "model_module_version": "1.2.0",
      "model_name": "LayoutModel",
      "state": {}
     },
     "79572fede04d409387e9e6c00fdb8d14": {
      "model_module": "@jupyter-widgets/controls",
      "model_module_version": "1.5.0",
      "model_name": "FloatProgressModel",
      "state": {
       "bar_style": "success",
       "layout": "IPY_MODEL_cf57c454466e4e7384b545cc8bb21b0e",
       "max": 5,
       "style": "IPY_MODEL_60e21230a43546fd945877ec2618ad84",
       "value": 5
      }
     },
     "7a0e8e5932a84049a24be496e105a685": {
      "model_module": "@jupyter-widgets/controls",
      "model_module_version": "1.5.0",
      "model_name": "HTMLModel",
      "state": {
       "layout": "IPY_MODEL_672a4bf211fd45c6a57b224c0325e89f",
       "style": "IPY_MODEL_a45234cae24448399a52be65fb3daf51",
       "value": " 5/5 [00:00&lt;00:00, 94.37it/s]"
      }
     },
     "7a59cc4ca247452992f1df5052d424ea": {
      "model_module": "@jupyter-widgets/controls",
      "model_module_version": "1.5.0",
      "model_name": "DescriptionStyleModel",
      "state": {
       "description_width": ""
      }
     },
     "7a727da8c886413eb9f5e3d36d4fa8a6": {
      "model_module": "@jupyter-widgets/base",
      "model_module_version": "1.2.0",
      "model_name": "LayoutModel",
      "state": {}
     },
     "7ac50008d121486daab3d7a5338b35a9": {
      "model_module": "@jupyter-widgets/controls",
      "model_module_version": "1.5.0",
      "model_name": "HTMLModel",
      "state": {
       "layout": "IPY_MODEL_fe582883218c4cc99c70ddbbbcae8625",
       "style": "IPY_MODEL_02585d0a7b264c97b43da19c8cc8d1eb",
       "value": "100%"
      }
     },
     "7ba8c0ea7da84ce5b211c51729e5f4f1": {
      "model_module": "@jupyter-widgets/controls",
      "model_module_version": "1.5.0",
      "model_name": "ProgressStyleModel",
      "state": {
       "description_width": ""
      }
     },
     "7bd4eeec8105438c9732873bfd2fc48d": {
      "model_module": "@jupyter-widgets/controls",
      "model_module_version": "1.5.0",
      "model_name": "DescriptionStyleModel",
      "state": {
       "description_width": ""
      }
     },
     "7dfbfc1a74cc4eb884d8ae96da3fdb12": {
      "model_module": "@jupyter-widgets/controls",
      "model_module_version": "1.5.0",
      "model_name": "HTMLModel",
      "state": {
       "layout": "IPY_MODEL_36a50201943a40fdb9e3dfdab02c3b4a",
       "style": "IPY_MODEL_ac39a13416274c719c6170fde8795644",
       "value": " 5/5 [00:00&lt;00:00, 65.57it/s]"
      }
     },
     "7e04083b2b8048598436ea8dea2411d8": {
      "model_module": "@jupyter-widgets/controls",
      "model_module_version": "1.5.0",
      "model_name": "DescriptionStyleModel",
      "state": {
       "description_width": ""
      }
     },
     "7e5b60268bd94dfcaadea73e7b8b973c": {
      "model_module": "@jupyter-widgets/controls",
      "model_module_version": "1.5.0",
      "model_name": "HTMLModel",
      "state": {
       "layout": "IPY_MODEL_2eff359c32a341f0ac23c15d8a3367c6",
       "style": "IPY_MODEL_abafb1898efb46e68b66336faace2a7c",
       "value": " 5/5 [00:00&lt;00:00, 137.78it/s]"
      }
     },
     "7e6ea10520fe4415bd981512055f55c5": {
      "model_module": "@jupyter-widgets/controls",
      "model_module_version": "1.5.0",
      "model_name": "HTMLModel",
      "state": {
       "layout": "IPY_MODEL_497fbc2f61074566a74d7df293834a67",
       "style": "IPY_MODEL_63601d0dfe6549afb827eb0a2a738554",
       "value": " 5/5 [00:00&lt;00:00, 81.87it/s]"
      }
     },
     "80485b1bb7ec4eeabb12a0b11eee9bea": {
      "model_module": "@jupyter-widgets/controls",
      "model_module_version": "1.5.0",
      "model_name": "DescriptionStyleModel",
      "state": {
       "description_width": ""
      }
     },
     "820d6177ce954a76b4b4985653c8e6c1": {
      "model_module": "@jupyter-widgets/base",
      "model_module_version": "1.2.0",
      "model_name": "LayoutModel",
      "state": {}
     },
     "8229e7c0aea542229ef551fe348395e6": {
      "model_module": "@jupyter-widgets/controls",
      "model_module_version": "1.5.0",
      "model_name": "DescriptionStyleModel",
      "state": {
       "description_width": ""
      }
     },
     "824883a6ba8845db8281ad9120dfcc3a": {
      "model_module": "@jupyter-widgets/controls",
      "model_module_version": "1.5.0",
      "model_name": "FloatProgressModel",
      "state": {
       "bar_style": "success",
       "layout": "IPY_MODEL_f5c0341dae554a8dbb0fc7093f43482d",
       "max": 5,
       "style": "IPY_MODEL_cacf853c12424a42b0803401f26058d4",
       "value": 5
      }
     },
     "82f6fa2d46e649b594f13d57309ca27d": {
      "model_module": "@jupyter-widgets/controls",
      "model_module_version": "1.5.0",
      "model_name": "HTMLModel",
      "state": {
       "layout": "IPY_MODEL_b1300831135b4e56b485181c50c796ec",
       "style": "IPY_MODEL_5683b426dc0b4b4393830922c1fda054",
       "value": "100%"
      }
     },
     "83ed573739904ffba1e3d4d92fffd391": {
      "model_module": "@jupyter-widgets/base",
      "model_module_version": "1.2.0",
      "model_name": "LayoutModel",
      "state": {}
     },
     "8458010211f0493b8e0a005a8beb5835": {
      "model_module": "@jupyter-widgets/controls",
      "model_module_version": "1.5.0",
      "model_name": "HTMLModel",
      "state": {
       "layout": "IPY_MODEL_04a18a34d450469c98b87172482dd0d7",
       "style": "IPY_MODEL_df416f09d69242c2b0b59365e0d8e595",
       "value": "100%"
      }
     },
     "85636f0401244eeb87b5757caeda8389": {
      "model_module": "@jupyter-widgets/controls",
      "model_module_version": "1.5.0",
      "model_name": "HTMLModel",
      "state": {
       "layout": "IPY_MODEL_cc12732dc88e47cbb8663fb4d02a11a6",
       "style": "IPY_MODEL_6477d1af18b743f6953adfdd8767c004",
       "value": " 30000/30000 [00:05&lt;00:00, 5953.11it/s]"
      }
     },
     "865e9e755cee42aa83117004b0a5be9f": {
      "model_module": "@jupyter-widgets/controls",
      "model_module_version": "1.5.0",
      "model_name": "DescriptionStyleModel",
      "state": {
       "description_width": ""
      }
     },
     "87006599d88245a08aaea8f28f4f0e05": {
      "model_module": "@jupyter-widgets/base",
      "model_module_version": "1.2.0",
      "model_name": "LayoutModel",
      "state": {}
     },
     "8715b0eb98b6471aa99457c90551788d": {
      "model_module": "@jupyter-widgets/base",
      "model_module_version": "1.2.0",
      "model_name": "LayoutModel",
      "state": {}
     },
     "8764e6c8b39b4b1cb797f6ab214a641a": {
      "model_module": "@jupyter-widgets/controls",
      "model_module_version": "1.5.0",
      "model_name": "FloatProgressModel",
      "state": {
       "bar_style": "success",
       "layout": "IPY_MODEL_54f284660bb443beaa574e5f87222a9b",
       "max": 30000,
       "style": "IPY_MODEL_5286f12f1cf3486586586171ed9f366e",
       "value": 30000
      }
     },
     "876f1de1a1b34ed18084d12163d862f9": {
      "model_module": "@jupyter-widgets/controls",
      "model_module_version": "1.5.0",
      "model_name": "HTMLModel",
      "state": {
       "layout": "IPY_MODEL_d105f8cff43b4f4e98df0d5c78059e1f",
       "style": "IPY_MODEL_982c7f356f94488fa620f9fa3dba2fb9",
       "value": " 5/5 [00:00&lt;00:00, 61.99it/s]"
      }
     },
     "89a4d5bf415945d8a0f5db5e90f28e3e": {
      "model_module": "@jupyter-widgets/controls",
      "model_module_version": "1.5.0",
      "model_name": "DescriptionStyleModel",
      "state": {
       "description_width": ""
      }
     },
     "8a241d80e4694c7282a2f60a68f051ea": {
      "model_module": "@jupyter-widgets/base",
      "model_module_version": "1.2.0",
      "model_name": "LayoutModel",
      "state": {}
     },
     "8ac67b66f1724762a49a17a37830045e": {
      "model_module": "@jupyter-widgets/base",
      "model_module_version": "1.2.0",
      "model_name": "LayoutModel",
      "state": {}
     },
     "8b403751f6444b6daace263bc79140d2": {
      "model_module": "@jupyter-widgets/base",
      "model_module_version": "1.2.0",
      "model_name": "LayoutModel",
      "state": {}
     },
     "8b7220a9f73f4de69e3eb96f51175faf": {
      "model_module": "@jupyter-widgets/controls",
      "model_module_version": "1.5.0",
      "model_name": "ProgressStyleModel",
      "state": {
       "description_width": ""
      }
     },
     "8b7d35d8ef264e44b5c6818224791168": {
      "model_module": "@jupyter-widgets/base",
      "model_module_version": "1.2.0",
      "model_name": "LayoutModel",
      "state": {}
     },
     "8c6a3114800b4391b736892904be2866": {
      "model_module": "@jupyter-widgets/base",
      "model_module_version": "1.2.0",
      "model_name": "LayoutModel",
      "state": {}
     },
     "8d022310666d4dc8ba03dab1f3aab04c": {
      "model_module": "@jupyter-widgets/base",
      "model_module_version": "1.2.0",
      "model_name": "LayoutModel",
      "state": {}
     },
     "8d20777b493749038451a5c66f344e88": {
      "model_module": "@jupyter-widgets/base",
      "model_module_version": "1.2.0",
      "model_name": "LayoutModel",
      "state": {}
     },
     "8e0bafc4369d4328aef51e4207c0ca3a": {
      "model_module": "@jupyter-widgets/controls",
      "model_module_version": "1.5.0",
      "model_name": "ProgressStyleModel",
      "state": {
       "description_width": ""
      }
     },
     "8e5f5dafdcdc40acb7b48a7a2f9d62c7": {
      "model_module": "@jupyter-widgets/controls",
      "model_module_version": "1.5.0",
      "model_name": "DescriptionStyleModel",
      "state": {
       "description_width": ""
      }
     },
     "8ebf6c04fb0d4b14aff85c14c08bb196": {
      "model_module": "@jupyter-widgets/controls",
      "model_module_version": "1.5.0",
      "model_name": "ProgressStyleModel",
      "state": {
       "description_width": ""
      }
     },
     "8fa3d0f9a0fd4fc4b4c261043a698bab": {
      "model_module": "@jupyter-widgets/base",
      "model_module_version": "1.2.0",
      "model_name": "LayoutModel",
      "state": {}
     },
     "8fc308676b454e1bbb6f28b4cb46f55a": {
      "model_module": "@jupyter-widgets/controls",
      "model_module_version": "1.5.0",
      "model_name": "HTMLModel",
      "state": {
       "layout": "IPY_MODEL_446a573de3ed42a6875af1e93e7e9c5b",
       "style": "IPY_MODEL_f33ded4900714707857029005b768370",
       "value": "  0%"
      }
     },
     "8ff9cdd1e08d43c7b18587c4f3509856": {
      "model_module": "@jupyter-widgets/controls",
      "model_module_version": "1.5.0",
      "model_name": "FloatProgressModel",
      "state": {
       "bar_style": "danger",
       "layout": "IPY_MODEL_76748f5412e24a86a9cdeefd4a8afea4",
       "max": 5,
       "style": "IPY_MODEL_fb8301d63a7b489d81e468fa110bfdbb"
      }
     },
     "905df64be6d14587b024ddaf0fecdda7": {
      "model_module": "@jupyter-widgets/controls",
      "model_module_version": "1.5.0",
      "model_name": "HTMLModel",
      "state": {
       "layout": "IPY_MODEL_bd931ee678c045c6922d38dbf112129e",
       "style": "IPY_MODEL_9f5f9ffa4a8249fea52a92b82f2cd437",
       "value": " 30000/30000 [00:05&lt;00:00, 6004.94it/s]"
      }
     },
     "9080c3e4c6af4afdb52ef3e546c62b04": {
      "model_module": "@jupyter-widgets/base",
      "model_module_version": "1.2.0",
      "model_name": "LayoutModel",
      "state": {}
     },
     "91792f1c77c144b4b19cb87381792ea9": {
      "model_module": "@jupyter-widgets/controls",
      "model_module_version": "1.5.0",
      "model_name": "DescriptionStyleModel",
      "state": {
       "description_width": ""
      }
     },
     "92d188585408411e87e114b9858ec05e": {
      "model_module": "@jupyter-widgets/base",
      "model_module_version": "1.2.0",
      "model_name": "LayoutModel",
      "state": {}
     },
     "93a337033c99425ebbeb80f988d40e8a": {
      "model_module": "@jupyter-widgets/controls",
      "model_module_version": "1.5.0",
      "model_name": "DescriptionStyleModel",
      "state": {
       "description_width": ""
      }
     },
     "93d76fe8b10547cb9dfa5a64957e7b3f": {
      "model_module": "@jupyter-widgets/controls",
      "model_module_version": "1.5.0",
      "model_name": "HTMLModel",
      "state": {
       "layout": "IPY_MODEL_8ac67b66f1724762a49a17a37830045e",
       "style": "IPY_MODEL_08406374bd454dbdbf117ece612fa4b7",
       "value": " 5/5 [00:00&lt;00:00, 150.54it/s]"
      }
     },
     "94bd05c043ca446996a5c639a571e247": {
      "model_module": "@jupyter-widgets/controls",
      "model_module_version": "1.5.0",
      "model_name": "DescriptionStyleModel",
      "state": {
       "description_width": ""
      }
     },
     "95c8da798eea4d3d8687a53e6ff88a1b": {
      "model_module": "@jupyter-widgets/controls",
      "model_module_version": "1.5.0",
      "model_name": "DescriptionStyleModel",
      "state": {
       "description_width": ""
      }
     },
     "964e83514a014bd69ff12b7baca3fd75": {
      "model_module": "@jupyter-widgets/base",
      "model_module_version": "1.2.0",
      "model_name": "LayoutModel",
      "state": {}
     },
     "982c7f356f94488fa620f9fa3dba2fb9": {
      "model_module": "@jupyter-widgets/controls",
      "model_module_version": "1.5.0",
      "model_name": "DescriptionStyleModel",
      "state": {
       "description_width": ""
      }
     },
     "98c35beaa90e4396b6146ae91b72c4d3": {
      "model_module": "@jupyter-widgets/base",
      "model_module_version": "1.2.0",
      "model_name": "LayoutModel",
      "state": {}
     },
     "99058ad0deb346fa97d193c513798e14": {
      "model_module": "@jupyter-widgets/controls",
      "model_module_version": "1.5.0",
      "model_name": "DescriptionStyleModel",
      "state": {
       "description_width": ""
      }
     },
     "9a380ccf52014e88a44faca9334853bd": {
      "model_module": "@jupyter-widgets/base",
      "model_module_version": "1.2.0",
      "model_name": "LayoutModel",
      "state": {}
     },
     "9afeecae362a4f289b3b7bc30ed441af": {
      "model_module": "@jupyter-widgets/base",
      "model_module_version": "1.2.0",
      "model_name": "LayoutModel",
      "state": {}
     },
     "9c0fe822586448e4aac6e245f13f575f": {
      "model_module": "@jupyter-widgets/base",
      "model_module_version": "1.2.0",
      "model_name": "LayoutModel",
      "state": {}
     },
     "9e38b025ae98478a904e77c155b26200": {
      "model_module": "@jupyter-widgets/controls",
      "model_module_version": "1.5.0",
      "model_name": "DescriptionStyleModel",
      "state": {
       "description_width": ""
      }
     },
     "9e45fe4e3a634d81a60ed13036b9724e": {
      "model_module": "@jupyter-widgets/base",
      "model_module_version": "1.2.0",
      "model_name": "LayoutModel",
      "state": {}
     },
     "9e618662acdf4cb2bc82954a5261504e": {
      "model_module": "@jupyter-widgets/controls",
      "model_module_version": "1.5.0",
      "model_name": "HTMLModel",
      "state": {
       "layout": "IPY_MODEL_820d6177ce954a76b4b4985653c8e6c1",
       "style": "IPY_MODEL_99058ad0deb346fa97d193c513798e14",
       "value": " 5/5 [00:00&lt;00:00, 62.26it/s]"
      }
     },
     "9f5f9ffa4a8249fea52a92b82f2cd437": {
      "model_module": "@jupyter-widgets/controls",
      "model_module_version": "1.5.0",
      "model_name": "DescriptionStyleModel",
      "state": {
       "description_width": ""
      }
     },
     "9f9a25b43d184f6ab597cae3019aaa90": {
      "model_module": "@jupyter-widgets/base",
      "model_module_version": "1.2.0",
      "model_name": "LayoutModel",
      "state": {}
     },
     "a30ac86fc3a34690812cf91f3b8f721a": {
      "model_module": "@jupyter-widgets/controls",
      "model_module_version": "1.5.0",
      "model_name": "ProgressStyleModel",
      "state": {
       "description_width": ""
      }
     },
     "a45234cae24448399a52be65fb3daf51": {
      "model_module": "@jupyter-widgets/controls",
      "model_module_version": "1.5.0",
      "model_name": "DescriptionStyleModel",
      "state": {
       "description_width": ""
      }
     },
     "a4c116131fd84158a857e86d53efec9e": {
      "model_module": "@jupyter-widgets/controls",
      "model_module_version": "1.5.0",
      "model_name": "FloatProgressModel",
      "state": {
       "bar_style": "success",
       "layout": "IPY_MODEL_0b4a8bb332cb4964958885f282cd6f4c",
       "max": 30000,
       "style": "IPY_MODEL_decb4616bf714b5b8e097efb78c2deb4",
       "value": 30000
      }
     },
     "a637dee21fc844cb9582675adbf32122": {
      "model_module": "@jupyter-widgets/controls",
      "model_module_version": "1.5.0",
      "model_name": "DescriptionStyleModel",
      "state": {
       "description_width": ""
      }
     },
     "a85dc7b69ee246df9bdac1b5b9cdaacb": {
      "model_module": "@jupyter-widgets/controls",
      "model_module_version": "1.5.0",
      "model_name": "DescriptionStyleModel",
      "state": {
       "description_width": ""
      }
     },
     "a888c47803604a068f5cab30e0c8f2fd": {
      "model_module": "@jupyter-widgets/controls",
      "model_module_version": "1.5.0",
      "model_name": "HTMLModel",
      "state": {
       "layout": "IPY_MODEL_e9611cad9393494aabd86051abe2911b",
       "style": "IPY_MODEL_5f82e7204653469db2e7426660d37c5a",
       "value": "  0%"
      }
     },
     "aa123889e98c4bbe8a2e37249ecccdc2": {
      "model_module": "@jupyter-widgets/base",
      "model_module_version": "1.2.0",
      "model_name": "LayoutModel",
      "state": {}
     },
     "abafb1898efb46e68b66336faace2a7c": {
      "model_module": "@jupyter-widgets/controls",
      "model_module_version": "1.5.0",
      "model_name": "DescriptionStyleModel",
      "state": {
       "description_width": ""
      }
     },
     "ac2200f2d09b42719198d557c6fdf8da": {
      "model_module": "@jupyter-widgets/controls",
      "model_module_version": "1.5.0",
      "model_name": "DescriptionStyleModel",
      "state": {
       "description_width": ""
      }
     },
     "ac39a13416274c719c6170fde8795644": {
      "model_module": "@jupyter-widgets/controls",
      "model_module_version": "1.5.0",
      "model_name": "DescriptionStyleModel",
      "state": {
       "description_width": ""
      }
     },
     "ae1d3b76aa7c474f916f924cfc6078a5": {
      "model_module": "@jupyter-widgets/base",
      "model_module_version": "1.2.0",
      "model_name": "LayoutModel",
      "state": {}
     },
     "ae214db14682431785afc8026b9a01b3": {
      "model_module": "@jupyter-widgets/controls",
      "model_module_version": "1.5.0",
      "model_name": "HTMLModel",
      "state": {
       "layout": "IPY_MODEL_b4f5be4ef0104005bb0160405bd40181",
       "style": "IPY_MODEL_b27dedb214ee4a29a4df3906faae5f55",
       "value": "100%"
      }
     },
     "af8f884c20bf48f5af6aa241be3215f6": {
      "model_module": "@jupyter-widgets/controls",
      "model_module_version": "1.5.0",
      "model_name": "HBoxModel",
      "state": {
       "children": [
        "IPY_MODEL_ebc5ec397d5a4ae483e956ef6189394b",
        "IPY_MODEL_8764e6c8b39b4b1cb797f6ab214a641a",
        "IPY_MODEL_292972989f0c497a8266bb3a223b982d"
       ],
       "layout": "IPY_MODEL_6e4881ffde724c3292325702e52abb4b"
      }
     },
     "b1300831135b4e56b485181c50c796ec": {
      "model_module": "@jupyter-widgets/base",
      "model_module_version": "1.2.0",
      "model_name": "LayoutModel",
      "state": {}
     },
     "b20d17882de2497c8e5c0bcc3bf3eff4": {
      "model_module": "@jupyter-widgets/controls",
      "model_module_version": "1.5.0",
      "model_name": "ProgressStyleModel",
      "state": {
       "description_width": ""
      }
     },
     "b27dedb214ee4a29a4df3906faae5f55": {
      "model_module": "@jupyter-widgets/controls",
      "model_module_version": "1.5.0",
      "model_name": "DescriptionStyleModel",
      "state": {
       "description_width": ""
      }
     },
     "b3a88c5c052249de8de4b0b57e2929f1": {
      "model_module": "@jupyter-widgets/controls",
      "model_module_version": "1.5.0",
      "model_name": "DescriptionStyleModel",
      "state": {
       "description_width": ""
      }
     },
     "b3b72b11d761487f8b15128265e2c3f9": {
      "model_module": "@jupyter-widgets/controls",
      "model_module_version": "1.5.0",
      "model_name": "FloatProgressModel",
      "state": {
       "bar_style": "danger",
       "layout": "IPY_MODEL_8d022310666d4dc8ba03dab1f3aab04c",
       "max": 5,
       "style": "IPY_MODEL_b20d17882de2497c8e5c0bcc3bf3eff4"
      }
     },
     "b48fb42dbdd04007b91e1c1d2398ff7b": {
      "model_module": "@jupyter-widgets/base",
      "model_module_version": "1.2.0",
      "model_name": "LayoutModel",
      "state": {}
     },
     "b4e857ce6e9f4c6999cfc7441875d92e": {
      "model_module": "@jupyter-widgets/controls",
      "model_module_version": "1.5.0",
      "model_name": "DescriptionStyleModel",
      "state": {
       "description_width": ""
      }
     },
     "b4f5be4ef0104005bb0160405bd40181": {
      "model_module": "@jupyter-widgets/base",
      "model_module_version": "1.2.0",
      "model_name": "LayoutModel",
      "state": {}
     },
     "b67088f9d4154b158987ec3cd51bd626": {
      "model_module": "@jupyter-widgets/controls",
      "model_module_version": "1.5.0",
      "model_name": "DescriptionStyleModel",
      "state": {
       "description_width": ""
      }
     },
     "b6bcc5214700426e83833f4a096aa3bd": {
      "model_module": "@jupyter-widgets/controls",
      "model_module_version": "1.5.0",
      "model_name": "DescriptionStyleModel",
      "state": {
       "description_width": ""
      }
     },
     "b773347945624124b2d133729759dd49": {
      "model_module": "@jupyter-widgets/base",
      "model_module_version": "1.2.0",
      "model_name": "LayoutModel",
      "state": {}
     },
     "b9c7544a699c4993b699b9d6e324f155": {
      "model_module": "@jupyter-widgets/base",
      "model_module_version": "1.2.0",
      "model_name": "LayoutModel",
      "state": {}
     },
     "b9daec05e4fb491e86ac818bd6505c40": {
      "model_module": "@jupyter-widgets/controls",
      "model_module_version": "1.5.0",
      "model_name": "HBoxModel",
      "state": {
       "children": [
        "IPY_MODEL_82f6fa2d46e649b594f13d57309ca27d",
        "IPY_MODEL_3902f480a13a4c699444b9107ad7938f",
        "IPY_MODEL_ef96e12fabae4d86a60f0169c1a0e8a1"
       ],
       "layout": "IPY_MODEL_9e45fe4e3a634d81a60ed13036b9724e"
      }
     },
     "bb28dd21acea4fe2861c2e5297e7137c": {
      "model_module": "@jupyter-widgets/controls",
      "model_module_version": "1.5.0",
      "model_name": "HTMLModel",
      "state": {
       "layout": "IPY_MODEL_8b7d35d8ef264e44b5c6818224791168",
       "style": "IPY_MODEL_dd5de6a651dc4140bbc6cc203efcaba8",
       "value": "Splitting: 100%"
      }
     },
     "bb5b18f37c3a47ce850576f988282bed": {
      "model_module": "@jupyter-widgets/controls",
      "model_module_version": "1.5.0",
      "model_name": "HBoxModel",
      "state": {
       "children": [
        "IPY_MODEL_ae214db14682431785afc8026b9a01b3",
        "IPY_MODEL_f57b45d487814953902920a8f3634b90",
        "IPY_MODEL_93d76fe8b10547cb9dfa5a64957e7b3f"
       ],
       "layout": "IPY_MODEL_67744b20565848b89e6aab1e134d68ef"
      }
     },
     "bbe7c0a20c9e40c1a0c9242f0e6e5b21": {
      "model_module": "@jupyter-widgets/controls",
      "model_module_version": "1.5.0",
      "model_name": "HTMLModel",
      "state": {
       "layout": "IPY_MODEL_ed169192e427477a8171d6ceabbf2476",
       "style": "IPY_MODEL_865e9e755cee42aa83117004b0a5be9f",
       "value": " 0/5 [00:00&lt;?, ?it/s]"
      }
     },
     "bd0a1c634d45406d95df0d427dd8203b": {
      "model_module": "@jupyter-widgets/controls",
      "model_module_version": "1.5.0",
      "model_name": "FloatProgressModel",
      "state": {
       "bar_style": "success",
       "layout": "IPY_MODEL_f4afc58569064472a54302c095fd4988",
       "max": 30000,
       "style": "IPY_MODEL_6c88820ee27741de833bbdfc476500e0",
       "value": 30000
      }
     },
     "bd931ee678c045c6922d38dbf112129e": {
      "model_module": "@jupyter-widgets/base",
      "model_module_version": "1.2.0",
      "model_name": "LayoutModel",
      "state": {}
     },
     "bdc9fbc5b2d84489af992fa2f6820435": {
      "model_module": "@jupyter-widgets/base",
      "model_module_version": "1.2.0",
      "model_name": "LayoutModel",
      "state": {}
     },
     "bea90d6dfa1c468d967ba5d56b6fe590": {
      "model_module": "@jupyter-widgets/base",
      "model_module_version": "1.2.0",
      "model_name": "LayoutModel",
      "state": {}
     },
     "bf2985b9c1264e53b20da641ba90fce4": {
      "model_module": "@jupyter-widgets/controls",
      "model_module_version": "1.5.0",
      "model_name": "HTMLModel",
      "state": {
       "layout": "IPY_MODEL_1d40addd2f944694add66c72b8dfd859",
       "style": "IPY_MODEL_e08476fca13f4c57a123fe0d712249da",
       "value": " 5/5 [00:00&lt;00:00, 151.77it/s]"
      }
     },
     "bf7c3b02f1284672a797b8d597d2bf72": {
      "model_module": "@jupyter-widgets/controls",
      "model_module_version": "1.5.0",
      "model_name": "HBoxModel",
      "state": {
       "children": [
        "IPY_MODEL_8458010211f0493b8e0a005a8beb5835",
        "IPY_MODEL_53f15d9d3b9f473b80a1b9450d661ed6",
        "IPY_MODEL_f3f15933bff74b99a80956323d5cdcc5"
       ],
       "layout": "IPY_MODEL_5f64d682b2e1468dbecd360a482e538c"
      }
     },
     "c108b8f7aac94a53921a888b649e0e87": {
      "model_module": "@jupyter-widgets/controls",
      "model_module_version": "1.5.0",
      "model_name": "HTMLModel",
      "state": {
       "layout": "IPY_MODEL_bdc9fbc5b2d84489af992fa2f6820435",
       "style": "IPY_MODEL_c3eb44a68052484ca4b882464708aae1",
       "value": "100%"
      }
     },
     "c1324412a37740ee8fc4f4f9cbd96215": {
      "model_module": "@jupyter-widgets/controls",
      "model_module_version": "1.5.0",
      "model_name": "HTMLModel",
      "state": {
       "layout": "IPY_MODEL_d1d6958bef1b4e1db6557d7a1e9829c8",
       "style": "IPY_MODEL_40892f451f1b4a3b95c6b87b1af19420",
       "value": " 5/5 [00:00&lt;00:00,  6.85it/s]"
      }
     },
     "c15fb0caa123414d8af93e21e71027ad": {
      "model_module": "@jupyter-widgets/controls",
      "model_module_version": "1.5.0",
      "model_name": "ProgressStyleModel",
      "state": {
       "description_width": ""
      }
     },
     "c2a5f058aec145d5a8ce9cd4031c195e": {
      "model_module": "@jupyter-widgets/controls",
      "model_module_version": "1.5.0",
      "model_name": "FloatProgressModel",
      "state": {
       "bar_style": "success",
       "layout": "IPY_MODEL_6f669190c7d24935908692ea31cf4ecd",
       "max": 5,
       "style": "IPY_MODEL_1f4eeef80f7c4f9aa3a3779545ac3e47",
       "value": 5
      }
     },
     "c3eb44a68052484ca4b882464708aae1": {
      "model_module": "@jupyter-widgets/controls",
      "model_module_version": "1.5.0",
      "model_name": "DescriptionStyleModel",
      "state": {
       "description_width": ""
      }
     },
     "c5c47c1e34994e0f8baa0b600da941cf": {
      "model_module": "@jupyter-widgets/controls",
      "model_module_version": "1.5.0",
      "model_name": "DescriptionStyleModel",
      "state": {
       "description_width": ""
      }
     },
     "c63991655ee140f2a56717724e34c0ee": {
      "model_module": "@jupyter-widgets/base",
      "model_module_version": "1.2.0",
      "model_name": "LayoutModel",
      "state": {}
     },
     "c68a240201f045a0912a888525fc4fdd": {
      "model_module": "@jupyter-widgets/controls",
      "model_module_version": "1.5.0",
      "model_name": "FloatProgressModel",
      "state": {
       "bar_style": "success",
       "layout": "IPY_MODEL_8b403751f6444b6daace263bc79140d2",
       "max": 5,
       "style": "IPY_MODEL_653ab5781e904963b4550ff06842d964",
       "value": 5
      }
     },
     "c6c2a0bf84754edf9774562add3b8431": {
      "model_module": "@jupyter-widgets/base",
      "model_module_version": "1.2.0",
      "model_name": "LayoutModel",
      "state": {}
     },
     "c6f9dbaf99f64df7aecdfe7060272bff": {
      "model_module": "@jupyter-widgets/controls",
      "model_module_version": "1.5.0",
      "model_name": "DescriptionStyleModel",
      "state": {
       "description_width": ""
      }
     },
     "c71fefe854e14fd8ab184ef8ec5e8562": {
      "model_module": "@jupyter-widgets/controls",
      "model_module_version": "1.5.0",
      "model_name": "FloatProgressModel",
      "state": {
       "bar_style": "success",
       "layout": "IPY_MODEL_0190939aa2d348e7bdeed75b53ef6430",
       "max": 5,
       "style": "IPY_MODEL_51c67773aaa34ec2b383ee8f4b37c714",
       "value": 5
      }
     },
     "c85c91e1bcbc4f5b94bb50f547fc46a5": {
      "model_module": "@jupyter-widgets/controls",
      "model_module_version": "1.5.0",
      "model_name": "DescriptionStyleModel",
      "state": {
       "description_width": ""
      }
     },
     "c9ace25e4bae43e2ac6b1b9f73866742": {
      "model_module": "@jupyter-widgets/controls",
      "model_module_version": "1.5.0",
      "model_name": "HTMLModel",
      "state": {
       "layout": "IPY_MODEL_2921f49fbf3c4c18b3fb3438db9eb098",
       "style": "IPY_MODEL_d8e3c00ff5434e9abf501cb6a6a15a6c",
       "value": "100%"
      }
     },
     "c9e9154369594ea1b0ffa36a2e7c8694": {
      "model_module": "@jupyter-widgets/base",
      "model_module_version": "1.2.0",
      "model_name": "LayoutModel",
      "state": {}
     },
     "ca9b3792c6804a918dc88f5905317fc5": {
      "model_module": "@jupyter-widgets/controls",
      "model_module_version": "1.5.0",
      "model_name": "HTMLModel",
      "state": {
       "layout": "IPY_MODEL_4cb151130e6b4b19ac9f8dc75fa77d12",
       "style": "IPY_MODEL_46a74d77f9b5474ca2149fbfb3bdb04b",
       "value": "100%"
      }
     },
     "cacf853c12424a42b0803401f26058d4": {
      "model_module": "@jupyter-widgets/controls",
      "model_module_version": "1.5.0",
      "model_name": "ProgressStyleModel",
      "state": {
       "description_width": ""
      }
     },
     "cbf231558815402392f81a8a19af8fd2": {
      "model_module": "@jupyter-widgets/base",
      "model_module_version": "1.2.0",
      "model_name": "LayoutModel",
      "state": {}
     },
     "cc12732dc88e47cbb8663fb4d02a11a6": {
      "model_module": "@jupyter-widgets/base",
      "model_module_version": "1.2.0",
      "model_name": "LayoutModel",
      "state": {}
     },
     "cd33d9c320164fe98fc7af020f23f616": {
      "model_module": "@jupyter-widgets/controls",
      "model_module_version": "1.5.0",
      "model_name": "HBoxModel",
      "state": {
       "children": [
        "IPY_MODEL_f1ecd1e81ee645d585a1bf91c1525f9f",
        "IPY_MODEL_1397d8e74dc94d59bd289b5d854f19ea",
        "IPY_MODEL_e7e607fa60544ef18ee6eb55aeb2b23e"
       ],
       "layout": "IPY_MODEL_22e99a48857a486ba5379ac09111865f"
      }
     },
     "cd7628ff83fb45a8ae670b9de744416c": {
      "model_module": "@jupyter-widgets/controls",
      "model_module_version": "1.5.0",
      "model_name": "ProgressStyleModel",
      "state": {
       "description_width": ""
      }
     },
     "cd7e647f21cc425b9b086ff2a77141b6": {
      "model_module": "@jupyter-widgets/controls",
      "model_module_version": "1.5.0",
      "model_name": "HTMLModel",
      "state": {
       "layout": "IPY_MODEL_cdd3146346f941daaf47e9f1347b32de",
       "style": "IPY_MODEL_7a59cc4ca247452992f1df5052d424ea",
       "value": "100%"
      }
     },
     "cdc35083c2b64f58801f9e3476c6c0a3": {
      "model_module": "@jupyter-widgets/controls",
      "model_module_version": "1.5.0",
      "model_name": "HTMLModel",
      "state": {
       "layout": "IPY_MODEL_98c35beaa90e4396b6146ae91b72c4d3",
       "style": "IPY_MODEL_95c8da798eea4d3d8687a53e6ff88a1b",
       "value": "100%"
      }
     },
     "cdd3146346f941daaf47e9f1347b32de": {
      "model_module": "@jupyter-widgets/base",
      "model_module_version": "1.2.0",
      "model_name": "LayoutModel",
      "state": {}
     },
     "ce31ab8354f34846b321230b0baa60fe": {
      "model_module": "@jupyter-widgets/controls",
      "model_module_version": "1.5.0",
      "model_name": "HTMLModel",
      "state": {
       "layout": "IPY_MODEL_66916917ce0d4d67ab1f37e5f1eecc1f",
       "style": "IPY_MODEL_c85c91e1bcbc4f5b94bb50f547fc46a5",
       "value": " 5/5 [00:00&lt;00:00, 112.35it/s]"
      }
     },
     "cf57c454466e4e7384b545cc8bb21b0e": {
      "model_module": "@jupyter-widgets/base",
      "model_module_version": "1.2.0",
      "model_name": "LayoutModel",
      "state": {}
     },
     "cf65b4ebd2134b87a3b2ac5f3fe031e9": {
      "model_module": "@jupyter-widgets/controls",
      "model_module_version": "1.5.0",
      "model_name": "FloatProgressModel",
      "state": {
       "bar_style": "success",
       "layout": "IPY_MODEL_8a241d80e4694c7282a2f60a68f051ea",
       "max": 5,
       "style": "IPY_MODEL_0e4a5a5505ac4adf843e3d5ff399e730",
       "value": 5
      }
     },
     "cfa6fbebbbea4f8eaddf661355ab3bb2": {
      "model_module": "@jupyter-widgets/base",
      "model_module_version": "1.2.0",
      "model_name": "LayoutModel",
      "state": {}
     },
     "d105f8cff43b4f4e98df0d5c78059e1f": {
      "model_module": "@jupyter-widgets/base",
      "model_module_version": "1.2.0",
      "model_name": "LayoutModel",
      "state": {}
     },
     "d195d65908e444babe17518bd4c6158b": {
      "model_module": "@jupyter-widgets/controls",
      "model_module_version": "1.5.0",
      "model_name": "HBoxModel",
      "state": {
       "children": [
        "IPY_MODEL_a888c47803604a068f5cab30e0c8f2fd",
        "IPY_MODEL_b3b72b11d761487f8b15128265e2c3f9",
        "IPY_MODEL_bbe7c0a20c9e40c1a0c9242f0e6e5b21"
       ],
       "layout": "IPY_MODEL_4360daaec2844baa8ebe164fa359e47f"
      }
     },
     "d1d6958bef1b4e1db6557d7a1e9829c8": {
      "model_module": "@jupyter-widgets/base",
      "model_module_version": "1.2.0",
      "model_name": "LayoutModel",
      "state": {}
     },
     "d2a0e8ba1c1b43e09010b691297d970d": {
      "model_module": "@jupyter-widgets/base",
      "model_module_version": "1.2.0",
      "model_name": "LayoutModel",
      "state": {}
     },
     "d3d466fbb41841e0a42b9c00af73b272": {
      "model_module": "@jupyter-widgets/base",
      "model_module_version": "1.2.0",
      "model_name": "LayoutModel",
      "state": {}
     },
     "d3d8143e394d41b88969a8f8fcfd890b": {
      "model_module": "@jupyter-widgets/base",
      "model_module_version": "1.2.0",
      "model_name": "LayoutModel",
      "state": {}
     },
     "d4e6afde13b74252b12ff5278a67e280": {
      "model_module": "@jupyter-widgets/controls",
      "model_module_version": "1.5.0",
      "model_name": "HTMLModel",
      "state": {
       "layout": "IPY_MODEL_1b1ea485ca6c4c729ea2e2e21bc819f6",
       "style": "IPY_MODEL_b4e857ce6e9f4c6999cfc7441875d92e",
       "value": " 5/5 [00:00&lt;00:00, 52.89it/s]"
      }
     },
     "d5546c33718940a0ba477608c0a833ff": {
      "model_module": "@jupyter-widgets/controls",
      "model_module_version": "1.5.0",
      "model_name": "HTMLModel",
      "state": {
       "layout": "IPY_MODEL_554a91f014f342f9bf2aa5be0dc232e4",
       "style": "IPY_MODEL_e250ee1b2ff74ef0be725cdc0d090a50",
       "value": " 5/5 [00:00&lt;00:00, 233.70it/s]"
      }
     },
     "d60ed8d16c964db186c04ac97e073a58": {
      "model_module": "@jupyter-widgets/controls",
      "model_module_version": "1.5.0",
      "model_name": "HBoxModel",
      "state": {
       "children": [
        "IPY_MODEL_c108b8f7aac94a53921a888b649e0e87",
        "IPY_MODEL_225739497e954745924b9348b08be4de",
        "IPY_MODEL_0a07f91aca39448caf1ebe8f4d8f5032"
       ],
       "layout": "IPY_MODEL_3bd9e01a73244700b919209400408697"
      }
     },
     "d64f19a034804fa0bc85a7ff9a9dc9ce": {
      "model_module": "@jupyter-widgets/controls",
      "model_module_version": "1.5.0",
      "model_name": "HBoxModel",
      "state": {
       "children": [
        "IPY_MODEL_e5be3ba598b444d5966f72caf7c3be4a",
        "IPY_MODEL_02ec7b03ceb14fd2bdab3e0f2cfe7278",
        "IPY_MODEL_7e5b60268bd94dfcaadea73e7b8b973c"
       ],
       "layout": "IPY_MODEL_e0d473d9b7bd4d23847b01ecc4413fc5"
      }
     },
     "d75d2ed6235d426e9841daf15d66eff2": {
      "model_module": "@jupyter-widgets/base",
      "model_module_version": "1.2.0",
      "model_name": "LayoutModel",
      "state": {}
     },
     "d8e3c00ff5434e9abf501cb6a6a15a6c": {
      "model_module": "@jupyter-widgets/controls",
      "model_module_version": "1.5.0",
      "model_name": "DescriptionStyleModel",
      "state": {
       "description_width": ""
      }
     },
     "d9045f77040647688349b462d2954dae": {
      "model_module": "@jupyter-widgets/controls",
      "model_module_version": "1.5.0",
      "model_name": "HTMLModel",
      "state": {
       "layout": "IPY_MODEL_7472fe57b4104040947d9e3d471e44e1",
       "style": "IPY_MODEL_fc0aec174dbf4688879c06d151ed4cce",
       "value": "Splitting: 100%"
      }
     },
     "da1e9b7a27144b5bab4092e530cc5230": {
      "model_module": "@jupyter-widgets/base",
      "model_module_version": "1.2.0",
      "model_name": "LayoutModel",
      "state": {}
     },
     "db2e39900bec4faab133a5c3fd33598e": {
      "model_module": "@jupyter-widgets/base",
      "model_module_version": "1.2.0",
      "model_name": "LayoutModel",
      "state": {}
     },
     "dd5de6a651dc4140bbc6cc203efcaba8": {
      "model_module": "@jupyter-widgets/controls",
      "model_module_version": "1.5.0",
      "model_name": "DescriptionStyleModel",
      "state": {
       "description_width": ""
      }
     },
     "dd8ce0d07f494769b6dacd5f55d632a0": {
      "model_module": "@jupyter-widgets/base",
      "model_module_version": "1.2.0",
      "model_name": "LayoutModel",
      "state": {}
     },
     "de6c4fb232d147f995a89e7834f035aa": {
      "model_module": "@jupyter-widgets/base",
      "model_module_version": "1.2.0",
      "model_name": "LayoutModel",
      "state": {}
     },
     "decb4616bf714b5b8e097efb78c2deb4": {
      "model_module": "@jupyter-widgets/controls",
      "model_module_version": "1.5.0",
      "model_name": "ProgressStyleModel",
      "state": {
       "description_width": ""
      }
     },
     "df416f09d69242c2b0b59365e0d8e595": {
      "model_module": "@jupyter-widgets/controls",
      "model_module_version": "1.5.0",
      "model_name": "DescriptionStyleModel",
      "state": {
       "description_width": ""
      }
     },
     "df41cb2dcdc742dd91fe09a670f32087": {
      "model_module": "@jupyter-widgets/base",
      "model_module_version": "1.2.0",
      "model_name": "LayoutModel",
      "state": {}
     },
     "e05a78eade8d4d28a8b3dcc3f341a70d": {
      "model_module": "@jupyter-widgets/controls",
      "model_module_version": "1.5.0",
      "model_name": "DescriptionStyleModel",
      "state": {
       "description_width": ""
      }
     },
     "e07e4458cb9646f08290d1fd6313ceac": {
      "model_module": "@jupyter-widgets/base",
      "model_module_version": "1.2.0",
      "model_name": "LayoutModel",
      "state": {}
     },
     "e08476fca13f4c57a123fe0d712249da": {
      "model_module": "@jupyter-widgets/controls",
      "model_module_version": "1.5.0",
      "model_name": "DescriptionStyleModel",
      "state": {
       "description_width": ""
      }
     },
     "e0d473d9b7bd4d23847b01ecc4413fc5": {
      "model_module": "@jupyter-widgets/base",
      "model_module_version": "1.2.0",
      "model_name": "LayoutModel",
      "state": {}
     },
     "e124e6e06af44690950418360e638f3f": {
      "model_module": "@jupyter-widgets/base",
      "model_module_version": "1.2.0",
      "model_name": "LayoutModel",
      "state": {}
     },
     "e250ee1b2ff74ef0be725cdc0d090a50": {
      "model_module": "@jupyter-widgets/controls",
      "model_module_version": "1.5.0",
      "model_name": "DescriptionStyleModel",
      "state": {
       "description_width": ""
      }
     },
     "e2d5eb05977b45589b1d3f273c4611f9": {
      "model_module": "@jupyter-widgets/controls",
      "model_module_version": "1.5.0",
      "model_name": "DescriptionStyleModel",
      "state": {
       "description_width": ""
      }
     },
     "e2fe5171b6e44bd585413af42d28b834": {
      "model_module": "@jupyter-widgets/controls",
      "model_module_version": "1.5.0",
      "model_name": "FloatProgressModel",
      "state": {
       "bar_style": "success",
       "layout": "IPY_MODEL_c9e9154369594ea1b0ffa36a2e7c8694",
       "max": 5,
       "style": "IPY_MODEL_70a5225510c74e69b7635b6cfb257ef8",
       "value": 5
      }
     },
     "e312d323476747a9a7f5169c1805086a": {
      "model_module": "@jupyter-widgets/base",
      "model_module_version": "1.2.0",
      "model_name": "LayoutModel",
      "state": {}
     },
     "e4e4bbfb8aca478aa6542afedb0bac71": {
      "model_module": "@jupyter-widgets/base",
      "model_module_version": "1.2.0",
      "model_name": "LayoutModel",
      "state": {}
     },
     "e52e0c07152e42239a85cca13fc90d85": {
      "model_module": "@jupyter-widgets/controls",
      "model_module_version": "1.5.0",
      "model_name": "HTMLModel",
      "state": {
       "layout": "IPY_MODEL_9afeecae362a4f289b3b7bc30ed441af",
       "style": "IPY_MODEL_264b4e3b1bb741dca8d5de621a45e14e",
       "value": " 30000/30000 [00:05&lt;00:00, 5705.70it/s]"
      }
     },
     "e54278b6003d4b2ba7405bf56b7a630a": {
      "model_module": "@jupyter-widgets/controls",
      "model_module_version": "1.5.0",
      "model_name": "FloatProgressModel",
      "state": {
       "bar_style": "success",
       "layout": "IPY_MODEL_06f56fb0c573491081a665b1cfb97a94",
       "max": 5,
       "style": "IPY_MODEL_8e0bafc4369d4328aef51e4207c0ca3a",
       "value": 5
      }
     },
     "e5be3ba598b444d5966f72caf7c3be4a": {
      "model_module": "@jupyter-widgets/controls",
      "model_module_version": "1.5.0",
      "model_name": "HTMLModel",
      "state": {
       "layout": "IPY_MODEL_f8e305514c2245539e557b2df818360a",
       "style": "IPY_MODEL_70d4bc00a3f34d13978464b15828f8de",
       "value": "100%"
      }
     },
     "e7e607fa60544ef18ee6eb55aeb2b23e": {
      "model_module": "@jupyter-widgets/controls",
      "model_module_version": "1.5.0",
      "model_name": "HTMLModel",
      "state": {
       "layout": "IPY_MODEL_d3d466fbb41841e0a42b9c00af73b272",
       "style": "IPY_MODEL_5cd69ba7daf94a7189ff47ad6c1d9472",
       "value": " 30000/30000 [00:05&lt;00:00, 5969.70it/s]"
      }
     },
     "e8b7771622424c2aa6653f5f68500c9f": {
      "model_module": "@jupyter-widgets/base",
      "model_module_version": "1.2.0",
      "model_name": "LayoutModel",
      "state": {}
     },
     "e94db8f3fbc346be9a6a49ca9a36b352": {
      "model_module": "@jupyter-widgets/base",
      "model_module_version": "1.2.0",
      "model_name": "LayoutModel",
      "state": {}
     },
     "e9611cad9393494aabd86051abe2911b": {
      "model_module": "@jupyter-widgets/base",
      "model_module_version": "1.2.0",
      "model_name": "LayoutModel",
      "state": {}
     },
     "e985ed24a69d44ac8bdc84b047007775": {
      "model_module": "@jupyter-widgets/base",
      "model_module_version": "1.2.0",
      "model_name": "LayoutModel",
      "state": {}
     },
     "e99d6f1fe28a4a079ecfddeeeb3f8729": {
      "model_module": "@jupyter-widgets/base",
      "model_module_version": "1.2.0",
      "model_name": "LayoutModel",
      "state": {}
     },
     "eae72b67c60e4006b602dc38d195cca6": {
      "model_module": "@jupyter-widgets/base",
      "model_module_version": "1.2.0",
      "model_name": "LayoutModel",
      "state": {}
     },
     "eb611d6038d44a27aa43988c1295685d": {
      "model_module": "@jupyter-widgets/controls",
      "model_module_version": "1.5.0",
      "model_name": "HBoxModel",
      "state": {
       "children": [
        "IPY_MODEL_ca9b3792c6804a918dc88f5905317fc5",
        "IPY_MODEL_c68a240201f045a0912a888525fc4fdd",
        "IPY_MODEL_7dfbfc1a74cc4eb884d8ae96da3fdb12"
       ],
       "layout": "IPY_MODEL_0c5f1dcf313747149aa637a5129e2d51"
      }
     },
     "ebc5ec397d5a4ae483e956ef6189394b": {
      "model_module": "@jupyter-widgets/controls",
      "model_module_version": "1.5.0",
      "model_name": "HTMLModel",
      "state": {
       "layout": "IPY_MODEL_db2e39900bec4faab133a5c3fd33598e",
       "style": "IPY_MODEL_37fdf30d48444b3592a4e13f961811cf",
       "value": "100%"
      }
     },
     "ed169192e427477a8171d6ceabbf2476": {
      "model_module": "@jupyter-widgets/base",
      "model_module_version": "1.2.0",
      "model_name": "LayoutModel",
      "state": {}
     },
     "ee7e87571d3b45ff85eafc5f322c8dd7": {
      "model_module": "@jupyter-widgets/base",
      "model_module_version": "1.2.0",
      "model_name": "LayoutModel",
      "state": {}
     },
     "ee7f95b0e2fe4d7780eaeaa59cf865e2": {
      "model_module": "@jupyter-widgets/controls",
      "model_module_version": "1.5.0",
      "model_name": "HTMLModel",
      "state": {
       "layout": "IPY_MODEL_0b58513c193e49bea0be065388ffdfdb",
       "style": "IPY_MODEL_f2a240e60ab4427d8ca3e886418e1c28",
       "value": "  0%"
      }
     },
     "eeb93c18f19b42ac9369d79fb7ad43d7": {
      "model_module": "@jupyter-widgets/controls",
      "model_module_version": "1.5.0",
      "model_name": "HBoxModel",
      "state": {
       "children": [
        "IPY_MODEL_c9ace25e4bae43e2ac6b1b9f73866742",
        "IPY_MODEL_cf65b4ebd2134b87a3b2ac5f3fe031e9",
        "IPY_MODEL_7e6ea10520fe4415bd981512055f55c5"
       ],
       "layout": "IPY_MODEL_36148642b9c643d09eb1b94667a9378d"
      }
     },
     "ef96e12fabae4d86a60f0169c1a0e8a1": {
      "model_module": "@jupyter-widgets/controls",
      "model_module_version": "1.5.0",
      "model_name": "HTMLModel",
      "state": {
       "layout": "IPY_MODEL_789c9d30641841a1a86b7a02b79e0033",
       "style": "IPY_MODEL_34cabdf1d139490f8f4ee03c5ee1373a",
       "value": " 5/5 [00:00&lt;00:00, 144.47it/s]"
      }
     },
     "f1ecd1e81ee645d585a1bf91c1525f9f": {
      "model_module": "@jupyter-widgets/controls",
      "model_module_version": "1.5.0",
      "model_name": "HTMLModel",
      "state": {
       "layout": "IPY_MODEL_8715b0eb98b6471aa99457c90551788d",
       "style": "IPY_MODEL_94bd05c043ca446996a5c639a571e247",
       "value": "100%"
      }
     },
     "f2a240e60ab4427d8ca3e886418e1c28": {
      "model_module": "@jupyter-widgets/controls",
      "model_module_version": "1.5.0",
      "model_name": "DescriptionStyleModel",
      "state": {
       "description_width": ""
      }
     },
     "f33ded4900714707857029005b768370": {
      "model_module": "@jupyter-widgets/controls",
      "model_module_version": "1.5.0",
      "model_name": "DescriptionStyleModel",
      "state": {
       "description_width": ""
      }
     },
     "f3c86b1f515f4ca0ac351be5f9d77f50": {
      "model_module": "@jupyter-widgets/controls",
      "model_module_version": "1.5.0",
      "model_name": "ProgressStyleModel",
      "state": {
       "description_width": ""
      }
     },
     "f3cdc8c6ac014c57a76740fdb87137b3": {
      "model_module": "@jupyter-widgets/controls",
      "model_module_version": "1.5.0",
      "model_name": "ProgressStyleModel",
      "state": {
       "description_width": ""
      }
     },
     "f3f15933bff74b99a80956323d5cdcc5": {
      "model_module": "@jupyter-widgets/controls",
      "model_module_version": "1.5.0",
      "model_name": "HTMLModel",
      "state": {
       "layout": "IPY_MODEL_df41cb2dcdc742dd91fe09a670f32087",
       "style": "IPY_MODEL_a85dc7b69ee246df9bdac1b5b9cdaacb",
       "value": " 5/5 [00:00&lt;00:00, 61.90it/s]"
      }
     },
     "f46917bfd7404c20a27e8666a79117e8": {
      "model_module": "@jupyter-widgets/controls",
      "model_module_version": "1.5.0",
      "model_name": "HTMLModel",
      "state": {
       "layout": "IPY_MODEL_d2a0e8ba1c1b43e09010b691297d970d",
       "style": "IPY_MODEL_80485b1bb7ec4eeabb12a0b11eee9bea",
       "value": " 5/5 [00:00&lt;00:00, 90.04it/s]"
      }
     },
     "f4af13158a7c419fb9e2644a577d7742": {
      "model_module": "@jupyter-widgets/controls",
      "model_module_version": "1.5.0",
      "model_name": "ProgressStyleModel",
      "state": {
       "description_width": ""
      }
     },
     "f4afc58569064472a54302c095fd4988": {
      "model_module": "@jupyter-widgets/base",
      "model_module_version": "1.2.0",
      "model_name": "LayoutModel",
      "state": {}
     },
     "f53047782cab4f80b78ca41185cd0765": {
      "model_module": "@jupyter-widgets/controls",
      "model_module_version": "1.5.0",
      "model_name": "FloatProgressModel",
      "state": {
       "bar_style": "success",
       "layout": "IPY_MODEL_8fa3d0f9a0fd4fc4b4c261043a698bab",
       "max": 5,
       "style": "IPY_MODEL_70bf21a182404dc6a05140b0aee6d9e0",
       "value": 5
      }
     },
     "f5409d567ba7421d8d6864871424e038": {
      "model_module": "@jupyter-widgets/controls",
      "model_module_version": "1.5.0",
      "model_name": "HBoxModel",
      "state": {
       "children": [
        "IPY_MODEL_cdc35083c2b64f58801f9e3476c6c0a3",
        "IPY_MODEL_2bf61289d3d442faa7c4c19c6747877d",
        "IPY_MODEL_ce31ab8354f34846b321230b0baa60fe"
       ],
       "layout": "IPY_MODEL_8c6a3114800b4391b736892904be2866"
      }
     },
     "f57b45d487814953902920a8f3634b90": {
      "model_module": "@jupyter-widgets/controls",
      "model_module_version": "1.5.0",
      "model_name": "FloatProgressModel",
      "state": {
       "bar_style": "success",
       "layout": "IPY_MODEL_92d188585408411e87e114b9858ec05e",
       "max": 5,
       "style": "IPY_MODEL_30ee051f19c84c7085940f549ed5d25f",
       "value": 5
      }
     },
     "f5a690a0ddfd4bce8d5c9398e572ec48": {
      "model_module": "@jupyter-widgets/base",
      "model_module_version": "1.2.0",
      "model_name": "LayoutModel",
      "state": {}
     },
     "f5bc828306da41f0b52ecd567a443c0b": {
      "model_module": "@jupyter-widgets/controls",
      "model_module_version": "1.5.0",
      "model_name": "HTMLModel",
      "state": {
       "layout": "IPY_MODEL_195a371bc66944a191203eb708c86cf1",
       "style": "IPY_MODEL_b67088f9d4154b158987ec3cd51bd626",
       "value": "100%"
      }
     },
     "f5c0341dae554a8dbb0fc7093f43482d": {
      "model_module": "@jupyter-widgets/base",
      "model_module_version": "1.2.0",
      "model_name": "LayoutModel",
      "state": {}
     },
     "f67d5f44ff454b699c06818398a4d3ed": {
      "model_module": "@jupyter-widgets/controls",
      "model_module_version": "1.5.0",
      "model_name": "HBoxModel",
      "state": {
       "children": [
        "IPY_MODEL_560fc935aee842c8b73aa74aff6acd7d",
        "IPY_MODEL_e2fe5171b6e44bd585413af42d28b834",
        "IPY_MODEL_18a37ee948204cc780d1784882ca0e88"
       ],
       "layout": "IPY_MODEL_d75d2ed6235d426e9841daf15d66eff2"
      }
     },
     "f7ca1459b4f8485b9d6362e8a6e82722": {
      "model_module": "@jupyter-widgets/controls",
      "model_module_version": "1.5.0",
      "model_name": "FloatProgressModel",
      "state": {
       "bar_style": "danger",
       "layout": "IPY_MODEL_64f78e4de59b47279651ced9f62a1eef",
       "max": 5,
       "style": "IPY_MODEL_0a54dbda81934f15976dc717595f1ed5"
      }
     },
     "f7e89f9f1a804c80b41e62fdfb39d6c3": {
      "model_module": "@jupyter-widgets/base",
      "model_module_version": "1.2.0",
      "model_name": "LayoutModel",
      "state": {}
     },
     "f8e305514c2245539e557b2df818360a": {
      "model_module": "@jupyter-widgets/base",
      "model_module_version": "1.2.0",
      "model_name": "LayoutModel",
      "state": {}
     },
     "f8f27c8a7d914adc8a8e3f0b9112e397": {
      "model_module": "@jupyter-widgets/controls",
      "model_module_version": "1.5.0",
      "model_name": "HBoxModel",
      "state": {
       "children": [
        "IPY_MODEL_06c8666dcea644dba679554204316176",
        "IPY_MODEL_54282c05843144ed91f3eae14ca12bbb",
        "IPY_MODEL_6f43f03dbc8d433da3eab3d0aa59fbc4"
       ],
       "layout": "IPY_MODEL_42b1a4cd6b5846a9958d2fc3b0412e6c"
      }
     },
     "f9ec4641f56041dd8f1161679c9194a5": {
      "model_module": "@jupyter-widgets/controls",
      "model_module_version": "1.5.0",
      "model_name": "HBoxModel",
      "state": {
       "children": [
        "IPY_MODEL_8fc308676b454e1bbb6f28b4cb46f55a",
        "IPY_MODEL_8ff9cdd1e08d43c7b18587c4f3509856",
        "IPY_MODEL_26d12840a07e4dc4a055ad7363d2481b"
       ],
       "layout": "IPY_MODEL_695e0e7512e04dd0a60a8bdca61e2f30"
      }
     },
     "f9f73c6d834747939d98241faf6244ca": {
      "model_module": "@jupyter-widgets/controls",
      "model_module_version": "1.5.0",
      "model_name": "FloatProgressModel",
      "state": {
       "bar_style": "success",
       "layout": "IPY_MODEL_d3d8143e394d41b88969a8f8fcfd890b",
       "max": 5,
       "style": "IPY_MODEL_c15fb0caa123414d8af93e21e71027ad",
       "value": 5
      }
     },
     "fa39809959f64a17b49062778a5e05b6": {
      "model_module": "@jupyter-widgets/controls",
      "model_module_version": "1.5.0",
      "model_name": "HBoxModel",
      "state": {
       "children": [
        "IPY_MODEL_ee7f95b0e2fe4d7780eaeaa59cf865e2",
        "IPY_MODEL_f7ca1459b4f8485b9d6362e8a6e82722",
        "IPY_MODEL_625c54e1cda74cff9106eeece8fa2243"
       ],
       "layout": "IPY_MODEL_0830e959c3844a4ebb8e04c0b2f2a520"
      }
     },
     "fa3b85a80f044e4d896135c4796f7154": {
      "model_module": "@jupyter-widgets/controls",
      "model_module_version": "1.5.0",
      "model_name": "FloatProgressModel",
      "state": {
       "bar_style": "success",
       "layout": "IPY_MODEL_f7e89f9f1a804c80b41e62fdfb39d6c3",
       "max": 5,
       "style": "IPY_MODEL_11f66b534f7d4e7a9b62145353c3bec9",
       "value": 5
      }
     },
     "fb337321518c4669ab24ec7f2182396b": {
      "model_module": "@jupyter-widgets/controls",
      "model_module_version": "1.5.0",
      "model_name": "ProgressStyleModel",
      "state": {
       "description_width": ""
      }
     },
     "fb8301d63a7b489d81e468fa110bfdbb": {
      "model_module": "@jupyter-widgets/controls",
      "model_module_version": "1.5.0",
      "model_name": "ProgressStyleModel",
      "state": {
       "description_width": ""
      }
     },
     "fc0aec174dbf4688879c06d151ed4cce": {
      "model_module": "@jupyter-widgets/controls",
      "model_module_version": "1.5.0",
      "model_name": "DescriptionStyleModel",
      "state": {
       "description_width": ""
      }
     },
     "fc7e1a0cb22b4c66b5704e61e68992b7": {
      "model_module": "@jupyter-widgets/base",
      "model_module_version": "1.2.0",
      "model_name": "LayoutModel",
      "state": {}
     },
     "fdb65e7b8fd747fdb90f436ee0572794": {
      "model_module": "@jupyter-widgets/controls",
      "model_module_version": "1.5.0",
      "model_name": "ProgressStyleModel",
      "state": {
       "description_width": ""
      }
     },
     "fe317041eab34ec8bc33a6675819c409": {
      "model_module": "@jupyter-widgets/controls",
      "model_module_version": "1.5.0",
      "model_name": "HTMLModel",
      "state": {
       "layout": "IPY_MODEL_616703ed18a74dacbd09f3d7d3a70e4a",
       "style": "IPY_MODEL_7e04083b2b8048598436ea8dea2411d8",
       "value": " 5/5 [00:00&lt;00:00, 147.43it/s]"
      }
     },
     "fe582883218c4cc99c70ddbbbcae8625": {
      "model_module": "@jupyter-widgets/base",
      "model_module_version": "1.2.0",
      "model_name": "LayoutModel",
      "state": {}
     },
     "fe89a95fb56d4e538a26044f0b678616": {
      "model_module": "@jupyter-widgets/controls",
      "model_module_version": "1.5.0",
      "model_name": "FloatProgressModel",
      "state": {
       "bar_style": "success",
       "layout": "IPY_MODEL_1bf1805329e641c9a70cdac0612a2961",
       "max": 30000,
       "style": "IPY_MODEL_501adbe0d47442749b548af1b3523934",
       "value": 30000
      }
     }
    },
    "version_major": 2,
    "version_minor": 0
   }
  }
 },
 "nbformat": 4,
 "nbformat_minor": 5
}
