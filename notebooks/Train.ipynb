{
 "cells": [
  {
   "cell_type": "markdown",
   "id": "funded-surrey",
   "metadata": {},
   "source": [
    "<div class=\"alert alert-block alert-info\" style='text-align:center'>\n",
    "    Experiment begins here\n",
    "</div>\n",
    "\n",
    "# Notebook structure\n",
    "1. [Packages used](#Import-packages)\n",
    "2. [Some utilities](#Some-utilities)\n",
    "3. [Dataset management](#Dataset)\n",
    "4. [Modeling](#Modeling)\n",
    "5. [Training pipeline](#Training-pipeline)\n",
    "6. [Prediction time](#Prediction-time)"
   ]
  },
  {
   "cell_type": "markdown",
   "id": "detailed-japanese",
   "metadata": {},
   "source": [
    "## Import packages"
   ]
  },
  {
   "cell_type": "code",
   "execution_count": 1,
   "id": "terminal-postcard",
   "metadata": {},
   "outputs": [],
   "source": [
    "import sys\n",
    "sys.path.append('../scripts')"
   ]
  },
  {
   "cell_type": "code",
   "execution_count": 2,
   "id": "eastern-score",
   "metadata": {},
   "outputs": [],
   "source": [
    "import warnings\n",
    "\n",
    "warnings.filterwarnings(action='ignore')"
   ]
  },
  {
   "cell_type": "code",
   "execution_count": 3,
   "id": "temporal-croatia",
   "metadata": {},
   "outputs": [],
   "source": [
    "from dataset import DataSet, DataModule\n",
    "from model import Model, Model1\n",
    "from utils import ramp_scheduler\n",
    "from config import Config\n",
    "\n",
    "import matplotlib.pyplot as plt\n",
    "import numpy as np\n",
    "import pandas as pd\n",
    "import os\n",
    "\n",
    "import torch as th\n",
    "\n",
    "import pytorch_lightning as pl\n",
    "from pytorch_lightning import seed_everything, Trainer\n",
    "from pytorch_lightning.callbacks import ModelCheckpoint, GPUStatsMonitor, EarlyStopping\n",
    "from pytorch_lightning.loggers import TensorBoardLogger\n",
    "\n",
    "from sklearn.utils.class_weight import compute_class_weight\n",
    "\n",
    "from tqdm.notebook import tqdm\n",
    "\n",
    "from transformers import AutoTokenizer"
   ]
  },
  {
   "cell_type": "markdown",
   "id": "liberal-worker",
   "metadata": {},
   "source": [
    "## Some utilities"
   ]
  },
  {
   "cell_type": "code",
   "execution_count": 4,
   "id": "standard-bracket",
   "metadata": {},
   "outputs": [
    {
     "name": "stderr",
     "output_type": "stream",
     "text": [
      "Global seed set to 2021\n"
     ]
    }
   ],
   "source": [
    "_ = seed_everything(Config.seed_value)"
   ]
  },
  {
   "cell_type": "code",
   "execution_count": 5,
   "id": "raising-power",
   "metadata": {},
   "outputs": [],
   "source": [
    "epochs = [x for x in range(100)]\n",
    "lrs = [ramp_scheduler(epoch = x) for x in epochs]"
   ]
  },
  {
   "cell_type": "code",
   "execution_count": 6,
   "id": "aggregate-accident",
   "metadata": {},
   "outputs": [
    {
     "data": {
      "image/png": "[encoded data removed]",
      "text/plain": [
       "<Figure size 432x288 with 1 Axes>"
      ]
     },
     "metadata": {
      "needs_background": "light"
     },
     "output_type": "display_data"
    }
   ],
   "source": [
    "plt.title('LR Scheduler function')\n",
    "plt.plot(epochs, lrs)\n",
    "plt.xlabel('epoch')\n",
    "plt.ylabel('learning rate')\n",
    "\n",
    "plt.show()"
   ]
  },
  {
   "cell_type": "markdown",
   "id": "formal-airline",
   "metadata": {},
   "source": [
    "<div class=\"alert alert-block alert-info\" style='text-align:center' id=\"Dataset\">\n",
    "   Dataset\n",
    "</div>"
   ]
  },
  {
   "cell_type": "code",
   "execution_count": 7,
   "id": "loaded-cabinet",
   "metadata": {},
   "outputs": [
    {
     "data": {
      "text/html": [
       "<div>\n",
       "<style scoped>\n",
       "    .dataframe tbody tr th:only-of-type {\n",
       "        vertical-align: middle;\n",
       "    }\n",
       "\n",
       "    .dataframe tbody tr th {\n",
       "        vertical-align: top;\n",
       "    }\n",
       "\n",
       "    .dataframe thead th {\n",
       "        text-align: right;\n",
       "    }\n",
       "</style>\n",
       "<table border=\"1\" class=\"dataframe\">\n",
       "  <thead>\n",
       "    <tr style=\"text-align: right;\">\n",
       "      <th></th>\n",
       "      <th>ID</th>\n",
       "      <th>text</th>\n",
       "      <th>label</th>\n",
       "      <th>fold</th>\n",
       "    </tr>\n",
       "  </thead>\n",
       "  <tbody>\n",
       "    <tr>\n",
       "      <th>0</th>\n",
       "      <td>13P0QT0</td>\n",
       "      <td>3sbaaaaaaaaaaaaaaaaaaaa lek ou le seim riahi o...</td>\n",
       "      <td>-1</td>\n",
       "      <td>7</td>\n",
       "    </tr>\n",
       "    <tr>\n",
       "      <th>1</th>\n",
       "      <td>SKCLXCJ</td>\n",
       "      <td>cha3eb fey9elkoum menghir ta7ayoul ou kressi</td>\n",
       "      <td>-1</td>\n",
       "      <td>9</td>\n",
       "    </tr>\n",
       "    <tr>\n",
       "      <th>2</th>\n",
       "      <td>V1TVXIJ</td>\n",
       "      <td>bereau degage nathef ya slim walahi ya7chiw fi...</td>\n",
       "      <td>-1</td>\n",
       "      <td>7</td>\n",
       "    </tr>\n",
       "    <tr>\n",
       "      <th>3</th>\n",
       "      <td>U0TTYY8</td>\n",
       "      <td>ak slouma</td>\n",
       "      <td>1</td>\n",
       "      <td>6</td>\n",
       "    </tr>\n",
       "    <tr>\n",
       "      <th>4</th>\n",
       "      <td>68DX797</td>\n",
       "      <td>entom titmanou lina a7na 3iid moubarik a7na ch...</td>\n",
       "      <td>-1</td>\n",
       "      <td>4</td>\n",
       "    </tr>\n",
       "  </tbody>\n",
       "</table>\n",
       "</div>"
      ],
      "text/plain": [
       "        ID                                               text  label  fold\n",
       "0  13P0QT0  3sbaaaaaaaaaaaaaaaaaaaa lek ou le seim riahi o...     -1     7\n",
       "1  SKCLXCJ       cha3eb fey9elkoum menghir ta7ayoul ou kressi     -1     9\n",
       "2  V1TVXIJ  bereau degage nathef ya slim walahi ya7chiw fi...     -1     7\n",
       "3  U0TTYY8                                          ak slouma      1     6\n",
       "4  68DX797  entom titmanou lina a7na 3iid moubarik a7na ch...     -1     4"
      ]
     },
     "execution_count": 7,
     "metadata": {},
     "output_type": "execute_result"
    }
   ],
   "source": [
    "train_df = pd.read_csv(os.path.join(Config.data_dir, 'Train_10_folds.csv'))\n",
    "train_df.head()"
   ]
  },
  {
   "cell_type": "code",
   "execution_count": 8,
   "id": "closing-survival",
   "metadata": {},
   "outputs": [
    {
     "name": "stdout",
     "output_type": "stream",
     "text": [
      "[INFO] Training on 59500 samples belonging to 3 classes\n",
      "[INFO] Validating on 10500 samples belonging to 3 classes\n",
      "CPU times: user 397 ms, sys: 43.1 ms, total: 440 ms\n",
      "Wall time: 10.4 s\n"
     ]
    }
   ],
   "source": [
    "%%time\n",
    "dm = DataModule(\n",
    "    df=train_df,\n",
    "    frac=1,\n",
    "    train_batch_size= Config.train_batch_size,\n",
    "    test_batch_size= Config.test_batch_size,\n",
    "    test_size = .15\n",
    ")\n",
    "\n",
    "dm.setup()"
   ]
  },
  {
   "cell_type": "markdown",
   "id": "august-mobility",
   "metadata": {},
   "source": [
    "## Model part"
   ]
  },
  {
   "cell_type": "markdown",
   "id": "seven-flexibility",
   "metadata": {},
   "source": [
    "<div class=\"alert alert-block alert-info\" style='text-align:center' id=\"Modeling\">\n",
    "   Modeling\n",
    "</div>"
   ]
  },
  {
   "cell_type": "markdown",
   "id": "normal-trading",
   "metadata": {},
   "source": [
    "### 1- Class weights computation"
   ]
  },
  {
   "cell_type": "code",
   "execution_count": 9,
   "id": "failing-bidding",
   "metadata": {},
   "outputs": [
    {
     "name": "stdout",
     "output_type": "stream",
     "text": [
      "CPU times: user 13.1 ms, sys: 0 ns, total: 13.1 ms\n",
      "Wall time: 12.6 ms\n"
     ]
    },
    {
     "data": {
      "text/plain": [
       "tensor([0.7965, 0.6102, 9.4620])"
      ]
     },
     "execution_count": 9,
     "metadata": {},
     "output_type": "execute_result"
    }
   ],
   "source": [
    "%%time\n",
    "\n",
    "# compute class weights\n",
    "class_w = compute_class_weight(\n",
    "    class_weight='balanced', \n",
    "    classes=train_df.label.unique(), \n",
    "    y=train_df.label.values\n",
    ")\n",
    "class_w = th.from_numpy(class_w).float()\n",
    "class_w"
   ]
  },
  {
   "cell_type": "markdown",
   "id": "acting-method",
   "metadata": {},
   "source": [
    "### 2- Model definition"
   ]
  },
  {
   "cell_type": "code",
   "execution_count": 10,
   "id": "korean-montana",
   "metadata": {
    "scrolled": true,
    "tags": []
   },
   "outputs": [
    {
     "name": "stdout",
     "output_type": "stream",
     "text": [
      "GRU(100, 300, num_layers=3, batch_first=True, dropout=0.2, bidirectional=True)\n",
      "Linear(in_features=600, out_features=3, bias=True)\n",
      "CPU times: user 398 ms, sys: 28.8 ms, total: 427 ms\n",
      "Wall time: 6.16 s\n"
     ]
    }
   ],
   "source": [
    "%%time\n",
    "\n",
    "tokenizer = AutoTokenizer.from_pretrained(Config.base_model)\n",
    "\n",
    "# define model\n",
    "model = Model1(\n",
    "    class_w=None,\n",
    "    tokenizer=tokenizer\n",
    ")\n",
    "\n",
    "print(model.encoder)\n",
    "try:\n",
    "    print(model.decoder)\n",
    "except:\n",
    "    print(model.classifier)\n"
   ]
  },
  {
   "cell_type": "markdown",
   "id": "sexual-crest",
   "metadata": {},
   "source": [
    "## Training config/setup"
   ]
  },
  {
   "cell_type": "markdown",
   "id": "warming-algeria",
   "metadata": {},
   "source": [
    "<div class=\"alert alert-block alert-info\" style='text-align:center' id=\"Training-pipeline\">\n",
    "   Training pipeline\n",
    "</div>"
   ]
  },
  {
   "cell_type": "markdown",
   "id": "centered-granny",
   "metadata": {},
   "source": [
    "### 1- Calbacks definition"
   ]
  },
  {
   "cell_type": "code",
   "execution_count": 11,
   "id": "adolescent-spoke",
   "metadata": {},
   "outputs": [],
   "source": [
    "model_ckpt = ModelCheckpoint(\n",
    "    filename=os.path.join(\n",
    "        Config.models_dir, f\"arabizi-sentiments-{Config.base_model}\"),\n",
    "    monitor='val_acc',\n",
    "    mode=\"max\"\n",
    ")\n",
    "es = EarlyStopping(\n",
    "    monitor='val_acc',\n",
    "    patience=10,\n",
    "    mode=\"max\"\n",
    ")\n",
    "gpu_stats = GPUStatsMonitor(\n",
    "    memory_utilization=True,\n",
    "    gpu_utilization=True,\n",
    "    intra_step_time=False,\n",
    "    inter_step_time=False,\n",
    "    fan_speed=True,\n",
    "    temperature=True,\n",
    ")\n",
    "\n",
    "callbacks_list = [es, model_ckpt, gpu_stats]\n"
   ]
  },
  {
   "cell_type": "markdown",
   "id": "plain-chain",
   "metadata": {},
   "source": [
    "### 2- Logger definition"
   ]
  },
  {
   "cell_type": "code",
   "execution_count": 12,
   "id": "transparent-invasion",
   "metadata": {},
   "outputs": [],
   "source": [
    "version = int(sorted(os.listdir(os.path.join(Config.logs_dir, 'zindi-arabizi')))[-1].split('_')[-1]) +1\n",
    "\n",
    "tb_logger = TensorBoardLogger(\n",
    "    save_dir=Config.logs_dir,\n",
    "    name='zindi-arabizi',\n",
    "    default_hp_metric=False\n",
    ")\n",
    "# save experiment config\n",
    "\n",
    "with open(os.path.join(Config.logs_dir, 'zindi-arabizi',f'conf-exp-{version}.txt'), 'w') as conf:\n",
    "    conf.write(f'================== Config file version {version} ===================\\n\\n')\n",
    "    d = dict(Config.__dict__)\n",
    "    conf_dict = {k:d[k] for k in d.keys() if '__' not in k}\n",
    "    \n",
    "    for k in conf_dict:\n",
    "        v = conf_dict[k]\n",
    "        conf.write(f'{k} : {v}\\n')\n",
    "    "
   ]
  },
  {
   "cell_type": "markdown",
   "id": "thorough-manor",
   "metadata": {},
   "source": [
    "### 3- Trainer definition"
   ]
  },
  {
   "cell_type": "code",
   "execution_count": 13,
   "id": "present-tactics",
   "metadata": {},
   "outputs": [
    {
     "name": "stderr",
     "output_type": "stream",
     "text": [
      "GPU available: True, used: True\n",
      "TPU available: None, using: 0 TPU cores\n"
     ]
    }
   ],
   "source": [
    "trainer = Trainer(\n",
    "    logger=tb_logger, \n",
    "    checkpoint_callback=True, \n",
    "    gpus=1,\n",
    "    # fast_dev_run=True,\n",
    "    min_epochs=2,\n",
    "    max_epochs=Config.num_epochs,\n",
    "    precision=32,\n",
    "    callbacks=callbacks_list\n",
    ")"
   ]
  },
  {
   "cell_type": "markdown",
   "id": "young-moore",
   "metadata": {},
   "source": [
    "<div class=\"alert alert-block alert-info\" style='text-align:center' id=\"Training-job\">\n",
    "   Training job\n",
    "</div>"
   ]
  },
  {
   "cell_type": "code",
   "execution_count": null,
   "id": "union-password",
   "metadata": {},
   "outputs": [
    {
     "name": "stderr",
     "output_type": "stream",
     "text": [
      "\n",
      "  | Name       | Type      | Params\n",
      "-----------------------------------------\n",
      "0 | embedding  | Embedding | 12.0 M\n",
      "1 | encoder    | GRU       | 4.0 M \n",
      "2 | classifier | Linear    | 1.8 K \n",
      "3 | dropout    | Dropout   | 0     \n",
      "-----------------------------------------\n",
      "15.9 M    Trainable params\n",
      "0         Non-trainable params\n",
      "15.9 M    Total params\n",
      "63.710    Total estimated model params size (MB)\n"
     ]
    },
    {
     "data": {
      "application/vnd.jupyter.widget-view+json": {
       "model_id": "",
       "version_major": 2,
       "version_minor": 0
      },
      "text/plain": [
       "Validation sanity check: 0it [00:00, ?it/s]"
      ]
     },
     "metadata": {},
     "output_type": "display_data"
    },
    {
     "data": {
      "application/vnd.jupyter.widget-view+json": {
       "model_id": "80adb244c91a4abf85a19a9a4b9fd90b",
       "version_major": 2,
       "version_minor": 0
      },
      "text/plain": [
       "Training: 0it [00:00, ?it/s]"
      ]
     },
     "metadata": {},
     "output_type": "display_data"
    },
    {
     "data": {
      "application/vnd.jupyter.widget-view+json": {
       "model_id": "",
       "version_major": 2,
       "version_minor": 0
      },
      "text/plain": [
       "Validating: 0it [00:00, ?it/s]"
      ]
     },
     "metadata": {},
     "output_type": "display_data"
    }
   ],
   "source": [
    "trainer.fit(\n",
    "    model=model, \n",
    "    datamodule=dm\n",
    ")"
   ]
  },
  {
   "cell_type": "markdown",
   "id": "printable-birmingham",
   "metadata": {},
   "source": [
    "<div class=\"alert alert-block alert-info\" style='text-align:center' id=\"Prediction-time\">\n",
    "   Prediction time\n",
    "</div>"
   ]
  },
  {
   "cell_type": "code",
   "execution_count": null,
   "id": "intended-prayer",
   "metadata": {},
   "outputs": [],
   "source": []
  }
 ],
 "metadata": {
  "kernelspec": {
   "display_name": "Python 3",
   "language": "python",
   "name": "python3"
  },
  "language_info": {
   "codemirror_mode": {
    "name": "ipython",
    "version": 3
   },
   "file_extension": ".py",
   "mimetype": "text/x-python",
   "name": "python",
   "nbconvert_exporter": "python",
   "pygments_lexer": "ipython3",
   "version": "3.8.8"
  },
  "widgets": {
   "application/vnd.jupyter.widget-state+json": {
    "state": {
     "01e873594b324d0cb2df41dc7a66c8a0": {
      "model_module": "@jupyter-widgets/base",
      "model_module_version": "1.2.0",
      "model_name": "LayoutModel",
      "state": {}
     },
     "03800a7177bb40acbb7ed326eceae2ff": {
      "model_module": "@jupyter-widgets/controls",
      "model_module_version": "1.5.0",
      "model_name": "DescriptionStyleModel",
      "state": {
       "description_width": ""
      }
     },
     "0a5f089f04e7403887e3172a4f8a6f6c": {
      "model_module": "@jupyter-widgets/base",
      "model_module_version": "1.2.0",
      "model_name": "LayoutModel",
      "state": {
       "flex": "2"
      }
     },
     "128f4bb70ade419b9affd422cff0c2b7": {
      "model_module": "@jupyter-widgets/base",
      "model_module_version": "1.2.0",
      "model_name": "LayoutModel",
      "state": {
       "flex": "2"
      }
     },
     "208a06ffc3a946fb985a7bf36877bd46": {
      "model_module": "@jupyter-widgets/base",
      "model_module_version": "1.2.0",
      "model_name": "LayoutModel",
      "state": {}
     },
     "261961d3da434273a855cf7349aadedb": {
      "model_module": "@jupyter-widgets/base",
      "model_module_version": "1.2.0",
      "model_name": "LayoutModel",
      "state": {}
     },
     "3ae56448b3214a7ab3bb0bf66b09f0ce": {
      "model_module": "@jupyter-widgets/base",
      "model_module_version": "1.2.0",
      "model_name": "LayoutModel",
      "state": {
       "display": "inline-flex",
       "flex_flow": "row wrap",
       "width": "100%"
      }
     },
     "43986df3b3fa48c0a61b9e3115bff949": {
      "model_module": "@jupyter-widgets/base",
      "model_module_version": "1.2.0",
      "model_name": "LayoutModel",
      "state": {}
     },
     "56bddd5a389e4d218fe8fd639007b0fc": {
      "model_module": "@jupyter-widgets/controls",
      "model_module_version": "1.5.0",
      "model_name": "HTMLModel",
      "state": {
       "layout": "IPY_MODEL_5c7b7a57ec6c4b38b9cd2edbf7d03de1",
       "style": "IPY_MODEL_ce3baf55fbd146c489259dd4b3a84761",
       "value": "Validation sanity check: 100%"
      }
     },
     "5c7b7a57ec6c4b38b9cd2edbf7d03de1": {
      "model_module": "@jupyter-widgets/base",
      "model_module_version": "1.2.0",
      "model_name": "LayoutModel",
      "state": {}
     },
     "65bbbe7c2f634e829072ac25b4d40652": {
      "model_module": "@jupyter-widgets/controls",
      "model_module_version": "1.5.0",
      "model_name": "HTMLModel",
      "state": {
       "layout": "IPY_MODEL_01e873594b324d0cb2df41dc7a66c8a0",
       "style": "IPY_MODEL_e74c5591189d435d82d90cee2c81c817",
       "value": "Epoch 1:   3%"
      }
     },
     "68a5cea9131f4f90a5eb1fc92a8a3d75": {
      "model_module": "@jupyter-widgets/controls",
      "model_module_version": "1.5.0",
      "model_name": "HTMLModel",
      "state": {
       "layout": "IPY_MODEL_208a06ffc3a946fb985a7bf36877bd46",
       "style": "IPY_MODEL_03800a7177bb40acbb7ed326eceae2ff",
       "value": "Validating: 100%"
      }
     },
     "80adb244c91a4abf85a19a9a4b9fd90b": {
      "model_module": "@jupyter-widgets/controls",
      "model_module_version": "1.5.0",
      "model_name": "HBoxModel",
      "state": {
       "children": [
        "IPY_MODEL_65bbbe7c2f634e829072ac25b4d40652",
        "IPY_MODEL_866cd16e8e8e45798746eb80274bb2bc",
        "IPY_MODEL_a24ff434a371414fb921f7b432633082"
       ],
       "layout": "IPY_MODEL_3ae56448b3214a7ab3bb0bf66b09f0ce"
      }
     },
     "85f21c83790c471d9e05f22d783e23db": {
      "model_module": "@jupyter-widgets/controls",
      "model_module_version": "1.5.0",
      "model_name": "DescriptionStyleModel",
      "state": {
       "description_width": ""
      }
     },
     "866cd16e8e8e45798746eb80274bb2bc": {
      "model_module": "@jupyter-widgets/controls",
      "model_module_version": "1.5.0",
      "model_name": "FloatProgressModel",
      "state": {
       "layout": "IPY_MODEL_128f4bb70ade419b9affd422cff0c2b7",
       "max": 138,
       "style": "IPY_MODEL_92c7a291d0774e27bc9444b873ef50e1",
       "value": 4
      }
     },
     "898cc68b7e8b49dd98152bfcb8eb4491": {
      "model_module": "@jupyter-widgets/base",
      "model_module_version": "1.2.0",
      "model_name": "LayoutModel",
      "state": {
       "display": "inline-flex",
       "flex_flow": "row wrap",
       "width": "100%"
      }
     },
     "92c7a291d0774e27bc9444b873ef50e1": {
      "model_module": "@jupyter-widgets/controls",
      "model_module_version": "1.5.0",
      "model_name": "ProgressStyleModel",
      "state": {
       "description_width": ""
      }
     },
     "948655202ade48cca7ad8f1c435cb8e3": {
      "model_module": "@jupyter-widgets/controls",
      "model_module_version": "1.5.0",
      "model_name": "ProgressStyleModel",
      "state": {
       "description_width": ""
      }
     },
     "a1836906afde46febc323ffad9155918": {
      "model_module": "@jupyter-widgets/base",
      "model_module_version": "1.2.0",
      "model_name": "LayoutModel",
      "state": {
       "display": "inline-flex",
       "flex_flow": "row wrap",
       "width": "100%"
      }
     },
     "a24ff434a371414fb921f7b432633082": {
      "model_module": "@jupyter-widgets/controls",
      "model_module_version": "1.5.0",
      "model_name": "HTMLModel",
      "state": {
       "layout": "IPY_MODEL_43986df3b3fa48c0a61b9e3115bff949",
       "style": "IPY_MODEL_be8977f4c49a46d496f4fb5adf4b955e",
       "value": " 4/138 [00:03&lt;02:05,  1.07it/s, loss=0.605, v_num=6, val_loss=0.608, val_acc=0.730, train_acc_step=0.779, train_acc_epoch=0.677]"
      }
     },
     "be8977f4c49a46d496f4fb5adf4b955e": {
      "model_module": "@jupyter-widgets/controls",
      "model_module_version": "1.5.0",
      "model_name": "DescriptionStyleModel",
      "state": {
       "description_width": ""
      }
     },
     "cc6762dff5b94d56ab401f1192d9a8ae": {
      "model_module": "@jupyter-widgets/base",
      "model_module_version": "1.2.0",
      "model_name": "LayoutModel",
      "state": {}
     },
     "ccac7cdf755d401d92bec819e68b2b04": {
      "model_module": "@jupyter-widgets/controls",
      "model_module_version": "1.5.0",
      "model_name": "ProgressStyleModel",
      "state": {
       "description_width": ""
      }
     },
     "cd7472902c79483fb3cfb0f6683a1d90": {
      "model_module": "@jupyter-widgets/controls",
      "model_module_version": "1.5.0",
      "model_name": "FloatProgressModel",
      "state": {
       "layout": "IPY_MODEL_d4dd240ca9154699b05860a3687268eb",
       "max": 21,
       "style": "IPY_MODEL_948655202ade48cca7ad8f1c435cb8e3",
       "value": 21
      }
     },
     "ce3baf55fbd146c489259dd4b3a84761": {
      "model_module": "@jupyter-widgets/controls",
      "model_module_version": "1.5.0",
      "model_name": "DescriptionStyleModel",
      "state": {
       "description_width": ""
      }
     },
     "d4dd240ca9154699b05860a3687268eb": {
      "model_module": "@jupyter-widgets/base",
      "model_module_version": "1.2.0",
      "model_name": "LayoutModel",
      "state": {
       "flex": "2"
      }
     },
     "ddf2717dffcb4eeb8b08d7d906c5f293": {
      "model_module": "@jupyter-widgets/controls",
      "model_module_version": "1.5.0",
      "model_name": "HTMLModel",
      "state": {
       "layout": "IPY_MODEL_cc6762dff5b94d56ab401f1192d9a8ae",
       "style": "IPY_MODEL_de7d23ae3c1a4824b9e185b219c99996",
       "value": " 2/2 [00:00&lt;00:00,  2.40it/s]"
      }
     },
     "de7d23ae3c1a4824b9e185b219c99996": {
      "model_module": "@jupyter-widgets/controls",
      "model_module_version": "1.5.0",
      "model_name": "DescriptionStyleModel",
      "state": {
       "description_width": ""
      }
     },
     "e74c5591189d435d82d90cee2c81c817": {
      "model_module": "@jupyter-widgets/controls",
      "model_module_version": "1.5.0",
      "model_name": "DescriptionStyleModel",
      "state": {
       "description_width": ""
      }
     },
     "f76bee2cb7344796995834a2761576b4": {
      "model_module": "@jupyter-widgets/controls",
      "model_module_version": "1.5.0",
      "model_name": "HTMLModel",
      "state": {
       "layout": "IPY_MODEL_261961d3da434273a855cf7349aadedb",
       "style": "IPY_MODEL_85f21c83790c471d9e05f22d783e23db",
       "value": " 21/21 [00:05&lt;00:00,  4.72it/s]"
      }
     },
     "faef16db3856471d84c7f441332638c8": {
      "model_module": "@jupyter-widgets/controls",
      "model_module_version": "1.5.0",
      "model_name": "FloatProgressModel",
      "state": {
       "layout": "IPY_MODEL_0a5f089f04e7403887e3172a4f8a6f6c",
       "max": 2,
       "style": "IPY_MODEL_ccac7cdf755d401d92bec819e68b2b04",
       "value": 2
      }
     }
    },
    "version_major": 2,
    "version_minor": 0
   }
  }
 },
 "nbformat": 4,
 "nbformat_minor": 5
}
