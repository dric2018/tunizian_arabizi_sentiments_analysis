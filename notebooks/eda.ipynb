{
 "cells": [
  {
   "cell_type": "markdown",
   "id": "prompt-algeria",
   "metadata": {},
   "source": [
    "# Exploratory Data Analysis"
   ]
  },
  {
   "cell_type": "markdown",
   "id": "registered-topic",
   "metadata": {},
   "source": [
    "### Description\n",
    "\n",
    "* Arabizi is a combination of english and arabic languages making arabic \"izi\" for communicatiopn over internet."
   ]
  },
  {
   "cell_type": "code",
   "execution_count": 1,
   "id": "cooperative-mortality",
   "metadata": {},
   "outputs": [],
   "source": [
    "import sys \n",
    "sys.path.append('../scripts')"
   ]
  },
  {
   "cell_type": "code",
   "execution_count": 2,
   "id": "seventh-pound",
   "metadata": {},
   "outputs": [],
   "source": [
    "import os\n",
    "import re\n",
    "import pandas as pd\n",
    "import numpy as np\n",
    "from collections import Counter\n",
    "\n",
    "from config import Config\n",
    "from tqdm.auto import tqdm\n",
    "import seaborn as sb\n",
    "import matplotlib.pyplot as plt\n",
    "from utils import remove_repetitions, replace_accents, delete_outliers, show_lengths_distribution, make_folds"
   ]
  },
  {
   "cell_type": "markdown",
   "id": "sweet-significance",
   "metadata": {},
   "source": [
    "### Some statistics"
   ]
  },
  {
   "cell_type": "code",
   "execution_count": 3,
   "id": "annual-conversation",
   "metadata": {},
   "outputs": [],
   "source": [
    "train_df = pd.read_csv(os.path.join(Config.data_dir, 'Train.csv'))\n",
    "test_df = pd.read_csv(os.path.join(Config.data_dir, 'Test.csv'))"
   ]
  },
  {
   "cell_type": "code",
   "execution_count": 4,
   "id": "surrounded-planet",
   "metadata": {},
   "outputs": [
    {
     "data": {
      "text/plain": [
       "100000"
      ]
     },
     "execution_count": 4,
     "metadata": {},
     "output_type": "execute_result"
    }
   ],
   "source": [
    "total_samples = len(train_df) + len(test_df)\n",
    "total_samples"
   ]
  },
  {
   "cell_type": "code",
   "execution_count": 5,
   "id": "emerging-steal",
   "metadata": {},
   "outputs": [
    {
     "data": {
      "text/html": [
       "<div>\n",
       "<style scoped>\n",
       "    .dataframe tbody tr th:only-of-type {\n",
       "        vertical-align: middle;\n",
       "    }\n",
       "\n",
       "    .dataframe tbody tr th {\n",
       "        vertical-align: top;\n",
       "    }\n",
       "\n",
       "    .dataframe thead th {\n",
       "        text-align: right;\n",
       "    }\n",
       "</style>\n",
       "<table border=\"1\" class=\"dataframe\">\n",
       "  <thead>\n",
       "    <tr style=\"text-align: right;\">\n",
       "      <th></th>\n",
       "      <th>count</th>\n",
       "      <th>mean</th>\n",
       "      <th>std</th>\n",
       "      <th>min</th>\n",
       "      <th>25%</th>\n",
       "      <th>50%</th>\n",
       "      <th>75%</th>\n",
       "      <th>max</th>\n",
       "    </tr>\n",
       "  </thead>\n",
       "  <tbody>\n",
       "    <tr>\n",
       "      <th>label</th>\n",
       "      <td>70000.0</td>\n",
       "      <td>0.127771</td>\n",
       "      <td>0.973889</td>\n",
       "      <td>-1.0</td>\n",
       "      <td>-1.0</td>\n",
       "      <td>1.0</td>\n",
       "      <td>1.0</td>\n",
       "      <td>1.0</td>\n",
       "    </tr>\n",
       "  </tbody>\n",
       "</table>\n",
       "</div>"
      ],
      "text/plain": [
       "         count      mean       std  min  25%  50%  75%  max\n",
       "label  70000.0  0.127771  0.973889 -1.0 -1.0  1.0  1.0  1.0"
      ]
     },
     "execution_count": 5,
     "metadata": {},
     "output_type": "execute_result"
    }
   ],
   "source": [
    "train_df.describe().transpose()"
   ]
  },
  {
   "cell_type": "code",
   "execution_count": 6,
   "id": "lovely-equity",
   "metadata": {},
   "outputs": [
    {
     "data": {
      "text/plain": [
       "ID       0\n",
       "text     0\n",
       "label    0\n",
       "dtype: int64"
      ]
     },
     "execution_count": 6,
     "metadata": {},
     "output_type": "execute_result"
    }
   ],
   "source": [
    "train_df.isna().sum()"
   ]
  },
  {
   "cell_type": "code",
   "execution_count": 7,
   "id": "verbal-planner",
   "metadata": {},
   "outputs": [
    {
     "data": {
      "text/plain": [
       "ID      0\n",
       "text    0\n",
       "dtype: int64"
      ]
     },
     "execution_count": 7,
     "metadata": {},
     "output_type": "execute_result"
    }
   ],
   "source": [
    "test_df.isna().sum()"
   ]
  },
  {
   "cell_type": "code",
   "execution_count": 8,
   "id": "revised-shield",
   "metadata": {},
   "outputs": [
    {
     "data": {
      "text/plain": [
       "0"
      ]
     },
     "execution_count": 8,
     "metadata": {},
     "output_type": "execute_result"
    }
   ],
   "source": [
    "train_df.text.duplicated().sum()"
   ]
  },
  {
   "cell_type": "code",
   "execution_count": 9,
   "id": "lucky-stack",
   "metadata": {},
   "outputs": [
    {
     "data": {
      "text/plain": [
       "0"
      ]
     },
     "execution_count": 9,
     "metadata": {},
     "output_type": "execute_result"
    }
   ],
   "source": [
    "test_df.text.duplicated().sum()"
   ]
  },
  {
   "cell_type": "code",
   "execution_count": 10,
   "id": "quiet-router",
   "metadata": {},
   "outputs": [
    {
     "data": {
      "text/html": [
       "<div>\n",
       "<style scoped>\n",
       "    .dataframe tbody tr th:only-of-type {\n",
       "        vertical-align: middle;\n",
       "    }\n",
       "\n",
       "    .dataframe tbody tr th {\n",
       "        vertical-align: top;\n",
       "    }\n",
       "\n",
       "    .dataframe thead th {\n",
       "        text-align: right;\n",
       "    }\n",
       "</style>\n",
       "<table border=\"1\" class=\"dataframe\">\n",
       "  <thead>\n",
       "    <tr style=\"text-align: right;\">\n",
       "      <th></th>\n",
       "      <th>ID</th>\n",
       "      <th>text</th>\n",
       "      <th>label</th>\n",
       "    </tr>\n",
       "  </thead>\n",
       "  <tbody>\n",
       "    <tr>\n",
       "      <th>69995</th>\n",
       "      <td>ZRSR7TZ</td>\n",
       "      <td>pff bayna beli kbira f wejhakk yakhiii rouhi r...</td>\n",
       "      <td>-1</td>\n",
       "    </tr>\n",
       "    <tr>\n",
       "      <th>69996</th>\n",
       "      <td>QNQVEIH</td>\n",
       "      <td>aman lmara jeya zidou t3am9ou fel a7deeth akth...</td>\n",
       "      <td>-1</td>\n",
       "    </tr>\n",
       "    <tr>\n",
       "      <th>69997</th>\n",
       "      <td>LJ2K9MD</td>\n",
       "      <td>winha nakhtabha hhhhh</td>\n",
       "      <td>-1</td>\n",
       "    </tr>\n",
       "    <tr>\n",
       "      <th>69998</th>\n",
       "      <td>5RZ1T7I</td>\n",
       "      <td>fachel enta w houwa</td>\n",
       "      <td>-1</td>\n",
       "    </tr>\n",
       "    <tr>\n",
       "      <th>69999</th>\n",
       "      <td>WZCF7CL</td>\n",
       "      <td>nchla lyouma nesm3ou a5beer bahiya 3la jem3iya</td>\n",
       "      <td>1</td>\n",
       "    </tr>\n",
       "  </tbody>\n",
       "</table>\n",
       "</div>"
      ],
      "text/plain": [
       "            ID                                               text  label\n",
       "69995  ZRSR7TZ  pff bayna beli kbira f wejhakk yakhiii rouhi r...     -1\n",
       "69996  QNQVEIH  aman lmara jeya zidou t3am9ou fel a7deeth akth...     -1\n",
       "69997  LJ2K9MD                              winha nakhtabha hhhhh     -1\n",
       "69998  5RZ1T7I                                fachel enta w houwa     -1\n",
       "69999  WZCF7CL     nchla lyouma nesm3ou a5beer bahiya 3la jem3iya      1"
      ]
     },
     "execution_count": 10,
     "metadata": {},
     "output_type": "execute_result"
    }
   ],
   "source": [
    "train_df.tail()"
   ]
  },
  {
   "cell_type": "code",
   "execution_count": 11,
   "id": "terminal-manor",
   "metadata": {},
   "outputs": [
    {
     "data": {
      "image/png": "[encoded data removed]",
      "text/plain": [
       "<Figure size 432x288 with 1 Axes>"
      ]
     },
     "metadata": {
      "needs_background": "light"
     },
     "output_type": "display_data"
    }
   ],
   "source": [
    "sb.barplot(x=train_df.label.unique(), y=train_df.label.value_counts().tolist(), data=train_df)\n",
    "plt.title('Class distribution', size=16)\n",
    "plt.show()"
   ]
  },
  {
   "cell_type": "code",
   "execution_count": 12,
   "id": "interior-contrary",
   "metadata": {},
   "outputs": [
    {
     "data": {
      "text/plain": [
       "((2466, 3), (29295, 3), (38239, 3))"
      ]
     },
     "execution_count": 12,
     "metadata": {},
     "output_type": "execute_result"
    }
   ],
   "source": [
    "train_df[train_df['label'] == 0].shape, train_df[train_df['label'] == -1].shape, train_df[train_df['label'] == 1].shape"
   ]
  },
  {
   "cell_type": "code",
   "execution_count": 13,
   "id": "conventional-leadership",
   "metadata": {},
   "outputs": [
    {
     "data": {
      "image/png": "[encoded data removed]",
      "text/plain": [
       "<Figure size 1296x432 with 1 Axes>"
      ]
     },
     "metadata": {
      "needs_background": "light"
     },
     "output_type": "display_data"
    }
   ],
   "source": [
    "show_lengths_distribution(data = train_df)"
   ]
  },
  {
   "cell_type": "code",
   "execution_count": 14,
   "id": "latest-dimension",
   "metadata": {},
   "outputs": [
    {
     "data": {
      "text/plain": [
       "140"
      ]
     },
     "execution_count": 14,
     "metadata": {},
     "output_type": "execute_result"
    }
   ],
   "source": [
    "idx = np.random.randint(low=0, high=len(train_df))\n",
    "len(train_df.iloc[idx].text)"
   ]
  },
  {
   "cell_type": "markdown",
   "id": "worst-contrast",
   "metadata": {},
   "source": [
    "# Data Preprocessing\n",
    "\n",
    "The given dataset has :\n",
    "1) many texts with letters that are repeated exaggeratedly. --> limit these repetitions\n",
    "2) many texts with patterns that are repeated exaggeratedly like \"hahahaha\". --> limit these repetitions\n",
    "3) many french words that are known to have accented letters --> replace these letters"
   ]
  },
  {
   "cell_type": "markdown",
   "id": "adaptive-mailing",
   "metadata": {},
   "source": [
    "### Data cleaning"
   ]
  },
  {
   "cell_type": "code",
   "execution_count": 15,
   "id": "simplified-ferry",
   "metadata": {},
   "outputs": [],
   "source": [
    "# example of repeated letters removal\n",
    "str1 = train_df.iloc[0].text + \" 100000 pfffff aaaaaahhh\"\n",
    "str2 = \"kolha z3am kan fl klam wlfe3l yjibou rabby ye5i tawwa fe9tou elli tounes \\\n",
    "f 7aaaaaaala w fa9r w w etc sa777a noum w yezziwna ml klam inty comme un homme d affaire \\\n",
    "ch 9addemt lebladek 9addah mn mawton cho8l fl blayes lmzamra t5addem 9adddah t5allles fl \\\n",
    "3am 3la tharewtk enk tkoun korza moush 3ib mais l3ib lmotajra b nes elli ma tekseb welou\"\n",
    "str3 = \"aymen khamassi mehdi el gaied jed ben aoun mohamed tarres ti bara nayek aala el \\\n",
    "bhema hahahahahahahahahahahahahahahahhahahahahahahahahahahahahahhahahahahahahahahahahahahahahhahahhahahahahhahahahhahahahhahahahhahahahhahahahahhahahahhahaha\"\n",
    "str4 = \"mala karyoyka ach nfid mino lazmo lahrisa fi tiiittttttt\"\n",
    "str5 = 'walah ir bkit hata win nachfou dmou3i rabi ychfikom ya rab ana gariba wda3wat algarib moustajaba yaaaaaaaarab achfihom fi 2'\n"
   ]
  },
  {
   "cell_type": "code",
   "execution_count": 16,
   "id": "olympic-import",
   "metadata": {},
   "outputs": [
    {
     "data": {
      "text/plain": [
       "'aymen khamassi mehdi el gaied jed ben aoun mohamed tarres ti bara nayek l el bhema '"
      ]
     },
     "execution_count": 16,
     "metadata": {},
     "output_type": "execute_result"
    }
   ],
   "source": [
    "remove_repetitions(sequence=replace_accents(text=str3), n_letters_repetitions=2, n_pattern_repetitions=2)"
   ]
  },
  {
   "cell_type": "code",
   "execution_count": 17,
   "id": "attempted-decade",
   "metadata": {},
   "outputs": [
    {
     "name": "stdout",
     "output_type": "stream",
     "text": [
      "CPU times: user 2.58 s, sys: 6.06 ms, total: 2.59 s\n",
      "Wall time: 2.61 s\n"
     ]
    },
    {
     "data": {
      "text/html": [
       "<div>\n",
       "<style scoped>\n",
       "    .dataframe tbody tr th:only-of-type {\n",
       "        vertical-align: middle;\n",
       "    }\n",
       "\n",
       "    .dataframe tbody tr th {\n",
       "        vertical-align: top;\n",
       "    }\n",
       "\n",
       "    .dataframe thead th {\n",
       "        text-align: right;\n",
       "    }\n",
       "</style>\n",
       "<table border=\"1\" class=\"dataframe\">\n",
       "  <thead>\n",
       "    <tr style=\"text-align: right;\">\n",
       "      <th></th>\n",
       "      <th>ID</th>\n",
       "      <th>text</th>\n",
       "      <th>label</th>\n",
       "    </tr>\n",
       "  </thead>\n",
       "  <tbody>\n",
       "    <tr>\n",
       "      <th>0</th>\n",
       "      <td>13P0QT0</td>\n",
       "      <td>3sbaa lek ou le seim riahi ou 3sbaa le ca</td>\n",
       "      <td>-1</td>\n",
       "    </tr>\n",
       "    <tr>\n",
       "      <th>1</th>\n",
       "      <td>SKCLXCJ</td>\n",
       "      <td>cha3eb fey9elkoum menghir ta7ayoul ou kressi</td>\n",
       "      <td>-1</td>\n",
       "    </tr>\n",
       "    <tr>\n",
       "      <th>2</th>\n",
       "      <td>V1TVXIJ</td>\n",
       "      <td>bereau degage nathef ya slim walahi ya7chiw fi...</td>\n",
       "      <td>-1</td>\n",
       "    </tr>\n",
       "    <tr>\n",
       "      <th>3</th>\n",
       "      <td>U0TTYY8</td>\n",
       "      <td>ak slouma</td>\n",
       "      <td>1</td>\n",
       "    </tr>\n",
       "    <tr>\n",
       "      <th>4</th>\n",
       "      <td>68DX797</td>\n",
       "      <td>entom titmanou lina a7na 3iid moubarik a7na ch...</td>\n",
       "      <td>-1</td>\n",
       "    </tr>\n",
       "  </tbody>\n",
       "</table>\n",
       "</div>"
      ],
      "text/plain": [
       "        ID                                               text  label\n",
       "0  13P0QT0          3sbaa lek ou le seim riahi ou 3sbaa le ca     -1\n",
       "1  SKCLXCJ       cha3eb fey9elkoum menghir ta7ayoul ou kressi     -1\n",
       "2  V1TVXIJ  bereau degage nathef ya slim walahi ya7chiw fi...     -1\n",
       "3  U0TTYY8                                          ak slouma      1\n",
       "4  68DX797  entom titmanou lina a7na 3iid moubarik a7na ch...     -1"
      ]
     },
     "execution_count": 17,
     "metadata": {},
     "output_type": "execute_result"
    }
   ],
   "source": [
    "%%time\n",
    "train_df['text'] = train_df['text'].apply(\n",
    "    lambda txt: remove_repetitions(sequence=replace_accents(text=txt), n_letters_repetitions=2, n_pattern_repetitions=2)\n",
    ")\n",
    "train_df.head()"
   ]
  },
  {
   "cell_type": "code",
   "execution_count": 18,
   "id": "upset-network",
   "metadata": {},
   "outputs": [],
   "source": [
    "# SAVE CLEANED_DATA\n",
    "train_df.to_csv(\n",
    "    os.path.join(Config.data_dir, 'cleaned_train.csv'), \n",
    "    index=False\n",
    ")"
   ]
  },
  {
   "cell_type": "markdown",
   "id": "gentle-complexity",
   "metadata": {},
   "source": [
    "## Create dataset for k-folds cross-validation"
   ]
  },
  {
   "cell_type": "code",
   "execution_count": 19,
   "id": "endangered-reality",
   "metadata": {},
   "outputs": [
    {
     "data": {
      "application/vnd.jupyter.widget-view+json": {
       "model_id": "f4e9ec8901d441f7a9906434dab6071f",
       "version_major": 2,
       "version_minor": 0
      },
      "text/plain": [
       "Splitting:   0%|          | 0/5 [00:00<?, ?it/s]"
      ]
     },
     "metadata": {},
     "output_type": "display_data"
    },
    {
     "data": {
      "text/html": [
       "<div>\n",
       "<style scoped>\n",
       "    .dataframe tbody tr th:only-of-type {\n",
       "        vertical-align: middle;\n",
       "    }\n",
       "\n",
       "    .dataframe tbody tr th {\n",
       "        vertical-align: top;\n",
       "    }\n",
       "\n",
       "    .dataframe thead th {\n",
       "        text-align: right;\n",
       "    }\n",
       "</style>\n",
       "<table border=\"1\" class=\"dataframe\">\n",
       "  <thead>\n",
       "    <tr style=\"text-align: right;\">\n",
       "      <th></th>\n",
       "      <th>ID</th>\n",
       "      <th>text</th>\n",
       "      <th>label</th>\n",
       "      <th>fold</th>\n",
       "    </tr>\n",
       "  </thead>\n",
       "  <tbody>\n",
       "    <tr>\n",
       "      <th>69995</th>\n",
       "      <td>ZRSR7TZ</td>\n",
       "      <td>pff bayna beli kbira f wejhakk yakhii rouhi ro...</td>\n",
       "      <td>-1</td>\n",
       "      <td>2</td>\n",
       "    </tr>\n",
       "    <tr>\n",
       "      <th>69996</th>\n",
       "      <td>QNQVEIH</td>\n",
       "      <td>aman lmara jeya zidou t3am9ou fel a7deeth akth...</td>\n",
       "      <td>-1</td>\n",
       "      <td>1</td>\n",
       "    </tr>\n",
       "    <tr>\n",
       "      <th>69997</th>\n",
       "      <td>LJ2K9MD</td>\n",
       "      <td>winha nkhtbh hh</td>\n",
       "      <td>-1</td>\n",
       "      <td>4</td>\n",
       "    </tr>\n",
       "    <tr>\n",
       "      <th>69998</th>\n",
       "      <td>5RZ1T7I</td>\n",
       "      <td>fachel enta w houwa</td>\n",
       "      <td>-1</td>\n",
       "      <td>4</td>\n",
       "    </tr>\n",
       "    <tr>\n",
       "      <th>69999</th>\n",
       "      <td>WZCF7CL</td>\n",
       "      <td>nchla lyouma nesm3ou a5beer bahiya 3la jem3iya</td>\n",
       "      <td>1</td>\n",
       "      <td>4</td>\n",
       "    </tr>\n",
       "  </tbody>\n",
       "</table>\n",
       "</div>"
      ],
      "text/plain": [
       "            ID                                               text  label  fold\n",
       "69995  ZRSR7TZ  pff bayna beli kbira f wejhakk yakhii rouhi ro...     -1     2\n",
       "69996  QNQVEIH  aman lmara jeya zidou t3am9ou fel a7deeth akth...     -1     1\n",
       "69997  LJ2K9MD                                    winha nkhtbh hh     -1     4\n",
       "69998  5RZ1T7I                                fachel enta w houwa     -1     4\n",
       "69999  WZCF7CL     nchla lyouma nesm3ou a5beer bahiya 3la jem3iya      1     4"
      ]
     },
     "execution_count": 19,
     "metadata": {},
     "output_type": "execute_result"
    }
   ],
   "source": [
    "dataset, n_folds = make_folds(data=train_df, n_folds=5, preprocess=False, stratified=True)\n",
    "dataset.tail()"
   ]
  },
  {
   "cell_type": "code",
   "execution_count": 20,
   "id": "prostate-fireplace",
   "metadata": {},
   "outputs": [],
   "source": [
    "dataset.to_csv(\n",
    "    os.path.join(Config.data_dir, f'Train_{n_folds}_folds.csv'), \n",
    "    index=False\n",
    ")"
   ]
  },
  {
   "cell_type": "markdown",
   "id": "eligible-functionality",
   "metadata": {},
   "source": [
    "# Visualize splits proportions"
   ]
  },
  {
   "cell_type": "code",
   "execution_count": 65,
   "id": "pregnant-jumping",
   "metadata": {},
   "outputs": [
    {
     "data": {
      "image/png": "[encoded data removed]",
      "text/plain": [
       "<Figure size 1440x576 with 6 Axes>"
      ]
     },
     "metadata": {
      "needs_background": "light"
     },
     "output_type": "display_data"
    }
   ],
   "source": [
    "fig, axes = plt.subplots(ncols=3, nrows=2, figsize=(20, 8))\n",
    "\n",
    "split=0\n",
    "for r in range(2):\n",
    "    for c in range(3):\n",
    "        try:\n",
    "            counts = dataset[dataset['fold'] == split].label.value_counts()\n",
    "            sb.barplot(x=counts.index, y=counts.values, ax=axes[r, c])\n",
    "            axes[r, c].set_title(f'split {split}')\n",
    "            split+=1\n",
    "        except:\n",
    "            pass\n",
    "        "
   ]
  },
  {
   "cell_type": "code",
   "execution_count": null,
   "id": "rapid-baking",
   "metadata": {},
   "outputs": [],
   "source": []
  }
 ],
 "metadata": {
  "kernelspec": {
   "display_name": "Python 3",
   "language": "python",
   "name": "python3"
  },
  "language_info": {
   "codemirror_mode": {
    "name": "ipython",
    "version": 3
   },
   "file_extension": ".py",
   "mimetype": "text/x-python",
   "name": "python",
   "nbconvert_exporter": "python",
   "pygments_lexer": "ipython3",
   "version": "3.8.8"
  },
  "widgets": {
   "application/vnd.jupyter.widget-state+json": {
    "state": {
     "1bab13ceaca74157905a2d015eee9815": {
      "model_module": "@jupyter-widgets/base",
      "model_module_version": "1.2.0",
      "model_name": "LayoutModel",
      "state": {}
     },
     "3867f02299484227bee80095c34ac77a": {
      "model_module": "@jupyter-widgets/base",
      "model_module_version": "1.2.0",
      "model_name": "LayoutModel",
      "state": {}
     },
     "4ddc6c7eaae246949200553d3b2579d1": {
      "model_module": "@jupyter-widgets/controls",
      "model_module_version": "1.5.0",
      "model_name": "DescriptionStyleModel",
      "state": {
       "description_width": ""
      }
     },
     "53b617cf971440a2b3da5ebb6360b27e": {
      "model_module": "@jupyter-widgets/controls",
      "model_module_version": "1.5.0",
      "model_name": "DescriptionStyleModel",
      "state": {
       "description_width": ""
      }
     },
     "b1f59837bdc149299a2cec7dc09ac8d7": {
      "model_module": "@jupyter-widgets/controls",
      "model_module_version": "1.5.0",
      "model_name": "HTMLModel",
      "state": {
       "layout": "IPY_MODEL_c1bada8325614a1883c06553c94af46f",
       "style": "IPY_MODEL_4ddc6c7eaae246949200553d3b2579d1",
       "value": " 5/5 [00:00&lt;00:00,  4.38it/s]"
      }
     },
     "b3806c72956044908ca8e77d4ee6f76c": {
      "model_module": "@jupyter-widgets/controls",
      "model_module_version": "1.5.0",
      "model_name": "FloatProgressModel",
      "state": {
       "bar_style": "success",
       "layout": "IPY_MODEL_1bab13ceaca74157905a2d015eee9815",
       "max": 5,
       "style": "IPY_MODEL_b5009bd490a24f198c1901abbf1d8636",
       "value": 5
      }
     },
     "b5009bd490a24f198c1901abbf1d8636": {
      "model_module": "@jupyter-widgets/controls",
      "model_module_version": "1.5.0",
      "model_name": "ProgressStyleModel",
      "state": {
       "description_width": ""
      }
     },
     "c1bada8325614a1883c06553c94af46f": {
      "model_module": "@jupyter-widgets/base",
      "model_module_version": "1.2.0",
      "model_name": "LayoutModel",
      "state": {}
     },
     "f3df7fa33f8345e0bfd6861f21bbdb2d": {
      "model_module": "@jupyter-widgets/controls",
      "model_module_version": "1.5.0",
      "model_name": "HTMLModel",
      "state": {
       "layout": "IPY_MODEL_3867f02299484227bee80095c34ac77a",
       "style": "IPY_MODEL_53b617cf971440a2b3da5ebb6360b27e",
       "value": "Splitting: 100%"
      }
     },
     "f4e9ec8901d441f7a9906434dab6071f": {
      "model_module": "@jupyter-widgets/controls",
      "model_module_version": "1.5.0",
      "model_name": "HBoxModel",
      "state": {
       "children": [
        "IPY_MODEL_f3df7fa33f8345e0bfd6861f21bbdb2d",
        "IPY_MODEL_b3806c72956044908ca8e77d4ee6f76c",
        "IPY_MODEL_b1f59837bdc149299a2cec7dc09ac8d7"
       ],
       "layout": "IPY_MODEL_fc05dd39c66144f0a9197893aa0abaf0"
      }
     },
     "fc05dd39c66144f0a9197893aa0abaf0": {
      "model_module": "@jupyter-widgets/base",
      "model_module_version": "1.2.0",
      "model_name": "LayoutModel",
      "state": {}
     }
    },
    "version_major": 2,
    "version_minor": 0
   }
  }
 },
 "nbformat": 4,
 "nbformat_minor": 5
}
