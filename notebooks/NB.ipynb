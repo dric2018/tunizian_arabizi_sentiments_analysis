{
 "cells": [
  {
   "cell_type": "markdown",
   "id": "related-screen",
   "metadata": {},
   "source": [
    "# Experimenting bag of words"
   ]
  },
  {
   "cell_type": "code",
   "execution_count": 1,
   "id": "corporate-buffalo",
   "metadata": {},
   "outputs": [],
   "source": [
    "import sys \n",
    "sys.path.append('../scripts')"
   ]
  },
  {
   "cell_type": "code",
   "execution_count": 2,
   "id": "destroyed-couple",
   "metadata": {},
   "outputs": [
    {
     "name": "stderr",
     "output_type": "stream",
     "text": [
      "<frozen importlib._bootstrap>:219: RuntimeWarning: numpy.ufunc size changed, may indicate binary incompatibility. Expected 192 from C header, got 216 from PyObject\n"
     ]
    }
   ],
   "source": [
    "import os\n",
    "import pandas as pd\n",
    "import numpy as np\n",
    "from collections import Counter\n",
    "\n",
    "from config import Config\n",
    "from tqdm.auto import tqdm\n",
    "import seaborn as sb\n",
    "import matplotlib.pyplot as plt\n",
    "\n",
    "from sklearn.model_selection import StratifiedKFold, KFold\n",
    "from sklearn.feature_extraction.text import HashingVectorizer # BOW\n",
    "from sklearn.naive_bayes import MultinomialNB\n",
    "\n",
    "from sklearn.metrics import accuracy_score\n",
    "\n",
    "import nltk\n",
    "from nltk.tokenize import word_tokenize # word tokenizer\n",
    "\n",
    "from utils import remove_repetitions, replace_accents, make_folds\n",
    "\n",
    "import joblib\n",
    "import gc"
   ]
  },
  {
   "cell_type": "markdown",
   "id": "gorgeous-dealer",
   "metadata": {},
   "source": [
    "# Load dataset"
   ]
  },
  {
   "cell_type": "code",
   "execution_count": 3,
   "id": "suited-legislature",
   "metadata": {},
   "outputs": [],
   "source": [
    "train_df = pd.read_csv(os.path.join(Config.data_dir, 'cleaned_train.csv'))\n",
    "test_df = pd.read_csv(os.path.join(Config.data_dir, 'Test.csv'))\n",
    "sub_df = pd.read_csv(os.path.join(Config.submissions_dir, 'SampleSubmission.csv'))"
   ]
  },
  {
   "cell_type": "code",
   "execution_count": 4,
   "id": "collected-banking",
   "metadata": {},
   "outputs": [
    {
     "data": {
      "text/html": [
       "<div>\n",
       "<style scoped>\n",
       "    .dataframe tbody tr th:only-of-type {\n",
       "        vertical-align: middle;\n",
       "    }\n",
       "\n",
       "    .dataframe tbody tr th {\n",
       "        vertical-align: top;\n",
       "    }\n",
       "\n",
       "    .dataframe thead th {\n",
       "        text-align: right;\n",
       "    }\n",
       "</style>\n",
       "<table border=\"1\" class=\"dataframe\">\n",
       "  <thead>\n",
       "    <tr style=\"text-align: right;\">\n",
       "      <th></th>\n",
       "      <th>ID</th>\n",
       "      <th>text</th>\n",
       "      <th>label</th>\n",
       "    </tr>\n",
       "  </thead>\n",
       "  <tbody>\n",
       "    <tr>\n",
       "      <th>0</th>\n",
       "      <td>13P0QT0</td>\n",
       "      <td>3sbaa lek ou le seim riahi ou 3sbaa le ca</td>\n",
       "      <td>-1</td>\n",
       "    </tr>\n",
       "    <tr>\n",
       "      <th>1</th>\n",
       "      <td>SKCLXCJ</td>\n",
       "      <td>cha3eb fey9elkoum menghir ta7ayoul ou kressi</td>\n",
       "      <td>-1</td>\n",
       "    </tr>\n",
       "    <tr>\n",
       "      <th>2</th>\n",
       "      <td>V1TVXIJ</td>\n",
       "      <td>bereau degage nathef ya slim walahi ya7chiw fi...</td>\n",
       "      <td>-1</td>\n",
       "    </tr>\n",
       "    <tr>\n",
       "      <th>3</th>\n",
       "      <td>U0TTYY8</td>\n",
       "      <td>ak slouma</td>\n",
       "      <td>1</td>\n",
       "    </tr>\n",
       "    <tr>\n",
       "      <th>4</th>\n",
       "      <td>68DX797</td>\n",
       "      <td>entom titmanou lina a7na 3iid moubarik a7na ch...</td>\n",
       "      <td>-1</td>\n",
       "    </tr>\n",
       "  </tbody>\n",
       "</table>\n",
       "</div>"
      ],
      "text/plain": [
       "        ID                                               text  label\n",
       "0  13P0QT0          3sbaa lek ou le seim riahi ou 3sbaa le ca     -1\n",
       "1  SKCLXCJ       cha3eb fey9elkoum menghir ta7ayoul ou kressi     -1\n",
       "2  V1TVXIJ  bereau degage nathef ya slim walahi ya7chiw fi...     -1\n",
       "3  U0TTYY8                                          ak slouma      1\n",
       "4  68DX797  entom titmanou lina a7na 3iid moubarik a7na ch...     -1"
      ]
     },
     "execution_count": 4,
     "metadata": {},
     "output_type": "execute_result"
    }
   ],
   "source": [
    "train_df.head()"
   ]
  },
  {
   "cell_type": "code",
   "execution_count": 5,
   "id": "alert-positive",
   "metadata": {},
   "outputs": [
    {
     "data": {
      "text/html": [
       "<div>\n",
       "<style scoped>\n",
       "    .dataframe tbody tr th:only-of-type {\n",
       "        vertical-align: middle;\n",
       "    }\n",
       "\n",
       "    .dataframe tbody tr th {\n",
       "        vertical-align: top;\n",
       "    }\n",
       "\n",
       "    .dataframe thead th {\n",
       "        text-align: right;\n",
       "    }\n",
       "</style>\n",
       "<table border=\"1\" class=\"dataframe\">\n",
       "  <thead>\n",
       "    <tr style=\"text-align: right;\">\n",
       "      <th></th>\n",
       "      <th>ID</th>\n",
       "      <th>text</th>\n",
       "    </tr>\n",
       "  </thead>\n",
       "  <tbody>\n",
       "    <tr>\n",
       "      <th>0</th>\n",
       "      <td>2DDHQW9</td>\n",
       "      <td>barcha aaindou fiha hak w barcha teflim kadhalik</td>\n",
       "    </tr>\n",
       "    <tr>\n",
       "      <th>1</th>\n",
       "      <td>5HY6UEY</td>\n",
       "      <td>ye gernabou ye 9a7ba</td>\n",
       "    </tr>\n",
       "    <tr>\n",
       "      <th>2</th>\n",
       "      <td>ATNVUJX</td>\n",
       "      <td>saber w barra rabbi m3ak 5ouya</td>\n",
       "    </tr>\n",
       "    <tr>\n",
       "      <th>3</th>\n",
       "      <td>Q9XYVOQ</td>\n",
       "      <td>cha3ébbb ta7aaaaannnnnnnnnnn tfouuhh</td>\n",
       "    </tr>\n",
       "    <tr>\n",
       "      <th>4</th>\n",
       "      <td>TOAHLRH</td>\n",
       "      <td>rabi y5alihoulek w yfar7ek bih w inchallah itc...</td>\n",
       "    </tr>\n",
       "  </tbody>\n",
       "</table>\n",
       "</div>"
      ],
      "text/plain": [
       "        ID                                               text\n",
       "0  2DDHQW9   barcha aaindou fiha hak w barcha teflim kadhalik\n",
       "1  5HY6UEY                               ye gernabou ye 9a7ba\n",
       "2  ATNVUJX                     saber w barra rabbi m3ak 5ouya\n",
       "3  Q9XYVOQ               cha3ébbb ta7aaaaannnnnnnnnnn tfouuhh\n",
       "4  TOAHLRH  rabi y5alihoulek w yfar7ek bih w inchallah itc..."
      ]
     },
     "execution_count": 5,
     "metadata": {},
     "output_type": "execute_result"
    }
   ],
   "source": [
    "test_df.head()"
   ]
  },
  {
   "cell_type": "markdown",
   "id": "gorgeous-beverage",
   "metadata": {},
   "source": [
    "# Preprocessing pipeline\n",
    "\n",
    "* Remove neutral texts or add them to positive samples\n",
    "* Tokenize input sentences\n"
   ]
  },
  {
   "cell_type": "code",
   "execution_count": 6,
   "id": "attached-radar",
   "metadata": {},
   "outputs": [
    {
     "data": {
      "text/html": [
       "<div>\n",
       "<style scoped>\n",
       "    .dataframe tbody tr th:only-of-type {\n",
       "        vertical-align: middle;\n",
       "    }\n",
       "\n",
       "    .dataframe tbody tr th {\n",
       "        vertical-align: top;\n",
       "    }\n",
       "\n",
       "    .dataframe thead th {\n",
       "        text-align: right;\n",
       "    }\n",
       "</style>\n",
       "<table border=\"1\" class=\"dataframe\">\n",
       "  <thead>\n",
       "    <tr style=\"text-align: right;\">\n",
       "      <th></th>\n",
       "      <th>ID</th>\n",
       "      <th>text</th>\n",
       "      <th>label</th>\n",
       "    </tr>\n",
       "  </thead>\n",
       "  <tbody>\n",
       "    <tr>\n",
       "      <th>0</th>\n",
       "      <td>13P0QT0</td>\n",
       "      <td>3sbaa lek ou le seim riahi ou 3sbaa le ca</td>\n",
       "      <td>0</td>\n",
       "    </tr>\n",
       "    <tr>\n",
       "      <th>1</th>\n",
       "      <td>SKCLXCJ</td>\n",
       "      <td>cha3eb fey9elkoum menghir ta7ayoul ou kressi</td>\n",
       "      <td>0</td>\n",
       "    </tr>\n",
       "    <tr>\n",
       "      <th>2</th>\n",
       "      <td>V1TVXIJ</td>\n",
       "      <td>bereau degage nathef ya slim walahi ya7chiw fi...</td>\n",
       "      <td>0</td>\n",
       "    </tr>\n",
       "    <tr>\n",
       "      <th>3</th>\n",
       "      <td>U0TTYY8</td>\n",
       "      <td>ak slouma</td>\n",
       "      <td>1</td>\n",
       "    </tr>\n",
       "    <tr>\n",
       "      <th>4</th>\n",
       "      <td>68DX797</td>\n",
       "      <td>entom titmanou lina a7na 3iid moubarik a7na ch...</td>\n",
       "      <td>0</td>\n",
       "    </tr>\n",
       "  </tbody>\n",
       "</table>\n",
       "</div>"
      ],
      "text/plain": [
       "        ID                                               text  label\n",
       "0  13P0QT0          3sbaa lek ou le seim riahi ou 3sbaa le ca      0\n",
       "1  SKCLXCJ       cha3eb fey9elkoum menghir ta7ayoul ou kressi      0\n",
       "2  V1TVXIJ  bereau degage nathef ya slim walahi ya7chiw fi...      0\n",
       "3  U0TTYY8                                          ak slouma      1\n",
       "4  68DX797  entom titmanou lina a7na 3iid moubarik a7na ch...      0"
      ]
     },
     "execution_count": 6,
     "metadata": {},
     "output_type": "execute_result"
    }
   ],
   "source": [
    "# use neutral as positime sample\n",
    "label_map = {\n",
    "    '-1' : 0,\n",
    "    '0' : 1,\n",
    "    '1' : 1\n",
    "}\n",
    "train_df['label'] = train_df['label'].apply(lambda label: label_map[str(label)])\n",
    "train_df.head()"
   ]
  },
  {
   "cell_type": "code",
   "execution_count": 7,
   "id": "systematic-unknown",
   "metadata": {},
   "outputs": [
    {
     "data": {
      "text/plain": [
       "['3sbaa', 'lek', 'ou', 'le', 'seim', 'riahi', 'ou', '3sbaa', 'le', 'ca']"
      ]
     },
     "execution_count": 7,
     "metadata": {},
     "output_type": "execute_result"
    }
   ],
   "source": [
    "word_tokenize(text = train_df.iloc[0].text, language='french')"
   ]
  },
  {
   "cell_type": "markdown",
   "id": "alive-corner",
   "metadata": {},
   "source": [
    "# define vectorizer\n",
    "bow = CountVectorizer(\n",
    "    tokenizer=word_tokenize, \n",
    "    token_pattern=None\n",
    ")\n",
    "\n",
    "bow = HashingVectorizer(\n",
    "    tokenizer=word_tokenize, \n",
    "    token_pattern=None\n",
    ")"
   ]
  },
  {
   "cell_type": "markdown",
   "id": "apparent-sympathy",
   "metadata": {},
   "source": [
    "%%time\n",
    "# apply vectorization\n",
    "transformed_dataset = bow.fit_transform(X=train_df.text)\n"
   ]
  },
  {
   "cell_type": "markdown",
   "id": "demographic-automation",
   "metadata": {},
   "source": [
    "# Training pipeline\n",
    "* Using KFold cross-validation\n",
    "* Split data into n folds"
   ]
  },
  {
   "cell_type": "code",
   "execution_count": 29,
   "id": "honest-assignment",
   "metadata": {},
   "outputs": [
    {
     "data": {
      "application/vnd.jupyter.widget-view+json": {
       "model_id": "695e0539f5c04759862fd400384b33b2",
       "version_major": 2,
       "version_minor": 0
      },
      "text/plain": [
       "Splitting:   0%|          | 0/10 [00:00<?, ?it/s]"
      ]
     },
     "metadata": {},
     "output_type": "display_data"
    },
    {
     "data": {
      "text/html": [
       "<div>\n",
       "<style scoped>\n",
       "    .dataframe tbody tr th:only-of-type {\n",
       "        vertical-align: middle;\n",
       "    }\n",
       "\n",
       "    .dataframe tbody tr th {\n",
       "        vertical-align: top;\n",
       "    }\n",
       "\n",
       "    .dataframe thead th {\n",
       "        text-align: right;\n",
       "    }\n",
       "</style>\n",
       "<table border=\"1\" class=\"dataframe\">\n",
       "  <thead>\n",
       "    <tr style=\"text-align: right;\">\n",
       "      <th></th>\n",
       "      <th>ID</th>\n",
       "      <th>text</th>\n",
       "      <th>label</th>\n",
       "      <th>fold</th>\n",
       "    </tr>\n",
       "  </thead>\n",
       "  <tbody>\n",
       "    <tr>\n",
       "      <th>0</th>\n",
       "      <td>13P0QT0</td>\n",
       "      <td>3sbaa lek ou le seim riahi ou 3sbaa le ca</td>\n",
       "      <td>0</td>\n",
       "      <td>7</td>\n",
       "    </tr>\n",
       "    <tr>\n",
       "      <th>1</th>\n",
       "      <td>SKCLXCJ</td>\n",
       "      <td>cha3eb fey9elkoum menghir ta7ayoul ou kressi</td>\n",
       "      <td>0</td>\n",
       "      <td>9</td>\n",
       "    </tr>\n",
       "    <tr>\n",
       "      <th>2</th>\n",
       "      <td>V1TVXIJ</td>\n",
       "      <td>bereau degage nathef ya slim walahi ya7chiw fi...</td>\n",
       "      <td>0</td>\n",
       "      <td>7</td>\n",
       "    </tr>\n",
       "    <tr>\n",
       "      <th>3</th>\n",
       "      <td>U0TTYY8</td>\n",
       "      <td>ak slouma</td>\n",
       "      <td>1</td>\n",
       "      <td>6</td>\n",
       "    </tr>\n",
       "    <tr>\n",
       "      <th>4</th>\n",
       "      <td>68DX797</td>\n",
       "      <td>entom titmanou lina a7na 3iid moubarik a7na ch...</td>\n",
       "      <td>0</td>\n",
       "      <td>4</td>\n",
       "    </tr>\n",
       "  </tbody>\n",
       "</table>\n",
       "</div>"
      ],
      "text/plain": [
       "        ID                                               text  label  fold\n",
       "0  13P0QT0          3sbaa lek ou le seim riahi ou 3sbaa le ca      0     7\n",
       "1  SKCLXCJ       cha3eb fey9elkoum menghir ta7ayoul ou kressi      0     9\n",
       "2  V1TVXIJ  bereau degage nathef ya slim walahi ya7chiw fi...      0     7\n",
       "3  U0TTYY8                                          ak slouma      1     6\n",
       "4  68DX797  entom titmanou lina a7na 3iid moubarik a7na ch...      0     4"
      ]
     },
     "execution_count": 29,
     "metadata": {},
     "output_type": "execute_result"
    }
   ],
   "source": [
    "class args:\n",
    "    n_folds = 10\n",
    "    \n",
    "\n",
    "dataset, n_folds = make_folds(\n",
    "    data = train_df, \n",
    "    args = args, \n",
    "    target_col='label', \n",
    "    stratified= True\n",
    ")\n",
    "\n",
    "dataset.head()"
   ]
  },
  {
   "cell_type": "markdown",
   "id": "twelve-liabilities",
   "metadata": {},
   "source": [
    "# Training"
   ]
  },
  {
   "cell_type": "code",
   "execution_count": 30,
   "id": "mature-startup",
   "metadata": {
    "tags": []
   },
   "outputs": [
    {
     "name": "stdout",
     "output_type": "stream",
     "text": [
      "[INFO] Fold : 0 -> acc : 0.79971\n",
      "[INFO] Fold : 1 -> acc : 0.78329\n",
      "[INFO] Fold : 2 -> acc : 0.79057\n",
      "[INFO] Fold : 3 -> acc : 0.78971\n",
      "[INFO] Fold : 4 -> acc : 0.78729\n",
      "[INFO] Fold : 5 -> acc : 0.79286\n",
      "[INFO] Fold : 6 -> acc : 0.78557\n",
      "[INFO] Fold : 7 -> acc : 0.77943\n",
      "[INFO] Fold : 8 -> acc : 0.78686\n",
      "[INFO] Fold : 9 -> acc : 0.78700\n",
      "[INFO] Average accuracy : 0.7882285714285714\n",
      "CPU times: user 1min 5s, sys: 444 ms, total: 1min 5s\n",
      "Wall time: 1min 7s\n"
     ]
    }
   ],
   "source": [
    "%%time\n",
    "\n",
    "accs = []\n",
    "for fold_num in range(n_folds):\n",
    "    \n",
    "    train = dataset[dataset.fold!=fold_num].reset_index(drop=True)\n",
    "    val = dataset[dataset.fold==fold_num].reset_index(drop=True)\n",
    "    \n",
    "    # define vectorizer\n",
    "    bow = HashingVectorizer(\n",
    "        tokenizer=word_tokenize, \n",
    "        token_pattern=None, \n",
    "        alternate_sign=False\n",
    "        )\n",
    "    \n",
    "    bow.fit(train.text)\n",
    "    \n",
    "    # train data\n",
    "    xtrain = bow.transform(train.text)\n",
    "    ytrain = train.label.values\n",
    "    \n",
    "    # test data \n",
    "    xval = bow.transform(val.text)\n",
    "    yval = val.label.values\n",
    "    \n",
    "    # modeling \n",
    "    params = {'alpha' :1.0, 'fit_prior' :True, 'class_prior' : None}\n",
    "    model = MultinomialNB(**params)\n",
    "    \n",
    "    # run training\n",
    "    model.fit(X=xtrain, y=ytrain)\n",
    "    \n",
    "    # make predictions\n",
    "    predictions = model.predict(X=xval)\n",
    "    \n",
    "    # compute accuracy\n",
    "    acc = accuracy_score(y_true=yval, y_pred=predictions)\n",
    "    \n",
    "    print(f\"[INFO] Fold : {fold_num} -> acc : {acc:.5f}\")\n",
    "    \n",
    "    accs.append(acc)\n",
    "    # save model\n",
    "    _ = joblib.dump(\n",
    "        value=model, \n",
    "        filename=os.path.join(Config.models_dir, f'Arabizi-NB-fold-{fold_num}.pkl')\n",
    "    )\n",
    "    \n",
    "    del train\n",
    "    del val\n",
    "    del xtrain\n",
    "    del xval\n",
    "    del ytrain\n",
    "    del yval\n",
    "    del model\n",
    "    del predictions\n",
    "    del bow\n",
    "    \n",
    "    gc.collect()\n",
    "\n",
    "avg_acc = np.array(accs).mean()\n",
    "\n",
    "print(f'[INFO] Average accuracy : {avg_acc}')"
   ]
  },
  {
   "cell_type": "markdown",
   "id": "higher-patio",
   "metadata": {},
   "source": [
    "# Prediction & submission"
   ]
  },
  {
   "cell_type": "code",
   "execution_count": 32,
   "id": "younger-outline",
   "metadata": {},
   "outputs": [
    {
     "data": {
      "application/vnd.jupyter.widget-view+json": {
       "model_id": "a8bdd8225ec146e0878b7c5a0ecf9148",
       "version_major": 2,
       "version_minor": 0
      },
      "text/plain": [
       "  0%|          | 0/10 [00:00<?, ?it/s]"
      ]
     },
     "metadata": {},
     "output_type": "display_data"
    },
    {
     "name": "stdout",
     "output_type": "stream",
     "text": [
      "Arabizi-NB-fold-5.pkl\n",
      "Arabizi-NB-fold-8.pkl\n",
      "Arabizi-NB-fold-2.pkl\n",
      "Arabizi-NB-fold-3.pkl\n",
      "Arabizi-NB-fold-1.pkl\n",
      "Arabizi-NB-fold-9.pkl\n",
      "Arabizi-NB-fold-0.pkl\n",
      "Arabizi-NB-fold-6.pkl\n",
      "Arabizi-NB-fold-7.pkl\n",
      "Arabizi-NB-fold-4.pkl\n"
     ]
    }
   ],
   "source": [
    "# preprocess test dataset\n",
    "test_df['text'] = test_df['text'].apply(\n",
    "    lambda txt : replace_accents(remove_repetitions(sequence=txt, n_repetitions=2))\n",
    ")\n",
    "\n",
    "bow = HashingVectorizer(\n",
    "    tokenizer=word_tokenize, \n",
    "    token_pattern=None,\n",
    "    alternate_sign=False\n",
    "\n",
    "    )\n",
    "\n",
    "xtest = bow.fit_transform(test_df.text)\n",
    "\n",
    "# inference\n",
    "preds = []\n",
    "\n",
    "kf_models = [f for f in os.listdir(Config.models_dir) if 'NB' in f]\n",
    "for fname in tqdm(kf_models):\n",
    "    print(fname)\n",
    "    # load model\n",
    "    model = joblib.load(filename=os.path.join(Config.models_dir, fname))\n",
    "    ypred = model.predict(xtest)\n",
    "    \n",
    "    # reformat predictions\n",
    "    for idx, p in enumerate(ypred):\n",
    "        if p == 0:\n",
    "            ypred[idx] = -1\n",
    "    \n",
    "    preds.append(ypred)\n"
   ]
  },
  {
   "cell_type": "code",
   "execution_count": 34,
   "id": "authorized-sperm",
   "metadata": {},
   "outputs": [
    {
     "data": {
      "text/html": [
       "<div>\n",
       "<style scoped>\n",
       "    .dataframe tbody tr th:only-of-type {\n",
       "        vertical-align: middle;\n",
       "    }\n",
       "\n",
       "    .dataframe tbody tr th {\n",
       "        vertical-align: top;\n",
       "    }\n",
       "\n",
       "    .dataframe thead th {\n",
       "        text-align: right;\n",
       "    }\n",
       "</style>\n",
       "<table border=\"1\" class=\"dataframe\">\n",
       "  <thead>\n",
       "    <tr style=\"text-align: right;\">\n",
       "      <th></th>\n",
       "      <th>model-0</th>\n",
       "      <th>model-1</th>\n",
       "      <th>model-2</th>\n",
       "      <th>model-3</th>\n",
       "      <th>model-4</th>\n",
       "      <th>model-5</th>\n",
       "      <th>model-6</th>\n",
       "      <th>model-7</th>\n",
       "      <th>model-8</th>\n",
       "      <th>model-9</th>\n",
       "    </tr>\n",
       "  </thead>\n",
       "  <tbody>\n",
       "    <tr>\n",
       "      <th>0</th>\n",
       "      <td>1</td>\n",
       "      <td>1</td>\n",
       "      <td>1</td>\n",
       "      <td>1</td>\n",
       "      <td>1</td>\n",
       "      <td>1</td>\n",
       "      <td>1</td>\n",
       "      <td>1</td>\n",
       "      <td>1</td>\n",
       "      <td>1</td>\n",
       "    </tr>\n",
       "    <tr>\n",
       "      <th>1</th>\n",
       "      <td>-1</td>\n",
       "      <td>-1</td>\n",
       "      <td>-1</td>\n",
       "      <td>-1</td>\n",
       "      <td>-1</td>\n",
       "      <td>-1</td>\n",
       "      <td>-1</td>\n",
       "      <td>-1</td>\n",
       "      <td>-1</td>\n",
       "      <td>-1</td>\n",
       "    </tr>\n",
       "    <tr>\n",
       "      <th>2</th>\n",
       "      <td>1</td>\n",
       "      <td>1</td>\n",
       "      <td>1</td>\n",
       "      <td>1</td>\n",
       "      <td>1</td>\n",
       "      <td>1</td>\n",
       "      <td>1</td>\n",
       "      <td>1</td>\n",
       "      <td>1</td>\n",
       "      <td>1</td>\n",
       "    </tr>\n",
       "    <tr>\n",
       "      <th>3</th>\n",
       "      <td>-1</td>\n",
       "      <td>-1</td>\n",
       "      <td>-1</td>\n",
       "      <td>-1</td>\n",
       "      <td>-1</td>\n",
       "      <td>-1</td>\n",
       "      <td>-1</td>\n",
       "      <td>-1</td>\n",
       "      <td>-1</td>\n",
       "      <td>-1</td>\n",
       "    </tr>\n",
       "    <tr>\n",
       "      <th>4</th>\n",
       "      <td>1</td>\n",
       "      <td>1</td>\n",
       "      <td>1</td>\n",
       "      <td>1</td>\n",
       "      <td>1</td>\n",
       "      <td>1</td>\n",
       "      <td>1</td>\n",
       "      <td>1</td>\n",
       "      <td>1</td>\n",
       "      <td>1</td>\n",
       "    </tr>\n",
       "  </tbody>\n",
       "</table>\n",
       "</div>"
      ],
      "text/plain": [
       "   model-0  model-1  model-2  model-3  model-4  model-5  model-6  model-7  \\\n",
       "0        1        1        1        1        1        1        1        1   \n",
       "1       -1       -1       -1       -1       -1       -1       -1       -1   \n",
       "2        1        1        1        1        1        1        1        1   \n",
       "3       -1       -1       -1       -1       -1       -1       -1       -1   \n",
       "4        1        1        1        1        1        1        1        1   \n",
       "\n",
       "   model-8  model-9  \n",
       "0        1        1  \n",
       "1       -1       -1  \n",
       "2        1        1  \n",
       "3       -1       -1  \n",
       "4        1        1  "
      ]
     },
     "execution_count": 34,
     "metadata": {},
     "output_type": "execute_result"
    }
   ],
   "source": [
    "pred_df = pd.DataFrame(\n",
    "    data = np.array(preds).transpose(),\n",
    "    columns=[f'model-{p}' for p in range(n_folds)]\n",
    ")\n",
    "\n",
    "pred_df.head()"
   ]
  },
  {
   "cell_type": "code",
   "execution_count": 35,
   "id": "opposed-things",
   "metadata": {},
   "outputs": [
    {
     "data": {
      "application/vnd.jupyter.widget-view+json": {
       "model_id": "bb75fc2df09a493db0e393da53f6a399",
       "version_major": 2,
       "version_minor": 0
      },
      "text/plain": [
       "  0%|          | 0/30000 [00:00<?, ?it/s]"
      ]
     },
     "metadata": {},
     "output_type": "display_data"
    }
   ],
   "source": [
    "test_df['label'] = 0\n",
    "\n",
    "for idx in tqdm(range(len(pred_df))):\n",
    "\n",
    "    if pred_df.iloc[idx].mean() >= .6:\n",
    "\n",
    "        test_df.at[idx, 'label'] = 1\n",
    "    else:\n",
    "        test_df.at[idx, 'label'] = -1"
   ]
  },
  {
   "cell_type": "code",
   "execution_count": 36,
   "id": "false-style",
   "metadata": {},
   "outputs": [
    {
     "data": {
      "text/html": [
       "<div>\n",
       "<style scoped>\n",
       "    .dataframe tbody tr th:only-of-type {\n",
       "        vertical-align: middle;\n",
       "    }\n",
       "\n",
       "    .dataframe tbody tr th {\n",
       "        vertical-align: top;\n",
       "    }\n",
       "\n",
       "    .dataframe thead th {\n",
       "        text-align: right;\n",
       "    }\n",
       "</style>\n",
       "<table border=\"1\" class=\"dataframe\">\n",
       "  <thead>\n",
       "    <tr style=\"text-align: right;\">\n",
       "      <th></th>\n",
       "      <th>ID</th>\n",
       "      <th>text</th>\n",
       "      <th>label</th>\n",
       "    </tr>\n",
       "  </thead>\n",
       "  <tbody>\n",
       "    <tr>\n",
       "      <th>29995</th>\n",
       "      <td>NHXTL3R</td>\n",
       "      <td>me ihebekch raw</td>\n",
       "      <td>-1</td>\n",
       "    </tr>\n",
       "    <tr>\n",
       "      <th>29996</th>\n",
       "      <td>U1YWB2O</td>\n",
       "      <td>nchallah rabi m3ak w iwaf9ek mais just 7abit n...</td>\n",
       "      <td>1</td>\n",
       "    </tr>\n",
       "    <tr>\n",
       "      <th>29997</th>\n",
       "      <td>O3KYLM0</td>\n",
       "      <td>slim rabi m3ak w e5edem w 5alli l7ossed lemnay...</td>\n",
       "      <td>1</td>\n",
       "    </tr>\n",
       "    <tr>\n",
       "      <th>29998</th>\n",
       "      <td>W4C38TY</td>\n",
       "      <td>bara 5alis rouhik yizi mitbal3it jam3iya hlaki...</td>\n",
       "      <td>-1</td>\n",
       "    </tr>\n",
       "    <tr>\n",
       "      <th>29999</th>\n",
       "      <td>4NNX5QE</td>\n",
       "      <td>rabi m3aak ya khawlaaa n7ebouuk rana barsha w ...</td>\n",
       "      <td>1</td>\n",
       "    </tr>\n",
       "  </tbody>\n",
       "</table>\n",
       "</div>"
      ],
      "text/plain": [
       "            ID                                               text  label\n",
       "29995  NHXTL3R                                    me ihebekch raw     -1\n",
       "29996  U1YWB2O  nchallah rabi m3ak w iwaf9ek mais just 7abit n...      1\n",
       "29997  O3KYLM0  slim rabi m3ak w e5edem w 5alli l7ossed lemnay...      1\n",
       "29998  W4C38TY  bara 5alis rouhik yizi mitbal3it jam3iya hlaki...     -1\n",
       "29999  4NNX5QE  rabi m3aak ya khawlaaa n7ebouuk rana barsha w ...      1"
      ]
     },
     "execution_count": 36,
     "metadata": {},
     "output_type": "execute_result"
    }
   ],
   "source": [
    "test_df.tail()"
   ]
  },
  {
   "cell_type": "code",
   "execution_count": 37,
   "id": "center-mission",
   "metadata": {},
   "outputs": [
    {
     "data": {
      "text/plain": [
       " 1    19238\n",
       "-1    10762\n",
       "Name: label, dtype: int64"
      ]
     },
     "execution_count": 37,
     "metadata": {},
     "output_type": "execute_result"
    }
   ],
   "source": [
    "test_df[['ID', 'label']]['label'].value_counts()"
   ]
  },
  {
   "cell_type": "code",
   "execution_count": 38,
   "id": "coupled-claim",
   "metadata": {},
   "outputs": [],
   "source": [
    "fn = f'NB-params-{params}-nfolds-{n_folds}.csv'\n",
    "\n",
    "test_df[['ID', 'label']].to_csv(\n",
    "    os.path.join(Config.submissions_dir,fn), \n",
    "    index=False\n",
    ")"
   ]
  },
  {
   "cell_type": "code",
   "execution_count": 39,
   "id": "concerned-relative",
   "metadata": {},
   "outputs": [
    {
     "data": {
      "text/plain": [
       "\"NB-params-{'alpha': 1.0, 'fit_prior': True, 'class_prior': None}-nfolds-10.csv\""
      ]
     },
     "execution_count": 39,
     "metadata": {},
     "output_type": "execute_result"
    }
   ],
   "source": [
    "fn"
   ]
  },
  {
   "cell_type": "code",
   "execution_count": null,
   "id": "approved-october",
   "metadata": {},
   "outputs": [],
   "source": []
  }
 ],
 "metadata": {
  "kernelspec": {
   "display_name": "Python 3",
   "language": "python",
   "name": "python3"
  },
  "language_info": {
   "codemirror_mode": {
    "name": "ipython",
    "version": 3
   },
   "file_extension": ".py",
   "mimetype": "text/x-python",
   "name": "python",
   "nbconvert_exporter": "python",
   "pygments_lexer": "ipython3",
   "version": "3.8.8"
  },
  "widgets": {
   "application/vnd.jupyter.widget-state+json": {
    "state": {},
    "version_major": 2,
    "version_minor": 0
   }
  }
 },
 "nbformat": 4,
 "nbformat_minor": 5
}
