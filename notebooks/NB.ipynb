{
 "cells": [
  {
   "cell_type": "markdown",
   "id": "faced-title",
   "metadata": {},
   "source": [
    "# Experimenting bag of words"
   ]
  },
  {
   "cell_type": "code",
   "execution_count": 1,
   "id": "compact-objective",
   "metadata": {},
   "outputs": [],
   "source": [
    "import sys \n",
    "sys.path.append('../scripts')"
   ]
  },
  {
   "cell_type": "code",
   "execution_count": 2,
   "id": "unlike-circus",
   "metadata": {},
   "outputs": [
    {
     "name": "stderr",
     "output_type": "stream",
     "text": [
      "<frozen importlib._bootstrap>:219: RuntimeWarning: numpy.ufunc size changed, may indicate binary incompatibility. Expected 192 from C header, got 216 from PyObject\n"
     ]
    }
   ],
   "source": [
    "import os\n",
    "import pandas as pd\n",
    "import numpy as np\n",
    "from collections import Counter\n",
    "\n",
    "from config import Config\n",
    "from tqdm.auto import tqdm\n",
    "import seaborn as sb\n",
    "import matplotlib.pyplot as plt\n",
    "\n",
    "from sklearn.model_selection import StratifiedKFold, KFold\n",
    "from sklearn.feature_extraction.text import HashingVectorizer # BOW\n",
    "from sklearn.naive_bayes import MultinomialNB\n",
    "\n",
    "from sklearn.metrics import accuracy_score\n",
    "\n",
    "import nltk\n",
    "from nltk.tokenize import word_tokenize # word tokenizer\n",
    "\n",
    "from utils import remove_repetitions, replace_accents, make_folds\n",
    "\n",
    "import joblib\n",
    "import gc"
   ]
  },
  {
   "cell_type": "markdown",
   "id": "artistic-macro",
   "metadata": {},
   "source": [
    "# Load dataset"
   ]
  },
  {
   "cell_type": "code",
   "execution_count": 3,
   "id": "breathing-intake",
   "metadata": {},
   "outputs": [],
   "source": [
    "train_df = pd.read_csv(os.path.join(Config.data_dir, 'cleaned_train.csv'))\n",
    "test_df = pd.read_csv(os.path.join(Config.data_dir, 'Test.csv'))\n",
    "sub_df = pd.read_csv(os.path.join(Config.submissions_dir, 'SampleSubmission.csv'))"
   ]
  },
  {
   "cell_type": "code",
   "execution_count": 4,
   "id": "molecular-extension",
   "metadata": {},
   "outputs": [
    {
     "data": {
      "text/html": [
       "<div>\n",
       "<style scoped>\n",
       "    .dataframe tbody tr th:only-of-type {\n",
       "        vertical-align: middle;\n",
       "    }\n",
       "\n",
       "    .dataframe tbody tr th {\n",
       "        vertical-align: top;\n",
       "    }\n",
       "\n",
       "    .dataframe thead th {\n",
       "        text-align: right;\n",
       "    }\n",
       "</style>\n",
       "<table border=\"1\" class=\"dataframe\">\n",
       "  <thead>\n",
       "    <tr style=\"text-align: right;\">\n",
       "      <th></th>\n",
       "      <th>ID</th>\n",
       "      <th>text</th>\n",
       "      <th>label</th>\n",
       "    </tr>\n",
       "  </thead>\n",
       "  <tbody>\n",
       "    <tr>\n",
       "      <th>0</th>\n",
       "      <td>13P0QT0</td>\n",
       "      <td>3sbaa lek ou le seim riahi ou 3sbaa le ca</td>\n",
       "      <td>-1</td>\n",
       "    </tr>\n",
       "    <tr>\n",
       "      <th>1</th>\n",
       "      <td>SKCLXCJ</td>\n",
       "      <td>cha3eb fey9elkoum menghir ta7ayoul ou kressi</td>\n",
       "      <td>-1</td>\n",
       "    </tr>\n",
       "    <tr>\n",
       "      <th>2</th>\n",
       "      <td>V1TVXIJ</td>\n",
       "      <td>bereau degage nathef ya slim walahi ya7chiw fi...</td>\n",
       "      <td>-1</td>\n",
       "    </tr>\n",
       "    <tr>\n",
       "      <th>3</th>\n",
       "      <td>U0TTYY8</td>\n",
       "      <td>ak slouma</td>\n",
       "      <td>1</td>\n",
       "    </tr>\n",
       "    <tr>\n",
       "      <th>4</th>\n",
       "      <td>68DX797</td>\n",
       "      <td>entom titmanou lina a7na 3iid moubarik a7na ch...</td>\n",
       "      <td>-1</td>\n",
       "    </tr>\n",
       "  </tbody>\n",
       "</table>\n",
       "</div>"
      ],
      "text/plain": [
       "        ID                                               text  label\n",
       "0  13P0QT0          3sbaa lek ou le seim riahi ou 3sbaa le ca     -1\n",
       "1  SKCLXCJ       cha3eb fey9elkoum menghir ta7ayoul ou kressi     -1\n",
       "2  V1TVXIJ  bereau degage nathef ya slim walahi ya7chiw fi...     -1\n",
       "3  U0TTYY8                                          ak slouma      1\n",
       "4  68DX797  entom titmanou lina a7na 3iid moubarik a7na ch...     -1"
      ]
     },
     "execution_count": 4,
     "metadata": {},
     "output_type": "execute_result"
    }
   ],
   "source": [
    "train_df.head()"
   ]
  },
  {
   "cell_type": "code",
   "execution_count": 5,
   "id": "public-blanket",
   "metadata": {},
   "outputs": [
    {
     "data": {
      "text/html": [
       "<div>\n",
       "<style scoped>\n",
       "    .dataframe tbody tr th:only-of-type {\n",
       "        vertical-align: middle;\n",
       "    }\n",
       "\n",
       "    .dataframe tbody tr th {\n",
       "        vertical-align: top;\n",
       "    }\n",
       "\n",
       "    .dataframe thead th {\n",
       "        text-align: right;\n",
       "    }\n",
       "</style>\n",
       "<table border=\"1\" class=\"dataframe\">\n",
       "  <thead>\n",
       "    <tr style=\"text-align: right;\">\n",
       "      <th></th>\n",
       "      <th>ID</th>\n",
       "      <th>text</th>\n",
       "    </tr>\n",
       "  </thead>\n",
       "  <tbody>\n",
       "    <tr>\n",
       "      <th>0</th>\n",
       "      <td>2DDHQW9</td>\n",
       "      <td>barcha aaindou fiha hak w barcha teflim kadhalik</td>\n",
       "    </tr>\n",
       "    <tr>\n",
       "      <th>1</th>\n",
       "      <td>5HY6UEY</td>\n",
       "      <td>ye gernabou ye 9a7ba</td>\n",
       "    </tr>\n",
       "    <tr>\n",
       "      <th>2</th>\n",
       "      <td>ATNVUJX</td>\n",
       "      <td>saber w barra rabbi m3ak 5ouya</td>\n",
       "    </tr>\n",
       "    <tr>\n",
       "      <th>3</th>\n",
       "      <td>Q9XYVOQ</td>\n",
       "      <td>cha3ébbb ta7aaaaannnnnnnnnnn tfouuhh</td>\n",
       "    </tr>\n",
       "    <tr>\n",
       "      <th>4</th>\n",
       "      <td>TOAHLRH</td>\n",
       "      <td>rabi y5alihoulek w yfar7ek bih w inchallah itc...</td>\n",
       "    </tr>\n",
       "  </tbody>\n",
       "</table>\n",
       "</div>"
      ],
      "text/plain": [
       "        ID                                               text\n",
       "0  2DDHQW9   barcha aaindou fiha hak w barcha teflim kadhalik\n",
       "1  5HY6UEY                               ye gernabou ye 9a7ba\n",
       "2  ATNVUJX                     saber w barra rabbi m3ak 5ouya\n",
       "3  Q9XYVOQ               cha3ébbb ta7aaaaannnnnnnnnnn tfouuhh\n",
       "4  TOAHLRH  rabi y5alihoulek w yfar7ek bih w inchallah itc..."
      ]
     },
     "execution_count": 5,
     "metadata": {},
     "output_type": "execute_result"
    }
   ],
   "source": [
    "test_df.head()"
   ]
  },
  {
   "cell_type": "markdown",
   "id": "wanted-encyclopedia",
   "metadata": {},
   "source": [
    "# Preprocessing pipeline\n",
    "\n",
    "* Remove neutral texts or add them to positive samples\n",
    "* Tokenize input sentences\n"
   ]
  },
  {
   "cell_type": "code",
   "execution_count": 6,
   "id": "southern-heath",
   "metadata": {},
   "outputs": [
    {
     "data": {
      "text/html": [
       "<div>\n",
       "<style scoped>\n",
       "    .dataframe tbody tr th:only-of-type {\n",
       "        vertical-align: middle;\n",
       "    }\n",
       "\n",
       "    .dataframe tbody tr th {\n",
       "        vertical-align: top;\n",
       "    }\n",
       "\n",
       "    .dataframe thead th {\n",
       "        text-align: right;\n",
       "    }\n",
       "</style>\n",
       "<table border=\"1\" class=\"dataframe\">\n",
       "  <thead>\n",
       "    <tr style=\"text-align: right;\">\n",
       "      <th></th>\n",
       "      <th>ID</th>\n",
       "      <th>text</th>\n",
       "      <th>label</th>\n",
       "    </tr>\n",
       "  </thead>\n",
       "  <tbody>\n",
       "    <tr>\n",
       "      <th>0</th>\n",
       "      <td>13P0QT0</td>\n",
       "      <td>3sbaa lek ou le seim riahi ou 3sbaa le ca</td>\n",
       "      <td>0</td>\n",
       "    </tr>\n",
       "    <tr>\n",
       "      <th>1</th>\n",
       "      <td>SKCLXCJ</td>\n",
       "      <td>cha3eb fey9elkoum menghir ta7ayoul ou kressi</td>\n",
       "      <td>0</td>\n",
       "    </tr>\n",
       "    <tr>\n",
       "      <th>2</th>\n",
       "      <td>V1TVXIJ</td>\n",
       "      <td>bereau degage nathef ya slim walahi ya7chiw fi...</td>\n",
       "      <td>0</td>\n",
       "    </tr>\n",
       "    <tr>\n",
       "      <th>3</th>\n",
       "      <td>U0TTYY8</td>\n",
       "      <td>ak slouma</td>\n",
       "      <td>1</td>\n",
       "    </tr>\n",
       "    <tr>\n",
       "      <th>4</th>\n",
       "      <td>68DX797</td>\n",
       "      <td>entom titmanou lina a7na 3iid moubarik a7na ch...</td>\n",
       "      <td>0</td>\n",
       "    </tr>\n",
       "  </tbody>\n",
       "</table>\n",
       "</div>"
      ],
      "text/plain": [
       "        ID                                               text  label\n",
       "0  13P0QT0          3sbaa lek ou le seim riahi ou 3sbaa le ca      0\n",
       "1  SKCLXCJ       cha3eb fey9elkoum menghir ta7ayoul ou kressi      0\n",
       "2  V1TVXIJ  bereau degage nathef ya slim walahi ya7chiw fi...      0\n",
       "3  U0TTYY8                                          ak slouma      1\n",
       "4  68DX797  entom titmanou lina a7na 3iid moubarik a7na ch...      0"
      ]
     },
     "execution_count": 6,
     "metadata": {},
     "output_type": "execute_result"
    }
   ],
   "source": [
    "# use neutral as positime sample\n",
    "label_map = {\n",
    "    '-1' : 0,\n",
    "    '0' : 1,\n",
    "    '1' : 1\n",
    "}\n",
    "train_df['label'] = train_df['label'].apply(lambda label: label_map[str(label)])\n",
    "train_df.head()"
   ]
  },
  {
   "cell_type": "code",
   "execution_count": 7,
   "id": "delayed-public",
   "metadata": {},
   "outputs": [
    {
     "data": {
      "text/plain": [
       "['3sbaa', 'lek', 'ou', 'le', 'seim', 'riahi', 'ou', '3sbaa', 'le', 'ca']"
      ]
     },
     "execution_count": 7,
     "metadata": {},
     "output_type": "execute_result"
    }
   ],
   "source": [
    "word_tokenize(text = train_df.iloc[0].text, language='french')"
   ]
  },
  {
   "cell_type": "markdown",
   "id": "working-shade",
   "metadata": {},
   "source": [
    "# define vectorizer\n",
    "bow = CountVectorizer(\n",
    "    tokenizer=word_tokenize, \n",
    "    token_pattern=None\n",
    ")\n",
    "\n",
    "bow = HashingVectorizer(\n",
    "    tokenizer=word_tokenize, \n",
    "    token_pattern=None\n",
    ")"
   ]
  },
  {
   "cell_type": "markdown",
   "id": "tender-drawing",
   "metadata": {},
   "source": [
    "%%time\n",
    "# apply vectorization\n",
    "transformed_dataset = bow.fit_transform(X=train_df.text)\n"
   ]
  },
  {
   "cell_type": "markdown",
   "id": "streaming-blade",
   "metadata": {},
   "source": [
    "# Training pipeline\n",
    "* Using KFold cross-validation\n",
    "* Split data into n folds"
   ]
  },
  {
   "cell_type": "code",
   "execution_count": 29,
   "id": "saved-philip",
   "metadata": {},
   "outputs": [
    {
     "data": {
      "application/vnd.jupyter.widget-view+json": {
       "model_id": "695e0539f5c04759862fd400384b33b2",
       "version_major": 2,
       "version_minor": 0
      },
      "text/plain": [
       "Splitting:   0%|          | 0/10 [00:00<?, ?it/s]"
      ]
     },
     "metadata": {},
     "output_type": "display_data"
    },
    {
     "data": {
      "text/html": [
       "<div>\n",
       "<style scoped>\n",
       "    .dataframe tbody tr th:only-of-type {\n",
       "        vertical-align: middle;\n",
       "    }\n",
       "\n",
       "    .dataframe tbody tr th {\n",
       "        vertical-align: top;\n",
       "    }\n",
       "\n",
       "    .dataframe thead th {\n",
       "        text-align: right;\n",
       "    }\n",
       "</style>\n",
       "<table border=\"1\" class=\"dataframe\">\n",
       "  <thead>\n",
       "    <tr style=\"text-align: right;\">\n",
       "      <th></th>\n",
       "      <th>ID</th>\n",
       "      <th>text</th>\n",
       "      <th>label</th>\n",
       "      <th>fold</th>\n",
       "    </tr>\n",
       "  </thead>\n",
       "  <tbody>\n",
       "    <tr>\n",
       "      <th>0</th>\n",
       "      <td>13P0QT0</td>\n",
       "      <td>3sbaa lek ou le seim riahi ou 3sbaa le ca</td>\n",
       "      <td>0</td>\n",
       "      <td>7</td>\n",
       "    </tr>\n",
       "    <tr>\n",
       "      <th>1</th>\n",
       "      <td>SKCLXCJ</td>\n",
       "      <td>cha3eb fey9elkoum menghir ta7ayoul ou kressi</td>\n",
       "      <td>0</td>\n",
       "      <td>9</td>\n",
       "    </tr>\n",
       "    <tr>\n",
       "      <th>2</th>\n",
       "      <td>V1TVXIJ</td>\n",
       "      <td>bereau degage nathef ya slim walahi ya7chiw fi...</td>\n",
       "      <td>0</td>\n",
       "      <td>7</td>\n",
       "    </tr>\n",
       "    <tr>\n",
       "      <th>3</th>\n",
       "      <td>U0TTYY8</td>\n",
       "      <td>ak slouma</td>\n",
       "      <td>1</td>\n",
       "      <td>6</td>\n",
       "    </tr>\n",
       "    <tr>\n",
       "      <th>4</th>\n",
       "      <td>68DX797</td>\n",
       "      <td>entom titmanou lina a7na 3iid moubarik a7na ch...</td>\n",
       "      <td>0</td>\n",
       "      <td>4</td>\n",
       "    </tr>\n",
       "  </tbody>\n",
       "</table>\n",
       "</div>"
      ],
      "text/plain": [
       "        ID                                               text  label  fold\n",
       "0  13P0QT0          3sbaa lek ou le seim riahi ou 3sbaa le ca      0     7\n",
       "1  SKCLXCJ       cha3eb fey9elkoum menghir ta7ayoul ou kressi      0     9\n",
       "2  V1TVXIJ  bereau degage nathef ya slim walahi ya7chiw fi...      0     7\n",
       "3  U0TTYY8                                          ak slouma      1     6\n",
       "4  68DX797  entom titmanou lina a7na 3iid moubarik a7na ch...      0     4"
      ]
     },
     "execution_count": 29,
     "metadata": {},
     "output_type": "execute_result"
    }
   ],
   "source": [
    "class args:\n",
    "    n_folds = 10\n",
    "    \n",
    "\n",
    "dataset, n_folds = make_folds(\n",
    "    data = train_df, \n",
    "    args = args, \n",
    "    target_col='label', \n",
    "    stratified= True\n",
    ")\n",
    "\n",
    "dataset.head()"
   ]
  },
  {
   "cell_type": "markdown",
   "id": "urban-session",
   "metadata": {},
   "source": [
    "# Training"
   ]
  },
  {
   "cell_type": "code",
   "execution_count": 30,
   "id": "super-centre",
   "metadata": {
    "tags": []
   },
   "outputs": [
    {
     "name": "stdout",
     "output_type": "stream",
     "text": [
      "[INFO] Fold : 0 -> acc : 0.79971\n",
      "[INFO] Fold : 1 -> acc : 0.78329\n",
      "[INFO] Fold : 2 -> acc : 0.79057\n",
      "[INFO] Fold : 3 -> acc : 0.78971\n",
      "[INFO] Fold : 4 -> acc : 0.78729\n",
      "[INFO] Fold : 5 -> acc : 0.79286\n",
      "[INFO] Fold : 6 -> acc : 0.78557\n",
      "[INFO] Fold : 7 -> acc : 0.77943\n",
      "[INFO] Fold : 8 -> acc : 0.78686\n",
      "[INFO] Fold : 9 -> acc : 0.78700\n",
      "[INFO] Average accuracy : 0.7882285714285714\n",
      "CPU times: user 1min 5s, sys: 444 ms, total: 1min 5s\n",
      "Wall time: 1min 7s\n"
     ]
    }
   ],
   "source": [
    "%%time\n",
    "\n",
    "accs = []\n",
    "for fold_num in range(n_folds):\n",
    "    \n",
    "    train = dataset[dataset.fold!=fold_num].reset_index(drop=True)\n",
    "    val = dataset[dataset.fold==fold_num].reset_index(drop=True)\n",
    "    \n",
    "    # define vectorizer\n",
    "    bow = HashingVectorizer(\n",
    "        tokenizer=word_tokenize, \n",
    "        token_pattern=None, \n",
    "        alternate_sign=False\n",
    "        )\n",
    "    \n",
    "    bow.fit(train.text)\n",
    "    \n",
    "    # train data\n",
    "    xtrain = bow.transform(train.text)\n",
    "    ytrain = train.label.values\n",
    "    \n",
    "    # test data \n",
    "    xval = bow.transform(val.text)\n",
    "    yval = val.label.values\n",
    "    \n",
    "    # modeling \n",
    "    params = {'alpha' :1.0, 'fit_prior' :True, 'class_prior' : None}\n",
    "    model = MultinomialNB(**params)\n",
    "    \n",
    "    # run training\n",
    "    model.fit(X=xtrain, y=ytrain)\n",
    "    \n",
    "    # make predictions\n",
    "    predictions = model.predict(X=xval)\n",
    "    \n",
    "    # compute accuracy\n",
    "    acc = accuracy_score(y_true=yval, y_pred=predictions)\n",
    "    \n",
    "    print(f\"[INFO] Fold : {fold_num} -> acc : {acc:.5f}\")\n",
    "    \n",
    "    accs.append(acc)\n",
    "    # save model\n",
    "    _ = joblib.dump(\n",
    "        value=model, \n",
    "        filename=os.path.join(Config.models_dir, f'Arabizi-NB-fold-{fold_num}.pkl')\n",
    "    )\n",
    "    \n",
    "    del train\n",
    "    del val\n",
    "    del xtrain\n",
    "    del xval\n",
    "    del ytrain\n",
    "    del yval\n",
    "    del model\n",
    "    del predictions\n",
    "    del bow\n",
    "    \n",
    "    gc.collect()\n",
    "\n",
    "avg_acc = np.array(accs).mean()\n",
    "\n",
    "print(f'[INFO] Average accuracy : {avg_acc}')"
   ]
  },
  {
   "cell_type": "markdown",
   "id": "eligible-fireplace",
   "metadata": {},
   "source": [
    "# Prediction & submission"
   ]
  },
  {
   "cell_type": "code",
   "execution_count": 32,
   "id": "scenic-bathroom",
   "metadata": {},
   "outputs": [
    {
     "data": {
      "application/vnd.jupyter.widget-view+json": {
       "model_id": "a8bdd8225ec146e0878b7c5a0ecf9148",
       "version_major": 2,
       "version_minor": 0
      },
      "text/plain": [
       "  0%|          | 0/10 [00:00<?, ?it/s]"
      ]
     },
     "metadata": {},
     "output_type": "display_data"
    },
    {
     "name": "stdout",
     "output_type": "stream",
     "text": [
      "Arabizi-NB-fold-5.pkl\n",
      "Arabizi-NB-fold-8.pkl\n",
      "Arabizi-NB-fold-2.pkl\n",
      "Arabizi-NB-fold-3.pkl\n",
      "Arabizi-NB-fold-1.pkl\n",
      "Arabizi-NB-fold-9.pkl\n",
      "Arabizi-NB-fold-0.pkl\n",
      "Arabizi-NB-fold-6.pkl\n",
      "Arabizi-NB-fold-7.pkl\n",
      "Arabizi-NB-fold-4.pkl\n"
     ]
    }
   ],
   "source": [
    "# preprocess test dataset\n",
    "test_df['text'] = test_df['text'].apply(\n",
    "    lambda txt : replace_accents(remove_repetitions(sequence=txt, n_repetitions=2))\n",
    ")\n",
    "\n",
    "bow = HashingVectorizer(\n",
    "    tokenizer=word_tokenize, \n",
    "    token_pattern=None,\n",
    "    alternate_sign=False\n",
    "\n",
    "    )\n",
    "\n",
    "xtest = bow.transform(test_df.text)\n",
    "\n",
    "# inference\n",
    "preds = []\n",
    "\n",
    "kf_models = [f for f in os.listdir(Config.models_dir) if 'NB' in f]\n",
    "for fname in tqdm(kf_models):\n",
    "    print(fname)\n",
    "    # load model\n",
    "    model = joblib.load(filename=os.path.join(Config.models_dir, fname))\n",
    "    ypred = model.predict(xtest)\n",
    "    \n",
    "    # reformat predictions\n",
    "    for idx, p in enumerate(ypred):\n",
    "        if p == 0:\n",
    "            ypred[idx] = -1\n",
    "    \n",
    "    preds.append(ypred)\n"
   ]
  },
  {
   "cell_type": "code",
   "execution_count": 34,
   "id": "peripheral-apache",
   "metadata": {},
   "outputs": [
    {
     "data": {
      "text/html": [
       "<div>\n",
       "<style scoped>\n",
       "    .dataframe tbody tr th:only-of-type {\n",
       "        vertical-align: middle;\n",
       "    }\n",
       "\n",
       "    .dataframe tbody tr th {\n",
       "        vertical-align: top;\n",
       "    }\n",
       "\n",
       "    .dataframe thead th {\n",
       "        text-align: right;\n",
       "    }\n",
       "</style>\n",
       "<table border=\"1\" class=\"dataframe\">\n",
       "  <thead>\n",
       "    <tr style=\"text-align: right;\">\n",
       "      <th></th>\n",
       "      <th>model-0</th>\n",
       "      <th>model-1</th>\n",
       "      <th>model-2</th>\n",
       "      <th>model-3</th>\n",
       "      <th>model-4</th>\n",
       "      <th>model-5</th>\n",
       "      <th>model-6</th>\n",
       "      <th>model-7</th>\n",
       "      <th>model-8</th>\n",
       "      <th>model-9</th>\n",
       "    </tr>\n",
       "  </thead>\n",
       "  <tbody>\n",
       "    <tr>\n",
       "      <th>0</th>\n",
       "      <td>1</td>\n",
       "      <td>1</td>\n",
       "      <td>1</td>\n",
       "      <td>1</td>\n",
       "      <td>1</td>\n",
       "      <td>1</td>\n",
       "      <td>1</td>\n",
       "      <td>1</td>\n",
       "      <td>1</td>\n",
       "      <td>1</td>\n",
       "    </tr>\n",
       "    <tr>\n",
       "      <th>1</th>\n",
       "      <td>-1</td>\n",
       "      <td>-1</td>\n",
       "      <td>-1</td>\n",
       "      <td>-1</td>\n",
       "      <td>-1</td>\n",
       "      <td>-1</td>\n",
       "      <td>-1</td>\n",
       "      <td>-1</td>\n",
       "      <td>-1</td>\n",
       "      <td>-1</td>\n",
       "    </tr>\n",
       "    <tr>\n",
       "      <th>2</th>\n",
       "      <td>1</td>\n",
       "      <td>1</td>\n",
       "      <td>1</td>\n",
       "      <td>1</td>\n",
       "      <td>1</td>\n",
       "      <td>1</td>\n",
       "      <td>1</td>\n",
       "      <td>1</td>\n",
       "      <td>1</td>\n",
       "      <td>1</td>\n",
       "    </tr>\n",
       "    <tr>\n",
       "      <th>3</th>\n",
       "      <td>-1</td>\n",
       "      <td>-1</td>\n",
       "      <td>-1</td>\n",
       "      <td>-1</td>\n",
       "      <td>-1</td>\n",
       "      <td>-1</td>\n",
       "      <td>-1</td>\n",
       "      <td>-1</td>\n",
       "      <td>-1</td>\n",
       "      <td>-1</td>\n",
       "    </tr>\n",
       "    <tr>\n",
       "      <th>4</th>\n",
       "      <td>1</td>\n",
       "      <td>1</td>\n",
       "      <td>1</td>\n",
       "      <td>1</td>\n",
       "      <td>1</td>\n",
       "      <td>1</td>\n",
       "      <td>1</td>\n",
       "      <td>1</td>\n",
       "      <td>1</td>\n",
       "      <td>1</td>\n",
       "    </tr>\n",
       "  </tbody>\n",
       "</table>\n",
       "</div>"
      ],
      "text/plain": [
       "   model-0  model-1  model-2  model-3  model-4  model-5  model-6  model-7  \\\n",
       "0        1        1        1        1        1        1        1        1   \n",
       "1       -1       -1       -1       -1       -1       -1       -1       -1   \n",
       "2        1        1        1        1        1        1        1        1   \n",
       "3       -1       -1       -1       -1       -1       -1       -1       -1   \n",
       "4        1        1        1        1        1        1        1        1   \n",
       "\n",
       "   model-8  model-9  \n",
       "0        1        1  \n",
       "1       -1       -1  \n",
       "2        1        1  \n",
       "3       -1       -1  \n",
       "4        1        1  "
      ]
     },
     "execution_count": 34,
     "metadata": {},
     "output_type": "execute_result"
    }
   ],
   "source": [
    "pred_df = pd.DataFrame(\n",
    "    data = np.array(preds).transpose(),\n",
    "    columns=[f'model-{p}' for p in range(n_folds)]\n",
    ")\n",
    "\n",
    "pred_df.head()"
   ]
  },
  {
   "cell_type": "code",
   "execution_count": 35,
   "id": "posted-valentine",
   "metadata": {},
   "outputs": [
    {
     "data": {
      "application/vnd.jupyter.widget-view+json": {
       "model_id": "bb75fc2df09a493db0e393da53f6a399",
       "version_major": 2,
       "version_minor": 0
      },
      "text/plain": [
       "  0%|          | 0/30000 [00:00<?, ?it/s]"
      ]
     },
     "metadata": {},
     "output_type": "display_data"
    }
   ],
   "source": [
    "test_df['label'] = 0\n",
    "\n",
    "for idx in tqdm(range(len(pred_df))):\n",
    "\n",
    "    if pred_df.iloc[idx].mean() >= .6:\n",
    "\n",
    "        test_df.at[idx, 'label'] = 1\n",
    "    else:\n",
    "        test_df.at[idx, 'label'] = -1"
   ]
  },
  {
   "cell_type": "code",
   "execution_count": 36,
   "id": "incomplete-creature",
   "metadata": {},
   "outputs": [
    {
     "data": {
      "text/html": [
       "<div>\n",
       "<style scoped>\n",
       "    .dataframe tbody tr th:only-of-type {\n",
       "        vertical-align: middle;\n",
       "    }\n",
       "\n",
       "    .dataframe tbody tr th {\n",
       "        vertical-align: top;\n",
       "    }\n",
       "\n",
       "    .dataframe thead th {\n",
       "        text-align: right;\n",
       "    }\n",
       "</style>\n",
       "<table border=\"1\" class=\"dataframe\">\n",
       "  <thead>\n",
       "    <tr style=\"text-align: right;\">\n",
       "      <th></th>\n",
       "      <th>ID</th>\n",
       "      <th>text</th>\n",
       "      <th>label</th>\n",
       "    </tr>\n",
       "  </thead>\n",
       "  <tbody>\n",
       "    <tr>\n",
       "      <th>29995</th>\n",
       "      <td>NHXTL3R</td>\n",
       "      <td>me ihebekch raw</td>\n",
       "      <td>-1</td>\n",
       "    </tr>\n",
       "    <tr>\n",
       "      <th>29996</th>\n",
       "      <td>U1YWB2O</td>\n",
       "      <td>nchallah rabi m3ak w iwaf9ek mais just 7abit n...</td>\n",
       "      <td>1</td>\n",
       "    </tr>\n",
       "    <tr>\n",
       "      <th>29997</th>\n",
       "      <td>O3KYLM0</td>\n",
       "      <td>slim rabi m3ak w e5edem w 5alli l7ossed lemnay...</td>\n",
       "      <td>1</td>\n",
       "    </tr>\n",
       "    <tr>\n",
       "      <th>29998</th>\n",
       "      <td>W4C38TY</td>\n",
       "      <td>bara 5alis rouhik yizi mitbal3it jam3iya hlaki...</td>\n",
       "      <td>-1</td>\n",
       "    </tr>\n",
       "    <tr>\n",
       "      <th>29999</th>\n",
       "      <td>4NNX5QE</td>\n",
       "      <td>rabi m3aak ya khawlaaa n7ebouuk rana barsha w ...</td>\n",
       "      <td>1</td>\n",
       "    </tr>\n",
       "  </tbody>\n",
       "</table>\n",
       "</div>"
      ],
      "text/plain": [
       "            ID                                               text  label\n",
       "29995  NHXTL3R                                    me ihebekch raw     -1\n",
       "29996  U1YWB2O  nchallah rabi m3ak w iwaf9ek mais just 7abit n...      1\n",
       "29997  O3KYLM0  slim rabi m3ak w e5edem w 5alli l7ossed lemnay...      1\n",
       "29998  W4C38TY  bara 5alis rouhik yizi mitbal3it jam3iya hlaki...     -1\n",
       "29999  4NNX5QE  rabi m3aak ya khawlaaa n7ebouuk rana barsha w ...      1"
      ]
     },
     "execution_count": 36,
     "metadata": {},
     "output_type": "execute_result"
    }
   ],
   "source": [
    "test_df.tail()"
   ]
  },
  {
   "cell_type": "code",
   "execution_count": 37,
   "id": "binding-color",
   "metadata": {},
   "outputs": [
    {
     "data": {
      "text/plain": [
       " 1    19238\n",
       "-1    10762\n",
       "Name: label, dtype: int64"
      ]
     },
     "execution_count": 37,
     "metadata": {},
     "output_type": "execute_result"
    }
   ],
   "source": [
    "test_df[['ID', 'label']]['label'].value_counts()"
   ]
  },
  {
   "cell_type": "code",
   "execution_count": 38,
   "id": "liberal-insert",
   "metadata": {},
   "outputs": [],
   "source": [
    "fn = f'NB-params-{params}-nfolds-{n_folds}.csv'\n",
    "\n",
    "test_df[['ID', 'label']].to_csv(\n",
    "    os.path.join(Config.submissions_dir,fn), \n",
    "    index=False\n",
    ")"
   ]
  },
  {
   "cell_type": "code",
   "execution_count": 39,
   "id": "polish-terminology",
   "metadata": {},
   "outputs": [
    {
     "data": {
      "text/plain": [
       "\"NB-params-{'alpha': 1.0, 'fit_prior': True, 'class_prior': None}-nfolds-10.csv\""
      ]
     },
     "execution_count": 39,
     "metadata": {},
     "output_type": "execute_result"
    }
   ],
   "source": [
    "fn"
   ]
  },
  {
   "cell_type": "code",
   "execution_count": null,
   "id": "disciplinary-christianity",
   "metadata": {},
   "outputs": [],
   "source": []
  }
 ],
 "metadata": {
  "kernelspec": {
   "display_name": "Python 3",
   "language": "python",
   "name": "python3"
  },
  "language_info": {
   "codemirror_mode": {
    "name": "ipython",
    "version": 3
   },
   "file_extension": ".py",
   "mimetype": "text/x-python",
   "name": "python",
   "nbconvert_exporter": "python",
   "pygments_lexer": "ipython3",
   "version": "3.8.8"
  },
  "widgets": {
   "application/vnd.jupyter.widget-state+json": {
    "state": {
     "01b87a9e770c460ebb5fb72b0c4d8812": {
      "model_module": "@jupyter-widgets/controls",
      "model_module_version": "1.5.0",
      "model_name": "HTMLModel",
      "state": {
       "layout": "IPY_MODEL_56ab6e7b127a43c0b341d677ed04a167",
       "style": "IPY_MODEL_0895d7a563bc4ef29c5a6082bbde7ef5",
       "value": "100%"
      }
     },
     "034cb1e357d34ac88047641cab902676": {
      "model_module": "@jupyter-widgets/base",
      "model_module_version": "1.2.0",
      "model_name": "LayoutModel",
      "state": {}
     },
     "04e3f1ef0b5b4c83a103d7ea15cf4a63": {
      "model_module": "@jupyter-widgets/controls",
      "model_module_version": "1.5.0",
      "model_name": "ProgressStyleModel",
      "state": {
       "description_width": ""
      }
     },
     "0583a72f8e174700893656af4e82039b": {
      "model_module": "@jupyter-widgets/controls",
      "model_module_version": "1.5.0",
      "model_name": "DescriptionStyleModel",
      "state": {
       "description_width": ""
      }
     },
     "07c539fc1aae46088496c3ba4c371985": {
      "model_module": "@jupyter-widgets/base",
      "model_module_version": "1.2.0",
      "model_name": "LayoutModel",
      "state": {}
     },
     "0895d7a563bc4ef29c5a6082bbde7ef5": {
      "model_module": "@jupyter-widgets/controls",
      "model_module_version": "1.5.0",
      "model_name": "DescriptionStyleModel",
      "state": {
       "description_width": ""
      }
     },
     "09a03057b5a34622b3788d923032ab89": {
      "model_module": "@jupyter-widgets/controls",
      "model_module_version": "1.5.0",
      "model_name": "DescriptionStyleModel",
      "state": {
       "description_width": ""
      }
     },
     "0c2bce10325546f78daa446bbc85a3d2": {
      "model_module": "@jupyter-widgets/controls",
      "model_module_version": "1.5.0",
      "model_name": "HBoxModel",
      "state": {
       "children": [
        "IPY_MODEL_01b87a9e770c460ebb5fb72b0c4d8812",
        "IPY_MODEL_304550b259fb43db943f065ad7714031",
        "IPY_MODEL_9a73dace88ca4e509cada3929ebc0f90"
       ],
       "layout": "IPY_MODEL_bc3dca6d1a7d491d902585801da52cc6"
      }
     },
     "0da2258d494e48d883124fd1f8ddc059": {
      "model_module": "@jupyter-widgets/controls",
      "model_module_version": "1.5.0",
      "model_name": "HTMLModel",
      "state": {
       "layout": "IPY_MODEL_9d9bfb2087b5417a829879ee4dc6d1de",
       "style": "IPY_MODEL_4b8267e941b64227a6db91a0e09a2ec1",
       "value": "100%"
      }
     },
     "122b7fc973da49fc862b459038198674": {
      "model_module": "@jupyter-widgets/controls",
      "model_module_version": "1.5.0",
      "model_name": "HTMLModel",
      "state": {
       "layout": "IPY_MODEL_5d81983a38964ae0ae48ec321f5a7829",
       "style": "IPY_MODEL_971cab0545ae4648b672b9795983e5c2",
       "value": " 30000/30000 [00:05&lt;00:00, 5819.80it/s]"
      }
     },
     "17b12ad5d03348d09bf30f8edfb5bb78": {
      "model_module": "@jupyter-widgets/base",
      "model_module_version": "1.2.0",
      "model_name": "LayoutModel",
      "state": {}
     },
     "1a7acf25e51141e0927a501968f61a00": {
      "model_module": "@jupyter-widgets/base",
      "model_module_version": "1.2.0",
      "model_name": "LayoutModel",
      "state": {}
     },
     "2350881dca7b4dce9ddaeaecc84e2fb1": {
      "model_module": "@jupyter-widgets/controls",
      "model_module_version": "1.5.0",
      "model_name": "HTMLModel",
      "state": {
       "layout": "IPY_MODEL_3e0bf6be62884a909e5025e797c2b817",
       "style": "IPY_MODEL_987dafacc8b647eeaba71c0a06544112",
       "value": " 30000/30000 [00:05&lt;00:00, 6067.78it/s]"
      }
     },
     "23ba3fc4543048d0958f2069a4cc83c2": {
      "model_module": "@jupyter-widgets/controls",
      "model_module_version": "1.5.0",
      "model_name": "HTMLModel",
      "state": {
       "layout": "IPY_MODEL_8125677195b94a248ea50bfd5053f943",
       "style": "IPY_MODEL_faf6720b16054d8297a0e3356b53dd52",
       "value": "100%"
      }
     },
     "25657b4665ad45b488a9be71b4d11233": {
      "model_module": "@jupyter-widgets/base",
      "model_module_version": "1.2.0",
      "model_name": "LayoutModel",
      "state": {}
     },
     "26d7b96450714d11bf13c39bfc025ce6": {
      "model_module": "@jupyter-widgets/base",
      "model_module_version": "1.2.0",
      "model_name": "LayoutModel",
      "state": {}
     },
     "2961a08b01274b85b4da12956cf37690": {
      "model_module": "@jupyter-widgets/controls",
      "model_module_version": "1.5.0",
      "model_name": "FloatProgressModel",
      "state": {
       "bar_style": "success",
       "layout": "IPY_MODEL_ba1d82faee144836bfbbca83edff25e3",
       "max": 10,
       "style": "IPY_MODEL_c848b7a0aaa84cc3b9457e550bda635d",
       "value": 10
      }
     },
     "304550b259fb43db943f065ad7714031": {
      "model_module": "@jupyter-widgets/controls",
      "model_module_version": "1.5.0",
      "model_name": "FloatProgressModel",
      "state": {
       "bar_style": "success",
       "layout": "IPY_MODEL_591dbab0b88540748514e76027ed42ca",
       "max": 5,
       "style": "IPY_MODEL_b9d94d1e183e47e59c6ad2c565339f00",
       "value": 5
      }
     },
     "31396866d25b4a99b7d6c788d1aaf038": {
      "model_module": "@jupyter-widgets/controls",
      "model_module_version": "1.5.0",
      "model_name": "DescriptionStyleModel",
      "state": {
       "description_width": ""
      }
     },
     "35e2a43532e947528ba268c160b3749f": {
      "model_module": "@jupyter-widgets/controls",
      "model_module_version": "1.5.0",
      "model_name": "FloatProgressModel",
      "state": {
       "bar_style": "success",
       "layout": "IPY_MODEL_83ebbcc27f2e473d87481e177ebc7579",
       "max": 10,
       "style": "IPY_MODEL_c21bb5d03b6244d0a3b184d6357c52d3",
       "value": 10
      }
     },
     "35e9c56bbe144ba78f9e2b258b5d1bb9": {
      "model_module": "@jupyter-widgets/controls",
      "model_module_version": "1.5.0",
      "model_name": "ProgressStyleModel",
      "state": {
       "description_width": ""
      }
     },
     "37a6674a18d9449abfbe98c58dee60c7": {
      "model_module": "@jupyter-widgets/base",
      "model_module_version": "1.2.0",
      "model_name": "LayoutModel",
      "state": {}
     },
     "3e0bf6be62884a909e5025e797c2b817": {
      "model_module": "@jupyter-widgets/base",
      "model_module_version": "1.2.0",
      "model_name": "LayoutModel",
      "state": {}
     },
     "43febd34789a4391bff41ffb626ea420": {
      "model_module": "@jupyter-widgets/controls",
      "model_module_version": "1.5.0",
      "model_name": "FloatProgressModel",
      "state": {
       "bar_style": "success",
       "layout": "IPY_MODEL_7b19bfdf603546e2adeb12d84f2d77e3",
       "max": 30000,
       "style": "IPY_MODEL_35e9c56bbe144ba78f9e2b258b5d1bb9",
       "value": 30000
      }
     },
     "4b8267e941b64227a6db91a0e09a2ec1": {
      "model_module": "@jupyter-widgets/controls",
      "model_module_version": "1.5.0",
      "model_name": "DescriptionStyleModel",
      "state": {
       "description_width": ""
      }
     },
     "5249399df3564de4b279d8f96e2b6c94": {
      "model_module": "@jupyter-widgets/base",
      "model_module_version": "1.2.0",
      "model_name": "LayoutModel",
      "state": {}
     },
     "5301ce2e14314e15ae317bf698f60eb0": {
      "model_module": "@jupyter-widgets/base",
      "model_module_version": "1.2.0",
      "model_name": "LayoutModel",
      "state": {}
     },
     "551a94e53cc84d188774793764797730": {
      "model_module": "@jupyter-widgets/controls",
      "model_module_version": "1.5.0",
      "model_name": "HTMLModel",
      "state": {
       "layout": "IPY_MODEL_1a7acf25e51141e0927a501968f61a00",
       "style": "IPY_MODEL_e701cd23bec643e294d0581f9e909b29",
       "value": " 30000/30000 [00:05&lt;00:00, 5934.99it/s]"
      }
     },
     "56ab6e7b127a43c0b341d677ed04a167": {
      "model_module": "@jupyter-widgets/base",
      "model_module_version": "1.2.0",
      "model_name": "LayoutModel",
      "state": {}
     },
     "591dbab0b88540748514e76027ed42ca": {
      "model_module": "@jupyter-widgets/base",
      "model_module_version": "1.2.0",
      "model_name": "LayoutModel",
      "state": {}
     },
     "5aed2d66767c40ac97002beb029c6f54": {
      "model_module": "@jupyter-widgets/controls",
      "model_module_version": "1.5.0",
      "model_name": "FloatProgressModel",
      "state": {
       "bar_style": "success",
       "layout": "IPY_MODEL_7bd53b4ae3714fb2ab7c44c4485c2ebc",
       "max": 30000,
       "style": "IPY_MODEL_db1a7bbcf0e3455aaaf7e4dfb9ce58f0",
       "value": 30000
      }
     },
     "5b68e060073249d59eb0f198836ed62b": {
      "model_module": "@jupyter-widgets/controls",
      "model_module_version": "1.5.0",
      "model_name": "DescriptionStyleModel",
      "state": {
       "description_width": ""
      }
     },
     "5d81983a38964ae0ae48ec321f5a7829": {
      "model_module": "@jupyter-widgets/base",
      "model_module_version": "1.2.0",
      "model_name": "LayoutModel",
      "state": {}
     },
     "5e4c0d2cad65490e93bc40e2a70b54ca": {
      "model_module": "@jupyter-widgets/base",
      "model_module_version": "1.2.0",
      "model_name": "LayoutModel",
      "state": {}
     },
     "60754cbcbd7a45c990eed9bbbffe2156": {
      "model_module": "@jupyter-widgets/controls",
      "model_module_version": "1.5.0",
      "model_name": "DescriptionStyleModel",
      "state": {
       "description_width": ""
      }
     },
     "676dbe8f918543d48dfb91b8be30d541": {
      "model_module": "@jupyter-widgets/base",
      "model_module_version": "1.2.0",
      "model_name": "LayoutModel",
      "state": {}
     },
     "695e0539f5c04759862fd400384b33b2": {
      "model_module": "@jupyter-widgets/controls",
      "model_module_version": "1.5.0",
      "model_name": "HBoxModel",
      "state": {
       "children": [
        "IPY_MODEL_a36ce61ed37a4a908f57f8e42a8b8d9e",
        "IPY_MODEL_35e2a43532e947528ba268c160b3749f",
        "IPY_MODEL_af706ec4a80a415ca2aae549d4768e72"
       ],
       "layout": "IPY_MODEL_7d0f8f3a91ca49fabaaa46438157fe91"
      }
     },
     "6e1c1c1d23db481f9f7a361ea986f1fb": {
      "model_module": "@jupyter-widgets/controls",
      "model_module_version": "1.5.0",
      "model_name": "DescriptionStyleModel",
      "state": {
       "description_width": ""
      }
     },
     "72647429a1794c6da95306c1a4573142": {
      "model_module": "@jupyter-widgets/controls",
      "model_module_version": "1.5.0",
      "model_name": "HTMLModel",
      "state": {
       "layout": "IPY_MODEL_034cb1e357d34ac88047641cab902676",
       "style": "IPY_MODEL_09a03057b5a34622b3788d923032ab89",
       "value": "100%"
      }
     },
     "730d0b7fe45c406b8db5e14e5f1c96f4": {
      "model_module": "@jupyter-widgets/controls",
      "model_module_version": "1.5.0",
      "model_name": "DescriptionStyleModel",
      "state": {
       "description_width": ""
      }
     },
     "74ae776a66a14362aeca8dacc009840b": {
      "model_module": "@jupyter-widgets/controls",
      "model_module_version": "1.5.0",
      "model_name": "HBoxModel",
      "state": {
       "children": [
        "IPY_MODEL_ad6ddb26b90f4a00b78c015aad289417",
        "IPY_MODEL_c98b8dd4fd324327b34efb23a21d674e",
        "IPY_MODEL_eb0a37a51ac14bc6ac69a23f64fbdd28"
       ],
       "layout": "IPY_MODEL_8449194cf141446a87cccf1e381f8681"
      }
     },
     "77cbd4f9a683444186962428eefd4457": {
      "model_module": "@jupyter-widgets/controls",
      "model_module_version": "1.5.0",
      "model_name": "ProgressStyleModel",
      "state": {
       "description_width": ""
      }
     },
     "7853a1aaeefa4faeaa2d72d7ed94ae58": {
      "model_module": "@jupyter-widgets/controls",
      "model_module_version": "1.5.0",
      "model_name": "DescriptionStyleModel",
      "state": {
       "description_width": ""
      }
     },
     "793f8a2644f74e1aa9c916418ee77956": {
      "model_module": "@jupyter-widgets/controls",
      "model_module_version": "1.5.0",
      "model_name": "HTMLModel",
      "state": {
       "layout": "IPY_MODEL_a0ed4674e2dc4977aebfbd0eec7feabb",
       "style": "IPY_MODEL_31396866d25b4a99b7d6c788d1aaf038",
       "value": "100%"
      }
     },
     "7b19bfdf603546e2adeb12d84f2d77e3": {
      "model_module": "@jupyter-widgets/base",
      "model_module_version": "1.2.0",
      "model_name": "LayoutModel",
      "state": {}
     },
     "7bd53b4ae3714fb2ab7c44c4485c2ebc": {
      "model_module": "@jupyter-widgets/base",
      "model_module_version": "1.2.0",
      "model_name": "LayoutModel",
      "state": {}
     },
     "7d0f8f3a91ca49fabaaa46438157fe91": {
      "model_module": "@jupyter-widgets/base",
      "model_module_version": "1.2.0",
      "model_name": "LayoutModel",
      "state": {}
     },
     "7e3f36e3e7d34e0487b2de2292eed627": {
      "model_module": "@jupyter-widgets/base",
      "model_module_version": "1.2.0",
      "model_name": "LayoutModel",
      "state": {}
     },
     "8125677195b94a248ea50bfd5053f943": {
      "model_module": "@jupyter-widgets/base",
      "model_module_version": "1.2.0",
      "model_name": "LayoutModel",
      "state": {}
     },
     "83ebbcc27f2e473d87481e177ebc7579": {
      "model_module": "@jupyter-widgets/base",
      "model_module_version": "1.2.0",
      "model_name": "LayoutModel",
      "state": {}
     },
     "8449194cf141446a87cccf1e381f8681": {
      "model_module": "@jupyter-widgets/base",
      "model_module_version": "1.2.0",
      "model_name": "LayoutModel",
      "state": {}
     },
     "89e25a924280474c8f1ebe7c5a891474": {
      "model_module": "@jupyter-widgets/controls",
      "model_module_version": "1.5.0",
      "model_name": "DescriptionStyleModel",
      "state": {
       "description_width": ""
      }
     },
     "8ae638a82acb481e93009f0550b373d7": {
      "model_module": "@jupyter-widgets/controls",
      "model_module_version": "1.5.0",
      "model_name": "HBoxModel",
      "state": {
       "children": [
        "IPY_MODEL_0da2258d494e48d883124fd1f8ddc059",
        "IPY_MODEL_de4665508a9a4401944a7d2adc605524",
        "IPY_MODEL_122b7fc973da49fc862b459038198674"
       ],
       "layout": "IPY_MODEL_07c539fc1aae46088496c3ba4c371985"
      }
     },
     "8b071dde75bc4f63ab62dbe439293e7a": {
      "model_module": "@jupyter-widgets/controls",
      "model_module_version": "1.5.0",
      "model_name": "ProgressStyleModel",
      "state": {
       "description_width": ""
      }
     },
     "8b9331fa1a02484fac91c8f345254ae5": {
      "model_module": "@jupyter-widgets/base",
      "model_module_version": "1.2.0",
      "model_name": "LayoutModel",
      "state": {}
     },
     "9426aa10f8ca4249987fcc7e06b146f9": {
      "model_module": "@jupyter-widgets/base",
      "model_module_version": "1.2.0",
      "model_name": "LayoutModel",
      "state": {}
     },
     "971cab0545ae4648b672b9795983e5c2": {
      "model_module": "@jupyter-widgets/controls",
      "model_module_version": "1.5.0",
      "model_name": "DescriptionStyleModel",
      "state": {
       "description_width": ""
      }
     },
     "975c682bd2a14aa799e3afbe1b181c5b": {
      "model_module": "@jupyter-widgets/controls",
      "model_module_version": "1.5.0",
      "model_name": "FloatProgressModel",
      "state": {
       "bar_style": "success",
       "layout": "IPY_MODEL_e00f5bbb97844b47a3389c32ab856429",
       "max": 5,
       "style": "IPY_MODEL_77cbd4f9a683444186962428eefd4457",
       "value": 5
      }
     },
     "987dafacc8b647eeaba71c0a06544112": {
      "model_module": "@jupyter-widgets/controls",
      "model_module_version": "1.5.0",
      "model_name": "DescriptionStyleModel",
      "state": {
       "description_width": ""
      }
     },
     "9a73dace88ca4e509cada3929ebc0f90": {
      "model_module": "@jupyter-widgets/controls",
      "model_module_version": "1.5.0",
      "model_name": "HTMLModel",
      "state": {
       "layout": "IPY_MODEL_a8891c7957194a4fa19efd5833f569ec",
       "style": "IPY_MODEL_5b68e060073249d59eb0f198836ed62b",
       "value": " 5/5 [00:00&lt;00:00, 27.65it/s]"
      }
     },
     "9d9bfb2087b5417a829879ee4dc6d1de": {
      "model_module": "@jupyter-widgets/base",
      "model_module_version": "1.2.0",
      "model_name": "LayoutModel",
      "state": {}
     },
     "9feb67319ee647eda16168e7618c6484": {
      "model_module": "@jupyter-widgets/base",
      "model_module_version": "1.2.0",
      "model_name": "LayoutModel",
      "state": {}
     },
     "a0ed4674e2dc4977aebfbd0eec7feabb": {
      "model_module": "@jupyter-widgets/base",
      "model_module_version": "1.2.0",
      "model_name": "LayoutModel",
      "state": {}
     },
     "a36ce61ed37a4a908f57f8e42a8b8d9e": {
      "model_module": "@jupyter-widgets/controls",
      "model_module_version": "1.5.0",
      "model_name": "HTMLModel",
      "state": {
       "layout": "IPY_MODEL_5e4c0d2cad65490e93bc40e2a70b54ca",
       "style": "IPY_MODEL_730d0b7fe45c406b8db5e14e5f1c96f4",
       "value": "Splitting: 100%"
      }
     },
     "a8891c7957194a4fa19efd5833f569ec": {
      "model_module": "@jupyter-widgets/base",
      "model_module_version": "1.2.0",
      "model_name": "LayoutModel",
      "state": {}
     },
     "a8bdd8225ec146e0878b7c5a0ecf9148": {
      "model_module": "@jupyter-widgets/controls",
      "model_module_version": "1.5.0",
      "model_name": "HBoxModel",
      "state": {
       "children": [
        "IPY_MODEL_23ba3fc4543048d0958f2069a4cc83c2",
        "IPY_MODEL_2961a08b01274b85b4da12956cf37690",
        "IPY_MODEL_dfe788163ad34166b45795cf6542957a"
       ],
       "layout": "IPY_MODEL_9426aa10f8ca4249987fcc7e06b146f9"
      }
     },
     "aadd3941981f40d4b72f281062929533": {
      "model_module": "@jupyter-widgets/controls",
      "model_module_version": "1.5.0",
      "model_name": "HTMLModel",
      "state": {
       "layout": "IPY_MODEL_8b9331fa1a02484fac91c8f345254ae5",
       "style": "IPY_MODEL_6e1c1c1d23db481f9f7a361ea986f1fb",
       "value": " 5/5 [00:00&lt;00:00, 94.97it/s]"
      }
     },
     "ad6ddb26b90f4a00b78c015aad289417": {
      "model_module": "@jupyter-widgets/controls",
      "model_module_version": "1.5.0",
      "model_name": "HTMLModel",
      "state": {
       "layout": "IPY_MODEL_25657b4665ad45b488a9be71b4d11233",
       "style": "IPY_MODEL_fb395c5b853945edac43517ee5a0be06",
       "value": "100%"
      }
     },
     "ae2c11265ad7495090a6f75be7e1f12c": {
      "model_module": "@jupyter-widgets/controls",
      "model_module_version": "1.5.0",
      "model_name": "HTMLModel",
      "state": {
       "layout": "IPY_MODEL_676dbe8f918543d48dfb91b8be30d541",
       "style": "IPY_MODEL_60754cbcbd7a45c990eed9bbbffe2156",
       "value": "Splitting: 100%"
      }
     },
     "af706ec4a80a415ca2aae549d4768e72": {
      "model_module": "@jupyter-widgets/controls",
      "model_module_version": "1.5.0",
      "model_name": "HTMLModel",
      "state": {
       "layout": "IPY_MODEL_e18719c90b264b2fbbe4e78cc97697c3",
       "style": "IPY_MODEL_89e25a924280474c8f1ebe7c5a891474",
       "value": " 10/10 [00:00&lt;00:00, 231.10it/s]"
      }
     },
     "b9d94d1e183e47e59c6ad2c565339f00": {
      "model_module": "@jupyter-widgets/controls",
      "model_module_version": "1.5.0",
      "model_name": "ProgressStyleModel",
      "state": {
       "description_width": ""
      }
     },
     "ba1d82faee144836bfbbca83edff25e3": {
      "model_module": "@jupyter-widgets/base",
      "model_module_version": "1.2.0",
      "model_name": "LayoutModel",
      "state": {}
     },
     "bb75fc2df09a493db0e393da53f6a399": {
      "model_module": "@jupyter-widgets/controls",
      "model_module_version": "1.5.0",
      "model_name": "HBoxModel",
      "state": {
       "children": [
        "IPY_MODEL_72647429a1794c6da95306c1a4573142",
        "IPY_MODEL_5aed2d66767c40ac97002beb029c6f54",
        "IPY_MODEL_551a94e53cc84d188774793764797730"
       ],
       "layout": "IPY_MODEL_5249399df3564de4b279d8f96e2b6c94"
      }
     },
     "bc3dca6d1a7d491d902585801da52cc6": {
      "model_module": "@jupyter-widgets/base",
      "model_module_version": "1.2.0",
      "model_name": "LayoutModel",
      "state": {}
     },
     "be39784cf7124ed2901e2e261393db45": {
      "model_module": "@jupyter-widgets/controls",
      "model_module_version": "1.5.0",
      "model_name": "HBoxModel",
      "state": {
       "children": [
        "IPY_MODEL_ae2c11265ad7495090a6f75be7e1f12c",
        "IPY_MODEL_975c682bd2a14aa799e3afbe1b181c5b",
        "IPY_MODEL_aadd3941981f40d4b72f281062929533"
       ],
       "layout": "IPY_MODEL_9feb67319ee647eda16168e7618c6484"
      }
     },
     "c21bb5d03b6244d0a3b184d6357c52d3": {
      "model_module": "@jupyter-widgets/controls",
      "model_module_version": "1.5.0",
      "model_name": "ProgressStyleModel",
      "state": {
       "description_width": ""
      }
     },
     "c848b7a0aaa84cc3b9457e550bda635d": {
      "model_module": "@jupyter-widgets/controls",
      "model_module_version": "1.5.0",
      "model_name": "ProgressStyleModel",
      "state": {
       "description_width": ""
      }
     },
     "c98b8dd4fd324327b34efb23a21d674e": {
      "model_module": "@jupyter-widgets/controls",
      "model_module_version": "1.5.0",
      "model_name": "FloatProgressModel",
      "state": {
       "bar_style": "success",
       "layout": "IPY_MODEL_5301ce2e14314e15ae317bf698f60eb0",
       "max": 5,
       "style": "IPY_MODEL_8b071dde75bc4f63ab62dbe439293e7a",
       "value": 5
      }
     },
     "cb405d1080ea49598ad70a9116b847a7": {
      "model_module": "@jupyter-widgets/controls",
      "model_module_version": "1.5.0",
      "model_name": "HBoxModel",
      "state": {
       "children": [
        "IPY_MODEL_793f8a2644f74e1aa9c916418ee77956",
        "IPY_MODEL_43febd34789a4391bff41ffb626ea420",
        "IPY_MODEL_2350881dca7b4dce9ddaeaecc84e2fb1"
       ],
       "layout": "IPY_MODEL_7e3f36e3e7d34e0487b2de2292eed627"
      }
     },
     "db1a7bbcf0e3455aaaf7e4dfb9ce58f0": {
      "model_module": "@jupyter-widgets/controls",
      "model_module_version": "1.5.0",
      "model_name": "ProgressStyleModel",
      "state": {
       "description_width": ""
      }
     },
     "de4665508a9a4401944a7d2adc605524": {
      "model_module": "@jupyter-widgets/controls",
      "model_module_version": "1.5.0",
      "model_name": "FloatProgressModel",
      "state": {
       "bar_style": "success",
       "layout": "IPY_MODEL_37a6674a18d9449abfbe98c58dee60c7",
       "max": 30000,
       "style": "IPY_MODEL_04e3f1ef0b5b4c83a103d7ea15cf4a63",
       "value": 30000
      }
     },
     "dfe788163ad34166b45795cf6542957a": {
      "model_module": "@jupyter-widgets/controls",
      "model_module_version": "1.5.0",
      "model_name": "HTMLModel",
      "state": {
       "layout": "IPY_MODEL_17b12ad5d03348d09bf30f8edfb5bb78",
       "style": "IPY_MODEL_7853a1aaeefa4faeaa2d72d7ed94ae58",
       "value": " 10/10 [00:00&lt;00:00, 30.50it/s]"
      }
     },
     "e00f5bbb97844b47a3389c32ab856429": {
      "model_module": "@jupyter-widgets/base",
      "model_module_version": "1.2.0",
      "model_name": "LayoutModel",
      "state": {}
     },
     "e18719c90b264b2fbbe4e78cc97697c3": {
      "model_module": "@jupyter-widgets/base",
      "model_module_version": "1.2.0",
      "model_name": "LayoutModel",
      "state": {}
     },
     "e701cd23bec643e294d0581f9e909b29": {
      "model_module": "@jupyter-widgets/controls",
      "model_module_version": "1.5.0",
      "model_name": "DescriptionStyleModel",
      "state": {
       "description_width": ""
      }
     },
     "eb0a37a51ac14bc6ac69a23f64fbdd28": {
      "model_module": "@jupyter-widgets/controls",
      "model_module_version": "1.5.0",
      "model_name": "HTMLModel",
      "state": {
       "layout": "IPY_MODEL_26d7b96450714d11bf13c39bfc025ce6",
       "style": "IPY_MODEL_0583a72f8e174700893656af4e82039b",
       "value": " 5/5 [00:00&lt;00:00, 49.99it/s]"
      }
     },
     "faf6720b16054d8297a0e3356b53dd52": {
      "model_module": "@jupyter-widgets/controls",
      "model_module_version": "1.5.0",
      "model_name": "DescriptionStyleModel",
      "state": {
       "description_width": ""
      }
     },
     "fb395c5b853945edac43517ee5a0be06": {
      "model_module": "@jupyter-widgets/controls",
      "model_module_version": "1.5.0",
      "model_name": "DescriptionStyleModel",
      "state": {
       "description_width": ""
      }
     }
    },
    "version_major": 2,
    "version_minor": 0
   }
  }
 },
 "nbformat": 4,
 "nbformat_minor": 5
}
