{
 "cells": [
  {
   "cell_type": "markdown",
   "id": "starting-baseline",
   "metadata": {},
   "source": [
    "# Experimenting bag of words"
   ]
  },
  {
   "cell_type": "code",
   "execution_count": 1,
   "id": "purple-friend",
   "metadata": {},
   "outputs": [],
   "source": [
    "import sys \n",
    "sys.path.append('../scripts')"
   ]
  },
  {
   "cell_type": "code",
   "execution_count": 2,
   "id": "acute-centre",
   "metadata": {},
   "outputs": [],
   "source": [
    "import os\n",
    "import pandas as pd\n",
    "import numpy as np\n",
    "from collections import Counter\n",
    "\n",
    "from config import Config\n",
    "from tqdm.auto import tqdm\n",
    "import seaborn as sb\n",
    "import matplotlib.pyplot as plt\n",
    "\n",
    "from sklearn.model_selection import StratifiedKFold, KFold\n",
    "from sklearn.feature_extraction.text import HashingVectorizer # BOW\n",
    "from sklearn.linear_model import PassiveAggressiveClassifier\n",
    "\n",
    "from sklearn.metrics import accuracy_score\n",
    "\n",
    "import nltk\n",
    "from nltk.tokenize import word_tokenize # word tokenizer\n",
    "\n",
    "from utils import remove_repetitions, replace_accents, make_folds\n",
    "\n",
    "import joblib\n",
    "import gc"
   ]
  },
  {
   "cell_type": "markdown",
   "id": "crucial-violence",
   "metadata": {},
   "source": [
    "# Load dataset"
   ]
  },
  {
   "cell_type": "code",
   "execution_count": 3,
   "id": "social-expansion",
   "metadata": {},
   "outputs": [],
   "source": [
    "train_df = pd.read_csv(os.path.join(Config.data_dir, 'cleaned_train.csv'))\n",
    "test_df = pd.read_csv(os.path.join(Config.data_dir, 'Test.csv'))\n",
    "sub_df = pd.read_csv(os.path.join(Config.submissions_dir, 'SampleSubmission.csv'))"
   ]
  },
  {
   "cell_type": "code",
   "execution_count": 4,
   "id": "frozen-exclusive",
   "metadata": {},
   "outputs": [
    {
     "data": {
      "text/html": [
       "<div>\n",
       "<style scoped>\n",
       "    .dataframe tbody tr th:only-of-type {\n",
       "        vertical-align: middle;\n",
       "    }\n",
       "\n",
       "    .dataframe tbody tr th {\n",
       "        vertical-align: top;\n",
       "    }\n",
       "\n",
       "    .dataframe thead th {\n",
       "        text-align: right;\n",
       "    }\n",
       "</style>\n",
       "<table border=\"1\" class=\"dataframe\">\n",
       "  <thead>\n",
       "    <tr style=\"text-align: right;\">\n",
       "      <th></th>\n",
       "      <th>ID</th>\n",
       "      <th>text</th>\n",
       "      <th>label</th>\n",
       "    </tr>\n",
       "  </thead>\n",
       "  <tbody>\n",
       "    <tr>\n",
       "      <th>0</th>\n",
       "      <td>13P0QT0</td>\n",
       "      <td>3sbaa lek ou le seim riahi ou 3sbaa le ca</td>\n",
       "      <td>-1</td>\n",
       "    </tr>\n",
       "    <tr>\n",
       "      <th>1</th>\n",
       "      <td>SKCLXCJ</td>\n",
       "      <td>cha3eb fey9elkoum menghir ta7ayoul ou kressi</td>\n",
       "      <td>-1</td>\n",
       "    </tr>\n",
       "    <tr>\n",
       "      <th>2</th>\n",
       "      <td>V1TVXIJ</td>\n",
       "      <td>bereau degage nathef ya slim walahi ya7chiw fi...</td>\n",
       "      <td>-1</td>\n",
       "    </tr>\n",
       "    <tr>\n",
       "      <th>3</th>\n",
       "      <td>U0TTYY8</td>\n",
       "      <td>ak slouma</td>\n",
       "      <td>1</td>\n",
       "    </tr>\n",
       "    <tr>\n",
       "      <th>4</th>\n",
       "      <td>68DX797</td>\n",
       "      <td>entom titmanou lina a7na 3iid moubarik a7na ch...</td>\n",
       "      <td>-1</td>\n",
       "    </tr>\n",
       "  </tbody>\n",
       "</table>\n",
       "</div>"
      ],
      "text/plain": [
       "        ID                                               text  label\n",
       "0  13P0QT0          3sbaa lek ou le seim riahi ou 3sbaa le ca     -1\n",
       "1  SKCLXCJ       cha3eb fey9elkoum menghir ta7ayoul ou kressi     -1\n",
       "2  V1TVXIJ  bereau degage nathef ya slim walahi ya7chiw fi...     -1\n",
       "3  U0TTYY8                                          ak slouma      1\n",
       "4  68DX797  entom titmanou lina a7na 3iid moubarik a7na ch...     -1"
      ]
     },
     "execution_count": 4,
     "metadata": {},
     "output_type": "execute_result"
    }
   ],
   "source": [
    "train_df.head()"
   ]
  },
  {
   "cell_type": "code",
   "execution_count": 5,
   "id": "funny-split",
   "metadata": {},
   "outputs": [
    {
     "data": {
      "text/html": [
       "<div>\n",
       "<style scoped>\n",
       "    .dataframe tbody tr th:only-of-type {\n",
       "        vertical-align: middle;\n",
       "    }\n",
       "\n",
       "    .dataframe tbody tr th {\n",
       "        vertical-align: top;\n",
       "    }\n",
       "\n",
       "    .dataframe thead th {\n",
       "        text-align: right;\n",
       "    }\n",
       "</style>\n",
       "<table border=\"1\" class=\"dataframe\">\n",
       "  <thead>\n",
       "    <tr style=\"text-align: right;\">\n",
       "      <th></th>\n",
       "      <th>ID</th>\n",
       "      <th>text</th>\n",
       "    </tr>\n",
       "  </thead>\n",
       "  <tbody>\n",
       "    <tr>\n",
       "      <th>0</th>\n",
       "      <td>2DDHQW9</td>\n",
       "      <td>barcha aaindou fiha hak w barcha teflim kadhalik</td>\n",
       "    </tr>\n",
       "    <tr>\n",
       "      <th>1</th>\n",
       "      <td>5HY6UEY</td>\n",
       "      <td>ye gernabou ye 9a7ba</td>\n",
       "    </tr>\n",
       "    <tr>\n",
       "      <th>2</th>\n",
       "      <td>ATNVUJX</td>\n",
       "      <td>saber w barra rabbi m3ak 5ouya</td>\n",
       "    </tr>\n",
       "    <tr>\n",
       "      <th>3</th>\n",
       "      <td>Q9XYVOQ</td>\n",
       "      <td>cha3ébbb ta7aaaaannnnnnnnnnn tfouuhh</td>\n",
       "    </tr>\n",
       "    <tr>\n",
       "      <th>4</th>\n",
       "      <td>TOAHLRH</td>\n",
       "      <td>rabi y5alihoulek w yfar7ek bih w inchallah itc...</td>\n",
       "    </tr>\n",
       "  </tbody>\n",
       "</table>\n",
       "</div>"
      ],
      "text/plain": [
       "        ID                                               text\n",
       "0  2DDHQW9   barcha aaindou fiha hak w barcha teflim kadhalik\n",
       "1  5HY6UEY                               ye gernabou ye 9a7ba\n",
       "2  ATNVUJX                     saber w barra rabbi m3ak 5ouya\n",
       "3  Q9XYVOQ               cha3ébbb ta7aaaaannnnnnnnnnn tfouuhh\n",
       "4  TOAHLRH  rabi y5alihoulek w yfar7ek bih w inchallah itc..."
      ]
     },
     "execution_count": 5,
     "metadata": {},
     "output_type": "execute_result"
    }
   ],
   "source": [
    "test_df.head()"
   ]
  },
  {
   "cell_type": "markdown",
   "id": "binary-cisco",
   "metadata": {},
   "source": [
    "# Preprocessing pipeline\n",
    "\n",
    "* Remove neutral texts or add them to positive samples\n",
    "* Tokenize input sentences\n"
   ]
  },
  {
   "cell_type": "code",
   "execution_count": 6,
   "id": "mysterious-memorial",
   "metadata": {},
   "outputs": [
    {
     "data": {
      "text/html": [
       "<div>\n",
       "<style scoped>\n",
       "    .dataframe tbody tr th:only-of-type {\n",
       "        vertical-align: middle;\n",
       "    }\n",
       "\n",
       "    .dataframe tbody tr th {\n",
       "        vertical-align: top;\n",
       "    }\n",
       "\n",
       "    .dataframe thead th {\n",
       "        text-align: right;\n",
       "    }\n",
       "</style>\n",
       "<table border=\"1\" class=\"dataframe\">\n",
       "  <thead>\n",
       "    <tr style=\"text-align: right;\">\n",
       "      <th></th>\n",
       "      <th>ID</th>\n",
       "      <th>text</th>\n",
       "      <th>label</th>\n",
       "    </tr>\n",
       "  </thead>\n",
       "  <tbody>\n",
       "    <tr>\n",
       "      <th>0</th>\n",
       "      <td>13P0QT0</td>\n",
       "      <td>3sbaa lek ou le seim riahi ou 3sbaa le ca</td>\n",
       "      <td>0</td>\n",
       "    </tr>\n",
       "    <tr>\n",
       "      <th>1</th>\n",
       "      <td>SKCLXCJ</td>\n",
       "      <td>cha3eb fey9elkoum menghir ta7ayoul ou kressi</td>\n",
       "      <td>0</td>\n",
       "    </tr>\n",
       "    <tr>\n",
       "      <th>2</th>\n",
       "      <td>V1TVXIJ</td>\n",
       "      <td>bereau degage nathef ya slim walahi ya7chiw fi...</td>\n",
       "      <td>0</td>\n",
       "    </tr>\n",
       "    <tr>\n",
       "      <th>3</th>\n",
       "      <td>U0TTYY8</td>\n",
       "      <td>ak slouma</td>\n",
       "      <td>1</td>\n",
       "    </tr>\n",
       "    <tr>\n",
       "      <th>4</th>\n",
       "      <td>68DX797</td>\n",
       "      <td>entom titmanou lina a7na 3iid moubarik a7na ch...</td>\n",
       "      <td>0</td>\n",
       "    </tr>\n",
       "  </tbody>\n",
       "</table>\n",
       "</div>"
      ],
      "text/plain": [
       "        ID                                               text  label\n",
       "0  13P0QT0          3sbaa lek ou le seim riahi ou 3sbaa le ca      0\n",
       "1  SKCLXCJ       cha3eb fey9elkoum menghir ta7ayoul ou kressi      0\n",
       "2  V1TVXIJ  bereau degage nathef ya slim walahi ya7chiw fi...      0\n",
       "3  U0TTYY8                                          ak slouma      1\n",
       "4  68DX797  entom titmanou lina a7na 3iid moubarik a7na ch...      0"
      ]
     },
     "execution_count": 6,
     "metadata": {},
     "output_type": "execute_result"
    }
   ],
   "source": [
    "# use neutral as positime sample\n",
    "label_map = {\n",
    "    '-1' : 0,\n",
    "    '0' : 1,\n",
    "    '1' : 1\n",
    "}\n",
    "train_df['label'] = train_df['label'].apply(lambda label: label_map[str(label)])\n",
    "train_df.head()"
   ]
  },
  {
   "cell_type": "code",
   "execution_count": 7,
   "id": "accompanied-agenda",
   "metadata": {},
   "outputs": [
    {
     "data": {
      "text/plain": [
       "['3sbaa', 'lek', 'ou', 'le', 'seim', 'riahi', 'ou', '3sbaa', 'le', 'ca']"
      ]
     },
     "execution_count": 7,
     "metadata": {},
     "output_type": "execute_result"
    }
   ],
   "source": [
    "word_tokenize(text = train_df.iloc[0].text, language='french')"
   ]
  },
  {
   "cell_type": "markdown",
   "id": "overhead-snake",
   "metadata": {},
   "source": [
    "# define vectorizer\n",
    "bow = CountVectorizer(\n",
    "    tokenizer=word_tokenize, \n",
    "    token_pattern=None\n",
    ")\n",
    "\n",
    "bow = HashingVectorizer(\n",
    "    tokenizer=word_tokenize, \n",
    "    token_pattern=None\n",
    ")"
   ]
  },
  {
   "cell_type": "markdown",
   "id": "former-tragedy",
   "metadata": {},
   "source": [
    "%%time\n",
    "# apply vectorization\n",
    "transformed_dataset = bow.fit_transform(X=train_df.text)\n"
   ]
  },
  {
   "cell_type": "markdown",
   "id": "naked-notice",
   "metadata": {},
   "source": [
    "# Training pipeline\n",
    "* Using KFold cross-validation\n",
    "* Split data into n folds"
   ]
  },
  {
   "cell_type": "code",
   "execution_count": 9,
   "id": "genuine-birmingham",
   "metadata": {},
   "outputs": [
    {
     "data": {
      "application/vnd.jupyter.widget-view+json": {
       "model_id": "13f14bacd02e410b93263dd30a179f04",
       "version_major": 2,
       "version_minor": 0
      },
      "text/plain": [
       "Splitting:   0%|          | 0/5 [00:00<?, ?it/s]"
      ]
     },
     "metadata": {},
     "output_type": "display_data"
    },
    {
     "data": {
      "text/html": [
       "<div>\n",
       "<style scoped>\n",
       "    .dataframe tbody tr th:only-of-type {\n",
       "        vertical-align: middle;\n",
       "    }\n",
       "\n",
       "    .dataframe tbody tr th {\n",
       "        vertical-align: top;\n",
       "    }\n",
       "\n",
       "    .dataframe thead th {\n",
       "        text-align: right;\n",
       "    }\n",
       "</style>\n",
       "<table border=\"1\" class=\"dataframe\">\n",
       "  <thead>\n",
       "    <tr style=\"text-align: right;\">\n",
       "      <th></th>\n",
       "      <th>ID</th>\n",
       "      <th>text</th>\n",
       "      <th>label</th>\n",
       "      <th>fold</th>\n",
       "    </tr>\n",
       "  </thead>\n",
       "  <tbody>\n",
       "    <tr>\n",
       "      <th>0</th>\n",
       "      <td>13P0QT0</td>\n",
       "      <td>3sbaa lek ou le seim riahi ou 3sbaa le ca</td>\n",
       "      <td>0</td>\n",
       "      <td>3</td>\n",
       "    </tr>\n",
       "    <tr>\n",
       "      <th>1</th>\n",
       "      <td>SKCLXCJ</td>\n",
       "      <td>cha3eb fey9elkoum menghir ta7ayoul ou kressi</td>\n",
       "      <td>0</td>\n",
       "      <td>4</td>\n",
       "    </tr>\n",
       "    <tr>\n",
       "      <th>2</th>\n",
       "      <td>V1TVXIJ</td>\n",
       "      <td>bereau degage nathef ya slim walahi ya7chiw fi...</td>\n",
       "      <td>0</td>\n",
       "      <td>3</td>\n",
       "    </tr>\n",
       "    <tr>\n",
       "      <th>3</th>\n",
       "      <td>U0TTYY8</td>\n",
       "      <td>ak slouma</td>\n",
       "      <td>1</td>\n",
       "      <td>3</td>\n",
       "    </tr>\n",
       "    <tr>\n",
       "      <th>4</th>\n",
       "      <td>68DX797</td>\n",
       "      <td>entom titmanou lina a7na 3iid moubarik a7na ch...</td>\n",
       "      <td>0</td>\n",
       "      <td>2</td>\n",
       "    </tr>\n",
       "  </tbody>\n",
       "</table>\n",
       "</div>"
      ],
      "text/plain": [
       "        ID                                               text  label  fold\n",
       "0  13P0QT0          3sbaa lek ou le seim riahi ou 3sbaa le ca      0     3\n",
       "1  SKCLXCJ       cha3eb fey9elkoum menghir ta7ayoul ou kressi      0     4\n",
       "2  V1TVXIJ  bereau degage nathef ya slim walahi ya7chiw fi...      0     3\n",
       "3  U0TTYY8                                          ak slouma      1     3\n",
       "4  68DX797  entom titmanou lina a7na 3iid moubarik a7na ch...      0     2"
      ]
     },
     "execution_count": 9,
     "metadata": {},
     "output_type": "execute_result"
    }
   ],
   "source": [
    "class args:\n",
    "    n_folds = 5\n",
    "    \n",
    "\n",
    "dataset, n_folds = make_folds(\n",
    "    data = train_df, \n",
    "    args = args, \n",
    "    target_col='label', \n",
    "    stratified= True\n",
    ")\n",
    "\n",
    "dataset.head()"
   ]
  },
  {
   "cell_type": "markdown",
   "id": "banned-lighting",
   "metadata": {},
   "source": [
    "# Training"
   ]
  },
  {
   "cell_type": "code",
   "execution_count": 11,
   "id": "increasing-nitrogen",
   "metadata": {
    "tags": []
   },
   "outputs": [
    {
     "name": "stdout",
     "output_type": "stream",
     "text": [
      "[INFO] Fold : 0 -> acc : 0.78557\n",
      "[INFO] Fold : 1 -> acc : 0.78750\n",
      "[INFO] Fold : 2 -> acc : 0.78121\n",
      "[INFO] Fold : 3 -> acc : 0.77914\n",
      "[INFO] Fold : 4 -> acc : 0.78350\n",
      "[INFO] Average accuracy : 0.7833857142857144\n",
      "CPU times: user 38.7 s, sys: 184 ms, total: 38.8 s\n",
      "Wall time: 33.8 s\n"
     ]
    }
   ],
   "source": [
    "%%time\n",
    "\n",
    "accs = []\n",
    "for fold_num in range(n_folds):\n",
    "    \n",
    "    train = dataset[dataset.fold!=fold_num].reset_index(drop=True)\n",
    "    val = dataset[dataset.fold==fold_num].reset_index(drop=True)\n",
    "    \n",
    "    # define vectorizer\n",
    "    bow = HashingVectorizer(\n",
    "        tokenizer=word_tokenize, \n",
    "        token_pattern=None, \n",
    "        alternate_sign=False\n",
    "        )\n",
    "    \n",
    "    bow.fit(train.text)\n",
    "    \n",
    "    # train data\n",
    "    xtrain = bow.transform(train.text)\n",
    "    ytrain = train.label.values\n",
    "    \n",
    "    # test data \n",
    "    xval = bow.transform(val.text)\n",
    "    yval = val.label.values\n",
    "    \n",
    "    # modeling \n",
    "    params = {\n",
    "        'C' : 1.0,\n",
    "    'fit_intercept' :True,\n",
    "    'max_iter' : 1000,\n",
    "    'tol' : 0.001,\n",
    "    'early_stopping' : False,\n",
    "    'validation_fraction' : 0.1,\n",
    "    'n_iter_no_change' : 5,\n",
    "    'shuffle' : True,\n",
    "    'verbose' : 0,\n",
    "    'loss' : 'hinge',\n",
    "    'n_jobs' : 2,\n",
    "    'random_state' : Config.seed_value,\n",
    "    'warm_start' : False,\n",
    "    'class_weight' : None,\n",
    "    'average' : False,\n",
    "    }\n",
    "    model = PassiveAggressiveClassifier(**params)\n",
    "    \n",
    "    # run training\n",
    "    model.fit(X=xtrain, y=ytrain)\n",
    "    \n",
    "    # make predictions\n",
    "    predictions = model.predict(X=xval)\n",
    "    \n",
    "    # compute accuracy\n",
    "    acc = accuracy_score(y_true=yval, y_pred=predictions)\n",
    "    \n",
    "    print(f\"[INFO] Fold : {fold_num} -> acc : {acc:.5f}\")\n",
    "    \n",
    "    accs.append(acc)\n",
    "    # save model\n",
    "    _ = joblib.dump(\n",
    "        value=model, \n",
    "        filename=os.path.join(Config.models_dir, f'Arabizi-PA-fold-{fold_num}.pkl')\n",
    "    )\n",
    "    \n",
    "    del train\n",
    "    del val\n",
    "    del xtrain\n",
    "    del xval\n",
    "    del ytrain\n",
    "    del yval\n",
    "    del model\n",
    "    del predictions\n",
    "    del bow\n",
    "    \n",
    "    gc.collect()\n",
    "\n",
    "avg_acc = np.array(accs).mean()\n",
    "\n",
    "print(f'[INFO] Average accuracy : {avg_acc}')"
   ]
  },
  {
   "cell_type": "markdown",
   "id": "settled-search",
   "metadata": {},
   "source": [
    "# Prediction & submission"
   ]
  },
  {
   "cell_type": "code",
   "execution_count": 12,
   "id": "electoral-waterproof",
   "metadata": {},
   "outputs": [
    {
     "data": {
      "application/vnd.jupyter.widget-view+json": {
       "model_id": "ebc1f612a21d458b80bfdea66b3e7119",
       "version_major": 2,
       "version_minor": 0
      },
      "text/plain": [
       "  0%|          | 0/5 [00:00<?, ?it/s]"
      ]
     },
     "metadata": {},
     "output_type": "display_data"
    },
    {
     "name": "stdout",
     "output_type": "stream",
     "text": [
      "Arabizi-PA-fold-3.pkl\n",
      "Arabizi-PA-fold-2.pkl\n",
      "Arabizi-PA-fold-1.pkl\n",
      "Arabizi-PA-fold-4.pkl\n",
      "Arabizi-PA-fold-0.pkl\n"
     ]
    }
   ],
   "source": [
    "# preprocess test dataset\n",
    "test_df['text'] = test_df['text'].apply(\n",
    "    lambda txt : replace_accents(remove_repetitions(sequence=txt, n_repetitions=3))\n",
    ")\n",
    "\n",
    "bow = HashingVectorizer(\n",
    "    tokenizer=word_tokenize, \n",
    "    token_pattern=None,\n",
    "    alternate_sign=False\n",
    "\n",
    "    )\n",
    "\n",
    "xtest = bow.fit_transform(test_df.text)\n",
    "\n",
    "# inference\n",
    "preds = []\n",
    "\n",
    "kf_models = [f for f in os.listdir(Config.models_dir) if 'PA' in f]\n",
    "for fname in tqdm(kf_models):\n",
    "    print(fname)\n",
    "    # load model\n",
    "    model = joblib.load(filename=os.path.join(Config.models_dir, fname))\n",
    "    ypred = model.predict(xtest)\n",
    "    \n",
    "    # reformat predictions\n",
    "    for idx, p in enumerate(ypred):\n",
    "        if p == 0:\n",
    "            ypred[idx] = -1\n",
    "    \n",
    "    preds.append(ypred)\n"
   ]
  },
  {
   "cell_type": "code",
   "execution_count": 13,
   "id": "molecular-conjunction",
   "metadata": {},
   "outputs": [
    {
     "data": {
      "text/html": [
       "<div>\n",
       "<style scoped>\n",
       "    .dataframe tbody tr th:only-of-type {\n",
       "        vertical-align: middle;\n",
       "    }\n",
       "\n",
       "    .dataframe tbody tr th {\n",
       "        vertical-align: top;\n",
       "    }\n",
       "\n",
       "    .dataframe thead th {\n",
       "        text-align: right;\n",
       "    }\n",
       "</style>\n",
       "<table border=\"1\" class=\"dataframe\">\n",
       "  <thead>\n",
       "    <tr style=\"text-align: right;\">\n",
       "      <th></th>\n",
       "      <th>model-0</th>\n",
       "      <th>model-1</th>\n",
       "      <th>model-2</th>\n",
       "      <th>model-3</th>\n",
       "      <th>model-4</th>\n",
       "    </tr>\n",
       "  </thead>\n",
       "  <tbody>\n",
       "    <tr>\n",
       "      <th>0</th>\n",
       "      <td>1</td>\n",
       "      <td>1</td>\n",
       "      <td>1</td>\n",
       "      <td>1</td>\n",
       "      <td>1</td>\n",
       "    </tr>\n",
       "    <tr>\n",
       "      <th>1</th>\n",
       "      <td>-1</td>\n",
       "      <td>-1</td>\n",
       "      <td>-1</td>\n",
       "      <td>-1</td>\n",
       "      <td>-1</td>\n",
       "    </tr>\n",
       "    <tr>\n",
       "      <th>2</th>\n",
       "      <td>1</td>\n",
       "      <td>1</td>\n",
       "      <td>1</td>\n",
       "      <td>1</td>\n",
       "      <td>1</td>\n",
       "    </tr>\n",
       "    <tr>\n",
       "      <th>3</th>\n",
       "      <td>-1</td>\n",
       "      <td>-1</td>\n",
       "      <td>-1</td>\n",
       "      <td>-1</td>\n",
       "      <td>1</td>\n",
       "    </tr>\n",
       "    <tr>\n",
       "      <th>4</th>\n",
       "      <td>1</td>\n",
       "      <td>1</td>\n",
       "      <td>1</td>\n",
       "      <td>1</td>\n",
       "      <td>1</td>\n",
       "    </tr>\n",
       "  </tbody>\n",
       "</table>\n",
       "</div>"
      ],
      "text/plain": [
       "   model-0  model-1  model-2  model-3  model-4\n",
       "0        1        1        1        1        1\n",
       "1       -1       -1       -1       -1       -1\n",
       "2        1        1        1        1        1\n",
       "3       -1       -1       -1       -1        1\n",
       "4        1        1        1        1        1"
      ]
     },
     "execution_count": 13,
     "metadata": {},
     "output_type": "execute_result"
    }
   ],
   "source": [
    "pred_df = pd.DataFrame(\n",
    "    data = np.array(preds).transpose(),\n",
    "    columns=[f'model-{p}' for p in range(n_folds)]\n",
    ")\n",
    "\n",
    "pred_df.head()"
   ]
  },
  {
   "cell_type": "code",
   "execution_count": 14,
   "id": "weird-yeast",
   "metadata": {},
   "outputs": [
    {
     "data": {
      "application/vnd.jupyter.widget-view+json": {
       "model_id": "f8474a5e1d444981b191e7d8cb802e87",
       "version_major": 2,
       "version_minor": 0
      },
      "text/plain": [
       "  0%|          | 0/30000 [00:00<?, ?it/s]"
      ]
     },
     "metadata": {},
     "output_type": "display_data"
    }
   ],
   "source": [
    "test_df['label'] = 0\n",
    "\n",
    "for idx in tqdm(range(len(pred_df))):\n",
    "\n",
    "    if pred_df.iloc[idx].mean() >= .6:\n",
    "\n",
    "        test_df.at[idx, 'label'] = 1\n",
    "    else:\n",
    "        test_df.at[idx, 'label'] = -1"
   ]
  },
  {
   "cell_type": "code",
   "execution_count": 15,
   "id": "light-garbage",
   "metadata": {},
   "outputs": [
    {
     "data": {
      "text/html": [
       "<div>\n",
       "<style scoped>\n",
       "    .dataframe tbody tr th:only-of-type {\n",
       "        vertical-align: middle;\n",
       "    }\n",
       "\n",
       "    .dataframe tbody tr th {\n",
       "        vertical-align: top;\n",
       "    }\n",
       "\n",
       "    .dataframe thead th {\n",
       "        text-align: right;\n",
       "    }\n",
       "</style>\n",
       "<table border=\"1\" class=\"dataframe\">\n",
       "  <thead>\n",
       "    <tr style=\"text-align: right;\">\n",
       "      <th></th>\n",
       "      <th>ID</th>\n",
       "      <th>text</th>\n",
       "      <th>label</th>\n",
       "    </tr>\n",
       "  </thead>\n",
       "  <tbody>\n",
       "    <tr>\n",
       "      <th>29995</th>\n",
       "      <td>NHXTL3R</td>\n",
       "      <td>me ihebekch raw</td>\n",
       "      <td>-1</td>\n",
       "    </tr>\n",
       "    <tr>\n",
       "      <th>29996</th>\n",
       "      <td>U1YWB2O</td>\n",
       "      <td>nchallah rabi m3ak w iwaf9ek mais just 7abit n...</td>\n",
       "      <td>1</td>\n",
       "    </tr>\n",
       "    <tr>\n",
       "      <th>29997</th>\n",
       "      <td>O3KYLM0</td>\n",
       "      <td>slim rabi m3ak w e5edem w 5alli l7ossed lemnay...</td>\n",
       "      <td>1</td>\n",
       "    </tr>\n",
       "    <tr>\n",
       "      <th>29998</th>\n",
       "      <td>W4C38TY</td>\n",
       "      <td>bara 5alis rouhik yizi mitbal3it jam3iya hlaki...</td>\n",
       "      <td>-1</td>\n",
       "    </tr>\n",
       "    <tr>\n",
       "      <th>29999</th>\n",
       "      <td>4NNX5QE</td>\n",
       "      <td>rabi m3aaak ya khawlaaa n7ebouuuk rana barsha ...</td>\n",
       "      <td>1</td>\n",
       "    </tr>\n",
       "  </tbody>\n",
       "</table>\n",
       "</div>"
      ],
      "text/plain": [
       "            ID                                               text  label\n",
       "29995  NHXTL3R                                    me ihebekch raw     -1\n",
       "29996  U1YWB2O  nchallah rabi m3ak w iwaf9ek mais just 7abit n...      1\n",
       "29997  O3KYLM0  slim rabi m3ak w e5edem w 5alli l7ossed lemnay...      1\n",
       "29998  W4C38TY  bara 5alis rouhik yizi mitbal3it jam3iya hlaki...     -1\n",
       "29999  4NNX5QE  rabi m3aaak ya khawlaaa n7ebouuuk rana barsha ...      1"
      ]
     },
     "execution_count": 15,
     "metadata": {},
     "output_type": "execute_result"
    }
   ],
   "source": [
    "test_df.tail()"
   ]
  },
  {
   "cell_type": "code",
   "execution_count": 16,
   "id": "yellow-lobby",
   "metadata": {},
   "outputs": [
    {
     "data": {
      "text/plain": [
       " 1    15831\n",
       "-1    14169\n",
       "Name: label, dtype: int64"
      ]
     },
     "execution_count": 16,
     "metadata": {},
     "output_type": "execute_result"
    }
   ],
   "source": [
    "test_df[['ID', 'label']]['label'].value_counts()"
   ]
  },
  {
   "cell_type": "code",
   "execution_count": 20,
   "id": "hearing-johnson",
   "metadata": {},
   "outputs": [],
   "source": [
    "fn = f'PA-params-basic-nfolds-{n_folds}.csv'\n",
    "\n",
    "test_df[['ID', 'label']].to_csv(\n",
    "    os.path.join(Config.submissions_dir,fn), \n",
    "    index=False\n",
    ")"
   ]
  },
  {
   "cell_type": "code",
   "execution_count": 21,
   "id": "linear-magnitude",
   "metadata": {},
   "outputs": [
    {
     "data": {
      "text/plain": [
       "'PA-params-basic-nfolds-5.csv'"
      ]
     },
     "execution_count": 21,
     "metadata": {},
     "output_type": "execute_result"
    }
   ],
   "source": [
    "fn"
   ]
  },
  {
   "cell_type": "code",
   "execution_count": null,
   "id": "static-argentina",
   "metadata": {},
   "outputs": [],
   "source": []
  }
 ],
 "metadata": {
  "kernelspec": {
   "display_name": "Python 3",
   "language": "python",
   "name": "python3"
  },
  "language_info": {
   "codemirror_mode": {
    "name": "ipython",
    "version": 3
   },
   "file_extension": ".py",
   "mimetype": "text/x-python",
   "name": "python",
   "nbconvert_exporter": "python",
   "pygments_lexer": "ipython3",
   "version": "3.8.8"
  },
  "widgets": {
   "application/vnd.jupyter.widget-state+json": {
    "state": {
     "13f14bacd02e410b93263dd30a179f04": {
      "model_module": "@jupyter-widgets/controls",
      "model_module_version": "1.5.0",
      "model_name": "HBoxModel",
      "state": {
       "children": [
        "IPY_MODEL_b11c01fcc93a4b82976c752e6491628f",
        "IPY_MODEL_b348319eedde49cca909c0783e93c4e1",
        "IPY_MODEL_eecc3f1f9ac24e99aecdb5fe303b906b"
       ],
       "layout": "IPY_MODEL_e9b8e780b73d463e960b44cbc80c9038"
      }
     },
     "1407d7bfdfad435a8d374878e3d691df": {
      "model_module": "@jupyter-widgets/controls",
      "model_module_version": "1.5.0",
      "model_name": "HTMLModel",
      "state": {
       "layout": "IPY_MODEL_ad3e83905b5d4b439c9a9e0a7fb5095d",
       "style": "IPY_MODEL_ad5940fe366d4c78a5f6d87ff512627d",
       "value": "100%"
      }
     },
     "1ca1777ee44f4f0695981fd390d94064": {
      "model_module": "@jupyter-widgets/controls",
      "model_module_version": "1.5.0",
      "model_name": "HTMLModel",
      "state": {
       "layout": "IPY_MODEL_35829567adcb4a809ceafd3e05db0eea",
       "style": "IPY_MODEL_5910c732507b4c7fb05c56539f545c8a",
       "value": "Splitting: 100%"
      }
     },
     "23059f4b691a4ad6b2765fe62ed3e59e": {
      "model_module": "@jupyter-widgets/controls",
      "model_module_version": "1.5.0",
      "model_name": "HBoxModel",
      "state": {
       "children": [
        "IPY_MODEL_1ca1777ee44f4f0695981fd390d94064",
        "IPY_MODEL_56cb926d8a2a4ad387fc5cd3110ef14b",
        "IPY_MODEL_f465a14bfba34a84a0ba7e07e1b7eea9"
       ],
       "layout": "IPY_MODEL_63debe2d398f458dbf0989f62800ff36"
      }
     },
     "2873c0bc7ac64c03aaa599fd22784fd2": {
      "model_module": "@jupyter-widgets/controls",
      "model_module_version": "1.5.0",
      "model_name": "HTMLModel",
      "state": {
       "layout": "IPY_MODEL_a7e59cbf716d4ee59d1ec30e61613c3e",
       "style": "IPY_MODEL_be7f2b4863e945b58b72710ceee4fdf1",
       "value": "100%"
      }
     },
     "35829567adcb4a809ceafd3e05db0eea": {
      "model_module": "@jupyter-widgets/base",
      "model_module_version": "1.2.0",
      "model_name": "LayoutModel",
      "state": {}
     },
     "360f272a650c450191ae186b14308771": {
      "model_module": "@jupyter-widgets/controls",
      "model_module_version": "1.5.0",
      "model_name": "ProgressStyleModel",
      "state": {
       "description_width": ""
      }
     },
     "364ef18e6632457d9b93103a499888ea": {
      "model_module": "@jupyter-widgets/base",
      "model_module_version": "1.2.0",
      "model_name": "LayoutModel",
      "state": {}
     },
     "42788a5eb79f45848261466e813f14d4": {
      "model_module": "@jupyter-widgets/controls",
      "model_module_version": "1.5.0",
      "model_name": "ProgressStyleModel",
      "state": {
       "description_width": ""
      }
     },
     "4e57f3226e2c4a06844fe3056adcfcda": {
      "model_module": "@jupyter-widgets/controls",
      "model_module_version": "1.5.0",
      "model_name": "HTMLModel",
      "state": {
       "layout": "IPY_MODEL_c4bc2399894b4f8d99e899fd1d446c32",
       "style": "IPY_MODEL_6850956a8de04472a8fc77fe4f1900d9",
       "value": " 5/5 [00:00&lt;00:00, 55.34it/s]"
      }
     },
     "522337ed01db4290ae07bd62ab3a9e7b": {
      "model_module": "@jupyter-widgets/base",
      "model_module_version": "1.2.0",
      "model_name": "LayoutModel",
      "state": {}
     },
     "5622ac52358741ed8fa258523bac1227": {
      "model_module": "@jupyter-widgets/controls",
      "model_module_version": "1.5.0",
      "model_name": "DescriptionStyleModel",
      "state": {
       "description_width": ""
      }
     },
     "56cb926d8a2a4ad387fc5cd3110ef14b": {
      "model_module": "@jupyter-widgets/controls",
      "model_module_version": "1.5.0",
      "model_name": "FloatProgressModel",
      "state": {
       "bar_style": "success",
       "layout": "IPY_MODEL_61a8e3a6cb2e4921a7f7e9e9444faa41",
       "max": 10,
       "style": "IPY_MODEL_42788a5eb79f45848261466e813f14d4",
       "value": 10
      }
     },
     "586cd6ece22044bf879c035b8130f54a": {
      "model_module": "@jupyter-widgets/controls",
      "model_module_version": "1.5.0",
      "model_name": "DescriptionStyleModel",
      "state": {
       "description_width": ""
      }
     },
     "5910c732507b4c7fb05c56539f545c8a": {
      "model_module": "@jupyter-widgets/controls",
      "model_module_version": "1.5.0",
      "model_name": "DescriptionStyleModel",
      "state": {
       "description_width": ""
      }
     },
     "5c5cb9eea7344a26a66d286de6ce20f2": {
      "model_module": "@jupyter-widgets/controls",
      "model_module_version": "1.5.0",
      "model_name": "FloatProgressModel",
      "state": {
       "bar_style": "success",
       "layout": "IPY_MODEL_aefe273c48da482cb057352a3a2e50f4",
       "max": 5,
       "style": "IPY_MODEL_360f272a650c450191ae186b14308771",
       "value": 5
      }
     },
     "5d51a451914449e9a3babf38e84d2691": {
      "model_module": "@jupyter-widgets/base",
      "model_module_version": "1.2.0",
      "model_name": "LayoutModel",
      "state": {}
     },
     "61a8e3a6cb2e4921a7f7e9e9444faa41": {
      "model_module": "@jupyter-widgets/base",
      "model_module_version": "1.2.0",
      "model_name": "LayoutModel",
      "state": {}
     },
     "63debe2d398f458dbf0989f62800ff36": {
      "model_module": "@jupyter-widgets/base",
      "model_module_version": "1.2.0",
      "model_name": "LayoutModel",
      "state": {}
     },
     "6850956a8de04472a8fc77fe4f1900d9": {
      "model_module": "@jupyter-widgets/controls",
      "model_module_version": "1.5.0",
      "model_name": "DescriptionStyleModel",
      "state": {
       "description_width": ""
      }
     },
     "6da88091fabe4e93a939dca2be4165e3": {
      "model_module": "@jupyter-widgets/base",
      "model_module_version": "1.2.0",
      "model_name": "LayoutModel",
      "state": {}
     },
     "6ed040ae8fe14bb7a3c258cd55f27dd1": {
      "model_module": "@jupyter-widgets/controls",
      "model_module_version": "1.5.0",
      "model_name": "HTMLModel",
      "state": {
       "layout": "IPY_MODEL_b236f7ad7675475fbf337f89f6bbd03a",
       "style": "IPY_MODEL_f56196b5766843a59050dcaebc4887d6",
       "value": " 30000/30000 [00:05&lt;00:00, 5910.22it/s]"
      }
     },
     "843753930fa4428fb5145fb3df80e6ec": {
      "model_module": "@jupyter-widgets/controls",
      "model_module_version": "1.5.0",
      "model_name": "DescriptionStyleModel",
      "state": {
       "description_width": ""
      }
     },
     "913ccaf5735845d1852cf4636989a8d3": {
      "model_module": "@jupyter-widgets/base",
      "model_module_version": "1.2.0",
      "model_name": "LayoutModel",
      "state": {}
     },
     "a7e59cbf716d4ee59d1ec30e61613c3e": {
      "model_module": "@jupyter-widgets/base",
      "model_module_version": "1.2.0",
      "model_name": "LayoutModel",
      "state": {}
     },
     "ad3e83905b5d4b439c9a9e0a7fb5095d": {
      "model_module": "@jupyter-widgets/base",
      "model_module_version": "1.2.0",
      "model_name": "LayoutModel",
      "state": {}
     },
     "ad5940fe366d4c78a5f6d87ff512627d": {
      "model_module": "@jupyter-widgets/controls",
      "model_module_version": "1.5.0",
      "model_name": "DescriptionStyleModel",
      "state": {
       "description_width": ""
      }
     },
     "aefe273c48da482cb057352a3a2e50f4": {
      "model_module": "@jupyter-widgets/base",
      "model_module_version": "1.2.0",
      "model_name": "LayoutModel",
      "state": {}
     },
     "b11c01fcc93a4b82976c752e6491628f": {
      "model_module": "@jupyter-widgets/controls",
      "model_module_version": "1.5.0",
      "model_name": "HTMLModel",
      "state": {
       "layout": "IPY_MODEL_364ef18e6632457d9b93103a499888ea",
       "style": "IPY_MODEL_843753930fa4428fb5145fb3df80e6ec",
       "value": "Splitting: 100%"
      }
     },
     "b236f7ad7675475fbf337f89f6bbd03a": {
      "model_module": "@jupyter-widgets/base",
      "model_module_version": "1.2.0",
      "model_name": "LayoutModel",
      "state": {}
     },
     "b348319eedde49cca909c0783e93c4e1": {
      "model_module": "@jupyter-widgets/controls",
      "model_module_version": "1.5.0",
      "model_name": "FloatProgressModel",
      "state": {
       "bar_style": "success",
       "layout": "IPY_MODEL_5d51a451914449e9a3babf38e84d2691",
       "max": 5,
       "style": "IPY_MODEL_ebcd747ee5a647aaa0e776f1b0ca51e4",
       "value": 5
      }
     },
     "bbe9472afca949b99752459cab46f2c1": {
      "model_module": "@jupyter-widgets/controls",
      "model_module_version": "1.5.0",
      "model_name": "FloatProgressModel",
      "state": {
       "bar_style": "success",
       "layout": "IPY_MODEL_6da88091fabe4e93a939dca2be4165e3",
       "max": 30000,
       "style": "IPY_MODEL_f630f74975b54ad8a4a81509ff2e6a94",
       "value": 30000
      }
     },
     "be7f2b4863e945b58b72710ceee4fdf1": {
      "model_module": "@jupyter-widgets/controls",
      "model_module_version": "1.5.0",
      "model_name": "DescriptionStyleModel",
      "state": {
       "description_width": ""
      }
     },
     "c4bc2399894b4f8d99e899fd1d446c32": {
      "model_module": "@jupyter-widgets/base",
      "model_module_version": "1.2.0",
      "model_name": "LayoutModel",
      "state": {}
     },
     "cf857f75b74a4a28bf483ae35a205147": {
      "model_module": "@jupyter-widgets/base",
      "model_module_version": "1.2.0",
      "model_name": "LayoutModel",
      "state": {}
     },
     "e9b8e780b73d463e960b44cbc80c9038": {
      "model_module": "@jupyter-widgets/base",
      "model_module_version": "1.2.0",
      "model_name": "LayoutModel",
      "state": {}
     },
     "ebc1f612a21d458b80bfdea66b3e7119": {
      "model_module": "@jupyter-widgets/controls",
      "model_module_version": "1.5.0",
      "model_name": "HBoxModel",
      "state": {
       "children": [
        "IPY_MODEL_1407d7bfdfad435a8d374878e3d691df",
        "IPY_MODEL_5c5cb9eea7344a26a66d286de6ce20f2",
        "IPY_MODEL_4e57f3226e2c4a06844fe3056adcfcda"
       ],
       "layout": "IPY_MODEL_913ccaf5735845d1852cf4636989a8d3"
      }
     },
     "ebcd747ee5a647aaa0e776f1b0ca51e4": {
      "model_module": "@jupyter-widgets/controls",
      "model_module_version": "1.5.0",
      "model_name": "ProgressStyleModel",
      "state": {
       "description_width": ""
      }
     },
     "eecc3f1f9ac24e99aecdb5fe303b906b": {
      "model_module": "@jupyter-widgets/controls",
      "model_module_version": "1.5.0",
      "model_name": "HTMLModel",
      "state": {
       "layout": "IPY_MODEL_f173d51a935d49ddae69a58010c5f961",
       "style": "IPY_MODEL_586cd6ece22044bf879c035b8130f54a",
       "value": " 5/5 [00:00&lt;00:00, 108.54it/s]"
      }
     },
     "f173d51a935d49ddae69a58010c5f961": {
      "model_module": "@jupyter-widgets/base",
      "model_module_version": "1.2.0",
      "model_name": "LayoutModel",
      "state": {}
     },
     "f465a14bfba34a84a0ba7e07e1b7eea9": {
      "model_module": "@jupyter-widgets/controls",
      "model_module_version": "1.5.0",
      "model_name": "HTMLModel",
      "state": {
       "layout": "IPY_MODEL_cf857f75b74a4a28bf483ae35a205147",
       "style": "IPY_MODEL_5622ac52358741ed8fa258523bac1227",
       "value": " 10/10 [00:00&lt;00:00, 196.29it/s]"
      }
     },
     "f56196b5766843a59050dcaebc4887d6": {
      "model_module": "@jupyter-widgets/controls",
      "model_module_version": "1.5.0",
      "model_name": "DescriptionStyleModel",
      "state": {
       "description_width": ""
      }
     },
     "f630f74975b54ad8a4a81509ff2e6a94": {
      "model_module": "@jupyter-widgets/controls",
      "model_module_version": "1.5.0",
      "model_name": "ProgressStyleModel",
      "state": {
       "description_width": ""
      }
     },
     "f8474a5e1d444981b191e7d8cb802e87": {
      "model_module": "@jupyter-widgets/controls",
      "model_module_version": "1.5.0",
      "model_name": "HBoxModel",
      "state": {
       "children": [
        "IPY_MODEL_2873c0bc7ac64c03aaa599fd22784fd2",
        "IPY_MODEL_bbe9472afca949b99752459cab46f2c1",
        "IPY_MODEL_6ed040ae8fe14bb7a3c258cd55f27dd1"
       ],
       "layout": "IPY_MODEL_522337ed01db4290ae07bd62ab3a9e7b"
      }
     }
    },
    "version_major": 2,
    "version_minor": 0
   }
  }
 },
 "nbformat": 4,
 "nbformat_minor": 5
}
