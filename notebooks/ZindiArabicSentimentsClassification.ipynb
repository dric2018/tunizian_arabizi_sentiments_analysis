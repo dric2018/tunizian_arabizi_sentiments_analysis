{
 "cells": [
  {
   "cell_type": "markdown",
   "metadata": {
    "colab_type": "text",
    "id": "view-in-github"
   },
   "source": [
    "<a href=\"https://colab.research.google.com/github/dric2018/tunizian_arabizi_sentiments_analysis/blob/main/ZindiArabicSentimentsClassification.ipynb\" target=\"_parent\"><img src=\"https://colab.research.google.com/assets/colab-badge.svg\" alt=\"Open In Colab\"/></a>"
   ]
  },
  {
   "cell_type": "markdown",
   "metadata": {
    "id": "p4CzYRiY22K5"
   },
   "source": [
    "# Some utils"
   ]
  },
  {
   "cell_type": "code",
   "execution_count": 1,
   "metadata": {
    "colab": {
     "base_uri": "https://localhost:8080/"
    },
    "id": "Q_mhYWhf1tnh",
    "outputId": "1e8140fa-0deb-4b7a-e058-93dda9818e25"
   },
   "outputs": [
    {
     "name": "stdout",
     "output_type": "stream",
     "text": [
      "Writing init.sh\n"
     ]
    }
   ],
   "source": [
    "%%writefile init.sh\n",
    "\n",
    "pip install git+https://github.com/eaedk/testing-zindi-package.git -q\n",
    "pip install pytorch-lightning -q\n",
    "pip install transformers -U -q\n",
    "\n",
    "mkdir data/ data/raw/ data/processed/ \n",
    "\n",
    "python init.py -username I_am_Zeus_AI -download -data /content/data/raw #Connects the user and download the dataset from zindi"
   ]
  },
  {
   "cell_type": "code",
   "execution_count": 2,
   "metadata": {
    "colab": {
     "base_uri": "https://localhost:8080/"
    },
    "id": "SoEaxRp92zxq",
    "outputId": "df04260a-7139-403c-c5cf-fe9ad7ed44cd"
   },
   "outputs": [
    {
     "name": "stdout",
     "output_type": "stream",
     "text": [
      "Writing init.py\n"
     ]
    }
   ],
   "source": [
    "%%writefile init.py\n",
    "\n",
    "import os, sys, gc, glob\n",
    "import argparse\n",
    "import pandas as pd\n",
    "import numpy as np\n",
    "from zindi import user as zuser\n",
    "from sklearn.model_selection import train_test_split, StratifiedKFold\n",
    "\n",
    "\n",
    "parser = argparse.ArgumentParser(description='Logging phase')\n",
    "\n",
    "parser.add_argument('-username', type=str, help='Your Zindi username')\n",
    "parser.add_argument('-prefix', type=str, default='/content/drive/My Drive/ZindiArabic_texts_sentiments/', help=\"***\")\n",
    "parser.add_argument('-data', type=str, default='data/raw/', help=\"***\")\n",
    "\n",
    "parser.add_argument('-download', action='store_true', help=\"\")\n",
    "parser.add_argument('-pp', action='store_true', help=\"\")\n",
    "\n",
    "\n",
    "def download(args):\n",
    "\tuser = zuser.Zindian(args.username)\n",
    "\tuser.which_challenge\n",
    "\tuser.select_a_challenge()\n",
    "\tuser.download_dataset(args.data)\n",
    "\n",
    "\n",
    "def main(parser):\n",
    "\targs = parser.parse_args()\n",
    "\n",
    "\tassert args.download != args.pp, \"Can't use --download and --pp together.\"\n",
    "\n",
    "\tif args.download: download(args)\n",
    "\n",
    "\tif args.pp: \n",
    "\t\tpreprocessing(args)\n",
    "\t\tinfo(args)\n",
    "\n",
    "\n",
    "if __name__ == '__main__':\n",
    "\tmain(parser)"
   ]
  },
  {
   "cell_type": "markdown",
   "metadata": {
    "id": "I3w1sQtE2_FA"
   },
   "source": [
    "# Execute utils "
   ]
  },
  {
   "cell_type": "code",
   "execution_count": 3,
   "metadata": {
    "colab": {
     "base_uri": "https://localhost:8080/"
    },
    "id": "ukLMpQqe29UA",
    "outputId": "ef02ab16-3649-4a69-bbe2-0034b78df21f"
   },
   "outputs": [
    {
     "name": "stdout",
     "output_type": "stream",
     "text": [
      "  Building wheel for zindi (setup.py) ... \u001b[?25l\u001b[?25hdone\n",
      "\u001b[K     |████████████████████████████████| 563kB 12.8MB/s \n",
      "\u001b[K     |████████████████████████████████| 92kB 12.9MB/s \n",
      "\u001b[K     |████████████████████████████████| 829kB 56.3MB/s \n",
      "\u001b[K     |████████████████████████████████| 276kB 42.0MB/s \n",
      "\u001b[?25h  Building wheel for future (setup.py) ... \u001b[?25l\u001b[?25hdone\n",
      "  Building wheel for PyYAML (setup.py) ... \u001b[?25l\u001b[?25hdone\n",
      "\u001b[K     |████████████████████████████████| 1.3MB 12.1MB/s \n",
      "\u001b[K     |████████████████████████████████| 2.9MB 51.0MB/s \n",
      "\u001b[K     |████████████████████████████████| 890kB 46.7MB/s \n",
      "\u001b[K     |████████████████████████████████| 1.1MB 43.7MB/s \n",
      "\u001b[?25h  Building wheel for sacremoses (setup.py) ... \u001b[?25l\u001b[?25hdone\n",
      "Your password\n",
      ">> \n",
      "\n",
      "[ 🟢 ] 👋🏾👋🏾 Welcome I_am_Zeus_AI 👋🏾👋🏾\n",
      "\n",
      "\n",
      "[ 🔴 ] You have not yet selected any challenge.\n",
      "\n",
      "__________________________________________________________________________________________________________________________________\n",
      "|     |              |                  |                    |          \n",
      "|index|  challenge   |     problem      |       reward       |    id    \n",
      "|     |              |                  |                    |          \n",
      "----------------------------------------------------------------------------------------------------------------------------------\n",
      "|  0  |Public Compet |  Classification  |     $7,000 USD     | giz-nlp-agricultural-keyword-spotter...\n",
      "----------------------------------------------------------------------------------------------------------------------------------\n",
      "|  1  |Public Compet |    Prediction    |     $6,000 USD     | uber-nairobi-ambulance-perambulation-challenge...\n",
      "----------------------------------------------------------------------------------------------------------------------------------\n",
      "|  2  |Public Compet |    Prediction    |     $3,000 USD     | cgiar-crop-yield-prediction-challenge...\n",
      "----------------------------------------------------------------------------------------------------------------------------------\n",
      "|  3  |Public Compet |Reinforcement Lear| 3000 Zindi Points  | indaba-grand-challenge-curing-leishmaniasis...\n",
      "----------------------------------------------------------------------------------------------------------------------------------\n",
      "|  4  |Public Compet |  Classification  |     $2,000 USD     | ai4d-icompass-social-media-sentiment-analysis-for-...\n",
      "----------------------------------------------------------------------------------------------------------------------------------\n",
      "|  5  |Public Compet |  Classification  |   Job Interview    | instadeep-enzyme-classification-challenge...\n",
      "----------------------------------------------------------------------------------------------------------------------------------\n",
      "|  6  |Public Compet |  Classification  | 2000 Zindi Points  | runmila-ai-institute-minohealth-ai-labs-tuberculos...\n",
      "----------------------------------------------------------------------------------------------------------------------------------\n",
      "|  7  | Private Hack |                  |     EGP 30,000     | umojahack-egypt...\n",
      "----------------------------------------------------------------------------------------------------------------------------------\n",
      "|  8  | Private Hack |    Prediction    |     Knowledge      | pyladies-financial-inclusion-in-africa...\n",
      "----------------------------------------------------------------------------------------------------------------------------------\n",
      "|  9  | Private Hack |    Prediction    |    NGN 750,000     | umojahack-nigeria...\n",
      "----------------------------------------------------------------------------------------------------------------------------------\n",
      "| 10  | Private Hack |  Classification  |      100 TND       | xente-fraud-dection-hackathon...\n",
      "----------------------------------------------------------------------------------------------------------------------------------\n",
      "| 11  |Public Compet |    Prediction    |     Knowledge      | local-ocean-conservation-sea-turtle-face-detection...\n",
      "----------------------------------------------------------------------------------------------------------------------------------\n",
      "| 12  | Private Hack |    Prediction    |     Knowledge      | edsa-2021-sendy-logistics-challenge...\n",
      "----------------------------------------------------------------------------------------------------------------------------------\n",
      "| 13  |Public Compet |  Classification  |     Knowledge      | zindiweekendz-learning-to-vaccinate-or-not-to-vacc...\n",
      "----------------------------------------------------------------------------------------------------------------------------------\n",
      "| 14  |Public Compet |  Classification  |     Knowledge      | swahili-news-classification...\n",
      "----------------------------------------------------------------------------------------------------------------------------------\n",
      "| 15  |Public Compet |    Prediction    |     Knowledge      | zindiweekendz-learning-urban-air-pollution-challen...\n",
      "----------------------------------------------------------------------------------------------------------------------------------\n",
      "| 16  |Public Compet |  Classification  |     Knowledge      | zindiweekendz-learning-covid-19-tweet-classificati...\n",
      "----------------------------------------------------------------------------------------------------------------------------------\n",
      "| 17  |Public Compet |    Prediction    |     Knowledge      | zindiweekendz-learning-south-african-covid-19-vuln...\n",
      "----------------------------------------------------------------------------------------------------------------------------------\n",
      "| 18  |Public Compet | Computer Vision  |     Knowledge      | zindiweekendz-learning-spot-the-mask-challenge...\n",
      "----------------------------------------------------------------------------------------------------------------------------------\n",
      "| 19  |Public Compet |    Prediction    |     Knowledge      | data-science-nigeria-2019-challenge-1-insurance-pr...\n",
      "----------------------------------------------------------------------------------------------------------------------------------\n",
      "| 20  |Public Compet |    Prediction    |     Knowledge      | ai-tunisia-hack-5-predictive-analytics-challenge-2...\n",
      "----------------------------------------------------------------------------------------------------------------------------------\n",
      "| 21  |Public Compet |  Classification  |     Knowledge      | ai-hack-tunisia-1-computer-vision-challenge-1...\n",
      "----------------------------------------------------------------------------------------------------------------------------------\n",
      "| 22  |Public Compet |  Classification  |     Knowledge      | ai-hack-tunisia-4-predictive-analytics-challenge-1...\n",
      "----------------------------------------------------------------------------------------------------------------------------------\n",
      "| 23  |Public Compet | Computer Vision  |     Knowledge      | ai-hack-tunisia-2-computer-vision-challenge-2...\n",
      "----------------------------------------------------------------------------------------------------------------------------------\n",
      "| 24  |Public Compet |  Classification  |     Knowledge      | ai-hack-tunisia-6-predictive-analytics-challenge-3...\n",
      "----------------------------------------------------------------------------------------------------------------------------------\n",
      "| 25  |Public Compet | Computer Vision  |     Knowledge      | miia-pothole-image-classification-challenge...\n",
      "----------------------------------------------------------------------------------------------------------------------------------\n",
      "| 26  |Public Compet | Computer Vision  |     Knowledge      | sbtic-animal-classification...\n",
      "----------------------------------------------------------------------------------------------------------------------------------\n",
      "| 27  |Public Compet |    Prediction    |     Knowledge      | financial-inclusion-in-africa...\n",
      "----------------------------------------------------------------------------------------------------------------------------------\n",
      "| 28  |Public Compet | Computer Vision  |     Knowledge      | cmu-africa-data-science-club-challenge-1-computer-...\n",
      "----------------------------------------------------------------------------------------------------------------------------------\n",
      "| 29  |Public Compet |    Prediction    |     Knowledge      | data-science-nigeria-challenge-1-loan-default-pred...\n",
      "----------------------------------------------------------------------------------------------------------------------------------\n",
      "| 30  |Public Compet |    Prediction    |     Knowledge      | data-science-nigeria-challenge-2-recommendation-en...\n",
      "----------------------------------------------------------------------------------------------------------------------------------\n",
      "| 31  |Public Compet |    Prediction    |    $12,000 USD     | traffic-jam-predicting-peoples-movement-into-nairo...\n",
      "----------------------------------------------------------------------------------------------------------------------------------\n",
      "| 32  |Public Compet |  Classification  |    $11,000 USD     | farm-pin-crop-detection-challenge...\n",
      "----------------------------------------------------------------------------------------------------------------------------------\n",
      "| 33  |Public Compet |     Forecast     |    $10,000 USD     | 2030-vision-flood-prediction-in-malawi...\n",
      "----------------------------------------------------------------------------------------------------------------------------------\n",
      "| 34  |Public Compet |     Forecast     |     $8,000 USD     | wazihub-soil-moisture-prediction-challenge...\n",
      "----------------------------------------------------------------------------------------------------------------------------------\n",
      "| 35  |Public Compet |    Prediction    |     $7,000 USD     | sendy-logistics-challenge...\n",
      "----------------------------------------------------------------------------------------------------------------------------------\n",
      "| 36  |Public Compet |    Collection    |     $6,000 USD     | ai4d-african-language-dataset-challenge...\n",
      "----------------------------------------------------------------------------------------------------------------------------------\n",
      "| 37  |Public Compet |    Prediction    |     $5,500 USD     | uber-movement-sanral-cape-town-challenge...\n",
      "----------------------------------------------------------------------------------------------------------------------------------\n",
      "| 38  |Public Compet |    Prediction    |     $5,000 USD     | zimnat-insurance-recommendation-challenge...\n",
      "----------------------------------------------------------------------------------------------------------------------------------\n",
      "| 39  |Public Compet |     Forecast     |     $5,000 USD     | airqo-ugandan-air-quality-forecast-challenge...\n",
      "----------------------------------------------------------------------------------------------------------------------------------\n",
      "| 40  |Public Compet |     Forecast     |     $5,000 USD     | predict-the-global-spread-of-covid-19...\n",
      "----------------------------------------------------------------------------------------------------------------------------------\n",
      "| 41  |Public Compet | Computer Vision  |     $5,000 USD     | iclr-workshop-challenge-2-radiant-earth-computer-v...\n",
      "----------------------------------------------------------------------------------------------------------------------------------\n",
      "| 42  |Public Compet | Computer Vision  |     $5,000 USD     | iclr-workshop-challenge-1-cgiar-computer-vision-fo...\n",
      "----------------------------------------------------------------------------------------------------------------------------------\n",
      "| 43  |Public Compet |  Visualisation   |     $5,000 USD     | 2030-vision-data-visualization-and-reporting-chall...\n",
      "----------------------------------------------------------------------------------------------------------------------------------\n",
      "| 44  |Public Compet |    Prediction    |     $5,000 USD     | womxn-in-big-data-south-africa-female-headed-house...\n",
      "----------------------------------------------------------------------------------------------------------------------------------\n",
      "| 45  |Public Compet |  Classification  |     $4,500 USD     | xente-fraud-detection-challenge...\n",
      "----------------------------------------------------------------------------------------------------------------------------------\n",
      "| 46  |Public Compet |  Classification  |     $4,200 USD     | basic-needs-basic-rights-kenya-tech4mentalhealth...\n",
      "----------------------------------------------------------------------------------------------------------------------------------\n",
      "| 47  |Public Compet | Computer Vision  |     $3,000 USD     | cgiar-wheat-growth-stage-challenge...\n",
      "----------------------------------------------------------------------------------------------------------------------------------\n",
      "| 48  |Public Compet |    Prediction    |     $3,000 USD     | akeed-restaurant-recommendation-challenge...\n",
      "----------------------------------------------------------------------------------------------------------------------------------\n",
      "| 49  |Public Compet |  Visualisation   |     $3,195 USD     | animal-insights-challenge...\n",
      "----------------------------------------------------------------------------------------------------------------------------------\n",
      "| 50  |Public Compet |    Prediction    | 2000 Zindi Points  | sbtic-xente-credit-scoring-challenge...\n",
      "----------------------------------------------------------------------------------------------------------------------------------\n",
      "| 51  |Public Compet |  Visualisation   |     $3,000 USD     | ai-art... \n",
      "----------------------------------------------------------------------------------------------------------------------------------\n",
      "| 52  |Public Compet |    Prediction    |Cash and prizes wort| mobile-money-and-financial-inclusion-in-tanzania-c...\n",
      "----------------------------------------------------------------------------------------------------------------------------------\n",
      "| 53  |Public Compet |  Classification  | 2000 Zindi Points  | fowl-escapades...\n",
      "----------------------------------------------------------------------------------------------------------------------------------\n",
      "| 54  |Public Compet |     Forecast     | 2000 Zindi Points  | sea-turtle-rescue-forecast-challenge...\n",
      "----------------------------------------------------------------------------------------------------------------------------------\n",
      "| 55  |Public Compet |  Classification  | 2000 Zindi Points  | tic-heap-cirta-particle-classification-challenge...\n",
      "----------------------------------------------------------------------------------------------------------------------------------\n",
      "| 56  |Public Compet |     Forecast     | 2000 Zindi Points  | mtoto-news-childline-kenya-call-volume-prediction-...\n",
      "----------------------------------------------------------------------------------------------------------------------------------\n",
      "| 57  |Public Compet |  Classification  |Cash and prizes wort| sea-turtle-rescue-error-detection-challenge...\n",
      "----------------------------------------------------------------------------------------------------------------------------------\n",
      "| 58  |Public Compet |  Classification  |     $1,000 USD     | sustainable-development-goals-sdgs-text-classifica...\n",
      "----------------------------------------------------------------------------------------------------------------------------------\n",
      "| 59  |Public Compet |    Prediction    |     $1,000 USD     | social-media-prediction-challenge...\n",
      "----------------------------------------------------------------------------------------------------------------------------------\n",
      "| 60  |Public Compet |    Prediction    |  500 Zindi Points  | busara-mental-health-prediction-challenge...\n",
      "----------------------------------------------------------------------------------------------------------------------------------\n",
      "| 61  | Private Hack |    Prediction    |     Knowledge      | xente-credit-scoring-challenge...\n",
      "----------------------------------------------------------------------------------------------------------------------------------\n",
      "| 62  | Private Hack |    Prediction    |     Knowledge      | cmu-africa-fighting-fire-with-data...\n",
      "----------------------------------------------------------------------------------------------------------------------------------\n",
      "| 63  | Private Hack |  Classification  |     MAD 37,000     | umojahack-morocco...\n",
      "----------------------------------------------------------------------------------------------------------------------------------\n",
      "| 64  | Private Hack |  Classification  |     DT 11,000      | umojahack-tunisia...\n",
      "----------------------------------------------------------------------------------------------------------------------------------\n",
      "| 65  | Private Hack |    Prediction    |     $1,000 USD     | umojahack-zimbabwe...\n",
      "----------------------------------------------------------------------------------------------------------------------------------\n",
      "| 66  | Private Hack |    Prediction    |       R3,000       | uct-datathon-the-ultimate-hacking-challenge...\n",
      "----------------------------------------------------------------------------------------------------------------------------------\n",
      "| 67  | Private Hack |  Classification  |      100 TND       | supcom-tunisian-fraud-detection-challenge...\n",
      "----------------------------------------------------------------------------------------------------------------------------------\n",
      "| 68  | Private Hack |    Prediction    |     Knowledge      | dsn-ai-bootcamp-qualification-hackathon...\n",
      "----------------------------------------------------------------------------------------------------------------------------------\n",
      "| 69  | Private Hack |    Prediction    |     Knowledge      | expresso-churn-prediction-challenge...\n",
      "----------------------------------------------------------------------------------------------------------------------------------\n",
      "| 70  | Private Hack |  Classification  |     Knowledge      | instadeep-fraud-detection-in-electricity-and-gas-c...\n",
      "----------------------------------------------------------------------------------------------------------------------------------\n",
      "| 71  | Private Hack |    Prediction    |     Knowledge      | dsn-pre-bootcamp-hackathon-the-excellent-store-cha...\n",
      "----------------------------------------------------------------------------------------------------------------------------------\n",
      "| 72  | Private Hack |    Prediction    |     Knowledge      | dsn-pre-bootcamp-hackathon-expresso-churn-predicti...\n",
      "----------------------------------------------------------------------------------------------------------------------------------\n",
      "| 73  | Private Hack |     Forecast     |     Knowledge      | zindi-mentorship-3-childline-kenya-call-volume-pre...\n",
      "----------------------------------------------------------------------------------------------------------------------------------\n",
      "| 74  |Public Compet |    Prediction    |    $25,000 USD     | usaids-intelligent-forecasting-challenge-model-fut...\n",
      "----------------------------------------------------------------------------------------------------------------------------------\n",
      "| 75  | Private Hack |    Prediction    |    DZD 510,000     | umojahack-algeria-yassir-eta-prediction-challenge...\n",
      "----------------------------------------------------------------------------------------------------------------------------------\n",
      "| 76  | Private Hack |    Prediction    |    172,000 ZAR     | umojahack-south-africa-yassir-eta-prediction-chall...\n",
      "----------------------------------------------------------------------------------------------------------------------------------\n",
      "| 77  | Private Hack |    Prediction    |     Knowledge      | urban-air-pollution-hackathon...\n",
      "----------------------------------------------------------------------------------------------------------------------------------\n",
      "| 78  | Private Hack |    Prediction    |     Knowledge      | zindi-mentorship-2-sendy-logistics-challenge...\n",
      "----------------------------------------------------------------------------------------------------------------------------------\n",
      "| 79  | Private Hack |  Classification  |     Knowledge      | tunisian-fraud-detection-challenge...\n",
      "----------------------------------------------------------------------------------------------------------------------------------\n",
      "| 80  | Private Hack |  Classification  |     Knowledge      | edsa-to-vaccinate-or-not-to-vaccinate-its-not-a-qu...\n",
      "----------------------------------------------------------------------------------------------------------------------------------\n",
      "| 81  | Private Hack |    Prediction    |   2,331,000 FCFA   | umojahack-senegal-challenge-expresso-sur-la-predic...\n",
      "----------------------------------------------------------------------------------------------------------------------------------\n",
      "| 82  | Private Hack |    Prediction    |     GHC 23,200     | umojahack-ghana-expresso-churn-prediction-challeng...\n",
      "----------------------------------------------------------------------------------------------------------------------------------\n",
      "| 83  | Private Hack |    Prediction    |   RWF 3,800,000    | umojahack-rwanda-expresso-churn-prediction-challen...\n",
      "----------------------------------------------------------------------------------------------------------------------------------\n",
      "| 84  | Public Hack  |    Prediction    |     Knowledge      | fighting-fire-with-data-hackathon...\n",
      "----------------------------------------------------------------------------------------------------------------------------------\n",
      "| 85  | Public Hack  |  Classification  |    225,000 Tsh     | swahili-news-classification-challenge...\n",
      "----------------------------------------------------------------------------------------------------------------------------------\n",
      "| 86  | Private Hack |    Prediction    |     Knowledge      | zindi-mentorship-1-financial-inclusion-in-africa...\n",
      "----------------------------------------------------------------------------------------------------------------------------------\n",
      "| 87  | Public Hack  | Computer Vision  |     $1,000 USD     | sansa-informal-settlements-in-south-africa...\n",
      "----------------------------------------------------------------------------------------------------------------------------------\n",
      "| 88  | Private Hack |    Prediction    |     Knowledge      | insurance-prediction...\n",
      "----------------------------------------------------------------------------------------------------------------------------------\n",
      "| 89  | Private Hack |    Prediction    |     Knowledge      | dsn-ai-club-unilag-sendy-logistics-challenge...\n",
      "----------------------------------------------------------------------------------------------------------------------------------\n",
      "| 90  | Public Hack  |    Prediction    |      $300 USD      | the-zimnat-insurance-assurance-challenge...\n",
      "----------------------------------------------------------------------------------------------------------------------------------\n",
      "| 91  | Public Hack  |    Prediction    |      $300 USD      | akeed-restaurant-recommendation-hackathon...\n",
      "----------------------------------------------------------------------------------------------------------------------------------\n",
      "| 92  | Private Hack |    Prediction    |     Knowledge      | edsa-sendy-logistics-challenge...\n",
      "----------------------------------------------------------------------------------------------------------------------------------\n",
      "| 93  | Public Hack  |  Classification  |      $300 USD      | covid-19-tweet-classification-challenge...\n",
      "----------------------------------------------------------------------------------------------------------------------------------\n",
      "| 94  | Private Hack |    Prediction    |     Knowledge      | alu-rwanda-sendy-logistics-challenge...\n",
      "----------------------------------------------------------------------------------------------------------------------------------\n",
      "| 95  | Public Hack  |  Classification  |      $300 USD      | to-vaccinate-or-not-to-vaccinate-its-not-a-questio...\n",
      "----------------------------------------------------------------------------------------------------------------------------------\n",
      "| 96  | Public Hack  | Computer Vision  |      $300 USD      | spot-the-mask-challenge...\n",
      "----------------------------------------------------------------------------------------------------------------------------------\n",
      "| 97  | Public Hack  |    Prediction    |      $300 USD      | urban-air-pollution-challenge...\n",
      "----------------------------------------------------------------------------------------------------------------------------------\n",
      "| 98  | Public Hack  |    Prediction    |      $300 USD      | south-african-covid-19-vulnerability-map...\n",
      "----------------------------------------------------------------------------------------------------------------------------------\n",
      "| 99  | Private Hack |    Prediction    |      $400 USD      | umojahack-3-hotspots...\n",
      "----------------------------------------------------------------------------------------------------------------------------------\n",
      "| 100 | Private Hack | Computer Vision  |     $1,000 USD     | umojahack-1-saeon-identifying-marine-invertebrates...\n",
      "----------------------------------------------------------------------------------------------------------------------------------\n",
      "| 101 | Private Hack |     Forecast     |      $600 USD      | umojahack-2-xente-purchase-prediction-challenge...\n",
      "----------------------------------------------------------------------------------------------------------------------------------\n",
      "| 102 |Public Compet |Reinforcement Lear|     Knowledge      | ibm-malaria-challenge...\n",
      "__________________________________________________________________________________________________________________________________\n",
      "\n",
      "\n",
      "Type the index of the challenge you want to select or 'q' to exit.\n",
      ">>4\n",
      "\n",
      "[ 🟢 ] You choose the challenge : ai4d-icompass-social-media-sentiment-analysis-for-tunisian-arabizi,\n",
      "\tCan you classify sentiment in the Tunisian Arabizi dialect?.\n",
      "\n",
      "/content/data/raw/SampleSubmission.csv: 100% 293k/293k [00:00<00:00, 781ko/s]\n",
      "/content/data/raw/Train.csv: 100% 4.61M/4.61M [00:01<00:00, 3.50Mo/s]\n",
      "/content/data/raw/Test.csv: 100% 1.98M/1.98M [00:00<00:00, 2.10Mo/s]\n"
     ]
    }
   ],
   "source": [
    "!chmod +x init.sh\n",
    "!./init.sh"
   ]
  },
  {
   "cell_type": "markdown",
   "metadata": {
    "id": "UD9p5b_y7HHy"
   },
   "source": [
    "# Imports "
   ]
  },
  {
   "cell_type": "code",
   "execution_count": 4,
   "metadata": {
    "id": "Lxa4sCUK75-S"
   },
   "outputs": [],
   "source": [
    "import warnings\n",
    "warnings.simplefilter('ignore')"
   ]
  },
  {
   "cell_type": "code",
   "execution_count": 107,
   "metadata": {
    "id": "yQ2w-5l26vvK"
   },
   "outputs": [],
   "source": [
    "import torch \n",
    "import torch.nn as nn \n",
    "import torch.nn.functional as F\n",
    "from torch.utils.data import Dataset, DataLoader\n",
    "import pandas as pd \n",
    "import numpy as np \n",
    "import matplotlib.pyplot as plt\n",
    "\n",
    "import pytorch_lightning as pl \n",
    "from pytorch_lightning import seed_everything\n",
    "\n",
    "import sys \n",
    "import os \n",
    "import random \n",
    "\n",
    "import sklearn \n",
    "from sklearn.model_selection import KFold, StratifiedKFold, train_test_split\n",
    "from sklearn.utils.class_weight import compute_class_weight\n",
    "\n",
    "import seaborn as sns\n",
    "\n",
    "import transformers\n",
    "from transformers import AutoTokenizer, AutoModel, AutoConfig, get_linear_schedule_with_warmup\n",
    "\n",
    "from keras.utils import to_categorical\n",
    "\n",
    "from tqdm.notebook import tqdm"
   ]
  },
  {
   "cell_type": "markdown",
   "metadata": {
    "id": "VRsykD6w8RKR"
   },
   "source": [
    "# Load data"
   ]
  },
  {
   "cell_type": "code",
   "execution_count": 6,
   "metadata": {
    "id": "hbL-CAGq8Rh4"
   },
   "outputs": [],
   "source": [
    "train_data_path = os.path.join('/content/data/raw', 'Train.csv')\n",
    "test_data_path = os.path.join('/content/data/raw', 'Test.csv')\n",
    "sample_submission_path = os.path.join('/content/data/raw', 'SampleSubmission.csv')"
   ]
  },
  {
   "cell_type": "code",
   "execution_count": 82,
   "metadata": {
    "id": "ja4KloyS82UK"
   },
   "outputs": [],
   "source": [
    "train = pd.read_csv(train_data_path)\n",
    "test = pd.read_csv(test_data_path)\n",
    "sub = pd.read_csv(sample_submission_path)"
   ]
  },
  {
   "cell_type": "code",
   "execution_count": 83,
   "metadata": {
    "colab": {
     "base_uri": "https://localhost:8080/",
     "height": 206
    },
    "id": "Lyc6WZne82aY",
    "outputId": "fe3a9c17-d8d0-46e3-d320-8836f7fa22a0"
   },
   "outputs": [
    {
     "data": {
      "text/html": [
       "<div>\n",
       "<style scoped>\n",
       "    .dataframe tbody tr th:only-of-type {\n",
       "        vertical-align: middle;\n",
       "    }\n",
       "\n",
       "    .dataframe tbody tr th {\n",
       "        vertical-align: top;\n",
       "    }\n",
       "\n",
       "    .dataframe thead th {\n",
       "        text-align: right;\n",
       "    }\n",
       "</style>\n",
       "<table border=\"1\" class=\"dataframe\">\n",
       "  <thead>\n",
       "    <tr style=\"text-align: right;\">\n",
       "      <th></th>\n",
       "      <th>ID</th>\n",
       "      <th>text</th>\n",
       "      <th>label</th>\n",
       "    </tr>\n",
       "  </thead>\n",
       "  <tbody>\n",
       "    <tr>\n",
       "      <th>69995</th>\n",
       "      <td>ZRSR7TZ</td>\n",
       "      <td>pff bayna beli kbira f wejhakk yakhiii rouhi r...</td>\n",
       "      <td>-1</td>\n",
       "    </tr>\n",
       "    <tr>\n",
       "      <th>69996</th>\n",
       "      <td>QNQVEIH</td>\n",
       "      <td>aman lmara jeya zidou t3am9ou fel a7deeth akth...</td>\n",
       "      <td>-1</td>\n",
       "    </tr>\n",
       "    <tr>\n",
       "      <th>69997</th>\n",
       "      <td>LJ2K9MD</td>\n",
       "      <td>winha nakhtabha hhhhh</td>\n",
       "      <td>-1</td>\n",
       "    </tr>\n",
       "    <tr>\n",
       "      <th>69998</th>\n",
       "      <td>5RZ1T7I</td>\n",
       "      <td>fachel enta w houwa</td>\n",
       "      <td>-1</td>\n",
       "    </tr>\n",
       "    <tr>\n",
       "      <th>69999</th>\n",
       "      <td>WZCF7CL</td>\n",
       "      <td>nchla lyouma nesm3ou a5beer bahiya 3la jem3iya</td>\n",
       "      <td>1</td>\n",
       "    </tr>\n",
       "  </tbody>\n",
       "</table>\n",
       "</div>"
      ],
      "text/plain": [
       "            ID                                               text  label\n",
       "69995  ZRSR7TZ  pff bayna beli kbira f wejhakk yakhiii rouhi r...     -1\n",
       "69996  QNQVEIH  aman lmara jeya zidou t3am9ou fel a7deeth akth...     -1\n",
       "69997  LJ2K9MD                              winha nakhtabha hhhhh     -1\n",
       "69998  5RZ1T7I                                fachel enta w houwa     -1\n",
       "69999  WZCF7CL     nchla lyouma nesm3ou a5beer bahiya 3la jem3iya      1"
      ]
     },
     "execution_count": 83,
     "metadata": {
      "tags": []
     },
     "output_type": "execute_result"
    }
   ],
   "source": [
    "train.tail()"
   ]
  },
  {
   "cell_type": "code",
   "execution_count": 84,
   "metadata": {
    "colab": {
     "base_uri": "https://localhost:8080/",
     "height": 206
    },
    "id": "Igz1p-AT82c4",
    "outputId": "ea4829fd-b1fc-41c8-f3e4-b88de96d2fcf"
   },
   "outputs": [
    {
     "data": {
      "text/html": [
       "<div>\n",
       "<style scoped>\n",
       "    .dataframe tbody tr th:only-of-type {\n",
       "        vertical-align: middle;\n",
       "    }\n",
       "\n",
       "    .dataframe tbody tr th {\n",
       "        vertical-align: top;\n",
       "    }\n",
       "\n",
       "    .dataframe thead th {\n",
       "        text-align: right;\n",
       "    }\n",
       "</style>\n",
       "<table border=\"1\" class=\"dataframe\">\n",
       "  <thead>\n",
       "    <tr style=\"text-align: right;\">\n",
       "      <th></th>\n",
       "      <th>ID</th>\n",
       "      <th>text</th>\n",
       "    </tr>\n",
       "  </thead>\n",
       "  <tbody>\n",
       "    <tr>\n",
       "      <th>0</th>\n",
       "      <td>2DDHQW9</td>\n",
       "      <td>barcha aaindou fiha hak w barcha teflim kadhalik</td>\n",
       "    </tr>\n",
       "    <tr>\n",
       "      <th>1</th>\n",
       "      <td>5HY6UEY</td>\n",
       "      <td>ye gernabou ye 9a7ba</td>\n",
       "    </tr>\n",
       "    <tr>\n",
       "      <th>2</th>\n",
       "      <td>ATNVUJX</td>\n",
       "      <td>saber w barra rabbi m3ak 5ouya</td>\n",
       "    </tr>\n",
       "    <tr>\n",
       "      <th>3</th>\n",
       "      <td>Q9XYVOQ</td>\n",
       "      <td>cha3ébbb ta7aaaaannnnnnnnnnn tfouuhh</td>\n",
       "    </tr>\n",
       "    <tr>\n",
       "      <th>4</th>\n",
       "      <td>TOAHLRH</td>\n",
       "      <td>rabi y5alihoulek w yfar7ek bih w inchallah itc...</td>\n",
       "    </tr>\n",
       "  </tbody>\n",
       "</table>\n",
       "</div>"
      ],
      "text/plain": [
       "        ID                                               text\n",
       "0  2DDHQW9   barcha aaindou fiha hak w barcha teflim kadhalik\n",
       "1  5HY6UEY                               ye gernabou ye 9a7ba\n",
       "2  ATNVUJX                     saber w barra rabbi m3ak 5ouya\n",
       "3  Q9XYVOQ               cha3ébbb ta7aaaaannnnnnnnnnn tfouuhh\n",
       "4  TOAHLRH  rabi y5alihoulek w yfar7ek bih w inchallah itc..."
      ]
     },
     "execution_count": 84,
     "metadata": {
      "tags": []
     },
     "output_type": "execute_result"
    }
   ],
   "source": [
    "test.head()"
   ]
  },
  {
   "cell_type": "code",
   "execution_count": 85,
   "metadata": {
    "colab": {
     "base_uri": "https://localhost:8080/",
     "height": 206
    },
    "id": "NwNVEHPI82f2",
    "outputId": "29e042ab-a612-4031-e6c3-40bef8f6f298"
   },
   "outputs": [
    {
     "data": {
      "text/html": [
       "<div>\n",
       "<style scoped>\n",
       "    .dataframe tbody tr th:only-of-type {\n",
       "        vertical-align: middle;\n",
       "    }\n",
       "\n",
       "    .dataframe tbody tr th {\n",
       "        vertical-align: top;\n",
       "    }\n",
       "\n",
       "    .dataframe thead th {\n",
       "        text-align: right;\n",
       "    }\n",
       "</style>\n",
       "<table border=\"1\" class=\"dataframe\">\n",
       "  <thead>\n",
       "    <tr style=\"text-align: right;\">\n",
       "      <th></th>\n",
       "      <th>ID</th>\n",
       "      <th>label</th>\n",
       "    </tr>\n",
       "  </thead>\n",
       "  <tbody>\n",
       "    <tr>\n",
       "      <th>0</th>\n",
       "      <td>2DDHQW9</td>\n",
       "      <td>0</td>\n",
       "    </tr>\n",
       "    <tr>\n",
       "      <th>1</th>\n",
       "      <td>5HY6UEY</td>\n",
       "      <td>0</td>\n",
       "    </tr>\n",
       "    <tr>\n",
       "      <th>2</th>\n",
       "      <td>ATNVUJX</td>\n",
       "      <td>0</td>\n",
       "    </tr>\n",
       "    <tr>\n",
       "      <th>3</th>\n",
       "      <td>Q9XYVOQ</td>\n",
       "      <td>0</td>\n",
       "    </tr>\n",
       "    <tr>\n",
       "      <th>4</th>\n",
       "      <td>TOAHLRH</td>\n",
       "      <td>0</td>\n",
       "    </tr>\n",
       "  </tbody>\n",
       "</table>\n",
       "</div>"
      ],
      "text/plain": [
       "        ID  label\n",
       "0  2DDHQW9      0\n",
       "1  5HY6UEY      0\n",
       "2  ATNVUJX      0\n",
       "3  Q9XYVOQ      0\n",
       "4  TOAHLRH      0"
      ]
     },
     "execution_count": 85,
     "metadata": {
      "tags": []
     },
     "output_type": "execute_result"
    }
   ],
   "source": [
    "sub.head()"
   ]
  },
  {
   "cell_type": "code",
   "execution_count": 98,
   "metadata": {
    "colab": {
     "base_uri": "https://localhost:8080/",
     "height": 206
    },
    "id": "1Fu4Lsq7MshD",
    "outputId": "c35f1fb2-81f5-41b7-935b-f864e1b28e9c"
   },
   "outputs": [
    {
     "data": {
      "text/html": [
       "<div>\n",
       "<style scoped>\n",
       "    .dataframe tbody tr th:only-of-type {\n",
       "        vertical-align: middle;\n",
       "    }\n",
       "\n",
       "    .dataframe tbody tr th {\n",
       "        vertical-align: top;\n",
       "    }\n",
       "\n",
       "    .dataframe thead th {\n",
       "        text-align: right;\n",
       "    }\n",
       "</style>\n",
       "<table border=\"1\" class=\"dataframe\">\n",
       "  <thead>\n",
       "    <tr style=\"text-align: right;\">\n",
       "      <th></th>\n",
       "      <th>ID</th>\n",
       "      <th>text</th>\n",
       "    </tr>\n",
       "  </thead>\n",
       "  <tbody>\n",
       "    <tr>\n",
       "      <th>0</th>\n",
       "      <td>2DDHQW9</td>\n",
       "      <td>barcha aaindou fiha hak w barcha teflim kadhalik</td>\n",
       "    </tr>\n",
       "    <tr>\n",
       "      <th>1</th>\n",
       "      <td>5HY6UEY</td>\n",
       "      <td>ye gernabou ye 9a7ba</td>\n",
       "    </tr>\n",
       "    <tr>\n",
       "      <th>2</th>\n",
       "      <td>ATNVUJX</td>\n",
       "      <td>saber w barra rabbi m3ak 5ouya</td>\n",
       "    </tr>\n",
       "    <tr>\n",
       "      <th>3</th>\n",
       "      <td>Q9XYVOQ</td>\n",
       "      <td>cha3ébbb ta7aaaaannnnnnnnnnn tfouuhh</td>\n",
       "    </tr>\n",
       "    <tr>\n",
       "      <th>4</th>\n",
       "      <td>TOAHLRH</td>\n",
       "      <td>rabi y5alihoulek w yfar7ek bih w inchallah itc...</td>\n",
       "    </tr>\n",
       "  </tbody>\n",
       "</table>\n",
       "</div>"
      ],
      "text/plain": [
       "        ID                                               text\n",
       "0  2DDHQW9   barcha aaindou fiha hak w barcha teflim kadhalik\n",
       "1  5HY6UEY                               ye gernabou ye 9a7ba\n",
       "2  ATNVUJX                     saber w barra rabbi m3ak 5ouya\n",
       "3  Q9XYVOQ               cha3ébbb ta7aaaaannnnnnnnnnn tfouuhh\n",
       "4  TOAHLRH  rabi y5alihoulek w yfar7ek bih w inchallah itc..."
      ]
     },
     "execution_count": 98,
     "metadata": {
      "tags": []
     },
     "output_type": "execute_result"
    }
   ],
   "source": [
    "test.head()"
   ]
  },
  {
   "cell_type": "markdown",
   "metadata": {
    "id": "seyRcEQS-mTV"
   },
   "source": [
    "# EDA"
   ]
  },
  {
   "cell_type": "code",
   "execution_count": 11,
   "metadata": {
    "colab": {
     "base_uri": "https://localhost:8080/"
    },
    "id": "5AO9otgj-k17",
    "outputId": "9a83185f-6ee5-46b1-87cd-9b7923f9684f"
   },
   "outputs": [
    {
     "data": {
      "text/plain": [
       "(70000, 3)"
      ]
     },
     "execution_count": 11,
     "metadata": {
      "tags": []
     },
     "output_type": "execute_result"
    }
   ],
   "source": [
    "train.shape"
   ]
  },
  {
   "cell_type": "code",
   "execution_count": 12,
   "metadata": {
    "colab": {
     "base_uri": "https://localhost:8080/",
     "height": 283
    },
    "id": "1qh3pqye-k61",
    "outputId": "79b6841b-f76a-4513-9c07-9a05b845ab69"
   },
   "outputs": [
    {
     "data": {
      "image/png": "[encoded data removed]",
      "text/plain": [
       "<Figure size 432x288 with 1 Axes>"
      ]
     },
     "metadata": {
      "needs_background": "light",
      "tags": []
     },
     "output_type": "display_data"
    }
   ],
   "source": [
    "sns.barplot(x=train.label.unique(), y=train.label.value_counts().tolist(), data=train)\n",
    "plt.title('Class distribution', size=16)\n",
    "plt.show()"
   ]
  },
  {
   "cell_type": "code",
   "execution_count": 13,
   "metadata": {
    "colab": {
     "base_uri": "https://localhost:8080/",
     "height": 394
    },
    "id": "xJnl5AzNWiYr",
    "outputId": "d9f2b18d-7a42-4795-8737-6a02ba0fdcc2"
   },
   "outputs": [
    {
     "data": {
      "text/html": [
       "<div>\n",
       "<style scoped>\n",
       "    .dataframe tbody tr th:only-of-type {\n",
       "        vertical-align: middle;\n",
       "    }\n",
       "\n",
       "    .dataframe tbody tr th {\n",
       "        vertical-align: top;\n",
       "    }\n",
       "\n",
       "    .dataframe thead th {\n",
       "        text-align: right;\n",
       "    }\n",
       "</style>\n",
       "<table border=\"1\" class=\"dataframe\">\n",
       "  <thead>\n",
       "    <tr style=\"text-align: right;\">\n",
       "      <th></th>\n",
       "      <th>ID</th>\n",
       "      <th>text</th>\n",
       "      <th>label</th>\n",
       "    </tr>\n",
       "  </thead>\n",
       "  <tbody>\n",
       "    <tr>\n",
       "      <th>count</th>\n",
       "      <td>70000</td>\n",
       "      <td>70000</td>\n",
       "      <td>70000.000000</td>\n",
       "    </tr>\n",
       "    <tr>\n",
       "      <th>unique</th>\n",
       "      <td>70000</td>\n",
       "      <td>70000</td>\n",
       "      <td>NaN</td>\n",
       "    </tr>\n",
       "    <tr>\n",
       "      <th>top</th>\n",
       "      <td>99AVJEH</td>\n",
       "      <td>slim embout</td>\n",
       "      <td>NaN</td>\n",
       "    </tr>\n",
       "    <tr>\n",
       "      <th>freq</th>\n",
       "      <td>1</td>\n",
       "      <td>1</td>\n",
       "      <td>NaN</td>\n",
       "    </tr>\n",
       "    <tr>\n",
       "      <th>mean</th>\n",
       "      <td>NaN</td>\n",
       "      <td>NaN</td>\n",
       "      <td>0.127771</td>\n",
       "    </tr>\n",
       "    <tr>\n",
       "      <th>std</th>\n",
       "      <td>NaN</td>\n",
       "      <td>NaN</td>\n",
       "      <td>0.973889</td>\n",
       "    </tr>\n",
       "    <tr>\n",
       "      <th>min</th>\n",
       "      <td>NaN</td>\n",
       "      <td>NaN</td>\n",
       "      <td>-1.000000</td>\n",
       "    </tr>\n",
       "    <tr>\n",
       "      <th>25%</th>\n",
       "      <td>NaN</td>\n",
       "      <td>NaN</td>\n",
       "      <td>-1.000000</td>\n",
       "    </tr>\n",
       "    <tr>\n",
       "      <th>50%</th>\n",
       "      <td>NaN</td>\n",
       "      <td>NaN</td>\n",
       "      <td>1.000000</td>\n",
       "    </tr>\n",
       "    <tr>\n",
       "      <th>75%</th>\n",
       "      <td>NaN</td>\n",
       "      <td>NaN</td>\n",
       "      <td>1.000000</td>\n",
       "    </tr>\n",
       "    <tr>\n",
       "      <th>max</th>\n",
       "      <td>NaN</td>\n",
       "      <td>NaN</td>\n",
       "      <td>1.000000</td>\n",
       "    </tr>\n",
       "  </tbody>\n",
       "</table>\n",
       "</div>"
      ],
      "text/plain": [
       "             ID         text         label\n",
       "count     70000        70000  70000.000000\n",
       "unique    70000        70000           NaN\n",
       "top     99AVJEH  slim embout           NaN\n",
       "freq          1            1           NaN\n",
       "mean        NaN          NaN      0.127771\n",
       "std         NaN          NaN      0.973889\n",
       "min         NaN          NaN     -1.000000\n",
       "25%         NaN          NaN     -1.000000\n",
       "50%         NaN          NaN      1.000000\n",
       "75%         NaN          NaN      1.000000\n",
       "max         NaN          NaN      1.000000"
      ]
     },
     "execution_count": 13,
     "metadata": {
      "tags": []
     },
     "output_type": "execute_result"
    }
   ],
   "source": [
    "train.describe(include='all')"
   ]
  },
  {
   "cell_type": "code",
   "execution_count": 14,
   "metadata": {
    "colab": {
     "base_uri": "https://localhost:8080/"
    },
    "id": "aYgiATCAWrQz",
    "outputId": "a5b3cda2-b5cf-44ef-eb66-5e6dbf93fd70"
   },
   "outputs": [
    {
     "name": "stdout",
     "output_type": "stream",
     "text": [
      "<class 'pandas.core.frame.DataFrame'>\n",
      "RangeIndex: 70000 entries, 0 to 69999\n",
      "Data columns (total 3 columns):\n",
      " #   Column  Non-Null Count  Dtype \n",
      "---  ------  --------------  ----- \n",
      " 0   ID      70000 non-null  object\n",
      " 1   text    70000 non-null  object\n",
      " 2   label   70000 non-null  int64 \n",
      "dtypes: int64(1), object(2)\n",
      "memory usage: 1.6+ MB\n"
     ]
    }
   ],
   "source": [
    "train.info()"
   ]
  },
  {
   "cell_type": "code",
   "execution_count": 15,
   "metadata": {
    "colab": {
     "base_uri": "https://localhost:8080/",
     "height": 218,
     "referenced_widgets": [
      "e7a53c07c049452e980530b5647a574a",
      "774561fb399b4eaf98e878e86de5b538",
      "65291d21cb094b8eb7669b516d2dfd68",
      "bd67ae153f444308bd950677527de9f0",
      "14b9410f50394af6861c91fec1aa3707",
      "3c6c49f90ade404e8ab840b24d1fc310",
      "93d14a41689f41b0b50489be1a4c7571",
      "cd49fbe07a244816909dc820f94efd0d",
      "2ad70b932ab5461cbfb0abb4bff9d6d8",
      "274dd8dc0b2b449bbc1da6ac368bf1f8",
      "877ac92c10f541d1afa107cb06691fb0",
      "3770d7012780426087d698c3aec25426",
      "d0b308d1db8b4b07b9ac15c01c6bd22c",
      "aeccf6d5b7bf442ca4947581da601e6b",
      "a2cef7525a5d468288dea687d327a838",
      "4ee8eee4b6e44e89b9be2df7d6b377b6",
      "a96b5563556f463d96b55ef62b569b86",
      "db1c388f37bc40a980e484770aea99fd",
      "2a2948598e4e4fc782cbf629c78d413b",
      "1eeecc8f501a48858798570d4ad7d247",
      "adf3557bc81b4bb5bdf7c39b668123a1",
      "27fe84856e5c448fb2ac7e4aa4fd9b83",
      "8ab2d222bd4147eb9e5c89226b20a705",
      "a6e55cef876d4bd996037ac4b12eda10",
      "89da83c33dec4d99941701fefba1680e",
      "f31e9c515eaa4c39914623300072a776",
      "5f057b5d1b944496b0cf65b91c6afdfc",
      "51943fbabd1240fda6ff84b8e780b826",
      "6187f69c07264d5a91e72a94826c97da",
      "7d9c397df44641428a332f7be46dd802",
      "ed1a4276f8d444c1b633a49696954c9b",
      "c0241d676c6d48a59ea6a07068839a32"
     ]
    },
    "id": "efuqMI9RUV8P",
    "outputId": "0cbc5caa-ee29-483b-d7f0-e0a58251d220"
   },
   "outputs": [
    {
     "data": {
      "application/vnd.jupyter.widget-view+json": {
       "model_id": "e7a53c07c049452e980530b5647a574a",
       "version_major": 2,
       "version_minor": 0
      },
      "text/plain": [
       "HBox(children=(FloatProgress(value=0.0, description='Downloading', max=485.0, style=ProgressStyle(description_…"
      ]
     },
     "metadata": {
      "tags": []
     },
     "output_type": "display_data"
    },
    {
     "name": "stdout",
     "output_type": "stream",
     "text": [
      "\n"
     ]
    },
    {
     "data": {
      "application/vnd.jupyter.widget-view+json": {
       "model_id": "2ad70b932ab5461cbfb0abb4bff9d6d8",
       "version_major": 2,
       "version_minor": 0
      },
      "text/plain": [
       "HBox(children=(FloatProgress(value=0.0, description='Downloading', max=333770.0, style=ProgressStyle(descripti…"
      ]
     },
     "metadata": {
      "tags": []
     },
     "output_type": "display_data"
    },
    {
     "name": "stdout",
     "output_type": "stream",
     "text": [
      "\n"
     ]
    },
    {
     "data": {
      "application/vnd.jupyter.widget-view+json": {
       "model_id": "a96b5563556f463d96b55ef62b569b86",
       "version_major": 2,
       "version_minor": 0
      },
      "text/plain": [
       "HBox(children=(FloatProgress(value=0.0, description='Downloading', max=112.0, style=ProgressStyle(description_…"
      ]
     },
     "metadata": {
      "tags": []
     },
     "output_type": "display_data"
    },
    {
     "name": "stdout",
     "output_type": "stream",
     "text": [
      "\n"
     ]
    },
    {
     "data": {
      "application/vnd.jupyter.widget-view+json": {
       "model_id": "89da83c33dec4d99941701fefba1680e",
       "version_major": 2,
       "version_minor": 0
      },
      "text/plain": [
       "HBox(children=(FloatProgress(value=0.0, description='Downloading', max=62.0, style=ProgressStyle(description_w…"
      ]
     },
     "metadata": {
      "tags": []
     },
     "output_type": "display_data"
    },
    {
     "name": "stdout",
     "output_type": "stream",
     "text": [
      "\n"
     ]
    }
   ],
   "source": [
    "tokenizer = AutoTokenizer.from_pretrained(\"asafaya/bert-base-arabic\")"
   ]
  },
  {
   "cell_type": "code",
   "execution_count": 16,
   "metadata": {
    "colab": {
     "base_uri": "https://localhost:8080/",
     "height": 36
    },
    "id": "L3-zYCmzZxh8",
    "outputId": "c9586d00-db0f-4597-d3e4-9020829f4a1a"
   },
   "outputs": [
    {
     "data": {
      "application/vnd.google.colaboratory.intrinsic+json": {
       "type": "string"
      },
      "text/plain": [
       "'andha kwet wala t oumourha chou hak elhadra lekbira'"
      ]
     },
     "execution_count": 16,
     "metadata": {
      "tags": []
     },
     "output_type": "execute_result"
    }
   ],
   "source": [
    "sample_txt = train.text.sample(n=1).values[0]\n",
    "sample_txt"
   ]
  },
  {
   "cell_type": "code",
   "execution_count": 29,
   "metadata": {
    "id": "i3QOh05NZ2CE"
   },
   "outputs": [],
   "source": [
    "def show_lengths_distribution(data:pd.DataFrame):  \n",
    "  interval = np.linspace(start=0, stop=len(data)-1, num=len(data), dtype=np.int32)\n",
    "  text_lengths = data.text.map(lambda x: len(x)).tolist()\n",
    "  plt.figure(figsize=(18, 6))\n",
    "  plt.plot(interval, text_lengths)\n",
    "  plt.title('Text lengths distribution', size=16)\n",
    "  plt.show()\n",
    "\n",
    "\n",
    "def encode_txt(tokenizer, txt, max_len):\n",
    "  code = tokenizer.encode_plus(text=sample_txt, \n",
    "                            max_length=max_len,\n",
    "                            truncation=True, \n",
    "                            add_special_tokens=True)\n",
    "\n",
    "  ids = code['input_ids']\n",
    "  mask = code['attention_mask']\n",
    "  token_type_ids = code['token_type_ids']\n",
    "\n",
    "  # padding to max_len if necessary\n",
    "  pad_len = max_len - len(ids)\n",
    "  ids = ids + ([0] * pad_len)\n",
    "  mask = mask + ([0] * pad_len)\n",
    "  token_type_ids = token_type_ids + ([0] * pad_len)\n",
    "  \n",
    "  return ids, mask, token_type_ids"
   ]
  },
  {
   "cell_type": "code",
   "execution_count": 86,
   "metadata": {
    "colab": {
     "base_uri": "https://localhost:8080/",
     "height": 392
    },
    "id": "t0Na6QREc75l",
    "outputId": "2345ff22-316d-4a06-b4b0-4c3fedf18283"
   },
   "outputs": [
    {
     "data": {
      "image/png": "[encoded data removed]",
      "text/plain": [
       "<Figure size 1296x432 with 1 Axes>"
      ]
     },
     "metadata": {
      "needs_background": "light",
      "tags": []
     },
     "output_type": "display_data"
    }
   ],
   "source": [
    "show_lengths_distribution(train)"
   ]
  },
  {
   "cell_type": "code",
   "execution_count": 87,
   "metadata": {
    "colab": {
     "base_uri": "https://localhost:8080/"
    },
    "id": "_92D4JUoXTsz",
    "outputId": "c1f3b82e-d09f-4454-8ca6-a2c289b08eea"
   },
   "outputs": [
    {
     "data": {
      "text/plain": [
       "(3, 9700)"
      ]
     },
     "execution_count": 87,
     "metadata": {
      "tags": []
     },
     "output_type": "execute_result"
    }
   ],
   "source": [
    "MAX_LEN = train.text.map(lambda x: len(x)).max()\n",
    "MIN_LEN = train.text.map(lambda x: len(x)).min()\n",
    "\n",
    "MIN_LEN, MAX_LEN"
   ]
  },
  {
   "cell_type": "code",
   "execution_count": 88,
   "metadata": {
    "id": "nErBPlAxcJ-9"
   },
   "outputs": [],
   "source": [
    "def delete_outliers(data:pd.DataFrame):\n",
    "    \n",
    "  max_len_txts = [i for i, txt in enumerate(data.text.tolist()) if (len(txt) >512 or len(txt) < 10) ]\n",
    "  \n",
    "  data.drop(max_len_txts, axis=0, inplace=True)\n",
    "\n",
    "  return data"
   ]
  },
  {
   "cell_type": "code",
   "execution_count": 89,
   "metadata": {
    "colab": {
     "base_uri": "https://localhost:8080/"
    },
    "id": "g0z_Gq7yczgk",
    "outputId": "6bb4901f-de96-4ca1-b29a-41b7b9ac63c1"
   },
   "outputs": [
    {
     "data": {
      "text/plain": [
       "68473"
      ]
     },
     "execution_count": 89,
     "metadata": {
      "tags": []
     },
     "output_type": "execute_result"
    }
   ],
   "source": [
    "train = delete_outliers(train)\n",
    "len(train)"
   ]
  },
  {
   "cell_type": "code",
   "execution_count": 90,
   "metadata": {
    "id": "V2nl-g976EQe"
   },
   "outputs": [],
   "source": [
    "train = train.reset_index(drop=True)"
   ]
  },
  {
   "cell_type": "code",
   "execution_count": 91,
   "metadata": {
    "colab": {
     "base_uri": "https://localhost:8080/",
     "height": 392
    },
    "id": "A74o-Jzrhpa-",
    "outputId": "e441fc83-9a36-456a-b437-edf04159a0b7"
   },
   "outputs": [
    {
     "data": {
      "image/png": "[encoded data removed]",
      "text/plain": [
       "<Figure size 1296x432 with 1 Axes>"
      ]
     },
     "metadata": {
      "needs_background": "light",
      "tags": []
     },
     "output_type": "display_data"
    }
   ],
   "source": [
    "show_lengths_distribution(train)"
   ]
  },
  {
   "cell_type": "code",
   "execution_count": 99,
   "metadata": {
    "id": "7FFsLdNcQzPX"
   },
   "outputs": [],
   "source": [
    "class ArabiziDataset(Dataset):\n",
    "  def __init__(self, df=train, tokenizer=tokenizer, task='train', max_len=50, num_classes=3):\n",
    "    super(ArabiziDataset, self).__init__()\n",
    "    self.df = train\n",
    "    self.num_classes = num_classes\n",
    "    self.tokenizer = tokenizer\n",
    "    self.max_len = max_len\n",
    "    self.task = task\n",
    "\n",
    "\n",
    "\n",
    "  def __getitem__(self, index):\n",
    "    text = self.df.iloc[index].text\n",
    "    ids, mask, token_type_ids = encode_txt(tokenizer=self.tokenizer, \n",
    "                                           txt = text, \n",
    "                                           max_len = self.max_len)\n",
    "    \n",
    "    sample = {\n",
    "        'ids' : torch.tensor(ids, dtype=torch.long),\n",
    "        'mask' : torch.tensor(mask, dtype=torch.long),\n",
    "        'token_type_ids' : torch.tensor(token_type_ids, dtype=torch.long),\n",
    "    }\n",
    "\n",
    "    if self.task == 'train':\n",
    "      target = self.df.iloc[index].label\n",
    "\n",
    "      sample.update({\n",
    "          'target' : torch.tensor(target+1, dtype=torch.long)\n",
    "      })\n",
    "\n",
    "    return sample \n",
    "\n",
    "\n",
    "\n",
    "  def __len__(self):\n",
    "    return len(self.df)"
   ]
  },
  {
   "cell_type": "code",
   "execution_count": 125,
   "metadata": {
    "id": "WQio3uEgQzRU"
   },
   "outputs": [],
   "source": [
    "class EarlyStopping:\n",
    "  def __init__(self, patience=3, mode='max'):\n",
    "    self.step = 0\n",
    "    self.patience = patience\n",
    "    self.mode = mode\n",
    "    self.stop = False\n",
    "    self.acc = 0\n",
    "\n",
    "  def update(self, loss):\n",
    "    if acc > self.acc:\n",
    "      self.step += 1\n",
    "    else: \n",
    "      self.step = 0\n",
    "      self.acc = acc\n",
    "    \n",
    "    if self.step == self.patience: self.stop = True\n",
    "\n",
    "\n",
    "es = EarlyStopping(patience=3)\n",
    "\n",
    "\n",
    "\n",
    "class ArabiziModel(pl.LightningModule):\n",
    "  def __init__(self, num_train_steps, base_arch = \"asafaya/bert-base-arabic\", es_callback=es ):\n",
    "    super(ArabiziModel, self).__init__()\n",
    "    self.save_hyperparameters()\n",
    "    self.model = AutoModel.from_pretrained(self.hparams.base_arch)\n",
    "\n",
    "    # classifier part\n",
    "    self.num_last_ftrs = getattr(getattr(self.model, 'pooler'), 'dense').out_features\n",
    "    self.dropout = nn.Dropout(0.1)\n",
    "    self.classifier = nn.Linear(self.num_last_ftrs, 3)\n",
    "    nn.init.xavier_normal_(self.classifier.weight)\n",
    "\n",
    "\n",
    "  def forward(self, input_ids, attention_mask=None, token_type_ids=None):\n",
    "      _, out = self.model(\n",
    "          input_ids,\n",
    "          attention_mask=attention_mask,\n",
    "          token_type_ids=token_type_ids\n",
    "      )\n",
    "\n",
    "      out = self.dropout(out)\n",
    "      logits = self.classifier(out)\n",
    "      logits = F.sigmoid(logits)\n",
    "\n",
    "      return logits\n",
    "\n",
    "\n",
    "  def configure_optimizers(self):\n",
    "    \n",
    "    param_optimizer = list(self.model.named_parameters())\n",
    "    no_decay = [\"bias\", \"LayerNorm.bias\", \"LayerNorm.weight\"]\n",
    "    optimizer_parameters = [\n",
    "        {'params': [p for n, p in param_optimizer if not any(nd in n for nd in no_decay)], 'weight_decay': 0.001},\n",
    "        {'params': [p for n, p in param_optimizer if any(nd in n for nd in no_decay)], 'weight_decay': 0.0},\n",
    "    ]\n",
    "\n",
    "    opt = torch.optim.SGD(optimizer_parameters, lr=lr)\n",
    "    scheduler = get_linear_schedule_with_warmup(\n",
    "               opt, num_warmup_steps=0, num_training_steps=self.hparams.num_train_steps\n",
    "           )\n",
    "    return opt\n",
    "\n",
    "\n",
    "\n",
    "  def training_step(self, batch, batch_idx):\n",
    "    ids, mask,token_type_ids, y = batch['ids'], batch['mask'], batch['token_type_ids'] , batch['target']\n",
    "    preds = self.forward(ids, mask, token_type_ids)\n",
    "\n",
    "    logLoss = self.get_loss(logits=preds, targets=y)\n",
    "    acc = self.get_acc(logits=preds, targets=y)\n",
    "\n",
    "    # logging \n",
    "    self.log('train_acc', acc, on_epoch=True, on_step=True, prog_bar=True)\n",
    "    self.log('train_logLoss', logLoss, on_epoch=True, on_step=True, prog_bar=False)\n",
    "\n",
    "    return {'loss':logLoss, 'train_logloss':logLoss, 'train_acc':acc}\n",
    "\n",
    "\n",
    "  def validation_step(self, batch, batch_idx):\n",
    "    ids, mask,token_type_ids, y = batch['ids'], batch['mask'], batch['token_type_ids'] , batch['target']\n",
    "    preds = self.forward(ids, mask, token_type_ids)\n",
    "\n",
    "    val_loss = self.get_loss(logits=preds, targets=y)\n",
    "    val_acc = self.get_acc(logits=preds, targets=y)\n",
    "\n",
    "    # check val acc\n",
    "    #es.update(self.trainer.logged_metrics['val_acc'])\n",
    "\n",
    "\n",
    "    # logging \n",
    "    self.log('val_acc', val_acc, on_epoch=True, on_step=False, prog_bar=True)\n",
    "    self.log('val_logLoss', val_loss, on_epoch=True, on_step=False, prog_bar=True)\n",
    "\n",
    "    return {'val_logLoss':val_loss, 'val_acc':val_acc}\n",
    "\n",
    "\n",
    "  def get_acc(self, logits, targets):\n",
    "    logits = torch.log_softmax(logits, 1)\n",
    "    _, predictions = torch.max(logits, 1)\n",
    "    acc = torch.sum(predictions == targets.data)\n",
    "    return acc.double() / targets.size(0)\n",
    "\n",
    "\n",
    "  def get_loss(self, logits, targets):\n",
    "    l = nn.CrossEntropyLoss()(logits, targets)\n",
    "    return l     "
   ]
  },
  {
   "cell_type": "code",
   "execution_count": 35,
   "metadata": {
    "id": "3O2mRhG87TrQ"
   },
   "outputs": [],
   "source": [
    "os.makedirs('MODELS', exist_ok=True)"
   ]
  },
  {
   "cell_type": "code",
   "execution_count": 126,
   "metadata": {
    "id": "NrYRluTkuPsu"
   },
   "outputs": [],
   "source": [
    "def run_fold(fold, epochs, bs, eval_bs, lr, path='MODELS/'):\n",
    "  torch.cuda.empty_cache()\n",
    "\n",
    "  fold_train = train[train.fold != fold].reset_index(drop=True)\n",
    "  fold_val = train[train.fold == fold].reset_index(drop=True)\n",
    "  # create dataloaders\n",
    "  train_ds = ArabiziDataset(df=fold_train)\n",
    "  val_ds = ArabiziDataset(df=fold_val)\n",
    "  train_dl = DataLoader(train_ds, batch_size=bs, shuffle=True)\n",
    "  valid_dl = DataLoader(val_ds, batch_size=eval_bs, shuffle=False)\n",
    "\n",
    "  num_train_steps = int(len(train_ds) / bs*epochs)  \n",
    "  \n",
    "  model = ArabiziModel(num_train_steps = num_train_steps)\n",
    "\n",
    "  tb_logger = pl.loggers.TensorBoardLogger(save_dir='/content/runs', name='ZINDI-ARABIZI-NLP', version=fold)\n",
    "\n",
    "  ckpt_callback = pl.callbacks.ModelCheckpoint(filename=f'ZINDI-ARABIZI-NLP-{model.hparams.base_arch}-{fold}-based', \n",
    "                                               dirpath='/content/MODELS', \n",
    "                                               monitor='val_acc', \n",
    "                                               mode='max')\n",
    "  \n",
    "  trainer = pl.Trainer(max_epochs=epochs, gpus=1, logger=tb_logger, callbacks=[ckpt_callback])\n",
    "\n",
    "  trainer.fit(model, train_dl, valid_dl)\n",
    "      \n",
    "  return "
   ]
  },
  {
   "cell_type": "code",
   "execution_count": 92,
   "metadata": {
    "id": "g7KuFTeQ4znO"
   },
   "outputs": [],
   "source": [
    "def make_folds(data:pd.DataFrame, n_folds = 5, seed=2020):\n",
    "  data['fold'] = 0\n",
    "\n",
    "  fold = StratifiedKFold(n_splits = n_folds, random_state=seed)\n",
    "  for i, (tr, vr) in enumerate(fold.split(data, data['label'])):\n",
    "    data.loc[vr, 'fold'] = i\n",
    "\n",
    "  return data, n_folds\n",
    "\n",
    "\n"
   ]
  },
  {
   "cell_type": "code",
   "execution_count": 93,
   "metadata": {
    "colab": {
     "base_uri": "https://localhost:8080/"
    },
    "id": "aMNw35vd4BUi",
    "outputId": "f72b794b-b39e-4c34-f5d8-acf332ae364d"
   },
   "outputs": [
    {
     "data": {
      "text/plain": [
       "2    13695\n",
       "1    13695\n",
       "0    13695\n",
       "4    13694\n",
       "3    13694\n",
       "Name: fold, dtype: int64"
      ]
     },
     "execution_count": 93,
     "metadata": {
      "tags": []
     },
     "output_type": "execute_result"
    }
   ],
   "source": [
    "train, n_folds = make_folds(n_folds = 5, data=train)\n",
    "train.fold.value_counts()"
   ]
  },
  {
   "cell_type": "markdown",
   "metadata": {
    "id": "5RpHjOZsnalw"
   },
   "source": [
    "# Training"
   ]
  },
  {
   "cell_type": "code",
   "execution_count": 127,
   "metadata": {
    "id": "MsqaGmIIOpJk"
   },
   "outputs": [],
   "source": [
    "! rm -rf /content/runs/"
   ]
  },
  {
   "cell_type": "code",
   "execution_count": 128,
   "metadata": {
    "id": "t8h7_5Qa8F9G"
   },
   "outputs": [],
   "source": [
    "epochs = 5\n",
    "bs = 256\n",
    "eval_bs = 128\n",
    "lr = 3e-5\n",
    "device = 'cuda'"
   ]
  },
  {
   "cell_type": "code",
   "execution_count": null,
   "metadata": {
    "colab": {
     "base_uri": "https://localhost:8080/",
     "height": 213,
     "referenced_widgets": [
      "1992ae60856b46e3a1dc1cfb171b41fb",
      "a2daf65de74d468d843dc39265205e64",
      "076ed814ca194bb69312d1d6258cffdd",
      "61acc6c019e04144859d8b51974b5e5e",
      "d02959757db24063afbd7a754dd9dcb6",
      "73c9b771f4de4717860671cf0dc54467",
      "5beab74d2c9d4455b2cca08df16179f6",
      "90cac85b0c554c2e996dc1d99c05046d",
      "d67d6dce918843a291ae4040f0fefe40",
      "fc1e001e1dd84c199816d33258c403b8",
      "5e190d7e952b4a05bfbb599c6a424a86",
      "abdc3e3fe3a44d5db17b2fae35d42430",
      "e901b7d44d114e0e9041cfa385b9f44c",
      "a756f4473b3f4bce9847a4d194e609d3",
      "a1a83142097046bd9ee286d6d2d9b96b",
      "aa4001494eec4714aa913dc3877bd244"
     ]
    },
    "id": "6f4T8SRbnZ3T",
    "outputId": "2a28e2a5-1717-4d8d-d0e8-f99cf5c486e5"
   },
   "outputs": [
    {
     "name": "stderr",
     "output_type": "stream",
     "text": [
      "GPU available: True, used: True\n",
      "TPU available: False, using: 0 TPU cores\n",
      "LOCAL_RANK: 0 - CUDA_VISIBLE_DEVICES: [0]\n",
      "\n",
      "  | Name       | Type      | Params\n",
      "-----------------------------------------\n",
      "0 | model      | BertModel | 110 M \n",
      "1 | dropout    | Dropout   | 0     \n",
      "2 | classifier | Linear    | 2.3 K \n"
     ]
    },
    {
     "data": {
      "application/vnd.jupyter.widget-view+json": {
       "model_id": "1992ae60856b46e3a1dc1cfb171b41fb",
       "version_major": 2,
       "version_minor": 0
      },
      "text/plain": [
       "HBox(children=(FloatProgress(value=1.0, bar_style='info', description='Validation sanity check', layout=Layout…"
      ]
     },
     "metadata": {
      "tags": []
     },
     "output_type": "display_data"
    },
    {
     "name": "stdout",
     "output_type": "stream",
     "text": [
      "\r"
     ]
    },
    {
     "data": {
      "application/vnd.jupyter.widget-view+json": {
       "model_id": "d67d6dce918843a291ae4040f0fefe40",
       "version_major": 2,
       "version_minor": 0
      },
      "text/plain": [
       "HBox(children=(FloatProgress(value=1.0, bar_style='info', description='Training', layout=Layout(flex='2'), max…"
      ]
     },
     "metadata": {
      "tags": []
     },
     "output_type": "display_data"
    }
   ],
   "source": [
    "for fold in range(n_folds):\n",
    "  run_fold(fold, epochs=epochs, bs=bs, eval_bs=eval_bs, lr=lr)"
   ]
  },
  {
   "cell_type": "markdown",
   "metadata": {
    "id": "OiDglwIHnfnb"
   },
   "source": [
    "# Evaluation & predictions"
   ]
  },
  {
   "cell_type": "code",
   "execution_count": null,
   "metadata": {
    "id": "7y5yavvinaHL"
   },
   "outputs": [],
   "source": [
    "%%time\n",
    "MODELS = []\n",
    "for i in range(n_folds):\n",
    "  MODELS.append( ArabiziModel() )\n",
    "  MODELS[i].to(device)\n",
    "  try:\n",
    "    MODELS[i].load_from_checkpoint(f'/content/MODELS/ZINDI-ARABIZI-NLP-asafaya/bert-base-arabic-{i}-based.ckpt')\n",
    "  except:\n",
    "    MODELS[i].load_from_checkpoint(f'/content/MODELS/ZINDI-ARABIZI-NLP-asafaya/bert-base-arabic-{i}-based-v0.ckpt')\n",
    "  MODELS[i].eval()"
   ]
  },
  {
   "cell_type": "code",
   "execution_count": null,
   "metadata": {
    "id": "vPBeC5manaEg"
   },
   "outputs": [],
   "source": [
    "def predict(df,  bs=2, device=device, MODELS=MODELS):\n",
    "  test_ds = ArabiziDataset(df, task='test')\n",
    "  testloader = torch.utils.data.DataLoader(test_ds, bs, shuffle=False)\n",
    "\n",
    "  predictions_labels = []\n",
    "  predictions_proba = []\n",
    "\n",
    "  out = None\n",
    "\n",
    "  for data in tqdm(testloader):\n",
    "    ids, mask,token_type_ids = data['ids'].to(device), data['mask'].to(device), data['token_type_ids'].to(device)\n",
    "\n",
    "    for i in range(n_folds):\n",
    "      if i == 0: out = MODELS[i](ids, mask, token_type_ids)\n",
    "      else: out += MODELS[i](x)\n",
    "\n",
    "    out /= n_folds\n",
    "    out = F.softmax(input=out, dim=1)\n",
    "    _, out_labels = torch.max(out, 1)\n",
    "    out_probas = out.detach().cpu().numpy()\n",
    "\n",
    "    \n",
    "    predictions_labels += out_labels.tolist()\n",
    "    predictions_proba += out_probas.tolist()\n",
    "\n",
    "  return predictions_labels ,predictions_proba"
   ]
  },
  {
   "cell_type": "code",
   "execution_count": null,
   "metadata": {
    "id": "yN5w6F2dnaJd"
   },
   "outputs": [],
   "source": [
    "predictions_labels, predictions_proba = predict(test, device=device, bs=2)"
   ]
  },
  {
   "cell_type": "code",
   "execution_count": null,
   "metadata": {
    "id": "eQH3VPNeM7Y4"
   },
   "outputs": [],
   "source": []
  }
 ],
 "metadata": {
  "accelerator": "GPU",
  "colab": {
   "authorship_tag": "ABX9TyO9SPHB6nKIDAkyqIzTHTcg",
   "collapsed_sections": [],
   "include_colab_link": true,
   "name": "ZindiArabicSentimentsClassification.ipynb",
   "provenance": []
  },
  "kernelspec": {
   "display_name": "Python 3",
   "language": "python",
   "name": "python3"
  },
  "language_info": {
   "codemirror_mode": {
    "name": "ipython",
    "version": 3
   },
   "file_extension": ".py",
   "mimetype": "text/x-python",
   "name": "python",
   "nbconvert_exporter": "python",
   "pygments_lexer": "ipython3",
   "version": "3.8.8"
  },
  "widgets": {
   "application/vnd.jupyter.widget-state+json": {
    "state": {},
    "version_major": 2,
    "version_minor": 0
   }
  }
 },
 "nbformat": 4,
 "nbformat_minor": 4
}
