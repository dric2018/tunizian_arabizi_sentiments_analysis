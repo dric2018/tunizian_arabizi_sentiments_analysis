{
 "cells": [
  {
   "cell_type": "code",
   "execution_count": 2,
   "id": "individual-gates",
   "metadata": {},
   "outputs": [],
   "source": [
    "import sys\n",
    "sys.path.append('../scripts')"
   ]
  },
  {
   "cell_type": "code",
   "execution_count": 3,
   "id": "daily-product",
   "metadata": {},
   "outputs": [],
   "source": [
    "import warnings\n",
    "warnings.filterwarnings(action='ignore')"
   ]
  },
  {
   "cell_type": "code",
   "execution_count": 21,
   "id": "searching-makeup",
   "metadata": {},
   "outputs": [],
   "source": [
    "import os\n",
    "import sys\n",
    "import pandas as pd\n",
    "import numpy as np\n",
    "\n",
    "import torch as th\n",
    "from torch.utils.data import DataLoader\n",
    "\n",
    "import pytorch_lightning as pl\n",
    "\n",
    "from config import Config\n",
    "from dataset import DataSet\n",
    "\n",
    "from utils import load_models, predict, remove_repetitions, replace_accents, save_experiment_conf\n",
    "from tqdm.auto import tqdm"
   ]
  },
  {
   "cell_type": "code",
   "execution_count": 10,
   "id": "increased-diabetes",
   "metadata": {},
   "outputs": [],
   "source": [
    "test_df = pd.read_csv(os.path.join(Config.data_dir, \"Test.csv\"))\n",
    "test_df.text = test_df.text.apply(\n",
    "    lambda txt: replace_accents(remove_repetitions(sequence=txt, n_repetitions=2))\n",
    ")"
   ]
  },
  {
   "cell_type": "code",
   "execution_count": 11,
   "id": "chronic-universal",
   "metadata": {},
   "outputs": [
    {
     "data": {
      "text/html": [
       "<div>\n",
       "<style scoped>\n",
       "    .dataframe tbody tr th:only-of-type {\n",
       "        vertical-align: middle;\n",
       "    }\n",
       "\n",
       "    .dataframe tbody tr th {\n",
       "        vertical-align: top;\n",
       "    }\n",
       "\n",
       "    .dataframe thead th {\n",
       "        text-align: right;\n",
       "    }\n",
       "</style>\n",
       "<table border=\"1\" class=\"dataframe\">\n",
       "  <thead>\n",
       "    <tr style=\"text-align: right;\">\n",
       "      <th></th>\n",
       "      <th>ID</th>\n",
       "      <th>text</th>\n",
       "    </tr>\n",
       "  </thead>\n",
       "  <tbody>\n",
       "    <tr>\n",
       "      <th>0</th>\n",
       "      <td>2DDHQW9</td>\n",
       "      <td>barcha aaindou fiha hak w barcha teflim kadhalik</td>\n",
       "    </tr>\n",
       "    <tr>\n",
       "      <th>1</th>\n",
       "      <td>5HY6UEY</td>\n",
       "      <td>ye gernabou ye 9a7ba</td>\n",
       "    </tr>\n",
       "    <tr>\n",
       "      <th>2</th>\n",
       "      <td>ATNVUJX</td>\n",
       "      <td>saber w barra rabbi m3ak 5ouya</td>\n",
       "    </tr>\n",
       "    <tr>\n",
       "      <th>3</th>\n",
       "      <td>Q9XYVOQ</td>\n",
       "      <td>cha3ebb ta7aaaaann tfouuhh</td>\n",
       "    </tr>\n",
       "    <tr>\n",
       "      <th>4</th>\n",
       "      <td>TOAHLRH</td>\n",
       "      <td>rabi y5alihoulek w yfar7ek bih w inchallah itc...</td>\n",
       "    </tr>\n",
       "  </tbody>\n",
       "</table>\n",
       "</div>"
      ],
      "text/plain": [
       "        ID                                               text\n",
       "0  2DDHQW9   barcha aaindou fiha hak w barcha teflim kadhalik\n",
       "1  5HY6UEY                               ye gernabou ye 9a7ba\n",
       "2  ATNVUJX                     saber w barra rabbi m3ak 5ouya\n",
       "3  Q9XYVOQ                         cha3ebb ta7aaaaann tfouuhh\n",
       "4  TOAHLRH  rabi y5alihoulek w yfar7ek bih w inchallah itc..."
      ]
     },
     "execution_count": 11,
     "metadata": {},
     "output_type": "execute_result"
    }
   ],
   "source": [
    "test_df.head()"
   ]
  },
  {
   "cell_type": "code",
   "execution_count": 24,
   "id": "rapid-ideal",
   "metadata": {},
   "outputs": [],
   "source": [
    "test_ds = DataSet(df=test_df, task='test')\n",
    "test_dl = DataLoader(\n",
    "        dataset=test_ds,\n",
    "        batch_size=128,\n",
    "        shuffle=False\n",
    "    )"
   ]
  },
  {
   "cell_type": "code",
   "execution_count": 18,
   "id": "established-voltage",
   "metadata": {},
   "outputs": [
    {
     "name": "stdout",
     "output_type": "stream",
     "text": [
      "[INFO] Version : 21\n",
      "[INFO] (5) Matching models found : \n",
      " ['arabizi-sentiments-camembert-base-version-21-fold-0.bin', 'arabizi-sentiments-camembert-base-version-21-fold-1.bin', 'arabizi-sentiments-camembert-base-version-21-fold-2.bin', 'arabizi-sentiments-camembert-base-version-21-fold-3.bin', 'arabizi-sentiments-camembert-base-version-21-fold-4.bin']\n"
     ]
    },
    {
     "data": {
      "application/vnd.jupyter.widget-view+json": {
       "model_id": "c454eb0b7a4f49b08b1403c5a79cb702",
       "version_major": 2,
       "version_minor": 0
      },
      "text/plain": [
       "Loding models:   0%|          | 0/5 [00:00<?, ?it/s]"
      ]
     },
     "metadata": {},
     "output_type": "display_data"
    }
   ],
   "source": [
    "try:\n",
    "    last_version = args.version\n",
    "except:\n",
    "    last_version = save_experiment_conf()\n",
    "\n",
    "print(f'[INFO] Version : {last_version}')\n",
    "loaded_models = load_models(n_folds=Config.n_folds, version=last_version)"
   ]
  },
  {
   "cell_type": "code",
   "execution_count": 36,
   "id": "fitted-telescope",
   "metadata": {},
   "outputs": [
    {
     "name": "stdout",
     "output_type": "stream",
     "text": [
      "Model from split 0\n"
     ]
    },
    {
     "data": {
      "application/vnd.jupyter.widget-view+json": {
       "model_id": "9bfca4b8e0a34babb002e7682d857dd0",
       "version_major": 2,
       "version_minor": 0
      },
      "text/plain": [
       "Predicting:   0%|          | 0/235 [00:00<?, ?it/s]"
      ]
     },
     "metadata": {},
     "output_type": "display_data"
    },
    {
     "name": "stdout",
     "output_type": "stream",
     "text": [
      "Model from split 1\n"
     ]
    },
    {
     "data": {
      "application/vnd.jupyter.widget-view+json": {
       "model_id": "c438df566de0455b96bbc5f5ccd9d608",
       "version_major": 2,
       "version_minor": 0
      },
      "text/plain": [
       "Predicting:   0%|          | 0/235 [00:00<?, ?it/s]"
      ]
     },
     "metadata": {},
     "output_type": "display_data"
    },
    {
     "name": "stdout",
     "output_type": "stream",
     "text": [
      "Model from split 2\n"
     ]
    },
    {
     "data": {
      "application/vnd.jupyter.widget-view+json": {
       "model_id": "c84954e5732147289fc3882ced091998",
       "version_major": 2,
       "version_minor": 0
      },
      "text/plain": [
       "Predicting:   0%|          | 0/235 [00:00<?, ?it/s]"
      ]
     },
     "metadata": {},
     "output_type": "display_data"
    },
    {
     "name": "stdout",
     "output_type": "stream",
     "text": [
      "Model from split 3\n"
     ]
    },
    {
     "data": {
      "application/vnd.jupyter.widget-view+json": {
       "model_id": "0adb15bdf3594f299de46909ce445ddb",
       "version_major": 2,
       "version_minor": 0
      },
      "text/plain": [
       "Predicting:   0%|          | 0/235 [00:00<?, ?it/s]"
      ]
     },
     "metadata": {},
     "output_type": "display_data"
    },
    {
     "name": "stdout",
     "output_type": "stream",
     "text": [
      "Model from split 4\n"
     ]
    },
    {
     "data": {
      "application/vnd.jupyter.widget-view+json": {
       "model_id": "8cb7905fc0074862855292fa1c055f33",
       "version_major": 2,
       "version_minor": 0
      },
      "text/plain": [
       "Predicting:   0%|          | 0/235 [00:00<?, ?it/s]"
      ]
     },
     "metadata": {},
     "output_type": "display_data"
    }
   ],
   "source": [
    "predictions = []\n",
    "all_predictions = []\n",
    "\n",
    "for num in range(Config.n_folds):\n",
    "    model = loaded_models[num]\n",
    "    print(f'Model from split {num}')\n",
    "    with th.no_grad():\n",
    "        model.eval()\n",
    "        model.cuda()\n",
    "        for data in tqdm(test_dl, desc='Predicting'):\n",
    "            ids = data['ids']\n",
    "            logits = model(ids.cuda())\n",
    "            # as we added 1 to avoid target from being < 0 (Negative sentiment)\n",
    "            reformat_pred = logits.argmax(dim=1) - 1\n",
    "            predictions += (reformat_pred.detach().cpu().numpy().tolist())\n",
    "\n",
    "        all_predictions.append(np.array(predictions))\n",
    "        predictions = []\n"
   ]
  },
  {
   "cell_type": "code",
   "execution_count": 38,
   "id": "introductory-genre",
   "metadata": {},
   "outputs": [
    {
     "data": {
      "text/plain": [
       "(5, 30000)"
      ]
     },
     "execution_count": 38,
     "metadata": {},
     "output_type": "execute_result"
    }
   ],
   "source": [
    "np.array(all_predictions).shape"
   ]
  },
  {
   "cell_type": "code",
   "execution_count": 55,
   "id": "uniform-contribution",
   "metadata": {},
   "outputs": [
    {
     "data": {
      "text/plain": [
       "array([ 0.2, -1. ,  1. , ...,  0.4, -1. ,  1. ])"
      ]
     },
     "execution_count": 55,
     "metadata": {},
     "output_type": "execute_result"
    }
   ],
   "source": [
    "probas = np.array(all_predictions, dtype=int).mean(axis=0)\n",
    "probas"
   ]
  },
  {
   "cell_type": "code",
   "execution_count": 64,
   "id": "magnetic-recipient",
   "metadata": {},
   "outputs": [],
   "source": [
    "labels = np.zeros(shape=30000, dtype=int)\n",
    "for idx, p in enumerate(probas):\n",
    "        if p > .7:\n",
    "            labels[idx] = 1\n",
    "        else:\n",
    "            labels[idx] = -1\n"
   ]
  },
  {
   "cell_type": "code",
   "execution_count": 65,
   "id": "coupled-group",
   "metadata": {},
   "outputs": [
    {
     "data": {
      "text/plain": [
       "array([-1, -1,  1, ..., -1, -1,  1])"
      ]
     },
     "execution_count": 65,
     "metadata": {},
     "output_type": "execute_result"
    }
   ],
   "source": [
    "labels"
   ]
  },
  {
   "cell_type": "code",
   "execution_count": null,
   "id": "checked-satisfaction",
   "metadata": {},
   "outputs": [],
   "source": []
  }
 ],
 "metadata": {
  "kernelspec": {
   "display_name": "Python 3",
   "language": "python",
   "name": "python3"
  },
  "language_info": {
   "codemirror_mode": {
    "name": "ipython",
    "version": 3
   },
   "file_extension": ".py",
   "mimetype": "text/x-python",
   "name": "python",
   "nbconvert_exporter": "python",
   "pygments_lexer": "ipython3",
   "version": "3.8.8"
  },
  "widgets": {
   "application/vnd.jupyter.widget-state+json": {
    "state": {
     "039b0c44d91b4d36bf083bb77fdac495": {
      "model_module": "@jupyter-widgets/base",
      "model_module_version": "1.2.0",
      "model_name": "LayoutModel",
      "state": {}
     },
     "045df197f94f418e87e09891f16db03d": {
      "model_module": "@jupyter-widgets/controls",
      "model_module_version": "1.5.0",
      "model_name": "HBoxModel",
      "state": {
       "children": [
        "IPY_MODEL_859e88e3a19b4ab68fe0b95249e36471",
        "IPY_MODEL_0c744b19b6b5400fa4168f206d8ae97e",
        "IPY_MODEL_121c8533f3d146b197bdedbb42e3d312"
       ],
       "layout": "IPY_MODEL_299066d527fd463394cf2f13ef9c7a51"
      }
     },
     "05498e72284c47b6a44d5df590287b35": {
      "model_module": "@jupyter-widgets/controls",
      "model_module_version": "1.5.0",
      "model_name": "HTMLModel",
      "state": {
       "layout": "IPY_MODEL_ab6e21fce96c4901bdd361fb6252e584",
       "style": "IPY_MODEL_c5c4539a0aa54e6fa1f985f732e710d8",
       "value": "Predicting: 100%"
      }
     },
     "0727191000fa481d9bfbe181e596d348": {
      "model_module": "@jupyter-widgets/controls",
      "model_module_version": "1.5.0",
      "model_name": "HTMLModel",
      "state": {
       "layout": "IPY_MODEL_3b55e0d0abe2461a8e28c2a2267012c4",
       "style": "IPY_MODEL_c7074b7363014a188f6621aa16418932",
       "value": " 0/0 [00:00&lt;?, ?it/s]"
      }
     },
     "0adb15bdf3594f299de46909ce445ddb": {
      "model_module": "@jupyter-widgets/controls",
      "model_module_version": "1.5.0",
      "model_name": "HBoxModel",
      "state": {
       "children": [
        "IPY_MODEL_835ed7d4a2c0401591701e5f42611d92",
        "IPY_MODEL_ba6af350d9be436fbbdae5efbbb650c6",
        "IPY_MODEL_26d23702a4ad4f3b9f576100a751f397"
       ],
       "layout": "IPY_MODEL_d42d07b472284fa68c8f6c8088a5d367"
      }
     },
     "0c744b19b6b5400fa4168f206d8ae97e": {
      "model_module": "@jupyter-widgets/controls",
      "model_module_version": "1.5.0",
      "model_name": "FloatProgressModel",
      "state": {
       "bar_style": "success",
       "layout": "IPY_MODEL_3e94ee59ce154c20acd297b56b67e976",
       "max": 235,
       "style": "IPY_MODEL_0cb6e00a3f6e48428772368b8300fcab",
       "value": 235
      }
     },
     "0cb6e00a3f6e48428772368b8300fcab": {
      "model_module": "@jupyter-widgets/controls",
      "model_module_version": "1.5.0",
      "model_name": "ProgressStyleModel",
      "state": {
       "description_width": ""
      }
     },
     "121c8533f3d146b197bdedbb42e3d312": {
      "model_module": "@jupyter-widgets/controls",
      "model_module_version": "1.5.0",
      "model_name": "HTMLModel",
      "state": {
       "layout": "IPY_MODEL_6defba8e35554d5ea83a4aaf3d3b5d9c",
       "style": "IPY_MODEL_1905ceb7c4084a50a6aeac19ec79108b",
       "value": " 235/235 [00:11&lt;00:00, 21.52it/s]"
      }
     },
     "123a7daa570443969d89dc93f2127a4f": {
      "model_module": "@jupyter-widgets/controls",
      "model_module_version": "1.5.0",
      "model_name": "FloatProgressModel",
      "state": {
       "bar_style": "success",
       "layout": "IPY_MODEL_32dbe782e0b34f7b99ab71ffa43e62fd",
       "max": 235,
       "style": "IPY_MODEL_d5a9d0bdab224de9b43e946f02b8a6b7",
       "value": 235
      }
     },
     "14ade9a7e17e4a7e85e25f6f7aad4b40": {
      "model_module": "@jupyter-widgets/controls",
      "model_module_version": "1.5.0",
      "model_name": "ProgressStyleModel",
      "state": {
       "description_width": ""
      }
     },
     "152980eff4e94cd9bb1af3355ac49489": {
      "model_module": "@jupyter-widgets/controls",
      "model_module_version": "1.5.0",
      "model_name": "HTMLModel",
      "state": {
       "layout": "IPY_MODEL_d5e677e5edc64b4b909fc2379f32f650",
       "style": "IPY_MODEL_4631f53b682b4b3d8fc0ddde05077148",
       "value": "Predicting: 100%"
      }
     },
     "175746a2bf4b46f5b4a340c4766f4f08": {
      "model_module": "@jupyter-widgets/controls",
      "model_module_version": "1.5.0",
      "model_name": "DescriptionStyleModel",
      "state": {
       "description_width": ""
      }
     },
     "17ddf4cdb1fe4e0a915f0277930a1b2b": {
      "model_module": "@jupyter-widgets/base",
      "model_module_version": "1.2.0",
      "model_name": "LayoutModel",
      "state": {}
     },
     "1905ceb7c4084a50a6aeac19ec79108b": {
      "model_module": "@jupyter-widgets/controls",
      "model_module_version": "1.5.0",
      "model_name": "DescriptionStyleModel",
      "state": {
       "description_width": ""
      }
     },
     "1998d7a4e45e4376aede22fbb860bc1d": {
      "model_module": "@jupyter-widgets/base",
      "model_module_version": "1.2.0",
      "model_name": "LayoutModel",
      "state": {}
     },
     "19bbeda5f1e94c99a15e83500f5efeb0": {
      "model_module": "@jupyter-widgets/base",
      "model_module_version": "1.2.0",
      "model_name": "LayoutModel",
      "state": {}
     },
     "1a29d81d9e4d4a0eae44eb7b8b196c27": {
      "model_module": "@jupyter-widgets/base",
      "model_module_version": "1.2.0",
      "model_name": "LayoutModel",
      "state": {}
     },
     "1add71ca90784d09a975da3c97502363": {
      "model_module": "@jupyter-widgets/base",
      "model_module_version": "1.2.0",
      "model_name": "LayoutModel",
      "state": {}
     },
     "1ee52be515994b09bb77ef20d312d75c": {
      "model_module": "@jupyter-widgets/base",
      "model_module_version": "1.2.0",
      "model_name": "LayoutModel",
      "state": {}
     },
     "1fc5d257d3ec4ebeb478ba3f29d0cd46": {
      "model_module": "@jupyter-widgets/controls",
      "model_module_version": "1.5.0",
      "model_name": "ProgressStyleModel",
      "state": {
       "description_width": ""
      }
     },
     "203cb29c781c4d1198316d0b1d30d9fc": {
      "model_module": "@jupyter-widgets/base",
      "model_module_version": "1.2.0",
      "model_name": "LayoutModel",
      "state": {}
     },
     "205a9ed464f74921b8b0015fbed58579": {
      "model_module": "@jupyter-widgets/controls",
      "model_module_version": "1.5.0",
      "model_name": "ProgressStyleModel",
      "state": {
       "description_width": ""
      }
     },
     "21ea4f812350410bb44ef536b77ab560": {
      "model_module": "@jupyter-widgets/base",
      "model_module_version": "1.2.0",
      "model_name": "LayoutModel",
      "state": {}
     },
     "22beb778b6444bf4a1a2337b1db40dff": {
      "model_module": "@jupyter-widgets/base",
      "model_module_version": "1.2.0",
      "model_name": "LayoutModel",
      "state": {}
     },
     "26d23702a4ad4f3b9f576100a751f397": {
      "model_module": "@jupyter-widgets/controls",
      "model_module_version": "1.5.0",
      "model_name": "HTMLModel",
      "state": {
       "layout": "IPY_MODEL_5473585562f2453ebaf750699829682c",
       "style": "IPY_MODEL_b215153fa126424b8edc1b85325febe4",
       "value": " 235/235 [00:12&lt;00:00, 18.50it/s]"
      }
     },
     "299066d527fd463394cf2f13ef9c7a51": {
      "model_module": "@jupyter-widgets/base",
      "model_module_version": "1.2.0",
      "model_name": "LayoutModel",
      "state": {}
     },
     "2d4d2407c19c4e14b7c25acbcd42fffb": {
      "model_module": "@jupyter-widgets/base",
      "model_module_version": "1.2.0",
      "model_name": "LayoutModel",
      "state": {}
     },
     "2d619cced80d40c0825ffd41cbe3b615": {
      "model_module": "@jupyter-widgets/base",
      "model_module_version": "1.2.0",
      "model_name": "LayoutModel",
      "state": {}
     },
     "30ea13f6f0dc4bb4ae56e59ee5ece686": {
      "model_module": "@jupyter-widgets/controls",
      "model_module_version": "1.5.0",
      "model_name": "HTMLModel",
      "state": {
       "layout": "IPY_MODEL_387d4bfc800a41c6b471752cec7601ad",
       "style": "IPY_MODEL_52e2dc8042ea4091b35408c555d71b10",
       "value": " 5/5 [00:00&lt;00:00, 39.72it/s]"
      }
     },
     "32dbe782e0b34f7b99ab71ffa43e62fd": {
      "model_module": "@jupyter-widgets/base",
      "model_module_version": "1.2.0",
      "model_name": "LayoutModel",
      "state": {}
     },
     "387d4bfc800a41c6b471752cec7601ad": {
      "model_module": "@jupyter-widgets/base",
      "model_module_version": "1.2.0",
      "model_name": "LayoutModel",
      "state": {}
     },
     "3917be7de6aa418789b41f8b227e959a": {
      "model_module": "@jupyter-widgets/base",
      "model_module_version": "1.2.0",
      "model_name": "LayoutModel",
      "state": {}
     },
     "3a64ffefa22840bda9e91be5e45a0a04": {
      "model_module": "@jupyter-widgets/base",
      "model_module_version": "1.2.0",
      "model_name": "LayoutModel",
      "state": {}
     },
     "3ad229188b1e4d90b6b819096654f78b": {
      "model_module": "@jupyter-widgets/controls",
      "model_module_version": "1.5.0",
      "model_name": "HTMLModel",
      "state": {
       "layout": "IPY_MODEL_a34914a352f142f89fdd7fb650511394",
       "style": "IPY_MODEL_3d70c2cd868d4e238c2330487b4744c0",
       "value": " 235/235 [00:11&lt;00:00, 20.62it/s]"
      }
     },
     "3b55e0d0abe2461a8e28c2a2267012c4": {
      "model_module": "@jupyter-widgets/base",
      "model_module_version": "1.2.0",
      "model_name": "LayoutModel",
      "state": {}
     },
     "3d70c2cd868d4e238c2330487b4744c0": {
      "model_module": "@jupyter-widgets/controls",
      "model_module_version": "1.5.0",
      "model_name": "DescriptionStyleModel",
      "state": {
       "description_width": ""
      }
     },
     "3e94ee59ce154c20acd297b56b67e976": {
      "model_module": "@jupyter-widgets/base",
      "model_module_version": "1.2.0",
      "model_name": "LayoutModel",
      "state": {}
     },
     "40258472e94e42cf9559675a90f5d0e3": {
      "model_module": "@jupyter-widgets/controls",
      "model_module_version": "1.5.0",
      "model_name": "DescriptionStyleModel",
      "state": {
       "description_width": ""
      }
     },
     "41887c4b14444a1aa41be423d38cb5f0": {
      "model_module": "@jupyter-widgets/base",
      "model_module_version": "1.2.0",
      "model_name": "LayoutModel",
      "state": {}
     },
     "438613d42ee94eac830d713440be943a": {
      "model_module": "@jupyter-widgets/controls",
      "model_module_version": "1.5.0",
      "model_name": "DescriptionStyleModel",
      "state": {
       "description_width": ""
      }
     },
     "4631f53b682b4b3d8fc0ddde05077148": {
      "model_module": "@jupyter-widgets/controls",
      "model_module_version": "1.5.0",
      "model_name": "DescriptionStyleModel",
      "state": {
       "description_width": ""
      }
     },
     "470f83eff44c478dbe172acf2f7049f2": {
      "model_module": "@jupyter-widgets/controls",
      "model_module_version": "1.5.0",
      "model_name": "ProgressStyleModel",
      "state": {
       "description_width": ""
      }
     },
     "4809092a33fc4cc9a9816c25343c716c": {
      "model_module": "@jupyter-widgets/base",
      "model_module_version": "1.2.0",
      "model_name": "LayoutModel",
      "state": {}
     },
     "4cea3c23aa3b43639d30dfb606bd54e5": {
      "model_module": "@jupyter-widgets/base",
      "model_module_version": "1.2.0",
      "model_name": "LayoutModel",
      "state": {
       "width": "20px"
      }
     },
     "4da513c9244046da874bcdcd7cecdf21": {
      "model_module": "@jupyter-widgets/base",
      "model_module_version": "1.2.0",
      "model_name": "LayoutModel",
      "state": {}
     },
     "4ff991145f8c491a833d90140ab7ccfe": {
      "model_module": "@jupyter-widgets/controls",
      "model_module_version": "1.5.0",
      "model_name": "DescriptionStyleModel",
      "state": {
       "description_width": ""
      }
     },
     "52e2dc8042ea4091b35408c555d71b10": {
      "model_module": "@jupyter-widgets/controls",
      "model_module_version": "1.5.0",
      "model_name": "DescriptionStyleModel",
      "state": {
       "description_width": ""
      }
     },
     "5473585562f2453ebaf750699829682c": {
      "model_module": "@jupyter-widgets/base",
      "model_module_version": "1.2.0",
      "model_name": "LayoutModel",
      "state": {}
     },
     "55c1355330704fe3bc74b1d7fcfa82e6": {
      "model_module": "@jupyter-widgets/controls",
      "model_module_version": "1.5.0",
      "model_name": "FloatProgressModel",
      "state": {
       "bar_style": "success",
       "layout": "IPY_MODEL_1a29d81d9e4d4a0eae44eb7b8b196c27",
       "max": 235,
       "style": "IPY_MODEL_83dca5e6daec4367822fcdd1a1e06300",
       "value": 235
      }
     },
     "5900c06f9121459d864e7f60e32f127c": {
      "model_module": "@jupyter-widgets/base",
      "model_module_version": "1.2.0",
      "model_name": "LayoutModel",
      "state": {}
     },
     "5c67b5e264b64311ba3b309e1b01344a": {
      "model_module": "@jupyter-widgets/base",
      "model_module_version": "1.2.0",
      "model_name": "LayoutModel",
      "state": {}
     },
     "5dbf36f638224275be759a7c0e958336": {
      "model_module": "@jupyter-widgets/controls",
      "model_module_version": "1.5.0",
      "model_name": "DescriptionStyleModel",
      "state": {
       "description_width": ""
      }
     },
     "5e7d90d271114bd18c7e22995201ffde": {
      "model_module": "@jupyter-widgets/controls",
      "model_module_version": "1.5.0",
      "model_name": "HBoxModel",
      "state": {
       "children": [
        "IPY_MODEL_da542cd8d09545458591107eb920d065",
        "IPY_MODEL_d5995e51312343a283308ec12cc52f51",
        "IPY_MODEL_ffc39d651a114c42b48c6f60e4ed99b8"
       ],
       "layout": "IPY_MODEL_f0b8c4a9ba5e40939a1e169118e6320a"
      }
     },
     "5f421e30389b4cfd9dc7892086034ae2": {
      "model_module": "@jupyter-widgets/controls",
      "model_module_version": "1.5.0",
      "model_name": "HTMLModel",
      "state": {
       "layout": "IPY_MODEL_5c67b5e264b64311ba3b309e1b01344a",
       "style": "IPY_MODEL_dbb81dfe977e4929887ef8deb01fbd0e",
       "value": " 235/235 [00:11&lt;00:00, 20.36it/s]"
      }
     },
     "64112d8e55334f4d841993169cef6a3c": {
      "model_module": "@jupyter-widgets/controls",
      "model_module_version": "1.5.0",
      "model_name": "HTMLModel",
      "state": {
       "layout": "IPY_MODEL_1998d7a4e45e4376aede22fbb860bc1d",
       "style": "IPY_MODEL_9ad64759f5b945b1a752ee098c44e8b1",
       "value": "Predicting: 100%"
      }
     },
     "69149d9d35c642d38b9e972172d3104c": {
      "model_module": "@jupyter-widgets/controls",
      "model_module_version": "1.5.0",
      "model_name": "HBoxModel",
      "state": {
       "children": [
        "IPY_MODEL_8c1b016e11944e758f83c2ef9e59f73e",
        "IPY_MODEL_e4f8f00ee9f94dfeabf56cf3549a339b",
        "IPY_MODEL_3ad229188b1e4d90b6b819096654f78b"
       ],
       "layout": "IPY_MODEL_7b35e109f0064e22aa1f462537b5223b"
      }
     },
     "6a58c1ec1b2d4f06a1f8341d46642487": {
      "model_module": "@jupyter-widgets/controls",
      "model_module_version": "1.5.0",
      "model_name": "HTMLModel",
      "state": {
       "layout": "IPY_MODEL_19bbeda5f1e94c99a15e83500f5efeb0",
       "style": "IPY_MODEL_e4db3f8015ce46c8b7f9e036cc5a2854",
       "value": " 235/235 [00:11&lt;00:00, 21.86it/s]"
      }
     },
     "6d4305d387d547e4923632f9d2f13b4d": {
      "model_module": "@jupyter-widgets/controls",
      "model_module_version": "1.5.0",
      "model_name": "ProgressStyleModel",
      "state": {
       "description_width": ""
      }
     },
     "6defba8e35554d5ea83a4aaf3d3b5d9c": {
      "model_module": "@jupyter-widgets/base",
      "model_module_version": "1.2.0",
      "model_name": "LayoutModel",
      "state": {}
     },
     "6ffe7982184c4a37af0f67b80d101f38": {
      "model_module": "@jupyter-widgets/controls",
      "model_module_version": "1.5.0",
      "model_name": "DescriptionStyleModel",
      "state": {
       "description_width": ""
      }
     },
     "74317629323d48a2870ac7afb37d045c": {
      "model_module": "@jupyter-widgets/controls",
      "model_module_version": "1.5.0",
      "model_name": "DescriptionStyleModel",
      "state": {
       "description_width": ""
      }
     },
     "74a1925c413b44eb8445ce4481e19391": {
      "model_module": "@jupyter-widgets/base",
      "model_module_version": "1.2.0",
      "model_name": "LayoutModel",
      "state": {}
     },
     "75fcadb0bc894af1a793a1bbb3bc8c87": {
      "model_module": "@jupyter-widgets/controls",
      "model_module_version": "1.5.0",
      "model_name": "FloatProgressModel",
      "state": {
       "bar_style": "success",
       "layout": "IPY_MODEL_9b131ce79b1541f39973147d4b5135c7",
       "max": 235,
       "style": "IPY_MODEL_7978a913d39a4bd7b3b004a1a5d55ace",
       "value": 235
      }
     },
     "778c5f1de2804e0e8aca56c0c590f51b": {
      "model_module": "@jupyter-widgets/controls",
      "model_module_version": "1.5.0",
      "model_name": "FloatProgressModel",
      "state": {
       "bar_style": "success",
       "layout": "IPY_MODEL_3917be7de6aa418789b41f8b227e959a",
       "max": 235,
       "style": "IPY_MODEL_8f6ad37628b14206a42099f05741fcc4",
       "value": 235
      }
     },
     "7978a913d39a4bd7b3b004a1a5d55ace": {
      "model_module": "@jupyter-widgets/controls",
      "model_module_version": "1.5.0",
      "model_name": "ProgressStyleModel",
      "state": {
       "description_width": ""
      }
     },
     "7b35e109f0064e22aa1f462537b5223b": {
      "model_module": "@jupyter-widgets/base",
      "model_module_version": "1.2.0",
      "model_name": "LayoutModel",
      "state": {}
     },
     "7cf2ed930cfd463bbc064e9623c5a8e2": {
      "model_module": "@jupyter-widgets/controls",
      "model_module_version": "1.5.0",
      "model_name": "DescriptionStyleModel",
      "state": {
       "description_width": ""
      }
     },
     "7d6c9c35dfa247b1b35af5bd1f2e0ce7": {
      "model_module": "@jupyter-widgets/controls",
      "model_module_version": "1.5.0",
      "model_name": "DescriptionStyleModel",
      "state": {
       "description_width": ""
      }
     },
     "7e265d18feef4e3b91b253585b40e033": {
      "model_module": "@jupyter-widgets/base",
      "model_module_version": "1.2.0",
      "model_name": "LayoutModel",
      "state": {}
     },
     "7f6727fcab074c65940d259971898eaf": {
      "model_module": "@jupyter-widgets/controls",
      "model_module_version": "1.5.0",
      "model_name": "ProgressStyleModel",
      "state": {
       "description_width": ""
      }
     },
     "835ed7d4a2c0401591701e5f42611d92": {
      "model_module": "@jupyter-widgets/controls",
      "model_module_version": "1.5.0",
      "model_name": "HTMLModel",
      "state": {
       "layout": "IPY_MODEL_74a1925c413b44eb8445ce4481e19391",
       "style": "IPY_MODEL_c53be896b964401cb7c04897039ce426",
       "value": "Predicting: 100%"
      }
     },
     "83dca5e6daec4367822fcdd1a1e06300": {
      "model_module": "@jupyter-widgets/controls",
      "model_module_version": "1.5.0",
      "model_name": "ProgressStyleModel",
      "state": {
       "description_width": ""
      }
     },
     "859e88e3a19b4ab68fe0b95249e36471": {
      "model_module": "@jupyter-widgets/controls",
      "model_module_version": "1.5.0",
      "model_name": "HTMLModel",
      "state": {
       "layout": "IPY_MODEL_d8a31ea2fe6f4dbf8ee0441c51806ee0",
       "style": "IPY_MODEL_4ff991145f8c491a833d90140ab7ccfe",
       "value": "Predicting: 100%"
      }
     },
     "86ea42c075f4471c8ccd3eccaa8b51b4": {
      "model_module": "@jupyter-widgets/controls",
      "model_module_version": "1.5.0",
      "model_name": "ProgressStyleModel",
      "state": {
       "description_width": ""
      }
     },
     "87eaaa7f687b4b1db3c1643a13ad4b31": {
      "model_module": "@jupyter-widgets/controls",
      "model_module_version": "1.5.0",
      "model_name": "DescriptionStyleModel",
      "state": {
       "description_width": ""
      }
     },
     "88ad1c4aecc64265ac1276fafc0671f0": {
      "model_module": "@jupyter-widgets/base",
      "model_module_version": "1.2.0",
      "model_name": "LayoutModel",
      "state": {}
     },
     "8c1b016e11944e758f83c2ef9e59f73e": {
      "model_module": "@jupyter-widgets/controls",
      "model_module_version": "1.5.0",
      "model_name": "HTMLModel",
      "state": {
       "layout": "IPY_MODEL_ff2a89aa7af54d98af316fa3a5ed0cca",
       "style": "IPY_MODEL_e118f7dbb546410b8a2e646563fe5375",
       "value": "Predicting: 100%"
      }
     },
     "8c786f6f3a764445af4729c4e0a2d234": {
      "model_module": "@jupyter-widgets/controls",
      "model_module_version": "1.5.0",
      "model_name": "ProgressStyleModel",
      "state": {
       "description_width": ""
      }
     },
     "8cb7905fc0074862855292fa1c055f33": {
      "model_module": "@jupyter-widgets/controls",
      "model_module_version": "1.5.0",
      "model_name": "HBoxModel",
      "state": {
       "children": [
        "IPY_MODEL_64112d8e55334f4d841993169cef6a3c",
        "IPY_MODEL_55c1355330704fe3bc74b1d7fcfa82e6",
        "IPY_MODEL_b9559ecd7bce4d51a58a4a132dce8099"
       ],
       "layout": "IPY_MODEL_1ee52be515994b09bb77ef20d312d75c"
      }
     },
     "8f37c04ad82b4e47b13eb136c6f2a1c6": {
      "model_module": "@jupyter-widgets/base",
      "model_module_version": "1.2.0",
      "model_name": "LayoutModel",
      "state": {}
     },
     "8f5d2a0751714ede978f596a2baed6fa": {
      "model_module": "@jupyter-widgets/controls",
      "model_module_version": "1.5.0",
      "model_name": "FloatProgressModel",
      "state": {
       "bar_style": "success",
       "layout": "IPY_MODEL_203cb29c781c4d1198316d0b1d30d9fc",
       "max": 5,
       "style": "IPY_MODEL_7f6727fcab074c65940d259971898eaf",
       "value": 5
      }
     },
     "8f6ad37628b14206a42099f05741fcc4": {
      "model_module": "@jupyter-widgets/controls",
      "model_module_version": "1.5.0",
      "model_name": "ProgressStyleModel",
      "state": {
       "description_width": ""
      }
     },
     "987d6e84d8804489a3496373cf8310bb": {
      "model_module": "@jupyter-widgets/controls",
      "model_module_version": "1.5.0",
      "model_name": "HTMLModel",
      "state": {
       "layout": "IPY_MODEL_1add71ca90784d09a975da3c97502363",
       "style": "IPY_MODEL_6ffe7982184c4a37af0f67b80d101f38",
       "value": " 235/235 [00:11&lt;00:00, 20.74it/s]"
      }
     },
     "994bb1de7f9640d582c91abd3c42ea21": {
      "model_module": "@jupyter-widgets/base",
      "model_module_version": "1.2.0",
      "model_name": "LayoutModel",
      "state": {}
     },
     "9ad64759f5b945b1a752ee098c44e8b1": {
      "model_module": "@jupyter-widgets/controls",
      "model_module_version": "1.5.0",
      "model_name": "DescriptionStyleModel",
      "state": {
       "description_width": ""
      }
     },
     "9b131ce79b1541f39973147d4b5135c7": {
      "model_module": "@jupyter-widgets/base",
      "model_module_version": "1.2.0",
      "model_name": "LayoutModel",
      "state": {}
     },
     "9bb366cb4f8f4ae1a5cae92a2f67f752": {
      "model_module": "@jupyter-widgets/base",
      "model_module_version": "1.2.0",
      "model_name": "LayoutModel",
      "state": {}
     },
     "9bfca4b8e0a34babb002e7682d857dd0": {
      "model_module": "@jupyter-widgets/controls",
      "model_module_version": "1.5.0",
      "model_name": "HBoxModel",
      "state": {
       "children": [
        "IPY_MODEL_152980eff4e94cd9bb1af3355ac49489",
        "IPY_MODEL_123a7daa570443969d89dc93f2127a4f",
        "IPY_MODEL_c6c596b03e4b426b8754511e60d716b5"
       ],
       "layout": "IPY_MODEL_039b0c44d91b4d36bf083bb77fdac495"
      }
     },
     "9dcaa6cd1a3a428687edb2494d392083": {
      "model_module": "@jupyter-widgets/controls",
      "model_module_version": "1.5.0",
      "model_name": "FloatProgressModel",
      "state": {
       "bar_style": "success",
       "layout": "IPY_MODEL_e92cd6181ffc4c21965cf2c9d16b7a5f",
       "max": 235,
       "style": "IPY_MODEL_1fc5d257d3ec4ebeb478ba3f29d0cd46",
       "value": 235
      }
     },
     "9f5604b67632462f89dfca85d0fdcc14": {
      "model_module": "@jupyter-widgets/controls",
      "model_module_version": "1.5.0",
      "model_name": "HTMLModel",
      "state": {
       "layout": "IPY_MODEL_88ad1c4aecc64265ac1276fafc0671f0",
       "style": "IPY_MODEL_40258472e94e42cf9559675a90f5d0e3",
       "value": " 235/235 [00:11&lt;00:00, 20.60it/s]"
      }
     },
     "a0b881ae9a74449898ed7cb8440384a9": {
      "model_module": "@jupyter-widgets/controls",
      "model_module_version": "1.5.0",
      "model_name": "DescriptionStyleModel",
      "state": {
       "description_width": ""
      }
     },
     "a34914a352f142f89fdd7fb650511394": {
      "model_module": "@jupyter-widgets/base",
      "model_module_version": "1.2.0",
      "model_name": "LayoutModel",
      "state": {}
     },
     "a7d4a5c1372f437383d3e6ab8ed7cd8f": {
      "model_module": "@jupyter-widgets/base",
      "model_module_version": "1.2.0",
      "model_name": "LayoutModel",
      "state": {}
     },
     "ab6e21fce96c4901bdd361fb6252e584": {
      "model_module": "@jupyter-widgets/base",
      "model_module_version": "1.2.0",
      "model_name": "LayoutModel",
      "state": {}
     },
     "abf5e36b3a1246f9842e3e00f332f54d": {
      "model_module": "@jupyter-widgets/controls",
      "model_module_version": "1.5.0",
      "model_name": "HBoxModel",
      "state": {
       "children": [
        "IPY_MODEL_f879954851834c42b152af0affb4d5fe",
        "IPY_MODEL_e3744fadcde743afa7a589eea73bf23b",
        "IPY_MODEL_0727191000fa481d9bfbe181e596d348"
       ],
       "layout": "IPY_MODEL_5900c06f9121459d864e7f60e32f127c"
      }
     },
     "af78da51d65a43b7bc0ba1badd570781": {
      "model_module": "@jupyter-widgets/base",
      "model_module_version": "1.2.0",
      "model_name": "LayoutModel",
      "state": {}
     },
     "afbc4feae1fa4e4e92637a7fa717a9e1": {
      "model_module": "@jupyter-widgets/controls",
      "model_module_version": "1.5.0",
      "model_name": "HBoxModel",
      "state": {
       "children": [
        "IPY_MODEL_05498e72284c47b6a44d5df590287b35",
        "IPY_MODEL_d0bf1615a5334f668a71d8a2794482ff",
        "IPY_MODEL_9f5604b67632462f89dfca85d0fdcc14"
       ],
       "layout": "IPY_MODEL_41887c4b14444a1aa41be423d38cb5f0"
      }
     },
     "b215153fa126424b8edc1b85325febe4": {
      "model_module": "@jupyter-widgets/controls",
      "model_module_version": "1.5.0",
      "model_name": "DescriptionStyleModel",
      "state": {
       "description_width": ""
      }
     },
     "b3026143b3bc44b98f84cecb7c6205fd": {
      "model_module": "@jupyter-widgets/controls",
      "model_module_version": "1.5.0",
      "model_name": "DescriptionStyleModel",
      "state": {
       "description_width": ""
      }
     },
     "b9559ecd7bce4d51a58a4a132dce8099": {
      "model_module": "@jupyter-widgets/controls",
      "model_module_version": "1.5.0",
      "model_name": "HTMLModel",
      "state": {
       "layout": "IPY_MODEL_17ddf4cdb1fe4e0a915f0277930a1b2b",
       "style": "IPY_MODEL_7d6c9c35dfa247b1b35af5bd1f2e0ce7",
       "value": " 235/235 [00:12&lt;00:00, 21.22it/s]"
      }
     },
     "ba6af350d9be436fbbdae5efbbb650c6": {
      "model_module": "@jupyter-widgets/controls",
      "model_module_version": "1.5.0",
      "model_name": "FloatProgressModel",
      "state": {
       "bar_style": "success",
       "layout": "IPY_MODEL_de3cbc8c209f4967a18ba0079e3c8af0",
       "max": 235,
       "style": "IPY_MODEL_14ade9a7e17e4a7e85e25f6f7aad4b40",
       "value": 235
      }
     },
     "bd4a56106a6d427399817f6938aae8d9": {
      "model_module": "@jupyter-widgets/controls",
      "model_module_version": "1.5.0",
      "model_name": "HTMLModel",
      "state": {
       "layout": "IPY_MODEL_4809092a33fc4cc9a9816c25343c716c",
       "style": "IPY_MODEL_d6dd050dcd62440a9a299f4939d42d48",
       "value": "Predicting: 100%"
      }
     },
     "be5e4d505353416aa3fc4a34826df3f0": {
      "model_module": "@jupyter-widgets/controls",
      "model_module_version": "1.5.0",
      "model_name": "HTMLModel",
      "state": {
       "layout": "IPY_MODEL_cf79787d21b644018b88d71575a4f625",
       "style": "IPY_MODEL_175746a2bf4b46f5b4a340c4766f4f08",
       "value": "Predicting: 100%"
      }
     },
     "c3dc07c802c74e2e97b64605464ede3b": {
      "model_module": "@jupyter-widgets/controls",
      "model_module_version": "1.5.0",
      "model_name": "HTMLModel",
      "state": {
       "layout": "IPY_MODEL_9bb366cb4f8f4ae1a5cae92a2f67f752",
       "style": "IPY_MODEL_74317629323d48a2870ac7afb37d045c",
       "value": "Predicting: 100%"
      }
     },
     "c438df566de0455b96bbc5f5ccd9d608": {
      "model_module": "@jupyter-widgets/controls",
      "model_module_version": "1.5.0",
      "model_name": "HBoxModel",
      "state": {
       "children": [
        "IPY_MODEL_ee3836031bcf4a94ac07a8c47a858db4",
        "IPY_MODEL_778c5f1de2804e0e8aca56c0c590f51b",
        "IPY_MODEL_987d6e84d8804489a3496373cf8310bb"
       ],
       "layout": "IPY_MODEL_fcfae6ba4c2849689a747093e3c84919"
      }
     },
     "c454eb0b7a4f49b08b1403c5a79cb702": {
      "model_module": "@jupyter-widgets/controls",
      "model_module_version": "1.5.0",
      "model_name": "HBoxModel",
      "state": {
       "children": [
        "IPY_MODEL_f0b3e96561794df696bfc0a441e8d8f6",
        "IPY_MODEL_8f5d2a0751714ede978f596a2baed6fa",
        "IPY_MODEL_30ea13f6f0dc4bb4ae56e59ee5ece686"
       ],
       "layout": "IPY_MODEL_994bb1de7f9640d582c91abd3c42ea21"
      }
     },
     "c53be896b964401cb7c04897039ce426": {
      "model_module": "@jupyter-widgets/controls",
      "model_module_version": "1.5.0",
      "model_name": "DescriptionStyleModel",
      "state": {
       "description_width": ""
      }
     },
     "c5c4539a0aa54e6fa1f985f732e710d8": {
      "model_module": "@jupyter-widgets/controls",
      "model_module_version": "1.5.0",
      "model_name": "DescriptionStyleModel",
      "state": {
       "description_width": ""
      }
     },
     "c6c596b03e4b426b8754511e60d716b5": {
      "model_module": "@jupyter-widgets/controls",
      "model_module_version": "1.5.0",
      "model_name": "HTMLModel",
      "state": {
       "layout": "IPY_MODEL_3a64ffefa22840bda9e91be5e45a0a04",
       "style": "IPY_MODEL_f4c6e3b86d2247c1af7a8a38ff828449",
       "value": " 235/235 [00:11&lt;00:00, 21.47it/s]"
      }
     },
     "c7074b7363014a188f6621aa16418932": {
      "model_module": "@jupyter-widgets/controls",
      "model_module_version": "1.5.0",
      "model_name": "DescriptionStyleModel",
      "state": {
       "description_width": ""
      }
     },
     "c84954e5732147289fc3882ced091998": {
      "model_module": "@jupyter-widgets/controls",
      "model_module_version": "1.5.0",
      "model_name": "HBoxModel",
      "state": {
       "children": [
        "IPY_MODEL_c3dc07c802c74e2e97b64605464ede3b",
        "IPY_MODEL_75fcadb0bc894af1a793a1bbb3bc8c87",
        "IPY_MODEL_6a58c1ec1b2d4f06a1f8341d46642487"
       ],
       "layout": "IPY_MODEL_4da513c9244046da874bcdcd7cecdf21"
      }
     },
     "cf79787d21b644018b88d71575a4f625": {
      "model_module": "@jupyter-widgets/base",
      "model_module_version": "1.2.0",
      "model_name": "LayoutModel",
      "state": {}
     },
     "d0bf1615a5334f668a71d8a2794482ff": {
      "model_module": "@jupyter-widgets/controls",
      "model_module_version": "1.5.0",
      "model_name": "FloatProgressModel",
      "state": {
       "bar_style": "success",
       "layout": "IPY_MODEL_22beb778b6444bf4a1a2337b1db40dff",
       "max": 235,
       "style": "IPY_MODEL_205a9ed464f74921b8b0015fbed58579",
       "value": 235
      }
     },
     "d1fb55f0d55c47ffa7b0ae1d22670911": {
      "model_module": "@jupyter-widgets/controls",
      "model_module_version": "1.5.0",
      "model_name": "HTMLModel",
      "state": {
       "layout": "IPY_MODEL_a7d4a5c1372f437383d3e6ab8ed7cd8f",
       "style": "IPY_MODEL_b3026143b3bc44b98f84cecb7c6205fd",
       "value": " 235/235 [00:11&lt;00:00, 21.26it/s]"
      }
     },
     "d42d07b472284fa68c8f6c8088a5d367": {
      "model_module": "@jupyter-widgets/base",
      "model_module_version": "1.2.0",
      "model_name": "LayoutModel",
      "state": {}
     },
     "d5995e51312343a283308ec12cc52f51": {
      "model_module": "@jupyter-widgets/controls",
      "model_module_version": "1.5.0",
      "model_name": "FloatProgressModel",
      "state": {
       "bar_style": "success",
       "layout": "IPY_MODEL_7e265d18feef4e3b91b253585b40e033",
       "max": 1,
       "style": "IPY_MODEL_86ea42c075f4471c8ccd3eccaa8b51b4",
       "value": 1
      }
     },
     "d5a9d0bdab224de9b43e946f02b8a6b7": {
      "model_module": "@jupyter-widgets/controls",
      "model_module_version": "1.5.0",
      "model_name": "ProgressStyleModel",
      "state": {
       "description_width": ""
      }
     },
     "d5e677e5edc64b4b909fc2379f32f650": {
      "model_module": "@jupyter-widgets/base",
      "model_module_version": "1.2.0",
      "model_name": "LayoutModel",
      "state": {}
     },
     "d6dd050dcd62440a9a299f4939d42d48": {
      "model_module": "@jupyter-widgets/controls",
      "model_module_version": "1.5.0",
      "model_name": "DescriptionStyleModel",
      "state": {
       "description_width": ""
      }
     },
     "d8a31ea2fe6f4dbf8ee0441c51806ee0": {
      "model_module": "@jupyter-widgets/base",
      "model_module_version": "1.2.0",
      "model_name": "LayoutModel",
      "state": {}
     },
     "da542cd8d09545458591107eb920d065": {
      "model_module": "@jupyter-widgets/controls",
      "model_module_version": "1.5.0",
      "model_name": "HTMLModel",
      "state": {
       "layout": "IPY_MODEL_eff88ae5c9c8479abf133c552accf50f",
       "style": "IPY_MODEL_87eaaa7f687b4b1db3c1643a13ad4b31",
       "value": "Loding models: 100%"
      }
     },
     "dbb81dfe977e4929887ef8deb01fbd0e": {
      "model_module": "@jupyter-widgets/controls",
      "model_module_version": "1.5.0",
      "model_name": "DescriptionStyleModel",
      "state": {
       "description_width": ""
      }
     },
     "de3cbc8c209f4967a18ba0079e3c8af0": {
      "model_module": "@jupyter-widgets/base",
      "model_module_version": "1.2.0",
      "model_name": "LayoutModel",
      "state": {}
     },
     "e118f7dbb546410b8a2e646563fe5375": {
      "model_module": "@jupyter-widgets/controls",
      "model_module_version": "1.5.0",
      "model_name": "DescriptionStyleModel",
      "state": {
       "description_width": ""
      }
     },
     "e3744fadcde743afa7a589eea73bf23b": {
      "model_module": "@jupyter-widgets/controls",
      "model_module_version": "1.5.0",
      "model_name": "FloatProgressModel",
      "state": {
       "bar_style": "success",
       "layout": "IPY_MODEL_4cea3c23aa3b43639d30dfb606bd54e5",
       "max": 1,
       "style": "IPY_MODEL_470f83eff44c478dbe172acf2f7049f2"
      }
     },
     "e4db3f8015ce46c8b7f9e036cc5a2854": {
      "model_module": "@jupyter-widgets/controls",
      "model_module_version": "1.5.0",
      "model_name": "DescriptionStyleModel",
      "state": {
       "description_width": ""
      }
     },
     "e4f8f00ee9f94dfeabf56cf3549a339b": {
      "model_module": "@jupyter-widgets/controls",
      "model_module_version": "1.5.0",
      "model_name": "FloatProgressModel",
      "state": {
       "bar_style": "success",
       "layout": "IPY_MODEL_e7490034354d4f30b6139c652a781d15",
       "max": 235,
       "style": "IPY_MODEL_6d4305d387d547e4923632f9d2f13b4d",
       "value": 235
      }
     },
     "e51aede2f76249a48e56a0526ad51d14": {
      "model_module": "@jupyter-widgets/controls",
      "model_module_version": "1.5.0",
      "model_name": "HBoxModel",
      "state": {
       "children": [
        "IPY_MODEL_be5e4d505353416aa3fc4a34826df3f0",
        "IPY_MODEL_eb6dff5977814b94a3934ba7b854b3d0",
        "IPY_MODEL_5f421e30389b4cfd9dc7892086034ae2"
       ],
       "layout": "IPY_MODEL_f5489296024f442a82201f647d875f15"
      }
     },
     "e7490034354d4f30b6139c652a781d15": {
      "model_module": "@jupyter-widgets/base",
      "model_module_version": "1.2.0",
      "model_name": "LayoutModel",
      "state": {}
     },
     "e8a2519105fd4070a21d57901e6d6c26": {
      "model_module": "@jupyter-widgets/controls",
      "model_module_version": "1.5.0",
      "model_name": "HBoxModel",
      "state": {
       "children": [
        "IPY_MODEL_bd4a56106a6d427399817f6938aae8d9",
        "IPY_MODEL_9dcaa6cd1a3a428687edb2494d392083",
        "IPY_MODEL_d1fb55f0d55c47ffa7b0ae1d22670911"
       ],
       "layout": "IPY_MODEL_8f37c04ad82b4e47b13eb136c6f2a1c6"
      }
     },
     "e92cd6181ffc4c21965cf2c9d16b7a5f": {
      "model_module": "@jupyter-widgets/base",
      "model_module_version": "1.2.0",
      "model_name": "LayoutModel",
      "state": {}
     },
     "eb6dff5977814b94a3934ba7b854b3d0": {
      "model_module": "@jupyter-widgets/controls",
      "model_module_version": "1.5.0",
      "model_name": "FloatProgressModel",
      "state": {
       "bar_style": "success",
       "layout": "IPY_MODEL_2d4d2407c19c4e14b7c25acbcd42fffb",
       "max": 235,
       "style": "IPY_MODEL_8c786f6f3a764445af4729c4e0a2d234",
       "value": 235
      }
     },
     "ee3836031bcf4a94ac07a8c47a858db4": {
      "model_module": "@jupyter-widgets/controls",
      "model_module_version": "1.5.0",
      "model_name": "HTMLModel",
      "state": {
       "layout": "IPY_MODEL_21ea4f812350410bb44ef536b77ab560",
       "style": "IPY_MODEL_a0b881ae9a74449898ed7cb8440384a9",
       "value": "Predicting: 100%"
      }
     },
     "eff88ae5c9c8479abf133c552accf50f": {
      "model_module": "@jupyter-widgets/base",
      "model_module_version": "1.2.0",
      "model_name": "LayoutModel",
      "state": {}
     },
     "f0b3e96561794df696bfc0a441e8d8f6": {
      "model_module": "@jupyter-widgets/controls",
      "model_module_version": "1.5.0",
      "model_name": "HTMLModel",
      "state": {
       "layout": "IPY_MODEL_2d619cced80d40c0825ffd41cbe3b615",
       "style": "IPY_MODEL_7cf2ed930cfd463bbc064e9623c5a8e2",
       "value": "Loding models: 100%"
      }
     },
     "f0b8c4a9ba5e40939a1e169118e6320a": {
      "model_module": "@jupyter-widgets/base",
      "model_module_version": "1.2.0",
      "model_name": "LayoutModel",
      "state": {}
     },
     "f4c6e3b86d2247c1af7a8a38ff828449": {
      "model_module": "@jupyter-widgets/controls",
      "model_module_version": "1.5.0",
      "model_name": "DescriptionStyleModel",
      "state": {
       "description_width": ""
      }
     },
     "f5489296024f442a82201f647d875f15": {
      "model_module": "@jupyter-widgets/base",
      "model_module_version": "1.2.0",
      "model_name": "LayoutModel",
      "state": {}
     },
     "f879954851834c42b152af0affb4d5fe": {
      "model_module": "@jupyter-widgets/controls",
      "model_module_version": "1.5.0",
      "model_name": "HTMLModel",
      "state": {
       "layout": "IPY_MODEL_af78da51d65a43b7bc0ba1badd570781",
       "style": "IPY_MODEL_438613d42ee94eac830d713440be943a",
       "value": "Loding models: "
      }
     },
     "fcfae6ba4c2849689a747093e3c84919": {
      "model_module": "@jupyter-widgets/base",
      "model_module_version": "1.2.0",
      "model_name": "LayoutModel",
      "state": {}
     },
     "ff2a89aa7af54d98af316fa3a5ed0cca": {
      "model_module": "@jupyter-widgets/base",
      "model_module_version": "1.2.0",
      "model_name": "LayoutModel",
      "state": {}
     },
     "ffc39d651a114c42b48c6f60e4ed99b8": {
      "model_module": "@jupyter-widgets/controls",
      "model_module_version": "1.5.0",
      "model_name": "HTMLModel",
      "state": {
       "layout": "IPY_MODEL_ffe4648145584d098802b7e7cb621d6c",
       "style": "IPY_MODEL_5dbf36f638224275be759a7c0e958336",
       "value": " 1/1 [00:01&lt;00:00,  1.56s/it]"
      }
     },
     "ffe4648145584d098802b7e7cb621d6c": {
      "model_module": "@jupyter-widgets/base",
      "model_module_version": "1.2.0",
      "model_name": "LayoutModel",
      "state": {}
     }
    },
    "version_major": 2,
    "version_minor": 0
   }
  }
 },
 "nbformat": 4,
 "nbformat_minor": 5
}
